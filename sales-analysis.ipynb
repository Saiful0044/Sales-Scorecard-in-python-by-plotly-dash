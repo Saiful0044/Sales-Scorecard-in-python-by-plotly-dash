{
 "cells": [
  {
   "cell_type": "code",
   "execution_count": 3,
   "metadata": {},
   "outputs": [],
   "source": [
    "import numpy as np\n",
    "import pandas as pd\n",
    "import plotly.graph_objects as go\n",
    "import plotly.io as pio"
   ]
  },
  {
   "cell_type": "code",
   "execution_count": 4,
   "metadata": {},
   "outputs": [
    {
     "data": {
      "text/html": [
       "<div>\n",
       "<style scoped>\n",
       "    .dataframe tbody tr th:only-of-type {\n",
       "        vertical-align: middle;\n",
       "    }\n",
       "\n",
       "    .dataframe tbody tr th {\n",
       "        vertical-align: top;\n",
       "    }\n",
       "\n",
       "    .dataframe thead th {\n",
       "        text-align: right;\n",
       "    }\n",
       "</style>\n",
       "<table border=\"1\" class=\"dataframe\">\n",
       "  <thead>\n",
       "    <tr style=\"text-align: right;\">\n",
       "      <th></th>\n",
       "      <th>Row ID</th>\n",
       "      <th>Order ID</th>\n",
       "      <th>Order Date</th>\n",
       "      <th>Ship Date</th>\n",
       "      <th>Ship Mode</th>\n",
       "      <th>Customer ID</th>\n",
       "      <th>Customer Name</th>\n",
       "      <th>Segment</th>\n",
       "      <th>Country</th>\n",
       "      <th>City</th>\n",
       "      <th>State</th>\n",
       "      <th>Postal Code</th>\n",
       "      <th>Region</th>\n",
       "      <th>Product ID</th>\n",
       "      <th>Category</th>\n",
       "      <th>Sub-Category</th>\n",
       "      <th>Product Name</th>\n",
       "      <th>Sales</th>\n",
       "    </tr>\n",
       "  </thead>\n",
       "  <tbody>\n",
       "    <tr>\n",
       "      <th>0</th>\n",
       "      <td>1</td>\n",
       "      <td>CA-2017-152156</td>\n",
       "      <td>08/11/2017</td>\n",
       "      <td>11/11/2017</td>\n",
       "      <td>Second Class</td>\n",
       "      <td>CG-12520</td>\n",
       "      <td>Claire Gute</td>\n",
       "      <td>Consumer</td>\n",
       "      <td>United States</td>\n",
       "      <td>Henderson</td>\n",
       "      <td>Kentucky</td>\n",
       "      <td>42420.0</td>\n",
       "      <td>South</td>\n",
       "      <td>FUR-BO-10001798</td>\n",
       "      <td>Furniture</td>\n",
       "      <td>Bookcases</td>\n",
       "      <td>Bush Somerset Collection Bookcase</td>\n",
       "      <td>261.9600</td>\n",
       "    </tr>\n",
       "    <tr>\n",
       "      <th>1</th>\n",
       "      <td>2</td>\n",
       "      <td>CA-2017-152156</td>\n",
       "      <td>08/11/2017</td>\n",
       "      <td>11/11/2017</td>\n",
       "      <td>Second Class</td>\n",
       "      <td>CG-12520</td>\n",
       "      <td>Claire Gute</td>\n",
       "      <td>Consumer</td>\n",
       "      <td>United States</td>\n",
       "      <td>Henderson</td>\n",
       "      <td>Kentucky</td>\n",
       "      <td>42420.0</td>\n",
       "      <td>South</td>\n",
       "      <td>FUR-CH-10000454</td>\n",
       "      <td>Furniture</td>\n",
       "      <td>Chairs</td>\n",
       "      <td>Hon Deluxe Fabric Upholstered Stacking Chairs,...</td>\n",
       "      <td>731.9400</td>\n",
       "    </tr>\n",
       "    <tr>\n",
       "      <th>2</th>\n",
       "      <td>3</td>\n",
       "      <td>CA-2017-138688</td>\n",
       "      <td>12/06/2017</td>\n",
       "      <td>16/06/2017</td>\n",
       "      <td>Second Class</td>\n",
       "      <td>DV-13045</td>\n",
       "      <td>Darrin Van Huff</td>\n",
       "      <td>Corporate</td>\n",
       "      <td>United States</td>\n",
       "      <td>Los Angeles</td>\n",
       "      <td>California</td>\n",
       "      <td>90036.0</td>\n",
       "      <td>West</td>\n",
       "      <td>OFF-LA-10000240</td>\n",
       "      <td>Office Supplies</td>\n",
       "      <td>Labels</td>\n",
       "      <td>Self-Adhesive Address Labels for Typewriters b...</td>\n",
       "      <td>14.6200</td>\n",
       "    </tr>\n",
       "    <tr>\n",
       "      <th>3</th>\n",
       "      <td>4</td>\n",
       "      <td>US-2016-108966</td>\n",
       "      <td>11/10/2016</td>\n",
       "      <td>18/10/2016</td>\n",
       "      <td>Standard Class</td>\n",
       "      <td>SO-20335</td>\n",
       "      <td>Sean O'Donnell</td>\n",
       "      <td>Consumer</td>\n",
       "      <td>United States</td>\n",
       "      <td>Fort Lauderdale</td>\n",
       "      <td>Florida</td>\n",
       "      <td>33311.0</td>\n",
       "      <td>South</td>\n",
       "      <td>FUR-TA-10000577</td>\n",
       "      <td>Furniture</td>\n",
       "      <td>Tables</td>\n",
       "      <td>Bretford CR4500 Series Slim Rectangular Table</td>\n",
       "      <td>957.5775</td>\n",
       "    </tr>\n",
       "    <tr>\n",
       "      <th>4</th>\n",
       "      <td>5</td>\n",
       "      <td>US-2016-108966</td>\n",
       "      <td>11/10/2016</td>\n",
       "      <td>18/10/2016</td>\n",
       "      <td>Standard Class</td>\n",
       "      <td>SO-20335</td>\n",
       "      <td>Sean O'Donnell</td>\n",
       "      <td>Consumer</td>\n",
       "      <td>United States</td>\n",
       "      <td>Fort Lauderdale</td>\n",
       "      <td>Florida</td>\n",
       "      <td>33311.0</td>\n",
       "      <td>South</td>\n",
       "      <td>OFF-ST-10000760</td>\n",
       "      <td>Office Supplies</td>\n",
       "      <td>Storage</td>\n",
       "      <td>Eldon Fold 'N Roll Cart System</td>\n",
       "      <td>22.3680</td>\n",
       "    </tr>\n",
       "  </tbody>\n",
       "</table>\n",
       "</div>"
      ],
      "text/plain": [
       "   Row ID        Order ID  Order Date   Ship Date       Ship Mode Customer ID  \\\n",
       "0       1  CA-2017-152156  08/11/2017  11/11/2017    Second Class    CG-12520   \n",
       "1       2  CA-2017-152156  08/11/2017  11/11/2017    Second Class    CG-12520   \n",
       "2       3  CA-2017-138688  12/06/2017  16/06/2017    Second Class    DV-13045   \n",
       "3       4  US-2016-108966  11/10/2016  18/10/2016  Standard Class    SO-20335   \n",
       "4       5  US-2016-108966  11/10/2016  18/10/2016  Standard Class    SO-20335   \n",
       "\n",
       "     Customer Name    Segment        Country             City       State  \\\n",
       "0      Claire Gute   Consumer  United States        Henderson    Kentucky   \n",
       "1      Claire Gute   Consumer  United States        Henderson    Kentucky   \n",
       "2  Darrin Van Huff  Corporate  United States      Los Angeles  California   \n",
       "3   Sean O'Donnell   Consumer  United States  Fort Lauderdale     Florida   \n",
       "4   Sean O'Donnell   Consumer  United States  Fort Lauderdale     Florida   \n",
       "\n",
       "   Postal Code Region       Product ID         Category Sub-Category  \\\n",
       "0      42420.0  South  FUR-BO-10001798        Furniture    Bookcases   \n",
       "1      42420.0  South  FUR-CH-10000454        Furniture       Chairs   \n",
       "2      90036.0   West  OFF-LA-10000240  Office Supplies       Labels   \n",
       "3      33311.0  South  FUR-TA-10000577        Furniture       Tables   \n",
       "4      33311.0  South  OFF-ST-10000760  Office Supplies      Storage   \n",
       "\n",
       "                                        Product Name     Sales  \n",
       "0                  Bush Somerset Collection Bookcase  261.9600  \n",
       "1  Hon Deluxe Fabric Upholstered Stacking Chairs,...  731.9400  \n",
       "2  Self-Adhesive Address Labels for Typewriters b...   14.6200  \n",
       "3      Bretford CR4500 Series Slim Rectangular Table  957.5775  \n",
       "4                     Eldon Fold 'N Roll Cart System   22.3680  "
      ]
     },
     "execution_count": 4,
     "metadata": {},
     "output_type": "execute_result"
    }
   ],
   "source": [
    "df = pd.read_csv('dataset/train.csv')\n",
    "df.head()"
   ]
  },
  {
   "cell_type": "code",
   "execution_count": 5,
   "metadata": {},
   "outputs": [
    {
     "name": "stdout",
     "output_type": "stream",
     "text": [
      "<class 'pandas.core.frame.DataFrame'>\n",
      "RangeIndex: 9800 entries, 0 to 9799\n",
      "Data columns (total 18 columns):\n",
      " #   Column         Non-Null Count  Dtype  \n",
      "---  ------         --------------  -----  \n",
      " 0   Row ID         9800 non-null   int64  \n",
      " 1   Order ID       9800 non-null   object \n",
      " 2   Order Date     9800 non-null   object \n",
      " 3   Ship Date      9800 non-null   object \n",
      " 4   Ship Mode      9800 non-null   object \n",
      " 5   Customer ID    9800 non-null   object \n",
      " 6   Customer Name  9800 non-null   object \n",
      " 7   Segment        9800 non-null   object \n",
      " 8   Country        9800 non-null   object \n",
      " 9   City           9800 non-null   object \n",
      " 10  State          9800 non-null   object \n",
      " 11  Postal Code    9789 non-null   float64\n",
      " 12  Region         9800 non-null   object \n",
      " 13  Product ID     9800 non-null   object \n",
      " 14  Category       9800 non-null   object \n",
      " 15  Sub-Category   9800 non-null   object \n",
      " 16  Product Name   9800 non-null   object \n",
      " 17  Sales          9800 non-null   float64\n",
      "dtypes: float64(2), int64(1), object(15)\n",
      "memory usage: 1.3+ MB\n"
     ]
    }
   ],
   "source": [
    "df.info()"
   ]
  },
  {
   "cell_type": "code",
   "execution_count": 6,
   "metadata": {},
   "outputs": [
    {
     "data": {
      "text/plain": [
       "Row ID            0\n",
       "Order ID          0\n",
       "Order Date        0\n",
       "Ship Date         0\n",
       "Ship Mode         0\n",
       "Customer ID       0\n",
       "Customer Name     0\n",
       "Segment           0\n",
       "Country           0\n",
       "City              0\n",
       "State             0\n",
       "Postal Code      11\n",
       "Region            0\n",
       "Product ID        0\n",
       "Category          0\n",
       "Sub-Category      0\n",
       "Product Name      0\n",
       "Sales             0\n",
       "dtype: int64"
      ]
     },
     "execution_count": 6,
     "metadata": {},
     "output_type": "execute_result"
    }
   ],
   "source": [
    "df.isnull().sum()"
   ]
  },
  {
   "cell_type": "code",
   "execution_count": 7,
   "metadata": {},
   "outputs": [
    {
     "data": {
      "text/plain": [
       "0"
      ]
     },
     "execution_count": 7,
     "metadata": {},
     "output_type": "execute_result"
    }
   ],
   "source": [
    "df.duplicated().sum()"
   ]
  },
  {
   "cell_type": "code",
   "execution_count": 8,
   "metadata": {},
   "outputs": [
    {
     "data": {
      "text/html": [
       "<div>\n",
       "<style scoped>\n",
       "    .dataframe tbody tr th:only-of-type {\n",
       "        vertical-align: middle;\n",
       "    }\n",
       "\n",
       "    .dataframe tbody tr th {\n",
       "        vertical-align: top;\n",
       "    }\n",
       "\n",
       "    .dataframe thead th {\n",
       "        text-align: right;\n",
       "    }\n",
       "</style>\n",
       "<table border=\"1\" class=\"dataframe\">\n",
       "  <thead>\n",
       "    <tr style=\"text-align: right;\">\n",
       "      <th></th>\n",
       "      <th>Row ID</th>\n",
       "      <th>Order ID</th>\n",
       "      <th>Order Date</th>\n",
       "      <th>Ship Date</th>\n",
       "      <th>Ship Mode</th>\n",
       "      <th>Customer ID</th>\n",
       "      <th>Customer Name</th>\n",
       "      <th>Segment</th>\n",
       "      <th>Country</th>\n",
       "      <th>City</th>\n",
       "      <th>State</th>\n",
       "      <th>Postal Code</th>\n",
       "      <th>Region</th>\n",
       "      <th>Product ID</th>\n",
       "      <th>Category</th>\n",
       "      <th>Sub-Category</th>\n",
       "      <th>Product Name</th>\n",
       "      <th>Sales</th>\n",
       "    </tr>\n",
       "  </thead>\n",
       "  <tbody>\n",
       "    <tr>\n",
       "      <th>0</th>\n",
       "      <td>1</td>\n",
       "      <td>CA-2017-152156</td>\n",
       "      <td>08/11/2017</td>\n",
       "      <td>11/11/2017</td>\n",
       "      <td>Second Class</td>\n",
       "      <td>CG-12520</td>\n",
       "      <td>Claire Gute</td>\n",
       "      <td>Consumer</td>\n",
       "      <td>United States</td>\n",
       "      <td>Henderson</td>\n",
       "      <td>Kentucky</td>\n",
       "      <td>42420.0</td>\n",
       "      <td>South</td>\n",
       "      <td>FUR-BO-10001798</td>\n",
       "      <td>Furniture</td>\n",
       "      <td>Bookcases</td>\n",
       "      <td>Bush Somerset Collection Bookcase</td>\n",
       "      <td>261.96</td>\n",
       "    </tr>\n",
       "    <tr>\n",
       "      <th>1</th>\n",
       "      <td>2</td>\n",
       "      <td>CA-2017-152156</td>\n",
       "      <td>08/11/2017</td>\n",
       "      <td>11/11/2017</td>\n",
       "      <td>Second Class</td>\n",
       "      <td>CG-12520</td>\n",
       "      <td>Claire Gute</td>\n",
       "      <td>Consumer</td>\n",
       "      <td>United States</td>\n",
       "      <td>Henderson</td>\n",
       "      <td>Kentucky</td>\n",
       "      <td>42420.0</td>\n",
       "      <td>South</td>\n",
       "      <td>FUR-CH-10000454</td>\n",
       "      <td>Furniture</td>\n",
       "      <td>Chairs</td>\n",
       "      <td>Hon Deluxe Fabric Upholstered Stacking Chairs,...</td>\n",
       "      <td>731.94</td>\n",
       "    </tr>\n",
       "  </tbody>\n",
       "</table>\n",
       "</div>"
      ],
      "text/plain": [
       "   Row ID        Order ID  Order Date   Ship Date     Ship Mode Customer ID  \\\n",
       "0       1  CA-2017-152156  08/11/2017  11/11/2017  Second Class    CG-12520   \n",
       "1       2  CA-2017-152156  08/11/2017  11/11/2017  Second Class    CG-12520   \n",
       "\n",
       "  Customer Name   Segment        Country       City     State  Postal Code  \\\n",
       "0   Claire Gute  Consumer  United States  Henderson  Kentucky      42420.0   \n",
       "1   Claire Gute  Consumer  United States  Henderson  Kentucky      42420.0   \n",
       "\n",
       "  Region       Product ID   Category Sub-Category  \\\n",
       "0  South  FUR-BO-10001798  Furniture    Bookcases   \n",
       "1  South  FUR-CH-10000454  Furniture       Chairs   \n",
       "\n",
       "                                        Product Name   Sales  \n",
       "0                  Bush Somerset Collection Bookcase  261.96  \n",
       "1  Hon Deluxe Fabric Upholstered Stacking Chairs,...  731.94  "
      ]
     },
     "execution_count": 8,
     "metadata": {},
     "output_type": "execute_result"
    }
   ],
   "source": [
    "df.head(2)"
   ]
  },
  {
   "cell_type": "code",
   "execution_count": 9,
   "metadata": {},
   "outputs": [],
   "source": [
    "df['Order Date'] = pd.to_datetime(df['Order Date'], dayfirst=True)\n"
   ]
  },
  {
   "cell_type": "code",
   "execution_count": 10,
   "metadata": {},
   "outputs": [
    {
     "name": "stdout",
     "output_type": "stream",
     "text": [
      "<class 'pandas.core.frame.DataFrame'>\n",
      "RangeIndex: 9800 entries, 0 to 9799\n",
      "Data columns (total 18 columns):\n",
      " #   Column         Non-Null Count  Dtype         \n",
      "---  ------         --------------  -----         \n",
      " 0   Row ID         9800 non-null   int64         \n",
      " 1   Order ID       9800 non-null   object        \n",
      " 2   Order Date     9800 non-null   datetime64[ns]\n",
      " 3   Ship Date      9800 non-null   object        \n",
      " 4   Ship Mode      9800 non-null   object        \n",
      " 5   Customer ID    9800 non-null   object        \n",
      " 6   Customer Name  9800 non-null   object        \n",
      " 7   Segment        9800 non-null   object        \n",
      " 8   Country        9800 non-null   object        \n",
      " 9   City           9800 non-null   object        \n",
      " 10  State          9800 non-null   object        \n",
      " 11  Postal Code    9789 non-null   float64       \n",
      " 12  Region         9800 non-null   object        \n",
      " 13  Product ID     9800 non-null   object        \n",
      " 14  Category       9800 non-null   object        \n",
      " 15  Sub-Category   9800 non-null   object        \n",
      " 16  Product Name   9800 non-null   object        \n",
      " 17  Sales          9800 non-null   float64       \n",
      "dtypes: datetime64[ns](1), float64(2), int64(1), object(14)\n",
      "memory usage: 1.3+ MB\n"
     ]
    }
   ],
   "source": [
    "df.info()"
   ]
  },
  {
   "cell_type": "code",
   "execution_count": 11,
   "metadata": {},
   "outputs": [],
   "source": [
    "df['Year']=df['Order Date'].dt.year\n",
    "df['Month_name'] = df['Order Date'].dt.month_name()"
   ]
  },
  {
   "cell_type": "code",
   "execution_count": 12,
   "metadata": {},
   "outputs": [
    {
     "data": {
      "text/plain": [
       "[2017, 2016, 2015, 2018]"
      ]
     },
     "execution_count": 12,
     "metadata": {},
     "output_type": "execute_result"
    }
   ],
   "source": [
    "list(df['Year'].unique())"
   ]
  },
  {
   "cell_type": "code",
   "execution_count": 13,
   "metadata": {},
   "outputs": [
    {
     "data": {
      "text/plain": [
       "Category\n",
       "Office Supplies    5909\n",
       "Furniture          2078\n",
       "Technology         1813\n",
       "Name: count, dtype: int64"
      ]
     },
     "execution_count": 13,
     "metadata": {},
     "output_type": "execute_result"
    }
   ],
   "source": [
    "df['Category'].value_counts()"
   ]
  },
  {
   "cell_type": "code",
   "execution_count": 14,
   "metadata": {},
   "outputs": [
    {
     "data": {
      "text/html": [
       "<div>\n",
       "<style scoped>\n",
       "    .dataframe tbody tr th:only-of-type {\n",
       "        vertical-align: middle;\n",
       "    }\n",
       "\n",
       "    .dataframe tbody tr th {\n",
       "        vertical-align: top;\n",
       "    }\n",
       "\n",
       "    .dataframe thead th {\n",
       "        text-align: right;\n",
       "    }\n",
       "</style>\n",
       "<table border=\"1\" class=\"dataframe\">\n",
       "  <thead>\n",
       "    <tr style=\"text-align: right;\">\n",
       "      <th></th>\n",
       "      <th>Year</th>\n",
       "      <th>Segment</th>\n",
       "      <th>Sub-Category</th>\n",
       "      <th>Sales</th>\n",
       "    </tr>\n",
       "  </thead>\n",
       "  <tbody>\n",
       "    <tr>\n",
       "      <th>0</th>\n",
       "      <td>2015</td>\n",
       "      <td>Consumer</td>\n",
       "      <td>Accessories</td>\n",
       "      <td>13424.226</td>\n",
       "    </tr>\n",
       "  </tbody>\n",
       "</table>\n",
       "</div>"
      ],
      "text/plain": [
       "   Year   Segment Sub-Category      Sales\n",
       "0  2015  Consumer  Accessories  13424.226"
      ]
     },
     "execution_count": 14,
     "metadata": {},
     "output_type": "execute_result"
    }
   ],
   "source": [
    "sales1 = df.groupby(['Year','Segment','Sub-Category'])['Sales'].sum().reset_index()\n",
    "sales1.head(1)"
   ]
  },
  {
   "cell_type": "code",
   "execution_count": 15,
   "metadata": {},
   "outputs": [
    {
     "data": {
      "text/html": [
       "<div>\n",
       "<style scoped>\n",
       "    .dataframe tbody tr th:only-of-type {\n",
       "        vertical-align: middle;\n",
       "    }\n",
       "\n",
       "    .dataframe tbody tr th {\n",
       "        vertical-align: top;\n",
       "    }\n",
       "\n",
       "    .dataframe thead th {\n",
       "        text-align: right;\n",
       "    }\n",
       "</style>\n",
       "<table border=\"1\" class=\"dataframe\">\n",
       "  <thead>\n",
       "    <tr style=\"text-align: right;\">\n",
       "      <th></th>\n",
       "      <th>Year</th>\n",
       "      <th>Segment</th>\n",
       "      <th>Sub-Category</th>\n",
       "      <th>Sales</th>\n",
       "    </tr>\n",
       "  </thead>\n",
       "  <tbody>\n",
       "    <tr>\n",
       "      <th>13</th>\n",
       "      <td>2015</td>\n",
       "      <td>Consumer</td>\n",
       "      <td>Phones</td>\n",
       "      <td>46226.214</td>\n",
       "    </tr>\n",
       "    <tr>\n",
       "      <th>5</th>\n",
       "      <td>2015</td>\n",
       "      <td>Consumer</td>\n",
       "      <td>Chairs</td>\n",
       "      <td>44010.303</td>\n",
       "    </tr>\n",
       "    <tr>\n",
       "      <th>3</th>\n",
       "      <td>2015</td>\n",
       "      <td>Consumer</td>\n",
       "      <td>Binders</td>\n",
       "      <td>30074.898</td>\n",
       "    </tr>\n",
       "    <tr>\n",
       "      <th>11</th>\n",
       "      <td>2015</td>\n",
       "      <td>Consumer</td>\n",
       "      <td>Machines</td>\n",
       "      <td>25339.603</td>\n",
       "    </tr>\n",
       "    <tr>\n",
       "      <th>14</th>\n",
       "      <td>2015</td>\n",
       "      <td>Consumer</td>\n",
       "      <td>Storage</td>\n",
       "      <td>24094.700</td>\n",
       "    </tr>\n",
       "  </tbody>\n",
       "</table>\n",
       "</div>"
      ],
      "text/plain": [
       "    Year   Segment Sub-Category      Sales\n",
       "13  2015  Consumer       Phones  46226.214\n",
       "5   2015  Consumer       Chairs  44010.303\n",
       "3   2015  Consumer      Binders  30074.898\n",
       "11  2015  Consumer     Machines  25339.603\n",
       "14  2015  Consumer      Storage  24094.700"
      ]
     },
     "execution_count": 15,
     "metadata": {},
     "output_type": "execute_result"
    }
   ],
   "source": [
    "sales2 = sales1[(sales1['Year'] == 2015) & (sales1['Segment']==\"Consumer\")].sort_values(by='Sales',ascending=False).head(5)\n",
    "sales2"
   ]
  },
  {
   "cell_type": "code",
   "execution_count": 16,
   "metadata": {},
   "outputs": [
    {
     "data": {
      "application/vnd.plotly.v1+json": {
       "config": {
        "plotlyServerURL": "https://plot.ly"
       },
       "data": [
        {
         "hoverinfo": "text",
         "hovertext": [
          "<b>Year</b>: 2015<br><b>Segment</b>: Consumer<br><b>Sub-Category</b>: Phones<br><b>Sales</b>: 46226.214",
          "<b>Year</b>: 2015<br><b>Segment</b>: Consumer<br><b>Sub-Category</b>: Chairs<br><b>Sales</b>: 44010.303",
          "<b>Year</b>: 2015<br><b>Segment</b>: Consumer<br><b>Sub-Category</b>: Binders<br><b>Sales</b>: 30074.898",
          "<b>Year</b>: 2015<br><b>Segment</b>: Consumer<br><b>Sub-Category</b>: Machines<br><b>Sales</b>: 25339.603",
          "<b>Year</b>: 2015<br><b>Segment</b>: Consumer<br><b>Sub-Category</b>: Storage<br><b>Sales</b>: 24094.7"
         ],
         "marker": {
          "color": "#19AAE1"
         },
         "orientation": "h",
         "text": [
          46226.214,
          44010.303,
          30074.898,
          25339.603,
          24094.7
         ],
         "textposition": "auto",
         "texttemplate": "$%{text:.2s}",
         "type": "bar",
         "x": [
          46226.214,
          44010.303,
          30074.898,
          25339.603,
          24094.7
         ],
         "y": [
          "Phones",
          "Chairs",
          "Binders",
          "Machines",
          "Storage"
         ]
        }
       ],
       "layout": {
        "font": {
         "color": "white",
         "family": "sans-serif",
         "size": 15
        },
        "hovermode": "closest",
        "legend": {
         "bgcolor": "#1f2c56",
         "orientation": "h",
         "x": 1.25,
         "xanchor": "center",
         "y": 0.5,
         "yanchor": "top"
        },
        "margin": {
         "r": 0,
         "t": 50
        },
        "paper_bgcolor": "#1f2c56",
        "plot_bgcolor": "#1f2c56",
        "template": {
         "data": {
          "bar": [
           {
            "error_x": {
             "color": "#2a3f5f"
            },
            "error_y": {
             "color": "#2a3f5f"
            },
            "marker": {
             "line": {
              "color": "#E5ECF6",
              "width": 0.5
             },
             "pattern": {
              "fillmode": "overlay",
              "size": 10,
              "solidity": 0.2
             }
            },
            "type": "bar"
           }
          ],
          "barpolar": [
           {
            "marker": {
             "line": {
              "color": "#E5ECF6",
              "width": 0.5
             },
             "pattern": {
              "fillmode": "overlay",
              "size": 10,
              "solidity": 0.2
             }
            },
            "type": "barpolar"
           }
          ],
          "carpet": [
           {
            "aaxis": {
             "endlinecolor": "#2a3f5f",
             "gridcolor": "white",
             "linecolor": "white",
             "minorgridcolor": "white",
             "startlinecolor": "#2a3f5f"
            },
            "baxis": {
             "endlinecolor": "#2a3f5f",
             "gridcolor": "white",
             "linecolor": "white",
             "minorgridcolor": "white",
             "startlinecolor": "#2a3f5f"
            },
            "type": "carpet"
           }
          ],
          "choropleth": [
           {
            "colorbar": {
             "outlinewidth": 0,
             "ticks": ""
            },
            "type": "choropleth"
           }
          ],
          "contour": [
           {
            "colorbar": {
             "outlinewidth": 0,
             "ticks": ""
            },
            "colorscale": [
             [
              0,
              "#0d0887"
             ],
             [
              0.1111111111111111,
              "#46039f"
             ],
             [
              0.2222222222222222,
              "#7201a8"
             ],
             [
              0.3333333333333333,
              "#9c179e"
             ],
             [
              0.4444444444444444,
              "#bd3786"
             ],
             [
              0.5555555555555556,
              "#d8576b"
             ],
             [
              0.6666666666666666,
              "#ed7953"
             ],
             [
              0.7777777777777778,
              "#fb9f3a"
             ],
             [
              0.8888888888888888,
              "#fdca26"
             ],
             [
              1,
              "#f0f921"
             ]
            ],
            "type": "contour"
           }
          ],
          "contourcarpet": [
           {
            "colorbar": {
             "outlinewidth": 0,
             "ticks": ""
            },
            "type": "contourcarpet"
           }
          ],
          "heatmap": [
           {
            "colorbar": {
             "outlinewidth": 0,
             "ticks": ""
            },
            "colorscale": [
             [
              0,
              "#0d0887"
             ],
             [
              0.1111111111111111,
              "#46039f"
             ],
             [
              0.2222222222222222,
              "#7201a8"
             ],
             [
              0.3333333333333333,
              "#9c179e"
             ],
             [
              0.4444444444444444,
              "#bd3786"
             ],
             [
              0.5555555555555556,
              "#d8576b"
             ],
             [
              0.6666666666666666,
              "#ed7953"
             ],
             [
              0.7777777777777778,
              "#fb9f3a"
             ],
             [
              0.8888888888888888,
              "#fdca26"
             ],
             [
              1,
              "#f0f921"
             ]
            ],
            "type": "heatmap"
           }
          ],
          "heatmapgl": [
           {
            "colorbar": {
             "outlinewidth": 0,
             "ticks": ""
            },
            "colorscale": [
             [
              0,
              "#0d0887"
             ],
             [
              0.1111111111111111,
              "#46039f"
             ],
             [
              0.2222222222222222,
              "#7201a8"
             ],
             [
              0.3333333333333333,
              "#9c179e"
             ],
             [
              0.4444444444444444,
              "#bd3786"
             ],
             [
              0.5555555555555556,
              "#d8576b"
             ],
             [
              0.6666666666666666,
              "#ed7953"
             ],
             [
              0.7777777777777778,
              "#fb9f3a"
             ],
             [
              0.8888888888888888,
              "#fdca26"
             ],
             [
              1,
              "#f0f921"
             ]
            ],
            "type": "heatmapgl"
           }
          ],
          "histogram": [
           {
            "marker": {
             "pattern": {
              "fillmode": "overlay",
              "size": 10,
              "solidity": 0.2
             }
            },
            "type": "histogram"
           }
          ],
          "histogram2d": [
           {
            "colorbar": {
             "outlinewidth": 0,
             "ticks": ""
            },
            "colorscale": [
             [
              0,
              "#0d0887"
             ],
             [
              0.1111111111111111,
              "#46039f"
             ],
             [
              0.2222222222222222,
              "#7201a8"
             ],
             [
              0.3333333333333333,
              "#9c179e"
             ],
             [
              0.4444444444444444,
              "#bd3786"
             ],
             [
              0.5555555555555556,
              "#d8576b"
             ],
             [
              0.6666666666666666,
              "#ed7953"
             ],
             [
              0.7777777777777778,
              "#fb9f3a"
             ],
             [
              0.8888888888888888,
              "#fdca26"
             ],
             [
              1,
              "#f0f921"
             ]
            ],
            "type": "histogram2d"
           }
          ],
          "histogram2dcontour": [
           {
            "colorbar": {
             "outlinewidth": 0,
             "ticks": ""
            },
            "colorscale": [
             [
              0,
              "#0d0887"
             ],
             [
              0.1111111111111111,
              "#46039f"
             ],
             [
              0.2222222222222222,
              "#7201a8"
             ],
             [
              0.3333333333333333,
              "#9c179e"
             ],
             [
              0.4444444444444444,
              "#bd3786"
             ],
             [
              0.5555555555555556,
              "#d8576b"
             ],
             [
              0.6666666666666666,
              "#ed7953"
             ],
             [
              0.7777777777777778,
              "#fb9f3a"
             ],
             [
              0.8888888888888888,
              "#fdca26"
             ],
             [
              1,
              "#f0f921"
             ]
            ],
            "type": "histogram2dcontour"
           }
          ],
          "mesh3d": [
           {
            "colorbar": {
             "outlinewidth": 0,
             "ticks": ""
            },
            "type": "mesh3d"
           }
          ],
          "parcoords": [
           {
            "line": {
             "colorbar": {
              "outlinewidth": 0,
              "ticks": ""
             }
            },
            "type": "parcoords"
           }
          ],
          "pie": [
           {
            "automargin": true,
            "type": "pie"
           }
          ],
          "scatter": [
           {
            "fillpattern": {
             "fillmode": "overlay",
             "size": 10,
             "solidity": 0.2
            },
            "type": "scatter"
           }
          ],
          "scatter3d": [
           {
            "line": {
             "colorbar": {
              "outlinewidth": 0,
              "ticks": ""
             }
            },
            "marker": {
             "colorbar": {
              "outlinewidth": 0,
              "ticks": ""
             }
            },
            "type": "scatter3d"
           }
          ],
          "scattercarpet": [
           {
            "marker": {
             "colorbar": {
              "outlinewidth": 0,
              "ticks": ""
             }
            },
            "type": "scattercarpet"
           }
          ],
          "scattergeo": [
           {
            "marker": {
             "colorbar": {
              "outlinewidth": 0,
              "ticks": ""
             }
            },
            "type": "scattergeo"
           }
          ],
          "scattergl": [
           {
            "marker": {
             "colorbar": {
              "outlinewidth": 0,
              "ticks": ""
             }
            },
            "type": "scattergl"
           }
          ],
          "scattermapbox": [
           {
            "marker": {
             "colorbar": {
              "outlinewidth": 0,
              "ticks": ""
             }
            },
            "type": "scattermapbox"
           }
          ],
          "scatterpolar": [
           {
            "marker": {
             "colorbar": {
              "outlinewidth": 0,
              "ticks": ""
             }
            },
            "type": "scatterpolar"
           }
          ],
          "scatterpolargl": [
           {
            "marker": {
             "colorbar": {
              "outlinewidth": 0,
              "ticks": ""
             }
            },
            "type": "scatterpolargl"
           }
          ],
          "scatterternary": [
           {
            "marker": {
             "colorbar": {
              "outlinewidth": 0,
              "ticks": ""
             }
            },
            "type": "scatterternary"
           }
          ],
          "surface": [
           {
            "colorbar": {
             "outlinewidth": 0,
             "ticks": ""
            },
            "colorscale": [
             [
              0,
              "#0d0887"
             ],
             [
              0.1111111111111111,
              "#46039f"
             ],
             [
              0.2222222222222222,
              "#7201a8"
             ],
             [
              0.3333333333333333,
              "#9c179e"
             ],
             [
              0.4444444444444444,
              "#bd3786"
             ],
             [
              0.5555555555555556,
              "#d8576b"
             ],
             [
              0.6666666666666666,
              "#ed7953"
             ],
             [
              0.7777777777777778,
              "#fb9f3a"
             ],
             [
              0.8888888888888888,
              "#fdca26"
             ],
             [
              1,
              "#f0f921"
             ]
            ],
            "type": "surface"
           }
          ],
          "table": [
           {
            "cells": {
             "fill": {
              "color": "#EBF0F8"
             },
             "line": {
              "color": "white"
             }
            },
            "header": {
             "fill": {
              "color": "#C8D4E3"
             },
             "line": {
              "color": "white"
             }
            },
            "type": "table"
           }
          ]
         },
         "layout": {
          "annotationdefaults": {
           "arrowcolor": "#2a3f5f",
           "arrowhead": 0,
           "arrowwidth": 1
          },
          "autotypenumbers": "strict",
          "coloraxis": {
           "colorbar": {
            "outlinewidth": 0,
            "ticks": ""
           }
          },
          "colorscale": {
           "diverging": [
            [
             0,
             "#8e0152"
            ],
            [
             0.1,
             "#c51b7d"
            ],
            [
             0.2,
             "#de77ae"
            ],
            [
             0.3,
             "#f1b6da"
            ],
            [
             0.4,
             "#fde0ef"
            ],
            [
             0.5,
             "#f7f7f7"
            ],
            [
             0.6,
             "#e6f5d0"
            ],
            [
             0.7,
             "#b8e186"
            ],
            [
             0.8,
             "#7fbc41"
            ],
            [
             0.9,
             "#4d9221"
            ],
            [
             1,
             "#276419"
            ]
           ],
           "sequential": [
            [
             0,
             "#0d0887"
            ],
            [
             0.1111111111111111,
             "#46039f"
            ],
            [
             0.2222222222222222,
             "#7201a8"
            ],
            [
             0.3333333333333333,
             "#9c179e"
            ],
            [
             0.4444444444444444,
             "#bd3786"
            ],
            [
             0.5555555555555556,
             "#d8576b"
            ],
            [
             0.6666666666666666,
             "#ed7953"
            ],
            [
             0.7777777777777778,
             "#fb9f3a"
            ],
            [
             0.8888888888888888,
             "#fdca26"
            ],
            [
             1,
             "#f0f921"
            ]
           ],
           "sequentialminus": [
            [
             0,
             "#0d0887"
            ],
            [
             0.1111111111111111,
             "#46039f"
            ],
            [
             0.2222222222222222,
             "#7201a8"
            ],
            [
             0.3333333333333333,
             "#9c179e"
            ],
            [
             0.4444444444444444,
             "#bd3786"
            ],
            [
             0.5555555555555556,
             "#d8576b"
            ],
            [
             0.6666666666666666,
             "#ed7953"
            ],
            [
             0.7777777777777778,
             "#fb9f3a"
            ],
            [
             0.8888888888888888,
             "#fdca26"
            ],
            [
             1,
             "#f0f921"
            ]
           ]
          },
          "colorway": [
           "#636efa",
           "#EF553B",
           "#00cc96",
           "#ab63fa",
           "#FFA15A",
           "#19d3f3",
           "#FF6692",
           "#B6E880",
           "#FF97FF",
           "#FECB52"
          ],
          "font": {
           "color": "#2a3f5f"
          },
          "geo": {
           "bgcolor": "white",
           "lakecolor": "white",
           "landcolor": "#E5ECF6",
           "showlakes": true,
           "showland": true,
           "subunitcolor": "white"
          },
          "hoverlabel": {
           "align": "left"
          },
          "hovermode": "closest",
          "mapbox": {
           "style": "light"
          },
          "paper_bgcolor": "white",
          "plot_bgcolor": "#E5ECF6",
          "polar": {
           "angularaxis": {
            "gridcolor": "white",
            "linecolor": "white",
            "ticks": ""
           },
           "bgcolor": "#E5ECF6",
           "radialaxis": {
            "gridcolor": "white",
            "linecolor": "white",
            "ticks": ""
           }
          },
          "scene": {
           "xaxis": {
            "backgroundcolor": "#E5ECF6",
            "gridcolor": "white",
            "gridwidth": 2,
            "linecolor": "white",
            "showbackground": true,
            "ticks": "",
            "zerolinecolor": "white"
           },
           "yaxis": {
            "backgroundcolor": "#E5ECF6",
            "gridcolor": "white",
            "gridwidth": 2,
            "linecolor": "white",
            "showbackground": true,
            "ticks": "",
            "zerolinecolor": "white"
           },
           "zaxis": {
            "backgroundcolor": "#E5ECF6",
            "gridcolor": "white",
            "gridwidth": 2,
            "linecolor": "white",
            "showbackground": true,
            "ticks": "",
            "zerolinecolor": "white"
           }
          },
          "shapedefaults": {
           "line": {
            "color": "#2a3f5f"
           }
          },
          "ternary": {
           "aaxis": {
            "gridcolor": "white",
            "linecolor": "white",
            "ticks": ""
           },
           "baxis": {
            "gridcolor": "white",
            "linecolor": "white",
            "ticks": ""
           },
           "bgcolor": "#E5ECF6",
           "caxis": {
            "gridcolor": "white",
            "linecolor": "white",
            "ticks": ""
           }
          },
          "title": {
           "x": 0.05
          },
          "xaxis": {
           "automargin": true,
           "gridcolor": "white",
           "linecolor": "white",
           "ticks": "",
           "title": {
            "standoff": 15
           },
           "zerolinecolor": "white",
           "zerolinewidth": 2
          },
          "yaxis": {
           "automargin": true,
           "gridcolor": "white",
           "linecolor": "white",
           "ticks": "",
           "title": {
            "standoff": 15
           },
           "zerolinecolor": "white",
           "zerolinewidth": 2
          }
         }
        },
        "title": {
         "font": {
          "color": "white",
          "size": 12
         },
         "text": "Sales by Sub-Category in Year 2015",
         "x": 0.5,
         "xanchor": "center",
         "y": 0.98,
         "yanchor": "top"
        },
        "xaxis": {
         "color": "orange",
         "linecolor": "orange",
         "linewidth": 2,
         "showgrid": true,
         "showline": true,
         "showticklabels": true,
         "tickfont": {
          "color": "orange",
          "family": "Arial",
          "size": 12
         },
         "ticks": "outside",
         "title": {
          "text": "<b></b>"
         }
        },
        "yaxis": {
         "autorange": "reversed",
         "color": "orange",
         "linecolor": "orange",
         "linewidth": 2,
         "showgrid": false,
         "showline": false,
         "showticklabels": true,
         "tickfont": {
          "color": "orange",
          "family": "Arial",
          "size": 12
         },
         "ticks": "outside",
         "title": {
          "text": "<b></b>"
         }
        }
       }
      }
     },
     "metadata": {},
     "output_type": "display_data"
    }
   ],
   "source": [
    "trace = go.Bar(\n",
    "      x = sales2['Sales'],\n",
    "      y = sales2['Sub-Category'],\n",
    "      orientation='h',\n",
    "      text = sales2['Sales'],\n",
    "      texttemplate='$' + '%{text:.2s}',\n",
    "      textposition= 'auto',\n",
    "      marker=dict(color = '#19AAE1'),\n",
    "      hoverinfo='text',\n",
    "      hovertext=\n",
    "            '<b>Year</b>: ' + sales2['Year'].astype(str) + '<br>' + \\\n",
    "            '<b>Segment</b>: ' + sales2['Segment'].astype(str) + '<br>'+ \\\n",
    "            '<b>Sub-Category</b>: ' + sales2['Sub-Category'].astype(str) + '<br>' + \\\n",
    "            '<b>Sales</b>: ' + sales2['Sales'].astype(str)\n",
    ")\n",
    "\n",
    "layout = go.Layout(\n",
    "      plot_bgcolor='#1f2c56',\n",
    "      paper_bgcolor='#1f2c56',\n",
    "      title={\n",
    "            'text':f\"Sales by Sub-Category in Year {2015}\",\n",
    "            'y':0.98,\n",
    "            'x':0.5,\n",
    "            'xanchor':'center',\n",
    "            'yanchor':'top'\n",
    "      },\n",
    "      titlefont={\n",
    "            'color':'white',\n",
    "            'size':12\n",
    "      },\n",
    "      hovermode='closest',\n",
    "      margin=dict(t=50,r=0),\n",
    "      xaxis=dict(\n",
    "            title = '<b></b>',\n",
    "            color ='orange',\n",
    "            showline= True,\n",
    "            showgrid = True,\n",
    "            showticklabels = True,\n",
    "            linecolor ='orange',\n",
    "            linewidth = 2,\n",
    "            ticks='outside',\n",
    "            tickfont = dict(\n",
    "                  family='Arial',\n",
    "                  size= 12,\n",
    "                  color= 'orange'\n",
    "            ),\n",
    "      \n",
    "      ),\n",
    "      yaxis=dict(\n",
    "            title = '<b></b>',\n",
    "            autorange = 'reversed',\n",
    "            color ='orange',\n",
    "            showline= False,\n",
    "            showgrid = False,\n",
    "            showticklabels = True,\n",
    "            linecolor ='orange',\n",
    "            linewidth = 2,\n",
    "            ticks='outside',\n",
    "            tickfont = dict(\n",
    "                  family='Arial',\n",
    "                  size= 12,\n",
    "                  color= 'orange'\n",
    "            )\n",
    "      \n",
    "      ),\n",
    "      legend ={\n",
    "            'orientation':'h',\n",
    "            'bgcolor':'#1f2c56',\n",
    "            'x':1.25,\n",
    "            'y':0.5,\n",
    "            'xanchor':'center',\n",
    "            'yanchor':'top'\n",
    "      },\n",
    "      font = dict(\n",
    "                family = \"sans-serif\",\n",
    "                size = 15,\n",
    "                color = 'white'),\n",
    ")\n",
    "\n",
    "data = [trace]\n",
    "fig = go.Figure(data=data, layout=layout)\n",
    "pio.show(fig)"
   ]
  },
  {
   "cell_type": "code",
   "execution_count": 17,
   "metadata": {},
   "outputs": [
    {
     "data": {
      "text/html": [
       "<div>\n",
       "<style scoped>\n",
       "    .dataframe tbody tr th:only-of-type {\n",
       "        vertical-align: middle;\n",
       "    }\n",
       "\n",
       "    .dataframe tbody tr th {\n",
       "        vertical-align: top;\n",
       "    }\n",
       "\n",
       "    .dataframe thead th {\n",
       "        text-align: right;\n",
       "    }\n",
       "</style>\n",
       "<table border=\"1\" class=\"dataframe\">\n",
       "  <thead>\n",
       "    <tr style=\"text-align: right;\">\n",
       "      <th></th>\n",
       "      <th>Year</th>\n",
       "      <th>Segment</th>\n",
       "      <th>Region</th>\n",
       "      <th>Sales</th>\n",
       "    </tr>\n",
       "  </thead>\n",
       "  <tbody>\n",
       "    <tr>\n",
       "      <th>3</th>\n",
       "      <td>2015</td>\n",
       "      <td>Consumer</td>\n",
       "      <td>West</td>\n",
       "      <td>88264.0295</td>\n",
       "    </tr>\n",
       "    <tr>\n",
       "      <th>1</th>\n",
       "      <td>2015</td>\n",
       "      <td>Consumer</td>\n",
       "      <td>East</td>\n",
       "      <td>76338.7140</td>\n",
       "    </tr>\n",
       "    <tr>\n",
       "      <th>0</th>\n",
       "      <td>2015</td>\n",
       "      <td>Consumer</td>\n",
       "      <td>Central</td>\n",
       "      <td>66398.8236</td>\n",
       "    </tr>\n",
       "    <tr>\n",
       "      <th>2</th>\n",
       "      <td>2015</td>\n",
       "      <td>Consumer</td>\n",
       "      <td>South</td>\n",
       "      <td>31955.2335</td>\n",
       "    </tr>\n",
       "  </tbody>\n",
       "</table>\n",
       "</div>"
      ],
      "text/plain": [
       "   Year   Segment   Region       Sales\n",
       "3  2015  Consumer     West  88264.0295\n",
       "1  2015  Consumer     East  76338.7140\n",
       "0  2015  Consumer  Central  66398.8236\n",
       "2  2015  Consumer    South  31955.2335"
      ]
     },
     "execution_count": 17,
     "metadata": {},
     "output_type": "execute_result"
    }
   ],
   "source": [
    "sales3 = df.groupby(['Year','Segment','Region'])['Sales'].sum().reset_index()\n",
    "sales4 = sales3[(sales3['Year'] == 2015 ) & (sales3['Segment']== 'Consumer')].sort_values(ascending=False,by='Sales')\n",
    "sales4"
   ]
  },
  {
   "cell_type": "code",
   "execution_count": 18,
   "metadata": {},
   "outputs": [
    {
     "data": {
      "application/vnd.plotly.v1+json": {
       "config": {
        "plotlyServerURL": "https://plot.ly"
       },
       "data": [
        {
         "hoverinfo": "text",
         "hovertext": [
          "<b>Year</b>: 2015<br><b>Segment</b>: Consumer<br><b>Region</b>: West<br><b>Sales</b>: 88264.0295",
          "<b>Year</b>: 2015<br><b>Segment</b>: Consumer<br><b>Region</b>: East<br><b>Sales</b>: 76338.714",
          "<b>Year</b>: 2015<br><b>Segment</b>: Consumer<br><b>Region</b>: Central<br><b>Sales</b>: 66398.8236",
          "<b>Year</b>: 2015<br><b>Segment</b>: Consumer<br><b>Region</b>: South<br><b>Sales</b>: 31955.233500000002"
         ],
         "marker": {
          "color": "#19AAE1"
         },
         "orientation": "h",
         "text": [
          46226.214,
          44010.303,
          30074.898,
          25339.603,
          24094.7
         ],
         "textposition": "auto",
         "texttemplate": "$%{text:.2s}",
         "type": "bar",
         "x": [
          88264.0295,
          76338.714,
          66398.8236,
          31955.233500000002
         ],
         "y": [
          "West",
          "East",
          "Central",
          "South"
         ]
        }
       ],
       "layout": {
        "font": {
         "color": "white",
         "family": "sans-serif",
         "size": 15
        },
        "hovermode": "closest",
        "legend": {
         "bgcolor": "#1f2c56",
         "orientation": "h",
         "x": 1.25,
         "xanchor": "center",
         "y": 0.5,
         "yanchor": "top"
        },
        "margin": {
         "r": 0,
         "t": 50
        },
        "paper_bgcolor": "#1f2c56",
        "plot_bgcolor": "#1f2c56",
        "template": {
         "data": {
          "bar": [
           {
            "error_x": {
             "color": "#2a3f5f"
            },
            "error_y": {
             "color": "#2a3f5f"
            },
            "marker": {
             "line": {
              "color": "#E5ECF6",
              "width": 0.5
             },
             "pattern": {
              "fillmode": "overlay",
              "size": 10,
              "solidity": 0.2
             }
            },
            "type": "bar"
           }
          ],
          "barpolar": [
           {
            "marker": {
             "line": {
              "color": "#E5ECF6",
              "width": 0.5
             },
             "pattern": {
              "fillmode": "overlay",
              "size": 10,
              "solidity": 0.2
             }
            },
            "type": "barpolar"
           }
          ],
          "carpet": [
           {
            "aaxis": {
             "endlinecolor": "#2a3f5f",
             "gridcolor": "white",
             "linecolor": "white",
             "minorgridcolor": "white",
             "startlinecolor": "#2a3f5f"
            },
            "baxis": {
             "endlinecolor": "#2a3f5f",
             "gridcolor": "white",
             "linecolor": "white",
             "minorgridcolor": "white",
             "startlinecolor": "#2a3f5f"
            },
            "type": "carpet"
           }
          ],
          "choropleth": [
           {
            "colorbar": {
             "outlinewidth": 0,
             "ticks": ""
            },
            "type": "choropleth"
           }
          ],
          "contour": [
           {
            "colorbar": {
             "outlinewidth": 0,
             "ticks": ""
            },
            "colorscale": [
             [
              0,
              "#0d0887"
             ],
             [
              0.1111111111111111,
              "#46039f"
             ],
             [
              0.2222222222222222,
              "#7201a8"
             ],
             [
              0.3333333333333333,
              "#9c179e"
             ],
             [
              0.4444444444444444,
              "#bd3786"
             ],
             [
              0.5555555555555556,
              "#d8576b"
             ],
             [
              0.6666666666666666,
              "#ed7953"
             ],
             [
              0.7777777777777778,
              "#fb9f3a"
             ],
             [
              0.8888888888888888,
              "#fdca26"
             ],
             [
              1,
              "#f0f921"
             ]
            ],
            "type": "contour"
           }
          ],
          "contourcarpet": [
           {
            "colorbar": {
             "outlinewidth": 0,
             "ticks": ""
            },
            "type": "contourcarpet"
           }
          ],
          "heatmap": [
           {
            "colorbar": {
             "outlinewidth": 0,
             "ticks": ""
            },
            "colorscale": [
             [
              0,
              "#0d0887"
             ],
             [
              0.1111111111111111,
              "#46039f"
             ],
             [
              0.2222222222222222,
              "#7201a8"
             ],
             [
              0.3333333333333333,
              "#9c179e"
             ],
             [
              0.4444444444444444,
              "#bd3786"
             ],
             [
              0.5555555555555556,
              "#d8576b"
             ],
             [
              0.6666666666666666,
              "#ed7953"
             ],
             [
              0.7777777777777778,
              "#fb9f3a"
             ],
             [
              0.8888888888888888,
              "#fdca26"
             ],
             [
              1,
              "#f0f921"
             ]
            ],
            "type": "heatmap"
           }
          ],
          "heatmapgl": [
           {
            "colorbar": {
             "outlinewidth": 0,
             "ticks": ""
            },
            "colorscale": [
             [
              0,
              "#0d0887"
             ],
             [
              0.1111111111111111,
              "#46039f"
             ],
             [
              0.2222222222222222,
              "#7201a8"
             ],
             [
              0.3333333333333333,
              "#9c179e"
             ],
             [
              0.4444444444444444,
              "#bd3786"
             ],
             [
              0.5555555555555556,
              "#d8576b"
             ],
             [
              0.6666666666666666,
              "#ed7953"
             ],
             [
              0.7777777777777778,
              "#fb9f3a"
             ],
             [
              0.8888888888888888,
              "#fdca26"
             ],
             [
              1,
              "#f0f921"
             ]
            ],
            "type": "heatmapgl"
           }
          ],
          "histogram": [
           {
            "marker": {
             "pattern": {
              "fillmode": "overlay",
              "size": 10,
              "solidity": 0.2
             }
            },
            "type": "histogram"
           }
          ],
          "histogram2d": [
           {
            "colorbar": {
             "outlinewidth": 0,
             "ticks": ""
            },
            "colorscale": [
             [
              0,
              "#0d0887"
             ],
             [
              0.1111111111111111,
              "#46039f"
             ],
             [
              0.2222222222222222,
              "#7201a8"
             ],
             [
              0.3333333333333333,
              "#9c179e"
             ],
             [
              0.4444444444444444,
              "#bd3786"
             ],
             [
              0.5555555555555556,
              "#d8576b"
             ],
             [
              0.6666666666666666,
              "#ed7953"
             ],
             [
              0.7777777777777778,
              "#fb9f3a"
             ],
             [
              0.8888888888888888,
              "#fdca26"
             ],
             [
              1,
              "#f0f921"
             ]
            ],
            "type": "histogram2d"
           }
          ],
          "histogram2dcontour": [
           {
            "colorbar": {
             "outlinewidth": 0,
             "ticks": ""
            },
            "colorscale": [
             [
              0,
              "#0d0887"
             ],
             [
              0.1111111111111111,
              "#46039f"
             ],
             [
              0.2222222222222222,
              "#7201a8"
             ],
             [
              0.3333333333333333,
              "#9c179e"
             ],
             [
              0.4444444444444444,
              "#bd3786"
             ],
             [
              0.5555555555555556,
              "#d8576b"
             ],
             [
              0.6666666666666666,
              "#ed7953"
             ],
             [
              0.7777777777777778,
              "#fb9f3a"
             ],
             [
              0.8888888888888888,
              "#fdca26"
             ],
             [
              1,
              "#f0f921"
             ]
            ],
            "type": "histogram2dcontour"
           }
          ],
          "mesh3d": [
           {
            "colorbar": {
             "outlinewidth": 0,
             "ticks": ""
            },
            "type": "mesh3d"
           }
          ],
          "parcoords": [
           {
            "line": {
             "colorbar": {
              "outlinewidth": 0,
              "ticks": ""
             }
            },
            "type": "parcoords"
           }
          ],
          "pie": [
           {
            "automargin": true,
            "type": "pie"
           }
          ],
          "scatter": [
           {
            "fillpattern": {
             "fillmode": "overlay",
             "size": 10,
             "solidity": 0.2
            },
            "type": "scatter"
           }
          ],
          "scatter3d": [
           {
            "line": {
             "colorbar": {
              "outlinewidth": 0,
              "ticks": ""
             }
            },
            "marker": {
             "colorbar": {
              "outlinewidth": 0,
              "ticks": ""
             }
            },
            "type": "scatter3d"
           }
          ],
          "scattercarpet": [
           {
            "marker": {
             "colorbar": {
              "outlinewidth": 0,
              "ticks": ""
             }
            },
            "type": "scattercarpet"
           }
          ],
          "scattergeo": [
           {
            "marker": {
             "colorbar": {
              "outlinewidth": 0,
              "ticks": ""
             }
            },
            "type": "scattergeo"
           }
          ],
          "scattergl": [
           {
            "marker": {
             "colorbar": {
              "outlinewidth": 0,
              "ticks": ""
             }
            },
            "type": "scattergl"
           }
          ],
          "scattermapbox": [
           {
            "marker": {
             "colorbar": {
              "outlinewidth": 0,
              "ticks": ""
             }
            },
            "type": "scattermapbox"
           }
          ],
          "scatterpolar": [
           {
            "marker": {
             "colorbar": {
              "outlinewidth": 0,
              "ticks": ""
             }
            },
            "type": "scatterpolar"
           }
          ],
          "scatterpolargl": [
           {
            "marker": {
             "colorbar": {
              "outlinewidth": 0,
              "ticks": ""
             }
            },
            "type": "scatterpolargl"
           }
          ],
          "scatterternary": [
           {
            "marker": {
             "colorbar": {
              "outlinewidth": 0,
              "ticks": ""
             }
            },
            "type": "scatterternary"
           }
          ],
          "surface": [
           {
            "colorbar": {
             "outlinewidth": 0,
             "ticks": ""
            },
            "colorscale": [
             [
              0,
              "#0d0887"
             ],
             [
              0.1111111111111111,
              "#46039f"
             ],
             [
              0.2222222222222222,
              "#7201a8"
             ],
             [
              0.3333333333333333,
              "#9c179e"
             ],
             [
              0.4444444444444444,
              "#bd3786"
             ],
             [
              0.5555555555555556,
              "#d8576b"
             ],
             [
              0.6666666666666666,
              "#ed7953"
             ],
             [
              0.7777777777777778,
              "#fb9f3a"
             ],
             [
              0.8888888888888888,
              "#fdca26"
             ],
             [
              1,
              "#f0f921"
             ]
            ],
            "type": "surface"
           }
          ],
          "table": [
           {
            "cells": {
             "fill": {
              "color": "#EBF0F8"
             },
             "line": {
              "color": "white"
             }
            },
            "header": {
             "fill": {
              "color": "#C8D4E3"
             },
             "line": {
              "color": "white"
             }
            },
            "type": "table"
           }
          ]
         },
         "layout": {
          "annotationdefaults": {
           "arrowcolor": "#2a3f5f",
           "arrowhead": 0,
           "arrowwidth": 1
          },
          "autotypenumbers": "strict",
          "coloraxis": {
           "colorbar": {
            "outlinewidth": 0,
            "ticks": ""
           }
          },
          "colorscale": {
           "diverging": [
            [
             0,
             "#8e0152"
            ],
            [
             0.1,
             "#c51b7d"
            ],
            [
             0.2,
             "#de77ae"
            ],
            [
             0.3,
             "#f1b6da"
            ],
            [
             0.4,
             "#fde0ef"
            ],
            [
             0.5,
             "#f7f7f7"
            ],
            [
             0.6,
             "#e6f5d0"
            ],
            [
             0.7,
             "#b8e186"
            ],
            [
             0.8,
             "#7fbc41"
            ],
            [
             0.9,
             "#4d9221"
            ],
            [
             1,
             "#276419"
            ]
           ],
           "sequential": [
            [
             0,
             "#0d0887"
            ],
            [
             0.1111111111111111,
             "#46039f"
            ],
            [
             0.2222222222222222,
             "#7201a8"
            ],
            [
             0.3333333333333333,
             "#9c179e"
            ],
            [
             0.4444444444444444,
             "#bd3786"
            ],
            [
             0.5555555555555556,
             "#d8576b"
            ],
            [
             0.6666666666666666,
             "#ed7953"
            ],
            [
             0.7777777777777778,
             "#fb9f3a"
            ],
            [
             0.8888888888888888,
             "#fdca26"
            ],
            [
             1,
             "#f0f921"
            ]
           ],
           "sequentialminus": [
            [
             0,
             "#0d0887"
            ],
            [
             0.1111111111111111,
             "#46039f"
            ],
            [
             0.2222222222222222,
             "#7201a8"
            ],
            [
             0.3333333333333333,
             "#9c179e"
            ],
            [
             0.4444444444444444,
             "#bd3786"
            ],
            [
             0.5555555555555556,
             "#d8576b"
            ],
            [
             0.6666666666666666,
             "#ed7953"
            ],
            [
             0.7777777777777778,
             "#fb9f3a"
            ],
            [
             0.8888888888888888,
             "#fdca26"
            ],
            [
             1,
             "#f0f921"
            ]
           ]
          },
          "colorway": [
           "#636efa",
           "#EF553B",
           "#00cc96",
           "#ab63fa",
           "#FFA15A",
           "#19d3f3",
           "#FF6692",
           "#B6E880",
           "#FF97FF",
           "#FECB52"
          ],
          "font": {
           "color": "#2a3f5f"
          },
          "geo": {
           "bgcolor": "white",
           "lakecolor": "white",
           "landcolor": "#E5ECF6",
           "showlakes": true,
           "showland": true,
           "subunitcolor": "white"
          },
          "hoverlabel": {
           "align": "left"
          },
          "hovermode": "closest",
          "mapbox": {
           "style": "light"
          },
          "paper_bgcolor": "white",
          "plot_bgcolor": "#E5ECF6",
          "polar": {
           "angularaxis": {
            "gridcolor": "white",
            "linecolor": "white",
            "ticks": ""
           },
           "bgcolor": "#E5ECF6",
           "radialaxis": {
            "gridcolor": "white",
            "linecolor": "white",
            "ticks": ""
           }
          },
          "scene": {
           "xaxis": {
            "backgroundcolor": "#E5ECF6",
            "gridcolor": "white",
            "gridwidth": 2,
            "linecolor": "white",
            "showbackground": true,
            "ticks": "",
            "zerolinecolor": "white"
           },
           "yaxis": {
            "backgroundcolor": "#E5ECF6",
            "gridcolor": "white",
            "gridwidth": 2,
            "linecolor": "white",
            "showbackground": true,
            "ticks": "",
            "zerolinecolor": "white"
           },
           "zaxis": {
            "backgroundcolor": "#E5ECF6",
            "gridcolor": "white",
            "gridwidth": 2,
            "linecolor": "white",
            "showbackground": true,
            "ticks": "",
            "zerolinecolor": "white"
           }
          },
          "shapedefaults": {
           "line": {
            "color": "#2a3f5f"
           }
          },
          "ternary": {
           "aaxis": {
            "gridcolor": "white",
            "linecolor": "white",
            "ticks": ""
           },
           "baxis": {
            "gridcolor": "white",
            "linecolor": "white",
            "ticks": ""
           },
           "bgcolor": "#E5ECF6",
           "caxis": {
            "gridcolor": "white",
            "linecolor": "white",
            "ticks": ""
           }
          },
          "title": {
           "x": 0.05
          },
          "xaxis": {
           "automargin": true,
           "gridcolor": "white",
           "linecolor": "white",
           "ticks": "",
           "title": {
            "standoff": 15
           },
           "zerolinecolor": "white",
           "zerolinewidth": 2
          },
          "yaxis": {
           "automargin": true,
           "gridcolor": "white",
           "linecolor": "white",
           "ticks": "",
           "title": {
            "standoff": 15
           },
           "zerolinecolor": "white",
           "zerolinewidth": 2
          }
         }
        },
        "title": {
         "font": {
          "color": "white",
          "size": 12
         },
         "text": "Sales by Sub-Category in Year 2015",
         "x": 0.5,
         "xanchor": "center",
         "y": 0.98,
         "yanchor": "top"
        },
        "xaxis": {
         "color": "orange",
         "linecolor": "orange",
         "linewidth": 2,
         "showgrid": true,
         "showline": true,
         "showticklabels": true,
         "tickfont": {
          "color": "orange",
          "family": "Arial",
          "size": 12
         },
         "ticks": "outside",
         "title": {
          "text": "<b></b>"
         }
        },
        "yaxis": {
         "autorange": "reversed",
         "color": "orange",
         "linecolor": "orange",
         "linewidth": 2,
         "showgrid": false,
         "showline": false,
         "showticklabels": true,
         "tickfont": {
          "color": "orange",
          "family": "Arial",
          "size": 12
         },
         "ticks": "outside",
         "title": {
          "text": "<b></b>"
         }
        }
       }
      }
     },
     "metadata": {},
     "output_type": "display_data"
    }
   ],
   "source": [
    "trace = go.Bar(\n",
    "      x = sales4['Sales'],\n",
    "      y = sales4['Region'],\n",
    "      text = sales2['Sales'],\n",
    "      orientation='h',\n",
    "      texttemplate='$' + '%{text:.2s}',\n",
    "      textposition= 'auto',\n",
    "      marker=dict(color = '#19AAE1'),\n",
    "      hoverinfo='text',\n",
    "      hovertext=\n",
    "            '<b>Year</b>: ' + sales4['Year'].astype(str) + '<br>' + \\\n",
    "            '<b>Segment</b>: ' + sales4['Segment'].astype(str) + '<br>'+ \\\n",
    "            '<b>Region</b>: ' + sales4['Region'].astype(str) + '<br>' + \\\n",
    "            '<b>Sales</b>: ' + sales4['Sales'].astype(str)\n",
    ")\n",
    "\n",
    "layout = go.Layout(\n",
    "      plot_bgcolor='#1f2c56',\n",
    "      paper_bgcolor='#1f2c56',\n",
    "      title={\n",
    "            'text':f\"Sales by Sub-Category in Year {2015}\",\n",
    "            'y':0.98,\n",
    "            'x':0.5,\n",
    "            'xanchor':'center',\n",
    "            'yanchor':'top'\n",
    "      },\n",
    "      titlefont={\n",
    "            'color':'white',\n",
    "            'size':12\n",
    "      },\n",
    "      hovermode='closest',\n",
    "      margin=dict(t=50,r=0),\n",
    "      xaxis=dict(\n",
    "            title = '<b></b>',\n",
    "            color ='orange',\n",
    "            showline= True,\n",
    "            showgrid = True,\n",
    "            showticklabels = True,\n",
    "            linecolor ='orange',\n",
    "            linewidth = 2,\n",
    "            ticks='outside',\n",
    "            tickfont = dict(\n",
    "                  family='Arial',\n",
    "                  size= 12,\n",
    "                  color= 'orange'\n",
    "            ),\n",
    "      \n",
    "      ),\n",
    "      yaxis=dict(\n",
    "            title = '<b></b>',\n",
    "            autorange = 'reversed',\n",
    "            color ='orange',\n",
    "            showline= False,\n",
    "            showgrid = False,\n",
    "            showticklabels = True,\n",
    "            linecolor ='orange',\n",
    "            linewidth = 2,\n",
    "            ticks='outside',\n",
    "            tickfont = dict(\n",
    "                  family='Arial',\n",
    "                  size= 12,\n",
    "                  color= 'orange'\n",
    "            )\n",
    "      \n",
    "      ),\n",
    "      legend ={\n",
    "            'orientation':'h',\n",
    "            'bgcolor':'#1f2c56',\n",
    "            'x':1.25,\n",
    "            'y':0.5,\n",
    "            'xanchor':'center',\n",
    "            'yanchor':'top'\n",
    "      },\n",
    "      font = dict(\n",
    "                family = \"sans-serif\",\n",
    "                size = 15,\n",
    "                color = 'white'),\n",
    ")\n",
    "\n",
    "data = [trace]\n",
    "fig = go.Figure(data=data, layout=layout)\n",
    "pio.show(fig)"
   ]
  },
  {
   "cell_type": "code",
   "execution_count": 19,
   "metadata": {},
   "outputs": [],
   "source": [
    "sales5 = df.groupby(['Year', 'Segment', 'Category'])['Sales'].sum().reset_index()\n",
    "furniture_sales = sales5[(sales5['Year'] == 2015) & (sales5['Segment']=='Consumer') * (sales5['Category'] == 'Furniture')]['Sales'].sum()\n",
    "\n",
    "office_sales = sales5[(sales5['Year'] == 2015) & (sales5['Segment']=='Consumer') * (sales5['Category'] == 'Office Supplies')]['Sales'].sum()\n",
    "\n",
    "\n",
    "technology_sales = sales5[(sales5['Year'] == 2015) & (sales5['Segment']=='Consumer') * (sales5['Category'] == 'Technology')]['Sales'].sum()"
   ]
  },
  {
   "cell_type": "code",
   "execution_count": 20,
   "metadata": {},
   "outputs": [
    {
     "data": {
      "application/vnd.plotly.v1+json": {
       "config": {
        "plotlyServerURL": "https://plot.ly"
       },
       "data": [
        {
         "hole": 0.7,
         "hoverinfo": "label+value+percent",
         "insidetextorientation": "radial",
         "labels": [
          "Furniture",
          "Office Supplies",
          "Technology"
         ],
         "marker": {
          "colors": [
           "#30C9C7",
           "#7A45D1",
           "orange"
          ]
         },
         "rotation": 160,
         "textfont": {
          "size": 13
         },
         "textinfo": "label+value",
         "textposition": "auto",
         "texttemplate": "%{label} <br> $%{value:,.2f}",
         "type": "pie",
         "values": [
          85745.2936,
          82641.648,
          94569.859
         ]
        }
       ],
       "layout": {
        "font": {
         "color": "white",
         "family": "sans-serif",
         "size": 12
        },
        "hovermode": "x",
        "legend": {
         "bgcolor": "#1f2c56",
         "orientation": "h",
         "x": 0.5,
         "xanchor": "center",
         "y": -0.15
        },
        "paper_bgcolor": "#1f2c56",
        "plot_bgcolor": "#1f2c56",
        "template": {
         "data": {
          "bar": [
           {
            "error_x": {
             "color": "#2a3f5f"
            },
            "error_y": {
             "color": "#2a3f5f"
            },
            "marker": {
             "line": {
              "color": "#E5ECF6",
              "width": 0.5
             },
             "pattern": {
              "fillmode": "overlay",
              "size": 10,
              "solidity": 0.2
             }
            },
            "type": "bar"
           }
          ],
          "barpolar": [
           {
            "marker": {
             "line": {
              "color": "#E5ECF6",
              "width": 0.5
             },
             "pattern": {
              "fillmode": "overlay",
              "size": 10,
              "solidity": 0.2
             }
            },
            "type": "barpolar"
           }
          ],
          "carpet": [
           {
            "aaxis": {
             "endlinecolor": "#2a3f5f",
             "gridcolor": "white",
             "linecolor": "white",
             "minorgridcolor": "white",
             "startlinecolor": "#2a3f5f"
            },
            "baxis": {
             "endlinecolor": "#2a3f5f",
             "gridcolor": "white",
             "linecolor": "white",
             "minorgridcolor": "white",
             "startlinecolor": "#2a3f5f"
            },
            "type": "carpet"
           }
          ],
          "choropleth": [
           {
            "colorbar": {
             "outlinewidth": 0,
             "ticks": ""
            },
            "type": "choropleth"
           }
          ],
          "contour": [
           {
            "colorbar": {
             "outlinewidth": 0,
             "ticks": ""
            },
            "colorscale": [
             [
              0,
              "#0d0887"
             ],
             [
              0.1111111111111111,
              "#46039f"
             ],
             [
              0.2222222222222222,
              "#7201a8"
             ],
             [
              0.3333333333333333,
              "#9c179e"
             ],
             [
              0.4444444444444444,
              "#bd3786"
             ],
             [
              0.5555555555555556,
              "#d8576b"
             ],
             [
              0.6666666666666666,
              "#ed7953"
             ],
             [
              0.7777777777777778,
              "#fb9f3a"
             ],
             [
              0.8888888888888888,
              "#fdca26"
             ],
             [
              1,
              "#f0f921"
             ]
            ],
            "type": "contour"
           }
          ],
          "contourcarpet": [
           {
            "colorbar": {
             "outlinewidth": 0,
             "ticks": ""
            },
            "type": "contourcarpet"
           }
          ],
          "heatmap": [
           {
            "colorbar": {
             "outlinewidth": 0,
             "ticks": ""
            },
            "colorscale": [
             [
              0,
              "#0d0887"
             ],
             [
              0.1111111111111111,
              "#46039f"
             ],
             [
              0.2222222222222222,
              "#7201a8"
             ],
             [
              0.3333333333333333,
              "#9c179e"
             ],
             [
              0.4444444444444444,
              "#bd3786"
             ],
             [
              0.5555555555555556,
              "#d8576b"
             ],
             [
              0.6666666666666666,
              "#ed7953"
             ],
             [
              0.7777777777777778,
              "#fb9f3a"
             ],
             [
              0.8888888888888888,
              "#fdca26"
             ],
             [
              1,
              "#f0f921"
             ]
            ],
            "type": "heatmap"
           }
          ],
          "heatmapgl": [
           {
            "colorbar": {
             "outlinewidth": 0,
             "ticks": ""
            },
            "colorscale": [
             [
              0,
              "#0d0887"
             ],
             [
              0.1111111111111111,
              "#46039f"
             ],
             [
              0.2222222222222222,
              "#7201a8"
             ],
             [
              0.3333333333333333,
              "#9c179e"
             ],
             [
              0.4444444444444444,
              "#bd3786"
             ],
             [
              0.5555555555555556,
              "#d8576b"
             ],
             [
              0.6666666666666666,
              "#ed7953"
             ],
             [
              0.7777777777777778,
              "#fb9f3a"
             ],
             [
              0.8888888888888888,
              "#fdca26"
             ],
             [
              1,
              "#f0f921"
             ]
            ],
            "type": "heatmapgl"
           }
          ],
          "histogram": [
           {
            "marker": {
             "pattern": {
              "fillmode": "overlay",
              "size": 10,
              "solidity": 0.2
             }
            },
            "type": "histogram"
           }
          ],
          "histogram2d": [
           {
            "colorbar": {
             "outlinewidth": 0,
             "ticks": ""
            },
            "colorscale": [
             [
              0,
              "#0d0887"
             ],
             [
              0.1111111111111111,
              "#46039f"
             ],
             [
              0.2222222222222222,
              "#7201a8"
             ],
             [
              0.3333333333333333,
              "#9c179e"
             ],
             [
              0.4444444444444444,
              "#bd3786"
             ],
             [
              0.5555555555555556,
              "#d8576b"
             ],
             [
              0.6666666666666666,
              "#ed7953"
             ],
             [
              0.7777777777777778,
              "#fb9f3a"
             ],
             [
              0.8888888888888888,
              "#fdca26"
             ],
             [
              1,
              "#f0f921"
             ]
            ],
            "type": "histogram2d"
           }
          ],
          "histogram2dcontour": [
           {
            "colorbar": {
             "outlinewidth": 0,
             "ticks": ""
            },
            "colorscale": [
             [
              0,
              "#0d0887"
             ],
             [
              0.1111111111111111,
              "#46039f"
             ],
             [
              0.2222222222222222,
              "#7201a8"
             ],
             [
              0.3333333333333333,
              "#9c179e"
             ],
             [
              0.4444444444444444,
              "#bd3786"
             ],
             [
              0.5555555555555556,
              "#d8576b"
             ],
             [
              0.6666666666666666,
              "#ed7953"
             ],
             [
              0.7777777777777778,
              "#fb9f3a"
             ],
             [
              0.8888888888888888,
              "#fdca26"
             ],
             [
              1,
              "#f0f921"
             ]
            ],
            "type": "histogram2dcontour"
           }
          ],
          "mesh3d": [
           {
            "colorbar": {
             "outlinewidth": 0,
             "ticks": ""
            },
            "type": "mesh3d"
           }
          ],
          "parcoords": [
           {
            "line": {
             "colorbar": {
              "outlinewidth": 0,
              "ticks": ""
             }
            },
            "type": "parcoords"
           }
          ],
          "pie": [
           {
            "automargin": true,
            "type": "pie"
           }
          ],
          "scatter": [
           {
            "fillpattern": {
             "fillmode": "overlay",
             "size": 10,
             "solidity": 0.2
            },
            "type": "scatter"
           }
          ],
          "scatter3d": [
           {
            "line": {
             "colorbar": {
              "outlinewidth": 0,
              "ticks": ""
             }
            },
            "marker": {
             "colorbar": {
              "outlinewidth": 0,
              "ticks": ""
             }
            },
            "type": "scatter3d"
           }
          ],
          "scattercarpet": [
           {
            "marker": {
             "colorbar": {
              "outlinewidth": 0,
              "ticks": ""
             }
            },
            "type": "scattercarpet"
           }
          ],
          "scattergeo": [
           {
            "marker": {
             "colorbar": {
              "outlinewidth": 0,
              "ticks": ""
             }
            },
            "type": "scattergeo"
           }
          ],
          "scattergl": [
           {
            "marker": {
             "colorbar": {
              "outlinewidth": 0,
              "ticks": ""
             }
            },
            "type": "scattergl"
           }
          ],
          "scattermapbox": [
           {
            "marker": {
             "colorbar": {
              "outlinewidth": 0,
              "ticks": ""
             }
            },
            "type": "scattermapbox"
           }
          ],
          "scatterpolar": [
           {
            "marker": {
             "colorbar": {
              "outlinewidth": 0,
              "ticks": ""
             }
            },
            "type": "scatterpolar"
           }
          ],
          "scatterpolargl": [
           {
            "marker": {
             "colorbar": {
              "outlinewidth": 0,
              "ticks": ""
             }
            },
            "type": "scatterpolargl"
           }
          ],
          "scatterternary": [
           {
            "marker": {
             "colorbar": {
              "outlinewidth": 0,
              "ticks": ""
             }
            },
            "type": "scatterternary"
           }
          ],
          "surface": [
           {
            "colorbar": {
             "outlinewidth": 0,
             "ticks": ""
            },
            "colorscale": [
             [
              0,
              "#0d0887"
             ],
             [
              0.1111111111111111,
              "#46039f"
             ],
             [
              0.2222222222222222,
              "#7201a8"
             ],
             [
              0.3333333333333333,
              "#9c179e"
             ],
             [
              0.4444444444444444,
              "#bd3786"
             ],
             [
              0.5555555555555556,
              "#d8576b"
             ],
             [
              0.6666666666666666,
              "#ed7953"
             ],
             [
              0.7777777777777778,
              "#fb9f3a"
             ],
             [
              0.8888888888888888,
              "#fdca26"
             ],
             [
              1,
              "#f0f921"
             ]
            ],
            "type": "surface"
           }
          ],
          "table": [
           {
            "cells": {
             "fill": {
              "color": "#EBF0F8"
             },
             "line": {
              "color": "white"
             }
            },
            "header": {
             "fill": {
              "color": "#C8D4E3"
             },
             "line": {
              "color": "white"
             }
            },
            "type": "table"
           }
          ]
         },
         "layout": {
          "annotationdefaults": {
           "arrowcolor": "#2a3f5f",
           "arrowhead": 0,
           "arrowwidth": 1
          },
          "autotypenumbers": "strict",
          "coloraxis": {
           "colorbar": {
            "outlinewidth": 0,
            "ticks": ""
           }
          },
          "colorscale": {
           "diverging": [
            [
             0,
             "#8e0152"
            ],
            [
             0.1,
             "#c51b7d"
            ],
            [
             0.2,
             "#de77ae"
            ],
            [
             0.3,
             "#f1b6da"
            ],
            [
             0.4,
             "#fde0ef"
            ],
            [
             0.5,
             "#f7f7f7"
            ],
            [
             0.6,
             "#e6f5d0"
            ],
            [
             0.7,
             "#b8e186"
            ],
            [
             0.8,
             "#7fbc41"
            ],
            [
             0.9,
             "#4d9221"
            ],
            [
             1,
             "#276419"
            ]
           ],
           "sequential": [
            [
             0,
             "#0d0887"
            ],
            [
             0.1111111111111111,
             "#46039f"
            ],
            [
             0.2222222222222222,
             "#7201a8"
            ],
            [
             0.3333333333333333,
             "#9c179e"
            ],
            [
             0.4444444444444444,
             "#bd3786"
            ],
            [
             0.5555555555555556,
             "#d8576b"
            ],
            [
             0.6666666666666666,
             "#ed7953"
            ],
            [
             0.7777777777777778,
             "#fb9f3a"
            ],
            [
             0.8888888888888888,
             "#fdca26"
            ],
            [
             1,
             "#f0f921"
            ]
           ],
           "sequentialminus": [
            [
             0,
             "#0d0887"
            ],
            [
             0.1111111111111111,
             "#46039f"
            ],
            [
             0.2222222222222222,
             "#7201a8"
            ],
            [
             0.3333333333333333,
             "#9c179e"
            ],
            [
             0.4444444444444444,
             "#bd3786"
            ],
            [
             0.5555555555555556,
             "#d8576b"
            ],
            [
             0.6666666666666666,
             "#ed7953"
            ],
            [
             0.7777777777777778,
             "#fb9f3a"
            ],
            [
             0.8888888888888888,
             "#fdca26"
            ],
            [
             1,
             "#f0f921"
            ]
           ]
          },
          "colorway": [
           "#636efa",
           "#EF553B",
           "#00cc96",
           "#ab63fa",
           "#FFA15A",
           "#19d3f3",
           "#FF6692",
           "#B6E880",
           "#FF97FF",
           "#FECB52"
          ],
          "font": {
           "color": "#2a3f5f"
          },
          "geo": {
           "bgcolor": "white",
           "lakecolor": "white",
           "landcolor": "#E5ECF6",
           "showlakes": true,
           "showland": true,
           "subunitcolor": "white"
          },
          "hoverlabel": {
           "align": "left"
          },
          "hovermode": "closest",
          "mapbox": {
           "style": "light"
          },
          "paper_bgcolor": "white",
          "plot_bgcolor": "#E5ECF6",
          "polar": {
           "angularaxis": {
            "gridcolor": "white",
            "linecolor": "white",
            "ticks": ""
           },
           "bgcolor": "#E5ECF6",
           "radialaxis": {
            "gridcolor": "white",
            "linecolor": "white",
            "ticks": ""
           }
          },
          "scene": {
           "xaxis": {
            "backgroundcolor": "#E5ECF6",
            "gridcolor": "white",
            "gridwidth": 2,
            "linecolor": "white",
            "showbackground": true,
            "ticks": "",
            "zerolinecolor": "white"
           },
           "yaxis": {
            "backgroundcolor": "#E5ECF6",
            "gridcolor": "white",
            "gridwidth": 2,
            "linecolor": "white",
            "showbackground": true,
            "ticks": "",
            "zerolinecolor": "white"
           },
           "zaxis": {
            "backgroundcolor": "#E5ECF6",
            "gridcolor": "white",
            "gridwidth": 2,
            "linecolor": "white",
            "showbackground": true,
            "ticks": "",
            "zerolinecolor": "white"
           }
          },
          "shapedefaults": {
           "line": {
            "color": "#2a3f5f"
           }
          },
          "ternary": {
           "aaxis": {
            "gridcolor": "white",
            "linecolor": "white",
            "ticks": ""
           },
           "baxis": {
            "gridcolor": "white",
            "linecolor": "white",
            "ticks": ""
           },
           "bgcolor": "#E5ECF6",
           "caxis": {
            "gridcolor": "white",
            "linecolor": "white",
            "ticks": ""
           }
          },
          "title": {
           "x": 0.05
          },
          "xaxis": {
           "automargin": true,
           "gridcolor": "white",
           "linecolor": "white",
           "ticks": "",
           "title": {
            "standoff": 15
           },
           "zerolinecolor": "white",
           "zerolinewidth": 2
          },
          "yaxis": {
           "automargin": true,
           "gridcolor": "white",
           "linecolor": "white",
           "ticks": "",
           "title": {
            "standoff": 15
           },
           "zerolinecolor": "white",
           "zerolinewidth": 2
          }
         }
        },
        "title": {
         "font": {
          "color": "white",
          "size": 15
         },
         "text": "Sales by Category in Year",
         "x": 0.5,
         "xanchor": "center",
         "y": 0.98,
         "yanchor": "top"
        }
       }
      }
     },
     "metadata": {},
     "output_type": "display_data"
    }
   ],
   "source": [
    "colors = ['#30C9C7', '#7A45D1', 'orange']\n",
    "\n",
    "trace = go.Pie(\n",
    "      labels = ['Furniture', 'Office Supplies', 'Technology'],\n",
    "      values = [furniture_sales, office_sales, technology_sales],\n",
    "      marker= dict(colors=colors),\n",
    "      hoverinfo= 'label+value+percent',\n",
    "      textinfo=  'label+value',\n",
    "      textfont=dict(size=13),\n",
    "      texttemplate= \"%{label} <br> $%{value:,.2f}\",\n",
    "      textposition='auto',\n",
    "      hole = 0.7,\n",
    "      rotation=160,\n",
    "      insidetextorientation='radial'\n",
    ")\n",
    "\n",
    "\n",
    "\n",
    "layout = go.Layout(\n",
    "      plot_bgcolor='#1f2c56',\n",
    "      paper_bgcolor= '#1f2c56',\n",
    "      hovermode='x',\n",
    "      title = {\n",
    "            \"text\" :'Sales by Category in Year',\n",
    "            'y': 0.98,\n",
    "            'x': 0.5,\n",
    "            'xanchor':'center',\n",
    "            'yanchor': 'top'\n",
    "      },\n",
    "      titlefont = {\n",
    "            'color': 'white',\n",
    "            'size': 15},\n",
    "      legend = {\n",
    "            'orientation': 'h',\n",
    "            'bgcolor': '#1f2c56',\n",
    "            'xanchor': 'center', 'x': 0.5, 'y': -0.15},\n",
    "\n",
    "      font = dict(\n",
    "            family = \"sans-serif\",\n",
    "            size = 12,\n",
    "            color = 'white')\n",
    ")\n",
    "\n",
    "data = [trace]\n",
    "fig = go.Figure(data=data, layout=layout)\n",
    "pio.show(fig)"
   ]
  },
  {
   "cell_type": "code",
   "execution_count": 21,
   "metadata": {},
   "outputs": [],
   "source": [
    "sales6 = df.groupby(['Year','Segment','Month_name'])['Sales'].sum().reset_index()\n",
    "sales7 = sales6[(sales6['Year'] == 2015) & (sales6['Segment']=='Consumer')]"
   ]
  },
  {
   "cell_type": "code",
   "execution_count": 117,
   "metadata": {},
   "outputs": [
    {
     "data": {
      "application/vnd.plotly.v1+json": {
       "config": {
        "plotlyServerURL": "https://plot.ly"
       },
       "data": [
        {
         "hoverinfo": "text",
         "hovertext": [
          "<b>Year</b>: 2015<br><b>Month</b>: April<br><b>Segment</b>: Consumer<br><b>Sales</b>: $9,108.61<br>",
          "<b>Year</b>: 2015<br><b>Month</b>: August<br><b>Segment</b>: Consumer<br><b>Sales</b>: $15,423.33<br>",
          "<b>Year</b>: 2015<br><b>Month</b>: December<br><b>Segment</b>: Consumer<br><b>Sales</b>: $35,979.42<br>",
          "<b>Year</b>: 2015<br><b>Month</b>: February<br><b>Segment</b>: Consumer<br><b>Sales</b>: $3,167.85<br>",
          "<b>Year</b>: 2015<br><b>Month</b>: January<br><b>Segment</b>: Consumer<br><b>Sales</b>: $6,896.63<br>",
          "<b>Year</b>: 2015<br><b>Month</b>: July<br><b>Segment</b>: Consumer<br><b>Sales</b>: $20,032.89<br>",
          "<b>Year</b>: 2015<br><b>Month</b>: June<br><b>Segment</b>: Consumer<br><b>Sales</b>: $25,651.56<br>",
          "<b>Year</b>: 2015<br><b>Month</b>: March<br><b>Segment</b>: Consumer<br><b>Sales</b>: $11,869.30<br>",
          "<b>Year</b>: 2015<br><b>Month</b>: May<br><b>Segment</b>: Consumer<br><b>Sales</b>: $12,815.18<br>",
          "<b>Year</b>: 2015<br><b>Month</b>: November<br><b>Segment</b>: Consumer<br><b>Sales</b>: $46,228.50<br>",
          "<b>Year</b>: 2015<br><b>Month</b>: October<br><b>Segment</b>: Consumer<br><b>Sales</b>: $16,246.70<br>",
          "<b>Year</b>: 2015<br><b>Month</b>: September<br><b>Segment</b>: Consumer<br><b>Sales</b>: $59,536.83<br>"
         ],
         "line": {
          "color": "orange",
          "width": 3
         },
         "marker": {
          "color": "#19AAE1",
          "line": {
           "color": "#19AAE1",
           "width": 2
          },
          "size": 10,
          "symbol": "circle"
         },
         "mode": "markers+lines+text",
         "name": "Sales",
         "text": [
          9108.612000000001,
          15423.3315,
          35979.4245,
          3167.8540000000003,
          6896.629,
          20032.89,
          25651.5556,
          11869.304,
          12815.179,
          46228.498,
          16246.697,
          59536.826
         ],
         "textposition": "bottom left",
         "texttemplate": "%{text:.2s}",
         "type": "scatter",
         "x": [
          "April",
          "August",
          "December",
          "February",
          "January",
          "July",
          "June",
          "March",
          "May",
          "November",
          "October",
          "September"
         ],
         "y": [
          9108.612000000001,
          15423.3315,
          35979.4245,
          3167.8540000000003,
          6896.629,
          20032.89,
          25651.5556,
          11869.304,
          12815.179,
          46228.498,
          16246.697,
          59536.826
         ]
        }
       ],
       "layout": {
        "font": {
         "color": "white",
         "family": "sans-serif",
         "size": 12
        },
        "hovermode": "closest",
        "legend": {
         "bgcolor": "#1f2c56",
         "orientation": "h",
         "x": 0.5,
         "xanchor": "center",
         "y": 1.25,
         "yanchor": "top"
        },
        "margin": {
         "l": 0,
         "r": 0,
         "t": 5
        },
        "paper_bgcolor": "#1f2c56",
        "plot_bgcolor": "#1f2c56",
        "template": {
         "data": {
          "bar": [
           {
            "error_x": {
             "color": "#2a3f5f"
            },
            "error_y": {
             "color": "#2a3f5f"
            },
            "marker": {
             "line": {
              "color": "#E5ECF6",
              "width": 0.5
             },
             "pattern": {
              "fillmode": "overlay",
              "size": 10,
              "solidity": 0.2
             }
            },
            "type": "bar"
           }
          ],
          "barpolar": [
           {
            "marker": {
             "line": {
              "color": "#E5ECF6",
              "width": 0.5
             },
             "pattern": {
              "fillmode": "overlay",
              "size": 10,
              "solidity": 0.2
             }
            },
            "type": "barpolar"
           }
          ],
          "carpet": [
           {
            "aaxis": {
             "endlinecolor": "#2a3f5f",
             "gridcolor": "white",
             "linecolor": "white",
             "minorgridcolor": "white",
             "startlinecolor": "#2a3f5f"
            },
            "baxis": {
             "endlinecolor": "#2a3f5f",
             "gridcolor": "white",
             "linecolor": "white",
             "minorgridcolor": "white",
             "startlinecolor": "#2a3f5f"
            },
            "type": "carpet"
           }
          ],
          "choropleth": [
           {
            "colorbar": {
             "outlinewidth": 0,
             "ticks": ""
            },
            "type": "choropleth"
           }
          ],
          "contour": [
           {
            "colorbar": {
             "outlinewidth": 0,
             "ticks": ""
            },
            "colorscale": [
             [
              0,
              "#0d0887"
             ],
             [
              0.1111111111111111,
              "#46039f"
             ],
             [
              0.2222222222222222,
              "#7201a8"
             ],
             [
              0.3333333333333333,
              "#9c179e"
             ],
             [
              0.4444444444444444,
              "#bd3786"
             ],
             [
              0.5555555555555556,
              "#d8576b"
             ],
             [
              0.6666666666666666,
              "#ed7953"
             ],
             [
              0.7777777777777778,
              "#fb9f3a"
             ],
             [
              0.8888888888888888,
              "#fdca26"
             ],
             [
              1,
              "#f0f921"
             ]
            ],
            "type": "contour"
           }
          ],
          "contourcarpet": [
           {
            "colorbar": {
             "outlinewidth": 0,
             "ticks": ""
            },
            "type": "contourcarpet"
           }
          ],
          "heatmap": [
           {
            "colorbar": {
             "outlinewidth": 0,
             "ticks": ""
            },
            "colorscale": [
             [
              0,
              "#0d0887"
             ],
             [
              0.1111111111111111,
              "#46039f"
             ],
             [
              0.2222222222222222,
              "#7201a8"
             ],
             [
              0.3333333333333333,
              "#9c179e"
             ],
             [
              0.4444444444444444,
              "#bd3786"
             ],
             [
              0.5555555555555556,
              "#d8576b"
             ],
             [
              0.6666666666666666,
              "#ed7953"
             ],
             [
              0.7777777777777778,
              "#fb9f3a"
             ],
             [
              0.8888888888888888,
              "#fdca26"
             ],
             [
              1,
              "#f0f921"
             ]
            ],
            "type": "heatmap"
           }
          ],
          "heatmapgl": [
           {
            "colorbar": {
             "outlinewidth": 0,
             "ticks": ""
            },
            "colorscale": [
             [
              0,
              "#0d0887"
             ],
             [
              0.1111111111111111,
              "#46039f"
             ],
             [
              0.2222222222222222,
              "#7201a8"
             ],
             [
              0.3333333333333333,
              "#9c179e"
             ],
             [
              0.4444444444444444,
              "#bd3786"
             ],
             [
              0.5555555555555556,
              "#d8576b"
             ],
             [
              0.6666666666666666,
              "#ed7953"
             ],
             [
              0.7777777777777778,
              "#fb9f3a"
             ],
             [
              0.8888888888888888,
              "#fdca26"
             ],
             [
              1,
              "#f0f921"
             ]
            ],
            "type": "heatmapgl"
           }
          ],
          "histogram": [
           {
            "marker": {
             "pattern": {
              "fillmode": "overlay",
              "size": 10,
              "solidity": 0.2
             }
            },
            "type": "histogram"
           }
          ],
          "histogram2d": [
           {
            "colorbar": {
             "outlinewidth": 0,
             "ticks": ""
            },
            "colorscale": [
             [
              0,
              "#0d0887"
             ],
             [
              0.1111111111111111,
              "#46039f"
             ],
             [
              0.2222222222222222,
              "#7201a8"
             ],
             [
              0.3333333333333333,
              "#9c179e"
             ],
             [
              0.4444444444444444,
              "#bd3786"
             ],
             [
              0.5555555555555556,
              "#d8576b"
             ],
             [
              0.6666666666666666,
              "#ed7953"
             ],
             [
              0.7777777777777778,
              "#fb9f3a"
             ],
             [
              0.8888888888888888,
              "#fdca26"
             ],
             [
              1,
              "#f0f921"
             ]
            ],
            "type": "histogram2d"
           }
          ],
          "histogram2dcontour": [
           {
            "colorbar": {
             "outlinewidth": 0,
             "ticks": ""
            },
            "colorscale": [
             [
              0,
              "#0d0887"
             ],
             [
              0.1111111111111111,
              "#46039f"
             ],
             [
              0.2222222222222222,
              "#7201a8"
             ],
             [
              0.3333333333333333,
              "#9c179e"
             ],
             [
              0.4444444444444444,
              "#bd3786"
             ],
             [
              0.5555555555555556,
              "#d8576b"
             ],
             [
              0.6666666666666666,
              "#ed7953"
             ],
             [
              0.7777777777777778,
              "#fb9f3a"
             ],
             [
              0.8888888888888888,
              "#fdca26"
             ],
             [
              1,
              "#f0f921"
             ]
            ],
            "type": "histogram2dcontour"
           }
          ],
          "mesh3d": [
           {
            "colorbar": {
             "outlinewidth": 0,
             "ticks": ""
            },
            "type": "mesh3d"
           }
          ],
          "parcoords": [
           {
            "line": {
             "colorbar": {
              "outlinewidth": 0,
              "ticks": ""
             }
            },
            "type": "parcoords"
           }
          ],
          "pie": [
           {
            "automargin": true,
            "type": "pie"
           }
          ],
          "scatter": [
           {
            "fillpattern": {
             "fillmode": "overlay",
             "size": 10,
             "solidity": 0.2
            },
            "type": "scatter"
           }
          ],
          "scatter3d": [
           {
            "line": {
             "colorbar": {
              "outlinewidth": 0,
              "ticks": ""
             }
            },
            "marker": {
             "colorbar": {
              "outlinewidth": 0,
              "ticks": ""
             }
            },
            "type": "scatter3d"
           }
          ],
          "scattercarpet": [
           {
            "marker": {
             "colorbar": {
              "outlinewidth": 0,
              "ticks": ""
             }
            },
            "type": "scattercarpet"
           }
          ],
          "scattergeo": [
           {
            "marker": {
             "colorbar": {
              "outlinewidth": 0,
              "ticks": ""
             }
            },
            "type": "scattergeo"
           }
          ],
          "scattergl": [
           {
            "marker": {
             "colorbar": {
              "outlinewidth": 0,
              "ticks": ""
             }
            },
            "type": "scattergl"
           }
          ],
          "scattermapbox": [
           {
            "marker": {
             "colorbar": {
              "outlinewidth": 0,
              "ticks": ""
             }
            },
            "type": "scattermapbox"
           }
          ],
          "scatterpolar": [
           {
            "marker": {
             "colorbar": {
              "outlinewidth": 0,
              "ticks": ""
             }
            },
            "type": "scatterpolar"
           }
          ],
          "scatterpolargl": [
           {
            "marker": {
             "colorbar": {
              "outlinewidth": 0,
              "ticks": ""
             }
            },
            "type": "scatterpolargl"
           }
          ],
          "scatterternary": [
           {
            "marker": {
             "colorbar": {
              "outlinewidth": 0,
              "ticks": ""
             }
            },
            "type": "scatterternary"
           }
          ],
          "surface": [
           {
            "colorbar": {
             "outlinewidth": 0,
             "ticks": ""
            },
            "colorscale": [
             [
              0,
              "#0d0887"
             ],
             [
              0.1111111111111111,
              "#46039f"
             ],
             [
              0.2222222222222222,
              "#7201a8"
             ],
             [
              0.3333333333333333,
              "#9c179e"
             ],
             [
              0.4444444444444444,
              "#bd3786"
             ],
             [
              0.5555555555555556,
              "#d8576b"
             ],
             [
              0.6666666666666666,
              "#ed7953"
             ],
             [
              0.7777777777777778,
              "#fb9f3a"
             ],
             [
              0.8888888888888888,
              "#fdca26"
             ],
             [
              1,
              "#f0f921"
             ]
            ],
            "type": "surface"
           }
          ],
          "table": [
           {
            "cells": {
             "fill": {
              "color": "#EBF0F8"
             },
             "line": {
              "color": "white"
             }
            },
            "header": {
             "fill": {
              "color": "#C8D4E3"
             },
             "line": {
              "color": "white"
             }
            },
            "type": "table"
           }
          ]
         },
         "layout": {
          "annotationdefaults": {
           "arrowcolor": "#2a3f5f",
           "arrowhead": 0,
           "arrowwidth": 1
          },
          "autotypenumbers": "strict",
          "coloraxis": {
           "colorbar": {
            "outlinewidth": 0,
            "ticks": ""
           }
          },
          "colorscale": {
           "diverging": [
            [
             0,
             "#8e0152"
            ],
            [
             0.1,
             "#c51b7d"
            ],
            [
             0.2,
             "#de77ae"
            ],
            [
             0.3,
             "#f1b6da"
            ],
            [
             0.4,
             "#fde0ef"
            ],
            [
             0.5,
             "#f7f7f7"
            ],
            [
             0.6,
             "#e6f5d0"
            ],
            [
             0.7,
             "#b8e186"
            ],
            [
             0.8,
             "#7fbc41"
            ],
            [
             0.9,
             "#4d9221"
            ],
            [
             1,
             "#276419"
            ]
           ],
           "sequential": [
            [
             0,
             "#0d0887"
            ],
            [
             0.1111111111111111,
             "#46039f"
            ],
            [
             0.2222222222222222,
             "#7201a8"
            ],
            [
             0.3333333333333333,
             "#9c179e"
            ],
            [
             0.4444444444444444,
             "#bd3786"
            ],
            [
             0.5555555555555556,
             "#d8576b"
            ],
            [
             0.6666666666666666,
             "#ed7953"
            ],
            [
             0.7777777777777778,
             "#fb9f3a"
            ],
            [
             0.8888888888888888,
             "#fdca26"
            ],
            [
             1,
             "#f0f921"
            ]
           ],
           "sequentialminus": [
            [
             0,
             "#0d0887"
            ],
            [
             0.1111111111111111,
             "#46039f"
            ],
            [
             0.2222222222222222,
             "#7201a8"
            ],
            [
             0.3333333333333333,
             "#9c179e"
            ],
            [
             0.4444444444444444,
             "#bd3786"
            ],
            [
             0.5555555555555556,
             "#d8576b"
            ],
            [
             0.6666666666666666,
             "#ed7953"
            ],
            [
             0.7777777777777778,
             "#fb9f3a"
            ],
            [
             0.8888888888888888,
             "#fdca26"
            ],
            [
             1,
             "#f0f921"
            ]
           ]
          },
          "colorway": [
           "#636efa",
           "#EF553B",
           "#00cc96",
           "#ab63fa",
           "#FFA15A",
           "#19d3f3",
           "#FF6692",
           "#B6E880",
           "#FF97FF",
           "#FECB52"
          ],
          "font": {
           "color": "#2a3f5f"
          },
          "geo": {
           "bgcolor": "white",
           "lakecolor": "white",
           "landcolor": "#E5ECF6",
           "showlakes": true,
           "showland": true,
           "subunitcolor": "white"
          },
          "hoverlabel": {
           "align": "left"
          },
          "hovermode": "closest",
          "mapbox": {
           "style": "light"
          },
          "paper_bgcolor": "white",
          "plot_bgcolor": "#E5ECF6",
          "polar": {
           "angularaxis": {
            "gridcolor": "white",
            "linecolor": "white",
            "ticks": ""
           },
           "bgcolor": "#E5ECF6",
           "radialaxis": {
            "gridcolor": "white",
            "linecolor": "white",
            "ticks": ""
           }
          },
          "scene": {
           "xaxis": {
            "backgroundcolor": "#E5ECF6",
            "gridcolor": "white",
            "gridwidth": 2,
            "linecolor": "white",
            "showbackground": true,
            "ticks": "",
            "zerolinecolor": "white"
           },
           "yaxis": {
            "backgroundcolor": "#E5ECF6",
            "gridcolor": "white",
            "gridwidth": 2,
            "linecolor": "white",
            "showbackground": true,
            "ticks": "",
            "zerolinecolor": "white"
           },
           "zaxis": {
            "backgroundcolor": "#E5ECF6",
            "gridcolor": "white",
            "gridwidth": 2,
            "linecolor": "white",
            "showbackground": true,
            "ticks": "",
            "zerolinecolor": "white"
           }
          },
          "shapedefaults": {
           "line": {
            "color": "#2a3f5f"
           }
          },
          "ternary": {
           "aaxis": {
            "gridcolor": "white",
            "linecolor": "white",
            "ticks": ""
           },
           "baxis": {
            "gridcolor": "white",
            "linecolor": "white",
            "ticks": ""
           },
           "bgcolor": "#E5ECF6",
           "caxis": {
            "gridcolor": "white",
            "linecolor": "white",
            "ticks": ""
           }
          },
          "title": {
           "x": 0.05
          },
          "xaxis": {
           "automargin": true,
           "gridcolor": "white",
           "linecolor": "white",
           "ticks": "",
           "title": {
            "standoff": 15
           },
           "zerolinecolor": "white",
           "zerolinewidth": 2
          },
          "yaxis": {
           "automargin": true,
           "gridcolor": "white",
           "linecolor": "white",
           "ticks": "",
           "title": {
            "standoff": 15
           },
           "zerolinecolor": "white",
           "zerolinewidth": 2
          }
         }
        },
        "title": {
         "font": {
          "color": "white",
          "size": 15
         },
         "text": "Sales Trend in year 2015",
         "x": 0.5,
         "xanchor": "center",
         "y": 0.97,
         "yanchor": "top"
        },
        "xaxis": {
         "color": "orange",
         "linecolor": "orange",
         "linewidth": 1,
         "showgrid": false,
         "showline": true,
         "showticklabels": true,
         "tickfont": {
          "color": "orange",
          "family": "Arial",
          "size": 12
         },
         "ticks": "outside",
         "title": {
          "text": "<b></b>"
         },
         "visible": true
        },
        "yaxis": {
         "color": "orange",
         "linecolor": "orange",
         "linewidth": 1,
         "showgrid": false,
         "showline": false,
         "showticklabels": false,
         "tickfont": {
          "color": "orange",
          "family": "Arial",
          "size": 12
         },
         "ticks": "",
         "title": {
          "text": "<b></b>"
         },
         "visible": false
        }
       }
      }
     },
     "metadata": {},
     "output_type": "display_data"
    }
   ],
   "source": [
    "trace1 = go.Scatter(\n",
    "      x = sales7['Month_name'],\n",
    "      y = sales7['Sales'],\n",
    "      name = 'Sales',\n",
    "      text = sales7['Sales'],\n",
    "      texttemplate= '%{text:.2s}',\n",
    "      textposition= 'bottom left',\n",
    "      mode = 'markers + lines + text',\n",
    "      line = dict(width = 3,color = 'orange'),\n",
    "      marker = dict(\n",
    "            size = 10,\n",
    "            symbol = 'circle',\n",
    "            color = '#19AAE1',\n",
    "            line = dict(\n",
    "                  color = '#19AAE1',\n",
    "                  width = 2\n",
    "            )\n",
    "      ),\n",
    "      hoverinfo = 'text',\n",
    "      hovertext =\n",
    "            '<b>Year</b>: ' + sales7['Year'].astype(str) + '<br>' +\n",
    "            '<b>Month</b>: ' + sales7['Month_name'].astype(str) + '<br>' +\n",
    "            '<b>Segment</b>: ' + sales7['Segment'].astype(str) + '<br>' +\n",
    "            '<b>Sales</b>: $' + [f'{x:,.2f}' for x in sales7['Sales']] + '<br>'\n",
    ")\n",
    "\n",
    "layout = go.Layout(\n",
    "      plot_bgcolor='#1f2c56',\n",
    "      paper_bgcolor='#1f2c56',\n",
    "      title={\n",
    "            'text': f\"Sales Trend in year {2015}\",\n",
    "            'y':0.97,\n",
    "            'x':0.5,\n",
    "            'xanchor':'center',\n",
    "            'yanchor':'top'\n",
    "      },\n",
    "      titlefont={\n",
    "            'color':'white',\n",
    "            'size':15\n",
    "      },\n",
    "      hovermode= 'closest',\n",
    "      margin= dict(t=5,l=0, r= 0),\n",
    "\n",
    "      xaxis= dict(\n",
    "            title = '<b></b>',\n",
    "            visible = True,\n",
    "            color = 'orange',\n",
    "            showline = True,\n",
    "            showgrid = False,\n",
    "            showticklabels = True,\n",
    "            linecolor = 'orange',\n",
    "            linewidth = 1,\n",
    "            ticks ='outside',\n",
    "            tickfont = dict(\n",
    "                  family = 'Arial',\n",
    "                  size = 12,\n",
    "                  color = 'orange'\n",
    "            )\n",
    "      ),\n",
    "      yaxis = dict(\n",
    "            title = '<b></b>',\n",
    "            visible = False,\n",
    "            color = 'orange',\n",
    "            showline = False,\n",
    "            showgrid = False,\n",
    "            showticklabels = False,\n",
    "            linecolor = 'orange',\n",
    "            linewidth = 1,\n",
    "            ticks = '',\n",
    "            tickfont = dict(\n",
    "            family = 'Arial',\n",
    "            size = 12,\n",
    "            color = 'orange')\n",
    "\n",
    "      ),\n",
    "      legend = {\n",
    "            'orientation': 'h',\n",
    "            'bgcolor': '#1f2c56',\n",
    "            'x': 0.5,\n",
    "            'y': 1.25,\n",
    "            'xanchor': 'center',\n",
    "            'yanchor': 'top'},\n",
    "\n",
    "      font = dict(\n",
    "                family = \"sans-serif\",\n",
    "                size = 12,\n",
    "                color = 'white'),\n",
    "\n",
    "        )\n",
    "\n",
    "    \n",
    "\n",
    "data = [trace1]\n",
    "fig = go.Figure(data=data, layout=layout)\n",
    "\n",
    "pio.show(fig)"
   ]
  },
  {
   "cell_type": "code",
   "execution_count": 105,
   "metadata": {},
   "outputs": [
    {
     "data": {
      "text/plain": [
       "479856.2081"
      ]
     },
     "execution_count": 105,
     "metadata": {},
     "output_type": "execute_result"
    }
   ],
   "source": [
    "sales8 = df.groupby('Year')['Sales'].sum().reset_index()\n",
    "current_year = sales8[sales8['Year']==2015]['Sales'].sum()\n",
    "current_year"
   ]
  },
  {
   "cell_type": "code",
   "execution_count": 24,
   "metadata": {},
   "outputs": [
    {
     "data": {
      "text/plain": [
       "479856.2081"
      ]
     },
     "execution_count": 24,
     "metadata": {},
     "output_type": "execute_result"
    }
   ],
   "source": [
    "sales9 = df.groupby('Year')['Sales'].sum().reset_index()\n",
    "sales9['PY'] = sales9['Sales'].shift(1)\n",
    "previous_year = sales9[sales9['Year']==2016]['PY'].sum()\n",
    "previous_year"
   ]
  },
  {
   "cell_type": "code",
   "execution_count": 25,
   "metadata": {},
   "outputs": [
    {
     "data": {
      "text/plain": [
       "0.0"
      ]
     },
     "execution_count": 25,
     "metadata": {},
     "output_type": "execute_result"
    }
   ],
   "source": [
    "sales9 = df.groupby('Year')['Sales'].sum().reset_index()\n",
    "sales9['PY'] = sales9['Sales'].shift(1)\n",
    "sales9['YOY Growth'] = sales9['Sales'].pct_change()\n",
    "sales9['YOY Growth'] = sales9['YOY Growth']*100\n",
    "previous_year_growth = sales9[sales9['Year']==2015]['YOY Growth'].sum()\n",
    "previous_year_growth"
   ]
  },
  {
   "cell_type": "code",
   "execution_count": 26,
   "metadata": {},
   "outputs": [
    {
     "data": {
      "text/plain": [
       "0         NaN\n",
       "1   -0.042555\n",
       "2    0.306368\n",
       "3    0.203034\n",
       "Name: Sales, dtype: float64"
      ]
     },
     "execution_count": 26,
     "metadata": {},
     "output_type": "execute_result"
    }
   ],
   "source": [
    "sales9['Sales'].pct_change()"
   ]
  },
  {
   "cell_type": "code",
   "execution_count": 27,
   "metadata": {},
   "outputs": [
    {
     "data": {
      "text/html": [
       "<div>\n",
       "<style scoped>\n",
       "    .dataframe tbody tr th:only-of-type {\n",
       "        vertical-align: middle;\n",
       "    }\n",
       "\n",
       "    .dataframe tbody tr th {\n",
       "        vertical-align: top;\n",
       "    }\n",
       "\n",
       "    .dataframe thead th {\n",
       "        text-align: right;\n",
       "    }\n",
       "</style>\n",
       "<table border=\"1\" class=\"dataframe\">\n",
       "  <thead>\n",
       "    <tr style=\"text-align: right;\">\n",
       "      <th></th>\n",
       "      <th>Sales</th>\n",
       "      <th>Customer ID</th>\n",
       "      <th>Customer Name</th>\n",
       "      <th>Segment</th>\n",
       "      <th>City</th>\n",
       "      <th>State</th>\n",
       "      <th>Region</th>\n",
       "      <th>Category</th>\n",
       "      <th>Sub-Category</th>\n",
       "      <th>Product Name</th>\n",
       "      <th>Sales</th>\n",
       "      <th>Year</th>\n",
       "      <th>Month_name</th>\n",
       "    </tr>\n",
       "  </thead>\n",
       "  <tbody>\n",
       "    <tr>\n",
       "      <th>0</th>\n",
       "      <td>261.9600</td>\n",
       "      <td>CG-12520</td>\n",
       "      <td>Claire Gute</td>\n",
       "      <td>Consumer</td>\n",
       "      <td>Henderson</td>\n",
       "      <td>Kentucky</td>\n",
       "      <td>South</td>\n",
       "      <td>Furniture</td>\n",
       "      <td>Bookcases</td>\n",
       "      <td>Bush Somerset Collection Bookcase</td>\n",
       "      <td>261.9600</td>\n",
       "      <td>2017</td>\n",
       "      <td>November</td>\n",
       "    </tr>\n",
       "    <tr>\n",
       "      <th>1</th>\n",
       "      <td>731.9400</td>\n",
       "      <td>CG-12520</td>\n",
       "      <td>Claire Gute</td>\n",
       "      <td>Consumer</td>\n",
       "      <td>Henderson</td>\n",
       "      <td>Kentucky</td>\n",
       "      <td>South</td>\n",
       "      <td>Furniture</td>\n",
       "      <td>Chairs</td>\n",
       "      <td>Hon Deluxe Fabric Upholstered Stacking Chairs,...</td>\n",
       "      <td>731.9400</td>\n",
       "      <td>2017</td>\n",
       "      <td>November</td>\n",
       "    </tr>\n",
       "    <tr>\n",
       "      <th>2</th>\n",
       "      <td>14.6200</td>\n",
       "      <td>DV-13045</td>\n",
       "      <td>Darrin Van Huff</td>\n",
       "      <td>Corporate</td>\n",
       "      <td>Los Angeles</td>\n",
       "      <td>California</td>\n",
       "      <td>West</td>\n",
       "      <td>Office Supplies</td>\n",
       "      <td>Labels</td>\n",
       "      <td>Self-Adhesive Address Labels for Typewriters b...</td>\n",
       "      <td>14.6200</td>\n",
       "      <td>2017</td>\n",
       "      <td>June</td>\n",
       "    </tr>\n",
       "    <tr>\n",
       "      <th>3</th>\n",
       "      <td>957.5775</td>\n",
       "      <td>SO-20335</td>\n",
       "      <td>Sean O'Donnell</td>\n",
       "      <td>Consumer</td>\n",
       "      <td>Fort Lauderdale</td>\n",
       "      <td>Florida</td>\n",
       "      <td>South</td>\n",
       "      <td>Furniture</td>\n",
       "      <td>Tables</td>\n",
       "      <td>Bretford CR4500 Series Slim Rectangular Table</td>\n",
       "      <td>957.5775</td>\n",
       "      <td>2016</td>\n",
       "      <td>October</td>\n",
       "    </tr>\n",
       "    <tr>\n",
       "      <th>4</th>\n",
       "      <td>22.3680</td>\n",
       "      <td>SO-20335</td>\n",
       "      <td>Sean O'Donnell</td>\n",
       "      <td>Consumer</td>\n",
       "      <td>Fort Lauderdale</td>\n",
       "      <td>Florida</td>\n",
       "      <td>South</td>\n",
       "      <td>Office Supplies</td>\n",
       "      <td>Storage</td>\n",
       "      <td>Eldon Fold 'N Roll Cart System</td>\n",
       "      <td>22.3680</td>\n",
       "      <td>2016</td>\n",
       "      <td>October</td>\n",
       "    </tr>\n",
       "    <tr>\n",
       "      <th>...</th>\n",
       "      <td>...</td>\n",
       "      <td>...</td>\n",
       "      <td>...</td>\n",
       "      <td>...</td>\n",
       "      <td>...</td>\n",
       "      <td>...</td>\n",
       "      <td>...</td>\n",
       "      <td>...</td>\n",
       "      <td>...</td>\n",
       "      <td>...</td>\n",
       "      <td>...</td>\n",
       "      <td>...</td>\n",
       "      <td>...</td>\n",
       "    </tr>\n",
       "    <tr>\n",
       "      <th>9795</th>\n",
       "      <td>3.7980</td>\n",
       "      <td>SH-19975</td>\n",
       "      <td>Sally Hughsby</td>\n",
       "      <td>Corporate</td>\n",
       "      <td>Chicago</td>\n",
       "      <td>Illinois</td>\n",
       "      <td>Central</td>\n",
       "      <td>Office Supplies</td>\n",
       "      <td>Binders</td>\n",
       "      <td>Cardinal HOLDit! Binder Insert Strips,Extra St...</td>\n",
       "      <td>3.7980</td>\n",
       "      <td>2017</td>\n",
       "      <td>May</td>\n",
       "    </tr>\n",
       "    <tr>\n",
       "      <th>9796</th>\n",
       "      <td>10.3680</td>\n",
       "      <td>CS-12490</td>\n",
       "      <td>Cindy Schnelling</td>\n",
       "      <td>Corporate</td>\n",
       "      <td>Toledo</td>\n",
       "      <td>Ohio</td>\n",
       "      <td>East</td>\n",
       "      <td>Office Supplies</td>\n",
       "      <td>Art</td>\n",
       "      <td>BIC Brite Liner Highlighters, Chisel Tip</td>\n",
       "      <td>10.3680</td>\n",
       "      <td>2016</td>\n",
       "      <td>January</td>\n",
       "    </tr>\n",
       "    <tr>\n",
       "      <th>9797</th>\n",
       "      <td>235.1880</td>\n",
       "      <td>CS-12490</td>\n",
       "      <td>Cindy Schnelling</td>\n",
       "      <td>Corporate</td>\n",
       "      <td>Toledo</td>\n",
       "      <td>Ohio</td>\n",
       "      <td>East</td>\n",
       "      <td>Technology</td>\n",
       "      <td>Phones</td>\n",
       "      <td>GE 30524EE4</td>\n",
       "      <td>235.1880</td>\n",
       "      <td>2016</td>\n",
       "      <td>January</td>\n",
       "    </tr>\n",
       "    <tr>\n",
       "      <th>9798</th>\n",
       "      <td>26.3760</td>\n",
       "      <td>CS-12490</td>\n",
       "      <td>Cindy Schnelling</td>\n",
       "      <td>Corporate</td>\n",
       "      <td>Toledo</td>\n",
       "      <td>Ohio</td>\n",
       "      <td>East</td>\n",
       "      <td>Technology</td>\n",
       "      <td>Phones</td>\n",
       "      <td>Anker 24W Portable Micro USB Car Charger</td>\n",
       "      <td>26.3760</td>\n",
       "      <td>2016</td>\n",
       "      <td>January</td>\n",
       "    </tr>\n",
       "    <tr>\n",
       "      <th>9799</th>\n",
       "      <td>10.3840</td>\n",
       "      <td>CS-12490</td>\n",
       "      <td>Cindy Schnelling</td>\n",
       "      <td>Corporate</td>\n",
       "      <td>Toledo</td>\n",
       "      <td>Ohio</td>\n",
       "      <td>East</td>\n",
       "      <td>Technology</td>\n",
       "      <td>Accessories</td>\n",
       "      <td>SanDisk Cruzer 4 GB USB Flash Drive</td>\n",
       "      <td>10.3840</td>\n",
       "      <td>2016</td>\n",
       "      <td>January</td>\n",
       "    </tr>\n",
       "  </tbody>\n",
       "</table>\n",
       "<p>9800 rows × 13 columns</p>\n",
       "</div>"
      ],
      "text/plain": [
       "         Sales Customer ID     Customer Name    Segment             City  \\\n",
       "0     261.9600    CG-12520       Claire Gute   Consumer        Henderson   \n",
       "1     731.9400    CG-12520       Claire Gute   Consumer        Henderson   \n",
       "2      14.6200    DV-13045   Darrin Van Huff  Corporate      Los Angeles   \n",
       "3     957.5775    SO-20335    Sean O'Donnell   Consumer  Fort Lauderdale   \n",
       "4      22.3680    SO-20335    Sean O'Donnell   Consumer  Fort Lauderdale   \n",
       "...        ...         ...               ...        ...              ...   \n",
       "9795    3.7980    SH-19975     Sally Hughsby  Corporate          Chicago   \n",
       "9796   10.3680    CS-12490  Cindy Schnelling  Corporate           Toledo   \n",
       "9797  235.1880    CS-12490  Cindy Schnelling  Corporate           Toledo   \n",
       "9798   26.3760    CS-12490  Cindy Schnelling  Corporate           Toledo   \n",
       "9799   10.3840    CS-12490  Cindy Schnelling  Corporate           Toledo   \n",
       "\n",
       "           State   Region         Category Sub-Category  \\\n",
       "0       Kentucky    South        Furniture    Bookcases   \n",
       "1       Kentucky    South        Furniture       Chairs   \n",
       "2     California     West  Office Supplies       Labels   \n",
       "3        Florida    South        Furniture       Tables   \n",
       "4        Florida    South  Office Supplies      Storage   \n",
       "...          ...      ...              ...          ...   \n",
       "9795    Illinois  Central  Office Supplies      Binders   \n",
       "9796        Ohio     East  Office Supplies          Art   \n",
       "9797        Ohio     East       Technology       Phones   \n",
       "9798        Ohio     East       Technology       Phones   \n",
       "9799        Ohio     East       Technology  Accessories   \n",
       "\n",
       "                                           Product Name     Sales  Year  \\\n",
       "0                     Bush Somerset Collection Bookcase  261.9600  2017   \n",
       "1     Hon Deluxe Fabric Upholstered Stacking Chairs,...  731.9400  2017   \n",
       "2     Self-Adhesive Address Labels for Typewriters b...   14.6200  2017   \n",
       "3         Bretford CR4500 Series Slim Rectangular Table  957.5775  2016   \n",
       "4                        Eldon Fold 'N Roll Cart System   22.3680  2016   \n",
       "...                                                 ...       ...   ...   \n",
       "9795  Cardinal HOLDit! Binder Insert Strips,Extra St...    3.7980  2017   \n",
       "9796           BIC Brite Liner Highlighters, Chisel Tip   10.3680  2016   \n",
       "9797                                        GE 30524EE4  235.1880  2016   \n",
       "9798           Anker 24W Portable Micro USB Car Charger   26.3760  2016   \n",
       "9799                SanDisk Cruzer 4 GB USB Flash Drive   10.3840  2016   \n",
       "\n",
       "     Month_name  \n",
       "0      November  \n",
       "1      November  \n",
       "2          June  \n",
       "3       October  \n",
       "4       October  \n",
       "...         ...  \n",
       "9795        May  \n",
       "9796    January  \n",
       "9797    January  \n",
       "9798    January  \n",
       "9799    January  \n",
       "\n",
       "[9800 rows x 13 columns]"
      ]
     },
     "execution_count": 27,
     "metadata": {},
     "output_type": "execute_result"
    }
   ],
   "source": [
    "df.loc[:,['Sales','Customer ID','Customer Name','Segment', 'City', 'State', 'Region','Category', 'Sub-Category', 'Product Name','Sales', 'Year', 'Month_name']]"
   ]
  },
  {
   "cell_type": "code",
   "execution_count": 120,
   "metadata": {},
   "outputs": [
    {
     "data": {
      "text/html": [
       "<div>\n",
       "<style scoped>\n",
       "    .dataframe tbody tr th:only-of-type {\n",
       "        vertical-align: middle;\n",
       "    }\n",
       "\n",
       "    .dataframe tbody tr th {\n",
       "        vertical-align: top;\n",
       "    }\n",
       "\n",
       "    .dataframe thead th {\n",
       "        text-align: right;\n",
       "    }\n",
       "</style>\n",
       "<table border=\"1\" class=\"dataframe\">\n",
       "  <thead>\n",
       "    <tr style=\"text-align: right;\">\n",
       "      <th></th>\n",
       "      <th>Year</th>\n",
       "      <th>Segment</th>\n",
       "      <th>State</th>\n",
       "      <th>Sales</th>\n",
       "    </tr>\n",
       "  </thead>\n",
       "  <tbody>\n",
       "    <tr>\n",
       "      <th>3</th>\n",
       "      <td>2015</td>\n",
       "      <td>Consumer</td>\n",
       "      <td>California</td>\n",
       "      <td>51810.0935</td>\n",
       "    </tr>\n",
       "    <tr>\n",
       "      <th>26</th>\n",
       "      <td>2015</td>\n",
       "      <td>Consumer</td>\n",
       "      <td>New York</td>\n",
       "      <td>45706.8880</td>\n",
       "    </tr>\n",
       "    <tr>\n",
       "      <th>35</th>\n",
       "      <td>2015</td>\n",
       "      <td>Consumer</td>\n",
       "      <td>Texas</td>\n",
       "      <td>29834.4366</td>\n",
       "    </tr>\n",
       "    <tr>\n",
       "      <th>38</th>\n",
       "      <td>2015</td>\n",
       "      <td>Consumer</td>\n",
       "      <td>Washington</td>\n",
       "      <td>17159.4500</td>\n",
       "    </tr>\n",
       "    <tr>\n",
       "      <th>31</th>\n",
       "      <td>2015</td>\n",
       "      <td>Consumer</td>\n",
       "      <td>Pennsylvania</td>\n",
       "      <td>12841.1200</td>\n",
       "    </tr>\n",
       "    <tr>\n",
       "      <th>18</th>\n",
       "      <td>2015</td>\n",
       "      <td>Consumer</td>\n",
       "      <td>Minnesota</td>\n",
       "      <td>11590.6500</td>\n",
       "    </tr>\n",
       "    <tr>\n",
       "      <th>10</th>\n",
       "      <td>2015</td>\n",
       "      <td>Consumer</td>\n",
       "      <td>Illinois</td>\n",
       "      <td>11259.2810</td>\n",
       "    </tr>\n",
       "    <tr>\n",
       "      <th>28</th>\n",
       "      <td>2015</td>\n",
       "      <td>Consumer</td>\n",
       "      <td>Ohio</td>\n",
       "      <td>7860.1940</td>\n",
       "    </tr>\n",
       "    <tr>\n",
       "      <th>27</th>\n",
       "      <td>2015</td>\n",
       "      <td>Consumer</td>\n",
       "      <td>North Carolina</td>\n",
       "      <td>6274.7890</td>\n",
       "    </tr>\n",
       "    <tr>\n",
       "      <th>7</th>\n",
       "      <td>2015</td>\n",
       "      <td>Consumer</td>\n",
       "      <td>Florida</td>\n",
       "      <td>5849.7025</td>\n",
       "    </tr>\n",
       "  </tbody>\n",
       "</table>\n",
       "</div>"
      ],
      "text/plain": [
       "    Year   Segment           State       Sales\n",
       "3   2015  Consumer      California  51810.0935\n",
       "26  2015  Consumer        New York  45706.8880\n",
       "35  2015  Consumer           Texas  29834.4366\n",
       "38  2015  Consumer      Washington  17159.4500\n",
       "31  2015  Consumer    Pennsylvania  12841.1200\n",
       "18  2015  Consumer       Minnesota  11590.6500\n",
       "10  2015  Consumer        Illinois  11259.2810\n",
       "28  2015  Consumer            Ohio   7860.1940\n",
       "27  2015  Consumer  North Carolina   6274.7890\n",
       "7   2015  Consumer         Florida   5849.7025"
      ]
     },
     "execution_count": 120,
     "metadata": {},
     "output_type": "execute_result"
    }
   ],
   "source": [
    "sales1 = df.groupby(['Year','Segment','State'])['Sales'].sum().reset_index()\n",
    "sales2 = sales1[(sales1['Year']==2015) & (sales1['Segment']=='Consumer')].sort_values(by='Sales',ascending=False).head(10)\n",
    "sales2"
   ]
  },
  {
   "cell_type": "code",
   "execution_count": 135,
   "metadata": {},
   "outputs": [
    {
     "data": {
      "application/vnd.plotly.v1+json": {
       "config": {
        "plotlyServerURL": "https://plot.ly"
       },
       "data": [
        {
         "hoverinfo": "text",
         "hovertext": [
          "<b>Year</b>: 2015<br><b>Segment</b>: Consumer<br><b>State</b>: California<br><b>Sales</b>: 51810.0935",
          "<b>Year</b>: 2015<br><b>Segment</b>: Consumer<br><b>State</b>: New York<br><b>Sales</b>: 45706.888",
          "<b>Year</b>: 2015<br><b>Segment</b>: Consumer<br><b>State</b>: Texas<br><b>Sales</b>: 29834.4366",
          "<b>Year</b>: 2015<br><b>Segment</b>: Consumer<br><b>State</b>: Washington<br><b>Sales</b>: 17159.45",
          "<b>Year</b>: 2015<br><b>Segment</b>: Consumer<br><b>State</b>: Pennsylvania<br><b>Sales</b>: 12841.12",
          "<b>Year</b>: 2015<br><b>Segment</b>: Consumer<br><b>State</b>: Minnesota<br><b>Sales</b>: 11590.650000000001",
          "<b>Year</b>: 2015<br><b>Segment</b>: Consumer<br><b>State</b>: Illinois<br><b>Sales</b>: 11259.280999999999",
          "<b>Year</b>: 2015<br><b>Segment</b>: Consumer<br><b>State</b>: Ohio<br><b>Sales</b>: 7860.194",
          "<b>Year</b>: 2015<br><b>Segment</b>: Consumer<br><b>State</b>: North Carolina<br><b>Sales</b>: 6274.789",
          "<b>Year</b>: 2015<br><b>Segment</b>: Consumer<br><b>State</b>: Florida<br><b>Sales</b>: 5849.7025"
         ],
         "marker": {
          "color": "#19AAE1"
         },
         "orientation": "h",
         "text": [
          51810.0935,
          45706.888,
          29834.4366,
          17159.45,
          12841.12,
          11590.650000000001,
          11259.280999999999,
          7860.194,
          6274.789,
          5849.7025
         ],
         "textposition": "auto",
         "texttemplate": "$%{text:.2s}",
         "type": "bar",
         "x": [
          51810.0935,
          45706.888,
          29834.4366,
          17159.45,
          12841.12,
          11590.650000000001,
          11259.280999999999,
          7860.194,
          6274.789,
          5849.7025
         ],
         "y": [
          "California",
          "New York",
          "Texas",
          "Washington",
          "Pennsylvania",
          "Minnesota",
          "Illinois",
          "Ohio",
          "North Carolina",
          "Florida"
         ]
        }
       ],
       "layout": {
        "font": {
         "color": "white",
         "family": "sans-serif",
         "size": 15
        },
        "hovermode": "closest",
        "legend": {
         "bgcolor": "#1f2c56",
         "orientation": "h",
         "x": 1.25,
         "xanchor": "center",
         "y": 0.5,
         "yanchor": "top"
        },
        "margin": {
         "r": 0,
         "t": 50
        },
        "paper_bgcolor": "#1f2c56",
        "plot_bgcolor": "#1f2c56",
        "template": {
         "data": {
          "bar": [
           {
            "error_x": {
             "color": "#2a3f5f"
            },
            "error_y": {
             "color": "#2a3f5f"
            },
            "marker": {
             "line": {
              "color": "#E5ECF6",
              "width": 0.5
             },
             "pattern": {
              "fillmode": "overlay",
              "size": 10,
              "solidity": 0.2
             }
            },
            "type": "bar"
           }
          ],
          "barpolar": [
           {
            "marker": {
             "line": {
              "color": "#E5ECF6",
              "width": 0.5
             },
             "pattern": {
              "fillmode": "overlay",
              "size": 10,
              "solidity": 0.2
             }
            },
            "type": "barpolar"
           }
          ],
          "carpet": [
           {
            "aaxis": {
             "endlinecolor": "#2a3f5f",
             "gridcolor": "white",
             "linecolor": "white",
             "minorgridcolor": "white",
             "startlinecolor": "#2a3f5f"
            },
            "baxis": {
             "endlinecolor": "#2a3f5f",
             "gridcolor": "white",
             "linecolor": "white",
             "minorgridcolor": "white",
             "startlinecolor": "#2a3f5f"
            },
            "type": "carpet"
           }
          ],
          "choropleth": [
           {
            "colorbar": {
             "outlinewidth": 0,
             "ticks": ""
            },
            "type": "choropleth"
           }
          ],
          "contour": [
           {
            "colorbar": {
             "outlinewidth": 0,
             "ticks": ""
            },
            "colorscale": [
             [
              0,
              "#0d0887"
             ],
             [
              0.1111111111111111,
              "#46039f"
             ],
             [
              0.2222222222222222,
              "#7201a8"
             ],
             [
              0.3333333333333333,
              "#9c179e"
             ],
             [
              0.4444444444444444,
              "#bd3786"
             ],
             [
              0.5555555555555556,
              "#d8576b"
             ],
             [
              0.6666666666666666,
              "#ed7953"
             ],
             [
              0.7777777777777778,
              "#fb9f3a"
             ],
             [
              0.8888888888888888,
              "#fdca26"
             ],
             [
              1,
              "#f0f921"
             ]
            ],
            "type": "contour"
           }
          ],
          "contourcarpet": [
           {
            "colorbar": {
             "outlinewidth": 0,
             "ticks": ""
            },
            "type": "contourcarpet"
           }
          ],
          "heatmap": [
           {
            "colorbar": {
             "outlinewidth": 0,
             "ticks": ""
            },
            "colorscale": [
             [
              0,
              "#0d0887"
             ],
             [
              0.1111111111111111,
              "#46039f"
             ],
             [
              0.2222222222222222,
              "#7201a8"
             ],
             [
              0.3333333333333333,
              "#9c179e"
             ],
             [
              0.4444444444444444,
              "#bd3786"
             ],
             [
              0.5555555555555556,
              "#d8576b"
             ],
             [
              0.6666666666666666,
              "#ed7953"
             ],
             [
              0.7777777777777778,
              "#fb9f3a"
             ],
             [
              0.8888888888888888,
              "#fdca26"
             ],
             [
              1,
              "#f0f921"
             ]
            ],
            "type": "heatmap"
           }
          ],
          "heatmapgl": [
           {
            "colorbar": {
             "outlinewidth": 0,
             "ticks": ""
            },
            "colorscale": [
             [
              0,
              "#0d0887"
             ],
             [
              0.1111111111111111,
              "#46039f"
             ],
             [
              0.2222222222222222,
              "#7201a8"
             ],
             [
              0.3333333333333333,
              "#9c179e"
             ],
             [
              0.4444444444444444,
              "#bd3786"
             ],
             [
              0.5555555555555556,
              "#d8576b"
             ],
             [
              0.6666666666666666,
              "#ed7953"
             ],
             [
              0.7777777777777778,
              "#fb9f3a"
             ],
             [
              0.8888888888888888,
              "#fdca26"
             ],
             [
              1,
              "#f0f921"
             ]
            ],
            "type": "heatmapgl"
           }
          ],
          "histogram": [
           {
            "marker": {
             "pattern": {
              "fillmode": "overlay",
              "size": 10,
              "solidity": 0.2
             }
            },
            "type": "histogram"
           }
          ],
          "histogram2d": [
           {
            "colorbar": {
             "outlinewidth": 0,
             "ticks": ""
            },
            "colorscale": [
             [
              0,
              "#0d0887"
             ],
             [
              0.1111111111111111,
              "#46039f"
             ],
             [
              0.2222222222222222,
              "#7201a8"
             ],
             [
              0.3333333333333333,
              "#9c179e"
             ],
             [
              0.4444444444444444,
              "#bd3786"
             ],
             [
              0.5555555555555556,
              "#d8576b"
             ],
             [
              0.6666666666666666,
              "#ed7953"
             ],
             [
              0.7777777777777778,
              "#fb9f3a"
             ],
             [
              0.8888888888888888,
              "#fdca26"
             ],
             [
              1,
              "#f0f921"
             ]
            ],
            "type": "histogram2d"
           }
          ],
          "histogram2dcontour": [
           {
            "colorbar": {
             "outlinewidth": 0,
             "ticks": ""
            },
            "colorscale": [
             [
              0,
              "#0d0887"
             ],
             [
              0.1111111111111111,
              "#46039f"
             ],
             [
              0.2222222222222222,
              "#7201a8"
             ],
             [
              0.3333333333333333,
              "#9c179e"
             ],
             [
              0.4444444444444444,
              "#bd3786"
             ],
             [
              0.5555555555555556,
              "#d8576b"
             ],
             [
              0.6666666666666666,
              "#ed7953"
             ],
             [
              0.7777777777777778,
              "#fb9f3a"
             ],
             [
              0.8888888888888888,
              "#fdca26"
             ],
             [
              1,
              "#f0f921"
             ]
            ],
            "type": "histogram2dcontour"
           }
          ],
          "mesh3d": [
           {
            "colorbar": {
             "outlinewidth": 0,
             "ticks": ""
            },
            "type": "mesh3d"
           }
          ],
          "parcoords": [
           {
            "line": {
             "colorbar": {
              "outlinewidth": 0,
              "ticks": ""
             }
            },
            "type": "parcoords"
           }
          ],
          "pie": [
           {
            "automargin": true,
            "type": "pie"
           }
          ],
          "scatter": [
           {
            "fillpattern": {
             "fillmode": "overlay",
             "size": 10,
             "solidity": 0.2
            },
            "type": "scatter"
           }
          ],
          "scatter3d": [
           {
            "line": {
             "colorbar": {
              "outlinewidth": 0,
              "ticks": ""
             }
            },
            "marker": {
             "colorbar": {
              "outlinewidth": 0,
              "ticks": ""
             }
            },
            "type": "scatter3d"
           }
          ],
          "scattercarpet": [
           {
            "marker": {
             "colorbar": {
              "outlinewidth": 0,
              "ticks": ""
             }
            },
            "type": "scattercarpet"
           }
          ],
          "scattergeo": [
           {
            "marker": {
             "colorbar": {
              "outlinewidth": 0,
              "ticks": ""
             }
            },
            "type": "scattergeo"
           }
          ],
          "scattergl": [
           {
            "marker": {
             "colorbar": {
              "outlinewidth": 0,
              "ticks": ""
             }
            },
            "type": "scattergl"
           }
          ],
          "scattermapbox": [
           {
            "marker": {
             "colorbar": {
              "outlinewidth": 0,
              "ticks": ""
             }
            },
            "type": "scattermapbox"
           }
          ],
          "scatterpolar": [
           {
            "marker": {
             "colorbar": {
              "outlinewidth": 0,
              "ticks": ""
             }
            },
            "type": "scatterpolar"
           }
          ],
          "scatterpolargl": [
           {
            "marker": {
             "colorbar": {
              "outlinewidth": 0,
              "ticks": ""
             }
            },
            "type": "scatterpolargl"
           }
          ],
          "scatterternary": [
           {
            "marker": {
             "colorbar": {
              "outlinewidth": 0,
              "ticks": ""
             }
            },
            "type": "scatterternary"
           }
          ],
          "surface": [
           {
            "colorbar": {
             "outlinewidth": 0,
             "ticks": ""
            },
            "colorscale": [
             [
              0,
              "#0d0887"
             ],
             [
              0.1111111111111111,
              "#46039f"
             ],
             [
              0.2222222222222222,
              "#7201a8"
             ],
             [
              0.3333333333333333,
              "#9c179e"
             ],
             [
              0.4444444444444444,
              "#bd3786"
             ],
             [
              0.5555555555555556,
              "#d8576b"
             ],
             [
              0.6666666666666666,
              "#ed7953"
             ],
             [
              0.7777777777777778,
              "#fb9f3a"
             ],
             [
              0.8888888888888888,
              "#fdca26"
             ],
             [
              1,
              "#f0f921"
             ]
            ],
            "type": "surface"
           }
          ],
          "table": [
           {
            "cells": {
             "fill": {
              "color": "#EBF0F8"
             },
             "line": {
              "color": "white"
             }
            },
            "header": {
             "fill": {
              "color": "#C8D4E3"
             },
             "line": {
              "color": "white"
             }
            },
            "type": "table"
           }
          ]
         },
         "layout": {
          "annotationdefaults": {
           "arrowcolor": "#2a3f5f",
           "arrowhead": 0,
           "arrowwidth": 1
          },
          "autotypenumbers": "strict",
          "coloraxis": {
           "colorbar": {
            "outlinewidth": 0,
            "ticks": ""
           }
          },
          "colorscale": {
           "diverging": [
            [
             0,
             "#8e0152"
            ],
            [
             0.1,
             "#c51b7d"
            ],
            [
             0.2,
             "#de77ae"
            ],
            [
             0.3,
             "#f1b6da"
            ],
            [
             0.4,
             "#fde0ef"
            ],
            [
             0.5,
             "#f7f7f7"
            ],
            [
             0.6,
             "#e6f5d0"
            ],
            [
             0.7,
             "#b8e186"
            ],
            [
             0.8,
             "#7fbc41"
            ],
            [
             0.9,
             "#4d9221"
            ],
            [
             1,
             "#276419"
            ]
           ],
           "sequential": [
            [
             0,
             "#0d0887"
            ],
            [
             0.1111111111111111,
             "#46039f"
            ],
            [
             0.2222222222222222,
             "#7201a8"
            ],
            [
             0.3333333333333333,
             "#9c179e"
            ],
            [
             0.4444444444444444,
             "#bd3786"
            ],
            [
             0.5555555555555556,
             "#d8576b"
            ],
            [
             0.6666666666666666,
             "#ed7953"
            ],
            [
             0.7777777777777778,
             "#fb9f3a"
            ],
            [
             0.8888888888888888,
             "#fdca26"
            ],
            [
             1,
             "#f0f921"
            ]
           ],
           "sequentialminus": [
            [
             0,
             "#0d0887"
            ],
            [
             0.1111111111111111,
             "#46039f"
            ],
            [
             0.2222222222222222,
             "#7201a8"
            ],
            [
             0.3333333333333333,
             "#9c179e"
            ],
            [
             0.4444444444444444,
             "#bd3786"
            ],
            [
             0.5555555555555556,
             "#d8576b"
            ],
            [
             0.6666666666666666,
             "#ed7953"
            ],
            [
             0.7777777777777778,
             "#fb9f3a"
            ],
            [
             0.8888888888888888,
             "#fdca26"
            ],
            [
             1,
             "#f0f921"
            ]
           ]
          },
          "colorway": [
           "#636efa",
           "#EF553B",
           "#00cc96",
           "#ab63fa",
           "#FFA15A",
           "#19d3f3",
           "#FF6692",
           "#B6E880",
           "#FF97FF",
           "#FECB52"
          ],
          "font": {
           "color": "#2a3f5f"
          },
          "geo": {
           "bgcolor": "white",
           "lakecolor": "white",
           "landcolor": "#E5ECF6",
           "showlakes": true,
           "showland": true,
           "subunitcolor": "white"
          },
          "hoverlabel": {
           "align": "left"
          },
          "hovermode": "closest",
          "mapbox": {
           "style": "light"
          },
          "paper_bgcolor": "white",
          "plot_bgcolor": "#E5ECF6",
          "polar": {
           "angularaxis": {
            "gridcolor": "white",
            "linecolor": "white",
            "ticks": ""
           },
           "bgcolor": "#E5ECF6",
           "radialaxis": {
            "gridcolor": "white",
            "linecolor": "white",
            "ticks": ""
           }
          },
          "scene": {
           "xaxis": {
            "backgroundcolor": "#E5ECF6",
            "gridcolor": "white",
            "gridwidth": 2,
            "linecolor": "white",
            "showbackground": true,
            "ticks": "",
            "zerolinecolor": "white"
           },
           "yaxis": {
            "backgroundcolor": "#E5ECF6",
            "gridcolor": "white",
            "gridwidth": 2,
            "linecolor": "white",
            "showbackground": true,
            "ticks": "",
            "zerolinecolor": "white"
           },
           "zaxis": {
            "backgroundcolor": "#E5ECF6",
            "gridcolor": "white",
            "gridwidth": 2,
            "linecolor": "white",
            "showbackground": true,
            "ticks": "",
            "zerolinecolor": "white"
           }
          },
          "shapedefaults": {
           "line": {
            "color": "#2a3f5f"
           }
          },
          "ternary": {
           "aaxis": {
            "gridcolor": "white",
            "linecolor": "white",
            "ticks": ""
           },
           "baxis": {
            "gridcolor": "white",
            "linecolor": "white",
            "ticks": ""
           },
           "bgcolor": "#E5ECF6",
           "caxis": {
            "gridcolor": "white",
            "linecolor": "white",
            "ticks": ""
           }
          },
          "title": {
           "x": 0.05
          },
          "xaxis": {
           "automargin": true,
           "gridcolor": "white",
           "linecolor": "white",
           "ticks": "",
           "title": {
            "standoff": 15
           },
           "zerolinecolor": "white",
           "zerolinewidth": 2
          },
          "yaxis": {
           "automargin": true,
           "gridcolor": "white",
           "linecolor": "white",
           "ticks": "",
           "title": {
            "standoff": 15
           },
           "zerolinecolor": "white",
           "zerolinewidth": 2
          }
         }
        },
        "title": {
         "font": {
          "color": "white",
          "size": 12
         },
         "text": "Sales by State in Year 2015",
         "x": 0.5,
         "xanchor": "center",
         "y": 0.98,
         "yanchor": "top"
        },
        "xaxis": {
         "color": "orange",
         "linecolor": "orange",
         "linewidth": 2,
         "showgrid": true,
         "showline": true,
         "showticklabels": true,
         "tickfont": {
          "color": "orange",
          "family": "Arial",
          "size": 12
         },
         "ticks": "outside",
         "title": {
          "text": "<b></b>"
         }
        },
        "yaxis": {
         "autorange": "reversed",
         "color": "orange",
         "linecolor": "orange",
         "linewidth": 2,
         "showgrid": false,
         "showline": false,
         "showticklabels": true,
         "tickfont": {
          "color": "orange",
          "family": "Arial",
          "size": 12
         },
         "ticks": "outside",
         "title": {
          "text": "<b></b>"
         }
        }
       }
      }
     },
     "metadata": {},
     "output_type": "display_data"
    }
   ],
   "source": [
    "trace = go.Bar(\n",
    "      x = sales2['Sales'],\n",
    "      y = sales2['State'],\n",
    "      orientation='h',\n",
    "      text = sales2['Sales'],\n",
    "      texttemplate='$' + '%{text:.2s}',\n",
    "      textposition= 'auto',\n",
    "      marker=dict(color = '#19AAE1'),\n",
    "      hoverinfo='text',\n",
    "      hovertext=\n",
    "            '<b>Year</b>: ' + sales2['Year'].astype(str) + '<br>' + \n",
    "            '<b>Segment</b>: ' + sales2['Segment'].astype(str) + '<br>'+ \n",
    "            '<b>State</b>: ' + sales2['State'].astype(str) + '<br>' + \n",
    "            '<b>Sales</b>: ' + sales2['Sales'].astype(str)\n",
    ")\n",
    "layout = go.Layout(\n",
    "      plot_bgcolor='#1f2c56',\n",
    "      paper_bgcolor='#1f2c56',\n",
    "      title={\n",
    "            'text':f\"Sales by State in Year {2015}\",\n",
    "            'y':0.98,\n",
    "            'x':0.5,\n",
    "            'xanchor':'center',\n",
    "            'yanchor':'top'\n",
    "      },\n",
    "      titlefont={\n",
    "            'color':'white',\n",
    "            'size':12\n",
    "      },\n",
    "      hovermode='closest',\n",
    "      margin=dict(t=50,r=0),\n",
    "      xaxis=dict(\n",
    "            title = '<b></b>',\n",
    "            color ='orange',\n",
    "            showline= True,\n",
    "            showgrid = True,\n",
    "            showticklabels = True,\n",
    "            linecolor ='orange',\n",
    "            linewidth = 2,\n",
    "            ticks='outside',\n",
    "            tickfont = dict(\n",
    "                  family='Arial',\n",
    "                  size= 12,\n",
    "                  color= 'orange'\n",
    "            ),\n",
    "      \n",
    "      ),\n",
    "      yaxis=dict(\n",
    "            title = '<b></b>',\n",
    "            autorange = 'reversed',\n",
    "            color ='orange',\n",
    "            showline= False,\n",
    "            showgrid = False,\n",
    "            showticklabels = True,\n",
    "            linecolor ='orange',\n",
    "            linewidth = 2,\n",
    "            ticks='outside',\n",
    "            tickfont = dict(\n",
    "                  family='Arial',\n",
    "                  size= 12,\n",
    "                  color= 'orange'\n",
    "            )\n",
    "      \n",
    "      ),\n",
    "      legend ={\n",
    "            'orientation':'h',\n",
    "            'bgcolor':'#1f2c56',\n",
    "            'x':1.25,\n",
    "            'y':0.5,\n",
    "            'xanchor':'center',\n",
    "            'yanchor':'top'\n",
    "      },\n",
    "      font = dict(\n",
    "                family = \"sans-serif\",\n",
    "                size = 15,\n",
    "                color = 'white'),\n",
    ")\n",
    "data = [trace]\n",
    "fig = go.Figure(data=data, layout = layout)\n",
    "pio.show(fig)"
   ]
  },
  {
   "cell_type": "code",
   "execution_count": null,
   "metadata": {},
   "outputs": [],
   "source": []
  },
  {
   "cell_type": "code",
   "execution_count": 30,
   "metadata": {},
   "outputs": [
    {
     "data": {
      "text/html": [
       "<div>\n",
       "<style scoped>\n",
       "    .dataframe tbody tr th:only-of-type {\n",
       "        vertical-align: middle;\n",
       "    }\n",
       "\n",
       "    .dataframe tbody tr th {\n",
       "        vertical-align: top;\n",
       "    }\n",
       "\n",
       "    .dataframe thead th {\n",
       "        text-align: right;\n",
       "    }\n",
       "</style>\n",
       "<table border=\"1\" class=\"dataframe\">\n",
       "  <thead>\n",
       "    <tr style=\"text-align: right;\">\n",
       "      <th></th>\n",
       "      <th>Year</th>\n",
       "      <th>Segment</th>\n",
       "      <th>City</th>\n",
       "      <th>Sales</th>\n",
       "    </tr>\n",
       "  </thead>\n",
       "  <tbody>\n",
       "    <tr>\n",
       "      <th>122</th>\n",
       "      <td>2015</td>\n",
       "      <td>Consumer</td>\n",
       "      <td>New York City</td>\n",
       "      <td>29227.862</td>\n",
       "    </tr>\n",
       "    <tr>\n",
       "      <th>162</th>\n",
       "      <td>2015</td>\n",
       "      <td>Consumer</td>\n",
       "      <td>San Francisco</td>\n",
       "      <td>21246.727</td>\n",
       "    </tr>\n",
       "    <tr>\n",
       "      <th>96</th>\n",
       "      <td>2015</td>\n",
       "      <td>Consumer</td>\n",
       "      <td>Los Angeles</td>\n",
       "      <td>13886.478</td>\n",
       "    </tr>\n",
       "    <tr>\n",
       "      <th>160</th>\n",
       "      <td>2015</td>\n",
       "      <td>Consumer</td>\n",
       "      <td>San Antonio</td>\n",
       "      <td>13374.113</td>\n",
       "    </tr>\n",
       "    <tr>\n",
       "      <th>135</th>\n",
       "      <td>2015</td>\n",
       "      <td>Consumer</td>\n",
       "      <td>Philadelphia</td>\n",
       "      <td>11448.006</td>\n",
       "    </tr>\n",
       "    <tr>\n",
       "      <th>166</th>\n",
       "      <td>2015</td>\n",
       "      <td>Consumer</td>\n",
       "      <td>Seattle</td>\n",
       "      <td>10927.516</td>\n",
       "    </tr>\n",
       "    <tr>\n",
       "      <th>112</th>\n",
       "      <td>2015</td>\n",
       "      <td>Consumer</td>\n",
       "      <td>Minneapolis</td>\n",
       "      <td>10563.940</td>\n",
       "    </tr>\n",
       "    <tr>\n",
       "      <th>72</th>\n",
       "      <td>2015</td>\n",
       "      <td>Consumer</td>\n",
       "      <td>Houston</td>\n",
       "      <td>8741.539</td>\n",
       "    </tr>\n",
       "    <tr>\n",
       "      <th>25</th>\n",
       "      <td>2015</td>\n",
       "      <td>Consumer</td>\n",
       "      <td>Chicago</td>\n",
       "      <td>7733.552</td>\n",
       "    </tr>\n",
       "    <tr>\n",
       "      <th>161</th>\n",
       "      <td>2015</td>\n",
       "      <td>Consumer</td>\n",
       "      <td>San Diego</td>\n",
       "      <td>6902.508</td>\n",
       "    </tr>\n",
       "  </tbody>\n",
       "</table>\n",
       "</div>"
      ],
      "text/plain": [
       "     Year   Segment           City      Sales\n",
       "122  2015  Consumer  New York City  29227.862\n",
       "162  2015  Consumer  San Francisco  21246.727\n",
       "96   2015  Consumer    Los Angeles  13886.478\n",
       "160  2015  Consumer    San Antonio  13374.113\n",
       "135  2015  Consumer   Philadelphia  11448.006\n",
       "166  2015  Consumer        Seattle  10927.516\n",
       "112  2015  Consumer    Minneapolis  10563.940\n",
       "72   2015  Consumer        Houston   8741.539\n",
       "25   2015  Consumer        Chicago   7733.552\n",
       "161  2015  Consumer      San Diego   6902.508"
      ]
     },
     "execution_count": 30,
     "metadata": {},
     "output_type": "execute_result"
    }
   ],
   "source": [
    "sales3 = df.groupby(['Year','Segment','City'])['Sales'].sum().reset_index()\n",
    "sales4 = sales3[(sales3['Year']==2015) & (sales3['Segment']=='Consumer')].sort_values(by='Sales',ascending=False).nlargest(10,columns=['Sales'])\n",
    "sales4"
   ]
  },
  {
   "cell_type": "code",
   "execution_count": 31,
   "metadata": {},
   "outputs": [
    {
     "data": {
      "text/plain": [
       "Index(['Year', 'Segment', 'City', 'Sales'], dtype='object')"
      ]
     },
     "execution_count": 31,
     "metadata": {},
     "output_type": "execute_result"
    }
   ],
   "source": [
    "sales4.columns"
   ]
  },
  {
   "cell_type": "code",
   "execution_count": null,
   "metadata": {},
   "outputs": [],
   "source": []
  },
  {
   "cell_type": "code",
   "execution_count": 32,
   "metadata": {},
   "outputs": [
    {
     "data": {
      "application/vnd.plotly.v1+json": {
       "config": {
        "plotlyServerURL": "https://plot.ly"
       },
       "data": [
        {
         "hoverinfo": "text",
         "hovertext": [
          "<b>Year</b>: 2015<br><b>Segment</b>: Consumer<br><b>City</b>: Akron<br><b>Sales</b>: 165.168",
          "<b>Year</b>: 2015<br><b>Segment</b>: Consumer<br><b>City</b>: Albuquerque<br><b>Sales</b>: 57.266",
          "<b>Year</b>: 2015<br><b>Segment</b>: Consumer<br><b>City</b>: Alexandria<br><b>Sales</b>: 24.56",
          "<b>Year</b>: 2015<br><b>Segment</b>: Consumer<br><b>City</b>: Apopka<br><b>Sales</b>: 193.152",
          "<b>Year</b>: 2015<br><b>Segment</b>: Consumer<br><b>City</b>: Apple Valley<br><b>Sales</b>: 129.3",
          "<b>Year</b>: 2015<br><b>Segment</b>: Consumer<br><b>City</b>: Arlington<br><b>Sales</b>: 141.954",
          "<b>Year</b>: 2015<br><b>Segment</b>: Consumer<br><b>City</b>: Athens<br><b>Sales</b>: 1220.67",
          "<b>Year</b>: 2015<br><b>Segment</b>: Consumer<br><b>City</b>: Atlanta<br><b>Sales</b>: 256.47999999999996",
          "<b>Year</b>: 2015<br><b>Segment</b>: Consumer<br><b>City</b>: Aurora<br><b>Sales</b>: 268.935",
          "<b>Year</b>: 2015<br><b>Segment</b>: Consumer<br><b>City</b>: Avondale<br><b>Sales</b>: 892.568",
          "<b>Year</b>: 2015<br><b>Segment</b>: Consumer<br><b>City</b>: Baltimore<br><b>Sales</b>: 116.28",
          "<b>Year</b>: 2015<br><b>Segment</b>: Consumer<br><b>City</b>: Beaumont<br><b>Sales</b>: 130.756",
          "<b>Year</b>: 2015<br><b>Segment</b>: Consumer<br><b>City</b>: Bellevue<br><b>Sales</b>: 12.96",
          "<b>Year</b>: 2015<br><b>Segment</b>: Consumer<br><b>City</b>: Bloomington<br><b>Sales</b>: 650.1",
          "<b>Year</b>: 2015<br><b>Segment</b>: Consumer<br><b>City</b>: Boca Raton<br><b>Sales</b>: 4.608",
          "<b>Year</b>: 2015<br><b>Segment</b>: Consumer<br><b>City</b>: Bowling Green<br><b>Sales</b>: 264.32",
          "<b>Year</b>: 2015<br><b>Segment</b>: Consumer<br><b>City</b>: Boynton Beach<br><b>Sales</b>: 15.552",
          "<b>Year</b>: 2015<br><b>Segment</b>: Consumer<br><b>City</b>: Brentwood<br><b>Sales</b>: 408.76800000000003",
          "<b>Year</b>: 2015<br><b>Segment</b>: Consumer<br><b>City</b>: Bristol<br><b>Sales</b>: 121.24",
          "<b>Year</b>: 2015<br><b>Segment</b>: Consumer<br><b>City</b>: Buffalo<br><b>Sales</b>: 6224.498",
          "<b>Year</b>: 2015<br><b>Segment</b>: Consumer<br><b>City</b>: Buffalo Grove<br><b>Sales</b>: 831.399",
          "<b>Year</b>: 2015<br><b>Segment</b>: Consumer<br><b>City</b>: Cedar Hill<br><b>Sales</b>: 7.08",
          "<b>Year</b>: 2015<br><b>Segment</b>: Consumer<br><b>City</b>: Charlotte<br><b>Sales</b>: 2715.8010000000004",
          "<b>Year</b>: 2015<br><b>Segment</b>: Consumer<br><b>City</b>: Chesapeake<br><b>Sales</b>: 1795.5",
          "<b>Year</b>: 2015<br><b>Segment</b>: Consumer<br><b>City</b>: Chester<br><b>Sales</b>: 1106.77",
          "<b>Year</b>: 2015<br><b>Segment</b>: Consumer<br><b>City</b>: Chicago<br><b>Sales</b>: 7733.552",
          "<b>Year</b>: 2015<br><b>Segment</b>: Consumer<br><b>City</b>: Chula Vista<br><b>Sales</b>: 182.94",
          "<b>Year</b>: 2015<br><b>Segment</b>: Consumer<br><b>City</b>: Cincinnati<br><b>Sales</b>: 35.384",
          "<b>Year</b>: 2015<br><b>Segment</b>: Consumer<br><b>City</b>: Clarksville<br><b>Sales</b>: 69.216",
          "<b>Year</b>: 2015<br><b>Segment</b>: Consumer<br><b>City</b>: Cleveland<br><b>Sales</b>: 1110.6680000000001",
          "<b>Year</b>: 2015<br><b>Segment</b>: Consumer<br><b>City</b>: Clifton<br><b>Sales</b>: 336.82",
          "<b>Year</b>: 2015<br><b>Segment</b>: Consumer<br><b>City</b>: Columbia<br><b>Sales</b>: 2272.532",
          "<b>Year</b>: 2015<br><b>Segment</b>: Consumer<br><b>City</b>: Columbus<br><b>Sales</b>: 2447.6020000000003",
          "<b>Year</b>: 2015<br><b>Segment</b>: Consumer<br><b>City</b>: Concord<br><b>Sales</b>: 195.99800000000002",
          "<b>Year</b>: 2015<br><b>Segment</b>: Consumer<br><b>City</b>: Coon Rapids<br><b>Sales</b>: 503.13",
          "<b>Year</b>: 2015<br><b>Segment</b>: Consumer<br><b>City</b>: Cottage Grove<br><b>Sales</b>: 144.35999999999999",
          "<b>Year</b>: 2015<br><b>Segment</b>: Consumer<br><b>City</b>: Cranston<br><b>Sales</b>: 2116.5060000000003",
          "<b>Year</b>: 2015<br><b>Segment</b>: Consumer<br><b>City</b>: Dallas<br><b>Sales</b>: 123.092",
          "<b>Year</b>: 2015<br><b>Segment</b>: Consumer<br><b>City</b>: Dearborn Heights<br><b>Sales</b>: 770.61",
          "<b>Year</b>: 2015<br><b>Segment</b>: Consumer<br><b>City</b>: Decatur<br><b>Sales</b>: 218.226",
          "<b>Year</b>: 2015<br><b>Segment</b>: Consumer<br><b>City</b>: Delray Beach<br><b>Sales</b>: 9.912",
          "<b>Year</b>: 2015<br><b>Segment</b>: Consumer<br><b>City</b>: Deltona<br><b>Sales</b>: 186.304",
          "<b>Year</b>: 2015<br><b>Segment</b>: Consumer<br><b>City</b>: Denver<br><b>Sales</b>: 3392.446",
          "<b>Year</b>: 2015<br><b>Segment</b>: Consumer<br><b>City</b>: Des Moines<br><b>Sales</b>: 3237.194",
          "<b>Year</b>: 2015<br><b>Segment</b>: Consumer<br><b>City</b>: Des Plaines<br><b>Sales</b>: 1109.372",
          "<b>Year</b>: 2015<br><b>Segment</b>: Consumer<br><b>City</b>: Detroit<br><b>Sales</b>: 443.59999999999997",
          "<b>Year</b>: 2015<br><b>Segment</b>: Consumer<br><b>City</b>: Dover<br><b>Sales</b>: 74.25999999999999",
          "<b>Year</b>: 2015<br><b>Segment</b>: Consumer<br><b>City</b>: Edmonds<br><b>Sales</b>: 1549.77",
          "<b>Year</b>: 2015<br><b>Segment</b>: Consumer<br><b>City</b>: El Paso<br><b>Sales</b>: 2001.0339999999999",
          "<b>Year</b>: 2015<br><b>Segment</b>: Consumer<br><b>City</b>: Escondido<br><b>Sales</b>: 53.94",
          "<b>Year</b>: 2015<br><b>Segment</b>: Consumer<br><b>City</b>: Evanston<br><b>Sales</b>: 258.279",
          "<b>Year</b>: 2015<br><b>Segment</b>: Consumer<br><b>City</b>: Everett<br><b>Sales</b>: 1885.27",
          "<b>Year</b>: 2015<br><b>Segment</b>: Consumer<br><b>City</b>: Fairfield<br><b>Sales</b>: 1568.012",
          "<b>Year</b>: 2015<br><b>Segment</b>: Consumer<br><b>City</b>: Fayetteville<br><b>Sales</b>: 1793.98",
          "<b>Year</b>: 2015<br><b>Segment</b>: Consumer<br><b>City</b>: Florence<br><b>Sales</b>: 1979.8899999999999",
          "<b>Year</b>: 2015<br><b>Segment</b>: Consumer<br><b>City</b>: Fort Worth<br><b>Sales</b>: 2233.12",
          "<b>Year</b>: 2015<br><b>Segment</b>: Consumer<br><b>City</b>: Franklin<br><b>Sales</b>: 700.056",
          "<b>Year</b>: 2015<br><b>Segment</b>: Consumer<br><b>City</b>: Freeport<br><b>Sales</b>: 17.248",
          "<b>Year</b>: 2015<br><b>Segment</b>: Consumer<br><b>City</b>: Fresno<br><b>Sales</b>: 4676.9705",
          "<b>Year</b>: 2015<br><b>Segment</b>: Consumer<br><b>City</b>: Glendale<br><b>Sales</b>: 217.352",
          "<b>Year</b>: 2015<br><b>Segment</b>: Consumer<br><b>City</b>: Grand Prairie<br><b>Sales</b>: 84.872",
          "<b>Year</b>: 2015<br><b>Segment</b>: Consumer<br><b>City</b>: Great Falls<br><b>Sales</b>: 410.104",
          "<b>Year</b>: 2015<br><b>Segment</b>: Consumer<br><b>City</b>: Green Bay<br><b>Sales</b>: 468.9",
          "<b>Year</b>: 2015<br><b>Segment</b>: Consumer<br><b>City</b>: Greensboro<br><b>Sales</b>: 59.109",
          "<b>Year</b>: 2015<br><b>Segment</b>: Consumer<br><b>City</b>: Greenville<br><b>Sales</b>: 1299.99",
          "<b>Year</b>: 2015<br><b>Segment</b>: Consumer<br><b>City</b>: Gresham<br><b>Sales</b>: 1508.768",
          "<b>Year</b>: 2015<br><b>Segment</b>: Consumer<br><b>City</b>: Hamilton<br><b>Sales</b>: 204.304",
          "<b>Year</b>: 2015<br><b>Segment</b>: Consumer<br><b>City</b>: Hampton<br><b>Sales</b>: 149.9",
          "<b>Year</b>: 2015<br><b>Segment</b>: Consumer<br><b>City</b>: Harrisonburg<br><b>Sales</b>: 1441.3",
          "<b>Year</b>: 2015<br><b>Segment</b>: Consumer<br><b>City</b>: Hempstead<br><b>Sales</b>: 115.952",
          "<b>Year</b>: 2015<br><b>Segment</b>: Consumer<br><b>City</b>: Hialeah<br><b>Sales</b>: 15.384",
          "<b>Year</b>: 2015<br><b>Segment</b>: Consumer<br><b>City</b>: Hollywood<br><b>Sales</b>: 580.6880000000001",
          "<b>Year</b>: 2015<br><b>Segment</b>: Consumer<br><b>City</b>: Houston<br><b>Sales</b>: 8741.539",
          "<b>Year</b>: 2015<br><b>Segment</b>: Consumer<br><b>City</b>: Huntsville<br><b>Sales</b>: 180.01399999999998",
          "<b>Year</b>: 2015<br><b>Segment</b>: Consumer<br><b>City</b>: Indianapolis<br><b>Sales</b>: 1107.66",
          "<b>Year</b>: 2015<br><b>Segment</b>: Consumer<br><b>City</b>: Irving<br><b>Sales</b>: 88.776",
          "<b>Year</b>: 2015<br><b>Segment</b>: Consumer<br><b>City</b>: Jackson<br><b>Sales</b>: 1382.32",
          "<b>Year</b>: 2015<br><b>Segment</b>: Consumer<br><b>City</b>: Jacksonville<br><b>Sales</b>: 1963.09",
          "<b>Year</b>: 2015<br><b>Segment</b>: Consumer<br><b>City</b>: Jamestown<br><b>Sales</b>: 4548.81",
          "<b>Year</b>: 2015<br><b>Segment</b>: Consumer<br><b>City</b>: Johnson City<br><b>Sales</b>: 362.176",
          "<b>Year</b>: 2015<br><b>Segment</b>: Consumer<br><b>City</b>: Jonesboro<br><b>Sales</b>: 2498.2200000000003",
          "<b>Year</b>: 2015<br><b>Segment</b>: Consumer<br><b>City</b>: Kent<br><b>Sales</b>: 250.09",
          "<b>Year</b>: 2015<br><b>Segment</b>: Consumer<br><b>City</b>: Knoxville<br><b>Sales</b>: 310.528",
          "<b>Year</b>: 2015<br><b>Segment</b>: Consumer<br><b>City</b>: Lake Charles<br><b>Sales</b>: 69.9",
          "<b>Year</b>: 2015<br><b>Segment</b>: Consumer<br><b>City</b>: Lakeland<br><b>Sales</b>: 479.984",
          "<b>Year</b>: 2015<br><b>Segment</b>: Consumer<br><b>City</b>: Lakeville<br><b>Sales</b>: 249.92000000000002",
          "<b>Year</b>: 2015<br><b>Segment</b>: Consumer<br><b>City</b>: Lakewood<br><b>Sales</b>: 1326.69",
          "<b>Year</b>: 2015<br><b>Segment</b>: Consumer<br><b>City</b>: Lancaster<br><b>Sales</b>: 286.344",
          "<b>Year</b>: 2015<br><b>Segment</b>: Consumer<br><b>City</b>: Laredo<br><b>Sales</b>: 40.544",
          "<b>Year</b>: 2015<br><b>Segment</b>: Consumer<br><b>City</b>: Las Vegas<br><b>Sales</b>: 40.08",
          "<b>Year</b>: 2015<br><b>Segment</b>: Consumer<br><b>City</b>: Lawrence<br><b>Sales</b>: 1091.35",
          "<b>Year</b>: 2015<br><b>Segment</b>: Consumer<br><b>City</b>: Lawton<br><b>Sales</b>: 475.41999999999996",
          "<b>Year</b>: 2015<br><b>Segment</b>: Consumer<br><b>City</b>: Lewiston<br><b>Sales</b>: 9.584",
          "<b>Year</b>: 2015<br><b>Segment</b>: Consumer<br><b>City</b>: Little Rock<br><b>Sales</b>: 904.13",
          "<b>Year</b>: 2015<br><b>Segment</b>: Consumer<br><b>City</b>: Logan<br><b>Sales</b>: 280.276",
          "<b>Year</b>: 2015<br><b>Segment</b>: Consumer<br><b>City</b>: Long Beach<br><b>Sales</b>: 3743.42",
          "<b>Year</b>: 2015<br><b>Segment</b>: Consumer<br><b>City</b>: Los Angeles<br><b>Sales</b>: 13886.478",
          "<b>Year</b>: 2015<br><b>Segment</b>: Consumer<br><b>City</b>: Louisville<br><b>Sales</b>: 2546.786",
          "<b>Year</b>: 2015<br><b>Segment</b>: Consumer<br><b>City</b>: Lowell<br><b>Sales</b>: 327.56",
          "<b>Year</b>: 2015<br><b>Segment</b>: Consumer<br><b>City</b>: Lubbock<br><b>Sales</b>: 25.16",
          "<b>Year</b>: 2015<br><b>Segment</b>: Consumer<br><b>City</b>: Macon<br><b>Sales</b>: 149.56",
          "<b>Year</b>: 2015<br><b>Segment</b>: Consumer<br><b>City</b>: Madison<br><b>Sales</b>: 3520.36",
          "<b>Year</b>: 2015<br><b>Segment</b>: Consumer<br><b>City</b>: Margate<br><b>Sales</b>: 15.552",
          "<b>Year</b>: 2015<br><b>Segment</b>: Consumer<br><b>City</b>: Marion<br><b>Sales</b>: 403.114",
          "<b>Year</b>: 2015<br><b>Segment</b>: Consumer<br><b>City</b>: Medford<br><b>Sales</b>: 55.672",
          "<b>Year</b>: 2015<br><b>Segment</b>: Consumer<br><b>City</b>: Medina<br><b>Sales</b>: 609.4380000000001",
          "<b>Year</b>: 2015<br><b>Segment</b>: Consumer<br><b>City</b>: Memphis<br><b>Sales</b>: 81.336",
          "<b>Year</b>: 2015<br><b>Segment</b>: Consumer<br><b>City</b>: Meriden<br><b>Sales</b>: 21.4",
          "<b>Year</b>: 2015<br><b>Segment</b>: Consumer<br><b>City</b>: Miami<br><b>Sales</b>: 1479.2825",
          "<b>Year</b>: 2015<br><b>Segment</b>: Consumer<br><b>City</b>: Middletown<br><b>Sales</b>: 27.46",
          "<b>Year</b>: 2015<br><b>Segment</b>: Consumer<br><b>City</b>: Midland<br><b>Sales</b>: 1276.53",
          "<b>Year</b>: 2015<br><b>Segment</b>: Consumer<br><b>City</b>: Milwaukee<br><b>Sales</b>: 34.79",
          "<b>Year</b>: 2015<br><b>Segment</b>: Consumer<br><b>City</b>: Minneapolis<br><b>Sales</b>: 10563.94",
          "<b>Year</b>: 2015<br><b>Segment</b>: Consumer<br><b>City</b>: Mishawaka<br><b>Sales</b>: 647.84",
          "<b>Year</b>: 2015<br><b>Segment</b>: Consumer<br><b>City</b>: Mission Viejo<br><b>Sales</b>: 290.666",
          "<b>Year</b>: 2015<br><b>Segment</b>: Consumer<br><b>City</b>: Mobile<br><b>Sales</b>: 8.96",
          "<b>Year</b>: 2015<br><b>Segment</b>: Consumer<br><b>City</b>: Montgomery<br><b>Sales</b>: 14.67",
          "<b>Year</b>: 2015<br><b>Segment</b>: Consumer<br><b>City</b>: Moreno Valley<br><b>Sales</b>: 19.44",
          "<b>Year</b>: 2015<br><b>Segment</b>: Consumer<br><b>City</b>: Mount Pleasant<br><b>Sales</b>: 545.94",
          "<b>Year</b>: 2015<br><b>Segment</b>: Consumer<br><b>City</b>: Mount Vernon<br><b>Sales</b>: 62.28",
          "<b>Year</b>: 2015<br><b>Segment</b>: Consumer<br><b>City</b>: Nashville<br><b>Sales</b>: 147.344",
          "<b>Year</b>: 2015<br><b>Segment</b>: Consumer<br><b>City</b>: New Rochelle<br><b>Sales</b>: 13.904",
          "<b>Year</b>: 2015<br><b>Segment</b>: Consumer<br><b>City</b>: New York City<br><b>Sales</b>: 29227.862",
          "<b>Year</b>: 2015<br><b>Segment</b>: Consumer<br><b>City</b>: Newark<br><b>Sales</b>: 155.496",
          "<b>Year</b>: 2015<br><b>Segment</b>: Consumer<br><b>City</b>: North Las Vegas<br><b>Sales</b>: 1891.316",
          "<b>Year</b>: 2015<br><b>Segment</b>: Consumer<br><b>City</b>: North Miami<br><b>Sales</b>: 7.632",
          "<b>Year</b>: 2015<br><b>Segment</b>: Consumer<br><b>City</b>: Oakland<br><b>Sales</b>: 180.69",
          "<b>Year</b>: 2015<br><b>Segment</b>: Consumer<br><b>City</b>: Oklahoma City<br><b>Sales</b>: 479.96",
          "<b>Year</b>: 2015<br><b>Segment</b>: Consumer<br><b>City</b>: Olympia<br><b>Sales</b>: 649.5999999999999",
          "<b>Year</b>: 2015<br><b>Segment</b>: Consumer<br><b>City</b>: Omaha<br><b>Sales</b>: 35.98",
          "<b>Year</b>: 2015<br><b>Segment</b>: Consumer<br><b>City</b>: Oswego<br><b>Sales</b>: 321.978",
          "<b>Year</b>: 2015<br><b>Segment</b>: Consumer<br><b>City</b>: Oxnard<br><b>Sales</b>: 127.95",
          "<b>Year</b>: 2015<br><b>Segment</b>: Consumer<br><b>City</b>: Parma<br><b>Sales</b>: 191.34",
          "<b>Year</b>: 2015<br><b>Segment</b>: Consumer<br><b>City</b>: Pasadena<br><b>Sales</b>: 472.416",
          "<b>Year</b>: 2015<br><b>Segment</b>: Consumer<br><b>City</b>: Pasco<br><b>Sales</b>: 1771.52",
          "<b>Year</b>: 2015<br><b>Segment</b>: Consumer<br><b>City</b>: Philadelphia<br><b>Sales</b>: 11448.006",
          "<b>Year</b>: 2015<br><b>Segment</b>: Consumer<br><b>City</b>: Phoenix<br><b>Sales</b>: 1024.719",
          "<b>Year</b>: 2015<br><b>Segment</b>: Consumer<br><b>City</b>: Plainfield<br><b>Sales</b>: 79.56",
          "<b>Year</b>: 2015<br><b>Segment</b>: Consumer<br><b>City</b>: Plano<br><b>Sales</b>: 2244.3706",
          "<b>Year</b>: 2015<br><b>Segment</b>: Consumer<br><b>City</b>: Pleasant Grove<br><b>Sales</b>: 2126.034",
          "<b>Year</b>: 2015<br><b>Segment</b>: Consumer<br><b>City</b>: Pomona<br><b>Sales</b>: 118.73",
          "<b>Year</b>: 2015<br><b>Segment</b>: Consumer<br><b>City</b>: Portage<br><b>Sales</b>: 16.28",
          "<b>Year</b>: 2015<br><b>Segment</b>: Consumer<br><b>City</b>: Portland<br><b>Sales</b>: 599.896",
          "<b>Year</b>: 2015<br><b>Segment</b>: Consumer<br><b>City</b>: Pueblo<br><b>Sales</b>: 36.252",
          "<b>Year</b>: 2015<br><b>Segment</b>: Consumer<br><b>City</b>: Raleigh<br><b>Sales</b>: 52.608000000000004",
          "<b>Year</b>: 2015<br><b>Segment</b>: Consumer<br><b>City</b>: Rancho Cucamonga<br><b>Sales</b>: 34.272",
          "<b>Year</b>: 2015<br><b>Segment</b>: Consumer<br><b>City</b>: Redding<br><b>Sales</b>: 333.576",
          "<b>Year</b>: 2015<br><b>Segment</b>: Consumer<br><b>City</b>: Redondo Beach<br><b>Sales</b>: 7.64",
          "<b>Year</b>: 2015<br><b>Segment</b>: Consumer<br><b>City</b>: Richmond<br><b>Sales</b>: 285.22",
          "<b>Year</b>: 2015<br><b>Segment</b>: Consumer<br><b>City</b>: Rochester<br><b>Sales</b>: 491.03999999999996",
          "<b>Year</b>: 2015<br><b>Segment</b>: Consumer<br><b>City</b>: Rock Hill<br><b>Sales</b>: 11.85",
          "<b>Year</b>: 2015<br><b>Segment</b>: Consumer<br><b>City</b>: Romeoville<br><b>Sales</b>: 8.952",
          "<b>Year</b>: 2015<br><b>Segment</b>: Consumer<br><b>City</b>: Roseville<br><b>Sales</b>: 7.98",
          "<b>Year</b>: 2015<br><b>Segment</b>: Consumer<br><b>City</b>: Roswell<br><b>Sales</b>: 755.42",
          "<b>Year</b>: 2015<br><b>Segment</b>: Consumer<br><b>City</b>: Royal Oak<br><b>Sales</b>: 22.38",
          "<b>Year</b>: 2015<br><b>Segment</b>: Consumer<br><b>City</b>: Sacramento<br><b>Sales</b>: 120.712",
          "<b>Year</b>: 2015<br><b>Segment</b>: Consumer<br><b>City</b>: Saint Charles<br><b>Sales</b>: 11.56",
          "<b>Year</b>: 2015<br><b>Segment</b>: Consumer<br><b>City</b>: Saint Louis<br><b>Sales</b>: 111.79",
          "<b>Year</b>: 2015<br><b>Segment</b>: Consumer<br><b>City</b>: Saint Petersburg<br><b>Sales</b>: 231.28",
          "<b>Year</b>: 2015<br><b>Segment</b>: Consumer<br><b>City</b>: Salem<br><b>Sales</b>: 265.784",
          "<b>Year</b>: 2015<br><b>Segment</b>: Consumer<br><b>City</b>: San Antonio<br><b>Sales</b>: 13374.113",
          "<b>Year</b>: 2015<br><b>Segment</b>: Consumer<br><b>City</b>: San Diego<br><b>Sales</b>: 6902.508",
          "<b>Year</b>: 2015<br><b>Segment</b>: Consumer<br><b>City</b>: San Francisco<br><b>Sales</b>: 21246.727",
          "<b>Year</b>: 2015<br><b>Segment</b>: Consumer<br><b>City</b>: San Jose<br><b>Sales</b>: 1991.674",
          "<b>Year</b>: 2015<br><b>Segment</b>: Consumer<br><b>City</b>: Santa Fe<br><b>Sales</b>: 92.52",
          "<b>Year</b>: 2015<br><b>Segment</b>: Consumer<br><b>City</b>: Scottsdale<br><b>Sales</b>: 402.066",
          "<b>Year</b>: 2015<br><b>Segment</b>: Consumer<br><b>City</b>: Seattle<br><b>Sales</b>: 10927.516",
          "<b>Year</b>: 2015<br><b>Segment</b>: Consumer<br><b>City</b>: Skokie<br><b>Sales</b>: 62.967999999999996",
          "<b>Year</b>: 2015<br><b>Segment</b>: Consumer<br><b>City</b>: Southaven<br><b>Sales</b>: 616.14",
          "<b>Year</b>: 2015<br><b>Segment</b>: Consumer<br><b>City</b>: Springfield<br><b>Sales</b>: 894.367",
          "<b>Year</b>: 2015<br><b>Segment</b>: Consumer<br><b>City</b>: Tampa<br><b>Sales</b>: 2158.9230000000002",
          "<b>Year</b>: 2015<br><b>Segment</b>: Consumer<br><b>City</b>: Texas City<br><b>Sales</b>: 489.23",
          "<b>Year</b>: 2015<br><b>Segment</b>: Consumer<br><b>City</b>: Thornton<br><b>Sales</b>: 447.944",
          "<b>Year</b>: 2015<br><b>Segment</b>: Consumer<br><b>City</b>: Tigard<br><b>Sales</b>: 1122.968",
          "<b>Year</b>: 2015<br><b>Segment</b>: Consumer<br><b>City</b>: Toledo<br><b>Sales</b>: 1709.654",
          "<b>Year</b>: 2015<br><b>Segment</b>: Consumer<br><b>City</b>: Tucson<br><b>Sales</b>: 2121.312",
          "<b>Year</b>: 2015<br><b>Segment</b>: Consumer<br><b>City</b>: Tulsa<br><b>Sales</b>: 1040.19",
          "<b>Year</b>: 2015<br><b>Segment</b>: Consumer<br><b>City</b>: Tyler<br><b>Sales</b>: 51.184",
          "<b>Year</b>: 2015<br><b>Segment</b>: Consumer<br><b>City</b>: Utica<br><b>Sales</b>: 414.63",
          "<b>Year</b>: 2015<br><b>Segment</b>: Consumer<br><b>City</b>: Vacaville<br><b>Sales</b>: 423.28",
          "<b>Year</b>: 2015<br><b>Segment</b>: Consumer<br><b>City</b>: Vallejo<br><b>Sales</b>: 156.786",
          "<b>Year</b>: 2015<br><b>Segment</b>: Consumer<br><b>City</b>: Virginia Beach<br><b>Sales</b>: 139.72",
          "<b>Year</b>: 2015<br><b>Segment</b>: Consumer<br><b>City</b>: Watertown<br><b>Sales</b>: 90.60999999999999",
          "<b>Year</b>: 2015<br><b>Segment</b>: Consumer<br><b>City</b>: Wausau<br><b>Sales</b>: 317.48",
          "<b>Year</b>: 2015<br><b>Segment</b>: Consumer<br><b>City</b>: Waynesboro<br><b>Sales</b>: 425.66999999999996",
          "<b>Year</b>: 2015<br><b>Segment</b>: Consumer<br><b>City</b>: West Jordan<br><b>Sales</b>: 55.5",
          "<b>Year</b>: 2015<br><b>Segment</b>: Consumer<br><b>City</b>: Westland<br><b>Sales</b>: 920.576",
          "<b>Year</b>: 2015<br><b>Segment</b>: Consumer<br><b>City</b>: Wilmington<br><b>Sales</b>: 632.52",
          "<b>Year</b>: 2015<br><b>Segment</b>: Consumer<br><b>City</b>: Woodstock<br><b>Sales</b>: 8.85",
          "<b>Year</b>: 2015<br><b>Segment</b>: Consumer<br><b>City</b>: Woonsocket<br><b>Sales</b>: 52.96",
          "<b>Year</b>: 2015<br><b>Segment</b>: Consumer<br><b>City</b>: Yonkers<br><b>Sales</b>: 756.634",
          "<b>Year</b>: 2015<br><b>Segment</b>: Corporate<br><b>City</b>: Albuquerque<br><b>Sales</b>: 255.85",
          "<b>Year</b>: 2015<br><b>Segment</b>: Corporate<br><b>City</b>: Alexandria<br><b>Sales</b>: 4251.92",
          "<b>Year</b>: 2015<br><b>Segment</b>: Corporate<br><b>City</b>: Arlington<br><b>Sales</b>: 1320.943",
          "<b>Year</b>: 2015<br><b>Segment</b>: Corporate<br><b>City</b>: Asheville<br><b>Sales</b>: 24.144",
          "<b>Year</b>: 2015<br><b>Segment</b>: Corporate<br><b>City</b>: Athens<br><b>Sales</b>: 12.78",
          "<b>Year</b>: 2015<br><b>Segment</b>: Corporate<br><b>City</b>: Atlanta<br><b>Sales</b>: 9.96",
          "<b>Year</b>: 2015<br><b>Segment</b>: Corporate<br><b>City</b>: Aurora<br><b>Sales</b>: 209.96800000000002",
          "<b>Year</b>: 2015<br><b>Segment</b>: Corporate<br><b>City</b>: Baltimore<br><b>Sales</b>: 526.96",
          "<b>Year</b>: 2015<br><b>Segment</b>: Corporate<br><b>City</b>: Bangor<br><b>Sales</b>: 617.12",
          "<b>Year</b>: 2015<br><b>Segment</b>: Corporate<br><b>City</b>: Beverly<br><b>Sales</b>: 2583.19",
          "<b>Year</b>: 2015<br><b>Segment</b>: Corporate<br><b>City</b>: Billings<br><b>Sales</b>: 8.288",
          "<b>Year</b>: 2015<br><b>Segment</b>: Corporate<br><b>City</b>: Bossier City<br><b>Sales</b>: 1417.18",
          "<b>Year</b>: 2015<br><b>Segment</b>: Corporate<br><b>City</b>: Brentwood<br><b>Sales</b>: 371.52",
          "<b>Year</b>: 2015<br><b>Segment</b>: Corporate<br><b>City</b>: Bristol<br><b>Sales</b>: 625.582",
          "<b>Year</b>: 2015<br><b>Segment</b>: Corporate<br><b>City</b>: Brownsville<br><b>Sales</b>: 247.784",
          "<b>Year</b>: 2015<br><b>Segment</b>: Corporate<br><b>City</b>: Buffalo<br><b>Sales</b>: 199.9",
          "<b>Year</b>: 2015<br><b>Segment</b>: Corporate<br><b>City</b>: Caldwell<br><b>Sales</b>: 455.63199999999995",
          "<b>Year</b>: 2015<br><b>Segment</b>: Corporate<br><b>City</b>: Cary<br><b>Sales</b>: 259.04",
          "<b>Year</b>: 2015<br><b>Segment</b>: Corporate<br><b>City</b>: Chandler<br><b>Sales</b>: 73.915",
          "<b>Year</b>: 2015<br><b>Segment</b>: Corporate<br><b>City</b>: Charlotte<br><b>Sales</b>: 1265.984",
          "<b>Year</b>: 2015<br><b>Segment</b>: Corporate<br><b>City</b>: Chesapeake<br><b>Sales</b>: 321.56",
          "<b>Year</b>: 2015<br><b>Segment</b>: Corporate<br><b>City</b>: Chicago<br><b>Sales</b>: 1317.608",
          "<b>Year</b>: 2015<br><b>Segment</b>: Corporate<br><b>City</b>: Clinton<br><b>Sales</b>: 463.04",
          "<b>Year</b>: 2015<br><b>Segment</b>: Corporate<br><b>City</b>: Colorado Springs<br><b>Sales</b>: 855.272",
          "<b>Year</b>: 2015<br><b>Segment</b>: Corporate<br><b>City</b>: Columbia<br><b>Sales</b>: 1372.47",
          "<b>Year</b>: 2015<br><b>Segment</b>: Corporate<br><b>City</b>: Columbus<br><b>Sales</b>: 3981.1620000000003",
          "<b>Year</b>: 2015<br><b>Segment</b>: Corporate<br><b>City</b>: Concord<br><b>Sales</b>: 292.82",
          "<b>Year</b>: 2015<br><b>Segment</b>: Corporate<br><b>City</b>: Corpus Christi<br><b>Sales</b>: 146.192",
          "<b>Year</b>: 2015<br><b>Segment</b>: Corporate<br><b>City</b>: Dallas<br><b>Sales</b>: 1153.638",
          "<b>Year</b>: 2015<br><b>Segment</b>: Corporate<br><b>City</b>: Decatur<br><b>Sales</b>: 2273.128",
          "<b>Year</b>: 2015<br><b>Segment</b>: Corporate<br><b>City</b>: Deltona<br><b>Sales</b>: 581.1039999999999",
          "<b>Year</b>: 2015<br><b>Segment</b>: Corporate<br><b>City</b>: Detroit<br><b>Sales</b>: 815.9100000000001",
          "<b>Year</b>: 2015<br><b>Segment</b>: Corporate<br><b>City</b>: Dover<br><b>Sales</b>: 211.66000000000003",
          "<b>Year</b>: 2015<br><b>Segment</b>: Corporate<br><b>City</b>: Draper<br><b>Sales</b>: 111.93",
          "<b>Year</b>: 2015<br><b>Segment</b>: Corporate<br><b>City</b>: El Paso<br><b>Sales</b>: 49.568",
          "<b>Year</b>: 2015<br><b>Segment</b>: Corporate<br><b>City</b>: Escondido<br><b>Sales</b>: 17.248",
          "<b>Year</b>: 2015<br><b>Segment</b>: Corporate<br><b>City</b>: Fairfield<br><b>Sales</b>: 795.408",
          "<b>Year</b>: 2015<br><b>Segment</b>: Corporate<br><b>City</b>: Fayetteville<br><b>Sales</b>: 123.174",
          "<b>Year</b>: 2015<br><b>Segment</b>: Corporate<br><b>City</b>: Franklin<br><b>Sales</b>: 392.94",
          "<b>Year</b>: 2015<br><b>Segment</b>: Corporate<br><b>City</b>: Freeport<br><b>Sales</b>: 45.248",
          "<b>Year</b>: 2015<br><b>Segment</b>: Corporate<br><b>City</b>: Fresno<br><b>Sales</b>: 67.112",
          "<b>Year</b>: 2015<br><b>Segment</b>: Corporate<br><b>City</b>: Garden City<br><b>Sales</b>: 257.98",
          "<b>Year</b>: 2015<br><b>Segment</b>: Corporate<br><b>City</b>: Gilbert<br><b>Sales</b>: 1280.992",
          "<b>Year</b>: 2015<br><b>Segment</b>: Corporate<br><b>City</b>: Glendale<br><b>Sales</b>: 21.375999999999998",
          "<b>Year</b>: 2015<br><b>Segment</b>: Corporate<br><b>City</b>: Hackensack<br><b>Sales</b>: 1456.16",
          "<b>Year</b>: 2015<br><b>Segment</b>: Corporate<br><b>City</b>: Hampton<br><b>Sales</b>: 1417.35",
          "<b>Year</b>: 2015<br><b>Segment</b>: Corporate<br><b>City</b>: Henderson<br><b>Sales</b>: 999.94",
          "<b>Year</b>: 2015<br><b>Segment</b>: Corporate<br><b>City</b>: Hialeah<br><b>Sales</b>: 1015.816",
          "<b>Year</b>: 2015<br><b>Segment</b>: Corporate<br><b>City</b>: Houston<br><b>Sales</b>: 7395.7992",
          "<b>Year</b>: 2015<br><b>Segment</b>: Corporate<br><b>City</b>: Huntington Beach<br><b>Sales</b>: 19.16",
          "<b>Year</b>: 2015<br><b>Segment</b>: Corporate<br><b>City</b>: Huntsville<br><b>Sales</b>: 2701.734",
          "<b>Year</b>: 2015<br><b>Segment</b>: Corporate<br><b>City</b>: Indianapolis<br><b>Sales</b>: 386.34",
          "<b>Year</b>: 2015<br><b>Segment</b>: Corporate<br><b>City</b>: Jackson<br><b>Sales</b>: 612.12",
          "<b>Year</b>: 2015<br><b>Segment</b>: Corporate<br><b>City</b>: Jacksonville<br><b>Sales</b>: 92.751",
          "<b>Year</b>: 2015<br><b>Segment</b>: Corporate<br><b>City</b>: Jamestown<br><b>Sales</b>: 159.98",
          "<b>Year</b>: 2015<br><b>Segment</b>: Corporate<br><b>City</b>: Knoxville<br><b>Sales</b>: 431.30999999999995",
          "<b>Year</b>: 2015<br><b>Segment</b>: Corporate<br><b>City</b>: Lafayette<br><b>Sales</b>: 364.93",
          "<b>Year</b>: 2015<br><b>Segment</b>: Corporate<br><b>City</b>: Lakeland<br><b>Sales</b>: 590.762",
          "<b>Year</b>: 2015<br><b>Segment</b>: Corporate<br><b>City</b>: Lakewood<br><b>Sales</b>: 461.13",
          "<b>Year</b>: 2015<br><b>Segment</b>: Corporate<br><b>City</b>: Lancaster<br><b>Sales</b>: 44.91",
          "<b>Year</b>: 2015<br><b>Segment</b>: Corporate<br><b>City</b>: Laredo<br><b>Sales</b>: 609.614",
          "<b>Year</b>: 2015<br><b>Segment</b>: Corporate<br><b>City</b>: Lawrence<br><b>Sales</b>: 46.26",
          "<b>Year</b>: 2015<br><b>Segment</b>: Corporate<br><b>City</b>: Linden<br><b>Sales</b>: 115.36",
          "<b>Year</b>: 2015<br><b>Segment</b>: Corporate<br><b>City</b>: Little Rock<br><b>Sales</b>: 484.78999999999996",
          "<b>Year</b>: 2015<br><b>Segment</b>: Corporate<br><b>City</b>: Long Beach<br><b>Sales</b>: 1185.328",
          "<b>Year</b>: 2015<br><b>Segment</b>: Corporate<br><b>City</b>: Lorain<br><b>Sales</b>: 1421.664",
          "<b>Year</b>: 2015<br><b>Segment</b>: Corporate<br><b>City</b>: Los Angeles<br><b>Sales</b>: 9547.5345",
          "<b>Year</b>: 2015<br><b>Segment</b>: Corporate<br><b>City</b>: Lowell<br><b>Sales</b>: 2304.37",
          "<b>Year</b>: 2015<br><b>Segment</b>: Corporate<br><b>City</b>: Macon<br><b>Sales</b>: 116.85",
          "<b>Year</b>: 2015<br><b>Segment</b>: Corporate<br><b>City</b>: Memphis<br><b>Sales</b>: 661.5039999999999",
          "<b>Year</b>: 2015<br><b>Segment</b>: Corporate<br><b>City</b>: Meriden<br><b>Sales</b>: 1217.3799999999999",
          "<b>Year</b>: 2015<br><b>Segment</b>: Corporate<br><b>City</b>: Mesa<br><b>Sales</b>: 100.704",
          "<b>Year</b>: 2015<br><b>Segment</b>: Corporate<br><b>City</b>: Mesquite<br><b>Sales</b>: 46.964",
          "<b>Year</b>: 2015<br><b>Segment</b>: Corporate<br><b>City</b>: Miami<br><b>Sales</b>: 1.869",
          "<b>Year</b>: 2015<br><b>Segment</b>: Corporate<br><b>City</b>: Minneapolis<br><b>Sales</b>: 67.15",
          "<b>Year</b>: 2015<br><b>Segment</b>: Corporate<br><b>City</b>: Montgomery<br><b>Sales</b>: 2216.8",
          "<b>Year</b>: 2015<br><b>Segment</b>: Corporate<br><b>City</b>: Mount Vernon<br><b>Sales</b>: 7.752",
          "<b>Year</b>: 2015<br><b>Segment</b>: Corporate<br><b>City</b>: New York City<br><b>Sales</b>: 6896.981",
          "<b>Year</b>: 2015<br><b>Segment</b>: Corporate<br><b>City</b>: Newark<br><b>Sales</b>: 3339.186",
          "<b>Year</b>: 2015<br><b>Segment</b>: Corporate<br><b>City</b>: Newport News<br><b>Sales</b>: 788.8600000000001",
          "<b>Year</b>: 2015<br><b>Segment</b>: Corporate<br><b>City</b>: North Las Vegas<br><b>Sales</b>: 134.6",
          "<b>Year</b>: 2015<br><b>Segment</b>: Corporate<br><b>City</b>: Oceanside<br><b>Sales</b>: 25.951999999999998",
          "<b>Year</b>: 2015<br><b>Segment</b>: Corporate<br><b>City</b>: Omaha<br><b>Sales</b>: 174.04000000000002",
          "<b>Year</b>: 2015<br><b>Segment</b>: Corporate<br><b>City</b>: Orange<br><b>Sales</b>: 81.88000000000001",
          "<b>Year</b>: 2015<br><b>Segment</b>: Corporate<br><b>City</b>: Orlando<br><b>Sales</b>: 6.642",
          "<b>Year</b>: 2015<br><b>Segment</b>: Corporate<br><b>City</b>: Owensboro<br><b>Sales</b>: 25.5",
          "<b>Year</b>: 2015<br><b>Segment</b>: Corporate<br><b>City</b>: Palm Coast<br><b>Sales</b>: 242.546",
          "<b>Year</b>: 2015<br><b>Segment</b>: Corporate<br><b>City</b>: Pasadena<br><b>Sales</b>: 20.736",
          "<b>Year</b>: 2015<br><b>Segment</b>: Corporate<br><b>City</b>: Peoria<br><b>Sales</b>: 12.462",
          "<b>Year</b>: 2015<br><b>Segment</b>: Corporate<br><b>City</b>: Philadelphia<br><b>Sales</b>: 6198.182000000001",
          "<b>Year</b>: 2015<br><b>Segment</b>: Corporate<br><b>City</b>: Phoenix<br><b>Sales</b>: 645.159",
          "<b>Year</b>: 2015<br><b>Segment</b>: Corporate<br><b>City</b>: Port Arthur<br><b>Sales</b>: 5.184",
          "<b>Year</b>: 2015<br><b>Segment</b>: Corporate<br><b>City</b>: Provo<br><b>Sales</b>: 21.98",
          "<b>Year</b>: 2015<br><b>Segment</b>: Corporate<br><b>City</b>: Rapid City<br><b>Sales</b>: 152.64000000000001",
          "<b>Year</b>: 2015<br><b>Segment</b>: Corporate<br><b>City</b>: Reading<br><b>Sales</b>: 545.928",
          "<b>Year</b>: 2015<br><b>Segment</b>: Corporate<br><b>City</b>: Redondo Beach<br><b>Sales</b>: 1840.0430000000001",
          "<b>Year</b>: 2015<br><b>Segment</b>: Corporate<br><b>City</b>: Revere<br><b>Sales</b>: 73.19999999999999",
          "<b>Year</b>: 2015<br><b>Segment</b>: Corporate<br><b>City</b>: Richmond<br><b>Sales</b>: 1883.56",
          "<b>Year</b>: 2015<br><b>Segment</b>: Corporate<br><b>City</b>: Riverside<br><b>Sales</b>: 602.43",
          "<b>Year</b>: 2015<br><b>Segment</b>: Corporate<br><b>City</b>: Sacramento<br><b>Sales</b>: 1403.92",
          "<b>Year</b>: 2015<br><b>Segment</b>: Corporate<br><b>City</b>: Saint Louis<br><b>Sales</b>: 25.92",
          "<b>Year</b>: 2015<br><b>Segment</b>: Corporate<br><b>City</b>: Saint Petersburg<br><b>Sales</b>: 504.816",
          "<b>Year</b>: 2015<br><b>Segment</b>: Corporate<br><b>City</b>: Salem<br><b>Sales</b>: 344.91999999999996",
          "<b>Year</b>: 2015<br><b>Segment</b>: Corporate<br><b>City</b>: San Antonio<br><b>Sales</b>: 1116.822",
          "<b>Year</b>: 2015<br><b>Segment</b>: Corporate<br><b>City</b>: San Diego<br><b>Sales</b>: 1491.343",
          "<b>Year</b>: 2015<br><b>Segment</b>: Corporate<br><b>City</b>: San Francisco<br><b>Sales</b>: 6829.849999999999",
          "<b>Year</b>: 2015<br><b>Segment</b>: Corporate<br><b>City</b>: San Marcos<br><b>Sales</b>: 108.44399999999999",
          "<b>Year</b>: 2015<br><b>Segment</b>: Corporate<br><b>City</b>: Sandy Springs<br><b>Sales</b>: 21.19",
          "<b>Year</b>: 2015<br><b>Segment</b>: Corporate<br><b>City</b>: Santa Clara<br><b>Sales</b>: 131.84",
          "<b>Year</b>: 2015<br><b>Segment</b>: Corporate<br><b>City</b>: Seattle<br><b>Sales</b>: 7951.2119999999995",
          "<b>Year</b>: 2015<br><b>Segment</b>: Corporate<br><b>City</b>: Sioux Falls<br><b>Sales</b>: 9.51",
          "<b>Year</b>: 2015<br><b>Segment</b>: Corporate<br><b>City</b>: Skokie<br><b>Sales</b>: 12.624",
          "<b>Year</b>: 2015<br><b>Segment</b>: Corporate<br><b>City</b>: Smyrna<br><b>Sales</b>: 67.194",
          "<b>Year</b>: 2015<br><b>Segment</b>: Corporate<br><b>City</b>: Springfield<br><b>Sales</b>: 5701.264",
          "<b>Year</b>: 2015<br><b>Segment</b>: Corporate<br><b>City</b>: Taylor<br><b>Sales</b>: 9.84",
          "<b>Year</b>: 2015<br><b>Segment</b>: Corporate<br><b>City</b>: Tempe<br><b>Sales</b>: 677.544",
          "<b>Year</b>: 2015<br><b>Segment</b>: Corporate<br><b>City</b>: Texarkana<br><b>Sales</b>: 605.34",
          "<b>Year</b>: 2015<br><b>Segment</b>: Corporate<br><b>City</b>: Troy<br><b>Sales</b>: 257.752",
          "<b>Year</b>: 2015<br><b>Segment</b>: Corporate<br><b>City</b>: Tucson<br><b>Sales</b>: 388.70399999999995",
          "<b>Year</b>: 2015<br><b>Segment</b>: Corporate<br><b>City</b>: Virginia Beach<br><b>Sales</b>: 3511.58",
          "<b>Year</b>: 2015<br><b>Segment</b>: Corporate<br><b>City</b>: Watertown<br><b>Sales</b>: 1609.3980000000001",
          "<b>Year</b>: 2015<br><b>Segment</b>: Corporate<br><b>City</b>: Wilmington<br><b>Sales</b>: 1310.4920000000002",
          "<b>Year</b>: 2015<br><b>Segment</b>: Home Office<br><b>City</b>: Albuquerque<br><b>Sales</b>: 302.376",
          "<b>Year</b>: 2015<br><b>Segment</b>: Home Office<br><b>City</b>: Alexandria<br><b>Sales</b>: 944.61",
          "<b>Year</b>: 2015<br><b>Segment</b>: Home Office<br><b>City</b>: Appleton<br><b>Sales</b>: 21.56",
          "<b>Year</b>: 2015<br><b>Segment</b>: Home Office<br><b>City</b>: Arlington<br><b>Sales</b>: 47.79",
          "<b>Year</b>: 2015<br><b>Segment</b>: Home Office<br><b>City</b>: Aurora<br><b>Sales</b>: 82.78",
          "<b>Year</b>: 2015<br><b>Segment</b>: Home Office<br><b>City</b>: Austin<br><b>Sales</b>: 758.352",
          "<b>Year</b>: 2015<br><b>Segment</b>: Home Office<br><b>City</b>: Baltimore<br><b>Sales</b>: 7.83",
          "<b>Year</b>: 2015<br><b>Segment</b>: Home Office<br><b>City</b>: Bloomington<br><b>Sales</b>: 308.6",
          "<b>Year</b>: 2015<br><b>Segment</b>: Home Office<br><b>City</b>: Bolingbrook<br><b>Sales</b>: 9.98",
          "<b>Year</b>: 2015<br><b>Segment</b>: Home Office<br><b>City</b>: Brownsville<br><b>Sales</b>: 714.966",
          "<b>Year</b>: 2015<br><b>Segment</b>: Home Office<br><b>City</b>: Burbank<br><b>Sales</b>: 3247.1580000000004",
          "<b>Year</b>: 2015<br><b>Segment</b>: Home Office<br><b>City</b>: Chandler<br><b>Sales</b>: 49.792",
          "<b>Year</b>: 2015<br><b>Segment</b>: Home Office<br><b>City</b>: Chesapeake<br><b>Sales</b>: 1139.92",
          "<b>Year</b>: 2015<br><b>Segment</b>: Home Office<br><b>City</b>: Chicago<br><b>Sales</b>: 1567.612",
          "<b>Year</b>: 2015<br><b>Segment</b>: Home Office<br><b>City</b>: Columbia<br><b>Sales</b>: 18.24",
          "<b>Year</b>: 2015<br><b>Segment</b>: Home Office<br><b>City</b>: Columbus<br><b>Sales</b>: 608.792",
          "<b>Year</b>: 2015<br><b>Segment</b>: Home Office<br><b>City</b>: Concord<br><b>Sales</b>: 499.55199999999996",
          "<b>Year</b>: 2015<br><b>Segment</b>: Home Office<br><b>City</b>: Dallas<br><b>Sales</b>: 1340.9759999999999",
          "<b>Year</b>: 2015<br><b>Segment</b>: Home Office<br><b>City</b>: Des Moines<br><b>Sales</b>: 107.648",
          "<b>Year</b>: 2015<br><b>Segment</b>: Home Office<br><b>City</b>: Detroit<br><b>Sales</b>: 212.94",
          "<b>Year</b>: 2015<br><b>Segment</b>: Home Office<br><b>City</b>: Durham<br><b>Sales</b>: 67.75999999999999",
          "<b>Year</b>: 2015<br><b>Segment</b>: Home Office<br><b>City</b>: Eau Claire<br><b>Sales</b>: 91.68",
          "<b>Year</b>: 2015<br><b>Segment</b>: Home Office<br><b>City</b>: El Cajon<br><b>Sales</b>: 478.48",
          "<b>Year</b>: 2015<br><b>Segment</b>: Home Office<br><b>City</b>: El Paso<br><b>Sales</b>: 11.364",
          "<b>Year</b>: 2015<br><b>Segment</b>: Home Office<br><b>City</b>: Elmhurst<br><b>Sales</b>: 651.588",
          "<b>Year</b>: 2015<br><b>Segment</b>: Home Office<br><b>City</b>: Fayetteville<br><b>Sales</b>: 22.32",
          "<b>Year</b>: 2015<br><b>Segment</b>: Home Office<br><b>City</b>: Fort Lauderdale<br><b>Sales</b>: 810.288",
          "<b>Year</b>: 2015<br><b>Segment</b>: Home Office<br><b>City</b>: Franklin<br><b>Sales</b>: 177.17000000000002",
          "<b>Year</b>: 2015<br><b>Segment</b>: Home Office<br><b>City</b>: Garland<br><b>Sales</b>: 8.544",
          "<b>Year</b>: 2015<br><b>Segment</b>: Home Office<br><b>City</b>: Glendale<br><b>Sales</b>: 93.024",
          "<b>Year</b>: 2015<br><b>Segment</b>: Home Office<br><b>City</b>: Grand Rapids<br><b>Sales</b>: 19.44",
          "<b>Year</b>: 2015<br><b>Segment</b>: Home Office<br><b>City</b>: Great Falls<br><b>Sales</b>: 6.096",
          "<b>Year</b>: 2015<br><b>Segment</b>: Home Office<br><b>City</b>: Harrisonburg<br><b>Sales</b>: 2884.37",
          "<b>Year</b>: 2015<br><b>Segment</b>: Home Office<br><b>City</b>: Henderson<br><b>Sales</b>: 4374.88",
          "<b>Year</b>: 2015<br><b>Segment</b>: Home Office<br><b>City</b>: Hialeah<br><b>Sales</b>: 405.45599999999996",
          "<b>Year</b>: 2015<br><b>Segment</b>: Home Office<br><b>City</b>: Houston<br><b>Sales</b>: 1558.1218",
          "<b>Year</b>: 2015<br><b>Segment</b>: Home Office<br><b>City</b>: Huntsville<br><b>Sales</b>: 142.344",
          "<b>Year</b>: 2015<br><b>Segment</b>: Home Office<br><b>City</b>: Jacksonville<br><b>Sales</b>: 23752.284",
          "<b>Year</b>: 2015<br><b>Segment</b>: Home Office<br><b>City</b>: Lakeville<br><b>Sales</b>: 3745.6299999999997",
          "<b>Year</b>: 2015<br><b>Segment</b>: Home Office<br><b>City</b>: Lakewood<br><b>Sales</b>: 688.944",
          "<b>Year</b>: 2015<br><b>Segment</b>: Home Office<br><b>City</b>: Lancaster<br><b>Sales</b>: 144.24",
          "<b>Year</b>: 2015<br><b>Segment</b>: Home Office<br><b>City</b>: Lawrence<br><b>Sales</b>: 711.6800000000001",
          "<b>Year</b>: 2015<br><b>Segment</b>: Home Office<br><b>City</b>: League City<br><b>Sales</b>: 554.1659999999999",
          "<b>Year</b>: 2015<br><b>Segment</b>: Home Office<br><b>City</b>: Los Angeles<br><b>Sales</b>: 5215.234",
          "<b>Year</b>: 2015<br><b>Segment</b>: Home Office<br><b>City</b>: Manhattan<br><b>Sales</b>: 273.96",
          "<b>Year</b>: 2015<br><b>Segment</b>: Home Office<br><b>City</b>: Manteca<br><b>Sales</b>: 137.632",
          "<b>Year</b>: 2015<br><b>Segment</b>: Home Office<br><b>City</b>: Marietta<br><b>Sales</b>: 259.29",
          "<b>Year</b>: 2015<br><b>Segment</b>: Home Office<br><b>City</b>: Miami<br><b>Sales</b>: 457.74399999999997",
          "<b>Year</b>: 2015<br><b>Segment</b>: Home Office<br><b>City</b>: Midland<br><b>Sales</b>: 15.28",
          "<b>Year</b>: 2015<br><b>Segment</b>: Home Office<br><b>City</b>: Monroe<br><b>Sales</b>: 682.91",
          "<b>Year</b>: 2015<br><b>Segment</b>: Home Office<br><b>City</b>: Moorhead<br><b>Sales</b>: 479.9",
          "<b>Year</b>: 2015<br><b>Segment</b>: Home Office<br><b>City</b>: Moreno Valley<br><b>Sales</b>: 107.346",
          "<b>Year</b>: 2015<br><b>Segment</b>: Home Office<br><b>City</b>: Murray<br><b>Sales</b>: 48.4",
          "<b>Year</b>: 2015<br><b>Segment</b>: Home Office<br><b>City</b>: Naperville<br><b>Sales</b>: 288.06",
          "<b>Year</b>: 2015<br><b>Segment</b>: Home Office<br><b>City</b>: New Rochelle<br><b>Sales</b>: 69.99",
          "<b>Year</b>: 2015<br><b>Segment</b>: Home Office<br><b>City</b>: New York City<br><b>Sales</b>: 8236.246000000001",
          "<b>Year</b>: 2015<br><b>Segment</b>: Home Office<br><b>City</b>: Newark<br><b>Sales</b>: 291.978",
          "<b>Year</b>: 2015<br><b>Segment</b>: Home Office<br><b>City</b>: North Las Vegas<br><b>Sales</b>: 14.56",
          "<b>Year</b>: 2015<br><b>Segment</b>: Home Office<br><b>City</b>: Odessa<br><b>Sales</b>: 340.116",
          "<b>Year</b>: 2015<br><b>Segment</b>: Home Office<br><b>City</b>: Olathe<br><b>Sales</b>: 787.8499999999999",
          "<b>Year</b>: 2015<br><b>Segment</b>: Home Office<br><b>City</b>: Orem<br><b>Sales</b>: 133.128",
          "<b>Year</b>: 2015<br><b>Segment</b>: Home Office<br><b>City</b>: Philadelphia<br><b>Sales</b>: 461.384",
          "<b>Year</b>: 2015<br><b>Segment</b>: Home Office<br><b>City</b>: Phoenix<br><b>Sales</b>: 46.872",
          "<b>Year</b>: 2015<br><b>Segment</b>: Home Office<br><b>City</b>: Providence<br><b>Sales</b>: 2846.22",
          "<b>Year</b>: 2015<br><b>Segment</b>: Home Office<br><b>City</b>: Raleigh<br><b>Sales</b>: 471.92",
          "<b>Year</b>: 2015<br><b>Segment</b>: Home Office<br><b>City</b>: Reno<br><b>Sales</b>: 480.654",
          "<b>Year</b>: 2015<br><b>Segment</b>: Home Office<br><b>City</b>: Richmond<br><b>Sales</b>: 389.74",
          "<b>Year</b>: 2015<br><b>Segment</b>: Home Office<br><b>City</b>: Saint Charles<br><b>Sales</b>: 8.736",
          "<b>Year</b>: 2015<br><b>Segment</b>: Home Office<br><b>City</b>: Salt Lake City<br><b>Sales</b>: 166.44",
          "<b>Year</b>: 2015<br><b>Segment</b>: Home Office<br><b>City</b>: San Diego<br><b>Sales</b>: 787.1980000000001",
          "<b>Year</b>: 2015<br><b>Segment</b>: Home Office<br><b>City</b>: San Francisco<br><b>Sales</b>: 2401.653",
          "<b>Year</b>: 2015<br><b>Segment</b>: Home Office<br><b>City</b>: San Gabriel<br><b>Sales</b>: 2061.01",
          "<b>Year</b>: 2015<br><b>Segment</b>: Home Office<br><b>City</b>: San Jose<br><b>Sales</b>: 76.14",
          "<b>Year</b>: 2015<br><b>Segment</b>: Home Office<br><b>City</b>: Seattle<br><b>Sales</b>: 4653.266",
          "<b>Year</b>: 2015<br><b>Segment</b>: Home Office<br><b>City</b>: Springfield<br><b>Sales</b>: 886.28",
          "<b>Year</b>: 2015<br><b>Segment</b>: Home Office<br><b>City</b>: Trenton<br><b>Sales</b>: 1109.725",
          "<b>Year</b>: 2015<br><b>Segment</b>: Home Office<br><b>City</b>: Tucson<br><b>Sales</b>: 259.136",
          "<b>Year</b>: 2015<br><b>Segment</b>: Home Office<br><b>City</b>: Tulsa<br><b>Sales</b>: 643.78",
          "<b>Year</b>: 2015<br><b>Segment</b>: Home Office<br><b>City</b>: Virginia Beach<br><b>Sales</b>: 120.79",
          "<b>Year</b>: 2016<br><b>Segment</b>: Consumer<br><b>City</b>: Akron<br><b>Sales</b>: 427.548",
          "<b>Year</b>: 2016<br><b>Segment</b>: Consumer<br><b>City</b>: Allen<br><b>Sales</b>: 290.206",
          "<b>Year</b>: 2016<br><b>Segment</b>: Consumer<br><b>City</b>: Amarillo<br><b>Sales</b>: 3024.478",
          "<b>Year</b>: 2016<br><b>Segment</b>: Consumer<br><b>City</b>: Arlington<br><b>Sales</b>: 5928.481000000001",
          "<b>Year</b>: 2016<br><b>Segment</b>: Consumer<br><b>City</b>: Atlanta<br><b>Sales</b>: 7755.0599999999995",
          "<b>Year</b>: 2016<br><b>Segment</b>: Consumer<br><b>City</b>: Auburn<br><b>Sales</b>: 692.19",
          "<b>Year</b>: 2016<br><b>Segment</b>: Consumer<br><b>City</b>: Aurora<br><b>Sales</b>: 1031.564",
          "<b>Year</b>: 2016<br><b>Segment</b>: Consumer<br><b>City</b>: Austin<br><b>Sales</b>: 611.5239999999999",
          "<b>Year</b>: 2016<br><b>Segment</b>: Consumer<br><b>City</b>: Avondale<br><b>Sales</b>: 54.239999999999995",
          "<b>Year</b>: 2016<br><b>Segment</b>: Consumer<br><b>City</b>: Bakersfield<br><b>Sales</b>: 195.466",
          "<b>Year</b>: 2016<br><b>Segment</b>: Consumer<br><b>City</b>: Baltimore<br><b>Sales</b>: 8.22",
          "<b>Year</b>: 2016<br><b>Segment</b>: Consumer<br><b>City</b>: Bartlett<br><b>Sales</b>: 88.96",
          "<b>Year</b>: 2016<br><b>Segment</b>: Consumer<br><b>City</b>: Bellevue<br><b>Sales</b>: 20.24",
          "<b>Year</b>: 2016<br><b>Segment</b>: Consumer<br><b>City</b>: Bloomington<br><b>Sales</b>: 252.08799999999997",
          "<b>Year</b>: 2016<br><b>Segment</b>: Consumer<br><b>City</b>: Bolingbrook<br><b>Sales</b>: 59.848",
          "<b>Year</b>: 2016<br><b>Segment</b>: Consumer<br><b>City</b>: Bowling Green<br><b>Sales</b>: 469.398",
          "<b>Year</b>: 2016<br><b>Segment</b>: Consumer<br><b>City</b>: Brentwood<br><b>Sales</b>: 79.9",
          "<b>Year</b>: 2016<br><b>Segment</b>: Consumer<br><b>City</b>: Buffalo<br><b>Sales</b>: 82.74",
          "<b>Year</b>: 2016<br><b>Segment</b>: Consumer<br><b>City</b>: Bullhead City<br><b>Sales</b>: 22.288",
          "<b>Year</b>: 2016<br><b>Segment</b>: Consumer<br><b>City</b>: Burlington<br><b>Sales</b>: 715.2",
          "<b>Year</b>: 2016<br><b>Segment</b>: Consumer<br><b>City</b>: Carol Stream<br><b>Sales</b>: 1305.81",
          "<b>Year</b>: 2016<br><b>Segment</b>: Consumer<br><b>City</b>: Carrollton<br><b>Sales</b>: 351.336",
          "<b>Year</b>: 2016<br><b>Segment</b>: Consumer<br><b>City</b>: Champaign<br><b>Sales</b>: 151.96",
          "<b>Year</b>: 2016<br><b>Segment</b>: Consumer<br><b>City</b>: Charlotte<br><b>Sales</b>: 5.04",
          "<b>Year</b>: 2016<br><b>Segment</b>: Consumer<br><b>City</b>: Chesapeake<br><b>Sales</b>: 197.72",
          "<b>Year</b>: 2016<br><b>Segment</b>: Consumer<br><b>City</b>: Chicago<br><b>Sales</b>: 3300.505",
          "<b>Year</b>: 2016<br><b>Segment</b>: Consumer<br><b>City</b>: Chico<br><b>Sales</b>: 54.17",
          "<b>Year</b>: 2016<br><b>Segment</b>: Consumer<br><b>City</b>: Cincinnati<br><b>Sales</b>: 53.04",
          "<b>Year</b>: 2016<br><b>Segment</b>: Consumer<br><b>City</b>: Clarksville<br><b>Sales</b>: 1635.018",
          "<b>Year</b>: 2016<br><b>Segment</b>: Consumer<br><b>City</b>: Cleveland<br><b>Sales</b>: 794.8199999999999",
          "<b>Year</b>: 2016<br><b>Segment</b>: Consumer<br><b>City</b>: Clinton<br><b>Sales</b>: 1133.8200000000002",
          "<b>Year</b>: 2016<br><b>Segment</b>: Consumer<br><b>City</b>: Colorado Springs<br><b>Sales</b>: 1334.136",
          "<b>Year</b>: 2016<br><b>Segment</b>: Consumer<br><b>City</b>: Columbia<br><b>Sales</b>: 6725.204",
          "<b>Year</b>: 2016<br><b>Segment</b>: Consumer<br><b>City</b>: Columbus<br><b>Sales</b>: 3142.618",
          "<b>Year</b>: 2016<br><b>Segment</b>: Consumer<br><b>City</b>: Concord<br><b>Sales</b>: 4400.704000000001",
          "<b>Year</b>: 2016<br><b>Segment</b>: Consumer<br><b>City</b>: Conway<br><b>Sales</b>: 301.96",
          "<b>Year</b>: 2016<br><b>Segment</b>: Consumer<br><b>City</b>: Coral Springs<br><b>Sales</b>: 387.136",
          "<b>Year</b>: 2016<br><b>Segment</b>: Consumer<br><b>City</b>: Costa Mesa<br><b>Sales</b>: 29.22",
          "<b>Year</b>: 2016<br><b>Segment</b>: Consumer<br><b>City</b>: Dallas<br><b>Sales</b>: 2071.6216",
          "<b>Year</b>: 2016<br><b>Segment</b>: Consumer<br><b>City</b>: Daytona Beach<br><b>Sales</b>: 272.3315",
          "<b>Year</b>: 2016<br><b>Segment</b>: Consumer<br><b>City</b>: Decatur<br><b>Sales</b>: 479.952",
          "<b>Year</b>: 2016<br><b>Segment</b>: Consumer<br><b>City</b>: Deltona<br><b>Sales</b>: 107.976",
          "<b>Year</b>: 2016<br><b>Segment</b>: Consumer<br><b>City</b>: Detroit<br><b>Sales</b>: 3237.89",
          "<b>Year</b>: 2016<br><b>Segment</b>: Consumer<br><b>City</b>: Dover<br><b>Sales</b>: 784.5600000000001",
          "<b>Year</b>: 2016<br><b>Segment</b>: Consumer<br><b>City</b>: Dublin<br><b>Sales</b>: 627.924",
          "<b>Year</b>: 2016<br><b>Segment</b>: Consumer<br><b>City</b>: Dubuque<br><b>Sales</b>: 263.96",
          "<b>Year</b>: 2016<br><b>Segment</b>: Consumer<br><b>City</b>: Durham<br><b>Sales</b>: 440.144",
          "<b>Year</b>: 2016<br><b>Segment</b>: Consumer<br><b>City</b>: Eau Claire<br><b>Sales</b>: 435.53999999999996",
          "<b>Year</b>: 2016<br><b>Segment</b>: Consumer<br><b>City</b>: El Paso<br><b>Sales</b>: 47.516",
          "<b>Year</b>: 2016<br><b>Segment</b>: Consumer<br><b>City</b>: Evanston<br><b>Sales</b>: 1483.528",
          "<b>Year</b>: 2016<br><b>Segment</b>: Consumer<br><b>City</b>: Farmington<br><b>Sales</b>: 12.88",
          "<b>Year</b>: 2016<br><b>Segment</b>: Consumer<br><b>City</b>: Fayetteville<br><b>Sales</b>: 115.69200000000001",
          "<b>Year</b>: 2016<br><b>Segment</b>: Consumer<br><b>City</b>: Florence<br><b>Sales</b>: 3807.41",
          "<b>Year</b>: 2016<br><b>Segment</b>: Consumer<br><b>City</b>: Fort Lauderdale<br><b>Sales</b>: 979.9455",
          "<b>Year</b>: 2016<br><b>Segment</b>: Consumer<br><b>City</b>: Frankfort<br><b>Sales</b>: 20.768",
          "<b>Year</b>: 2016<br><b>Segment</b>: Consumer<br><b>City</b>: Franklin<br><b>Sales</b>: 11.65",
          "<b>Year</b>: 2016<br><b>Segment</b>: Consumer<br><b>City</b>: Freeport<br><b>Sales</b>: 506.082",
          "<b>Year</b>: 2016<br><b>Segment</b>: Consumer<br><b>City</b>: Garden City<br><b>Sales</b>: 21.11",
          "<b>Year</b>: 2016<br><b>Segment</b>: Consumer<br><b>City</b>: Gilbert<br><b>Sales</b>: 496.89599999999996",
          "<b>Year</b>: 2016<br><b>Segment</b>: Consumer<br><b>City</b>: Glendale<br><b>Sales</b>: 10.744",
          "<b>Year</b>: 2016<br><b>Segment</b>: Consumer<br><b>City</b>: Glenview<br><b>Sales</b>: 158.376",
          "<b>Year</b>: 2016<br><b>Segment</b>: Consumer<br><b>City</b>: Grand Prairie<br><b>Sales</b>: 271.75600000000003",
          "<b>Year</b>: 2016<br><b>Segment</b>: Consumer<br><b>City</b>: Hampton<br><b>Sales</b>: 750.93",
          "<b>Year</b>: 2016<br><b>Segment</b>: Consumer<br><b>City</b>: Hempstead<br><b>Sales</b>: 794.5740000000001",
          "<b>Year</b>: 2016<br><b>Segment</b>: Consumer<br><b>City</b>: Henderson<br><b>Sales</b>: 905.4399999999999",
          "<b>Year</b>: 2016<br><b>Segment</b>: Consumer<br><b>City</b>: Hialeah<br><b>Sales</b>: 32.985",
          "<b>Year</b>: 2016<br><b>Segment</b>: Consumer<br><b>City</b>: Highland Park<br><b>Sales</b>: 1454.838",
          "<b>Year</b>: 2016<br><b>Segment</b>: Consumer<br><b>City</b>: Hillsboro<br><b>Sales</b>: 64.072",
          "<b>Year</b>: 2016<br><b>Segment</b>: Consumer<br><b>City</b>: Holland<br><b>Sales</b>: 7.5",
          "<b>Year</b>: 2016<br><b>Segment</b>: Consumer<br><b>City</b>: Hollywood<br><b>Sales</b>: 37.456",
          "<b>Year</b>: 2016<br><b>Segment</b>: Consumer<br><b>City</b>: Hot Springs<br><b>Sales</b>: 29.99",
          "<b>Year</b>: 2016<br><b>Segment</b>: Consumer<br><b>City</b>: Houston<br><b>Sales</b>: 6519.2272",
          "<b>Year</b>: 2016<br><b>Segment</b>: Consumer<br><b>City</b>: Huntsville<br><b>Sales</b>: 1061.328",
          "<b>Year</b>: 2016<br><b>Segment</b>: Consumer<br><b>City</b>: Indianapolis<br><b>Sales</b>: 227.57000000000002",
          "<b>Year</b>: 2016<br><b>Segment</b>: Consumer<br><b>City</b>: Jacksonville<br><b>Sales</b>: 3598.005",
          "<b>Year</b>: 2016<br><b>Segment</b>: Consumer<br><b>City</b>: Kenosha<br><b>Sales</b>: 2531.88",
          "<b>Year</b>: 2016<br><b>Segment</b>: Consumer<br><b>City</b>: Kirkwood<br><b>Sales</b>: 241.34",
          "<b>Year</b>: 2016<br><b>Segment</b>: Consumer<br><b>City</b>: Lafayette<br><b>Sales</b>: 517.5",
          "<b>Year</b>: 2016<br><b>Segment</b>: Consumer<br><b>City</b>: Lake Elsinore<br><b>Sales</b>: 283.92",
          "<b>Year</b>: 2016<br><b>Segment</b>: Consumer<br><b>City</b>: Lakeland<br><b>Sales</b>: 78.456",
          "<b>Year</b>: 2016<br><b>Segment</b>: Consumer<br><b>City</b>: Lakewood<br><b>Sales</b>: 76.398",
          "<b>Year</b>: 2016<br><b>Segment</b>: Consumer<br><b>City</b>: Lancaster<br><b>Sales</b>: 379.932",
          "<b>Year</b>: 2016<br><b>Segment</b>: Consumer<br><b>City</b>: Lansing<br><b>Sales</b>: 1273.606",
          "<b>Year</b>: 2016<br><b>Segment</b>: Consumer<br><b>City</b>: Las Cruces<br><b>Sales</b>: 49.12",
          "<b>Year</b>: 2016<br><b>Segment</b>: Consumer<br><b>City</b>: Las Vegas<br><b>Sales</b>: 360.472",
          "<b>Year</b>: 2016<br><b>Segment</b>: Consumer<br><b>City</b>: Lawrence<br><b>Sales</b>: 1169.43",
          "<b>Year</b>: 2016<br><b>Segment</b>: Consumer<br><b>City</b>: Layton<br><b>Sales</b>: 4.96",
          "<b>Year</b>: 2016<br><b>Segment</b>: Consumer<br><b>City</b>: Lebanon<br><b>Sales</b>: 84.96",
          "<b>Year</b>: 2016<br><b>Segment</b>: Consumer<br><b>City</b>: Leominster<br><b>Sales</b>: 25.869999999999997",
          "<b>Year</b>: 2016<br><b>Segment</b>: Consumer<br><b>City</b>: Long Beach<br><b>Sales</b>: 1021.4459999999999",
          "<b>Year</b>: 2016<br><b>Segment</b>: Consumer<br><b>City</b>: Los Angeles<br><b>Sales</b>: 28752.404000000002",
          "<b>Year</b>: 2016<br><b>Segment</b>: Consumer<br><b>City</b>: Louisville<br><b>Sales</b>: 1591.8020000000001",
          "<b>Year</b>: 2016<br><b>Segment</b>: Consumer<br><b>City</b>: Lubbock<br><b>Sales</b>: 546.792",
          "<b>Year</b>: 2016<br><b>Segment</b>: Consumer<br><b>City</b>: Macon<br><b>Sales</b>: 58.72",
          "<b>Year</b>: 2016<br><b>Segment</b>: Consumer<br><b>City</b>: Manchester<br><b>Sales</b>: 93.78999999999999",
          "<b>Year</b>: 2016<br><b>Segment</b>: Consumer<br><b>City</b>: Marietta<br><b>Sales</b>: 5.64",
          "<b>Year</b>: 2016<br><b>Segment</b>: Consumer<br><b>City</b>: Marion<br><b>Sales</b>: 799.3779999999999",
          "<b>Year</b>: 2016<br><b>Segment</b>: Consumer<br><b>City</b>: Medina<br><b>Sales</b>: 51.588",
          "<b>Year</b>: 2016<br><b>Segment</b>: Consumer<br><b>City</b>: Memphis<br><b>Sales</b>: 1059.81",
          "<b>Year</b>: 2016<br><b>Segment</b>: Consumer<br><b>City</b>: Meriden<br><b>Sales</b>: 63.14",
          "<b>Year</b>: 2016<br><b>Segment</b>: Consumer<br><b>City</b>: Mesa<br><b>Sales</b>: 1341.881",
          "<b>Year</b>: 2016<br><b>Segment</b>: Consumer<br><b>City</b>: Miami<br><b>Sales</b>: 836.7479999999999",
          "<b>Year</b>: 2016<br><b>Segment</b>: Consumer<br><b>City</b>: Milwaukee<br><b>Sales</b>: 1430.1100000000001",
          "<b>Year</b>: 2016<br><b>Segment</b>: Consumer<br><b>City</b>: Minneapolis<br><b>Sales</b>: 3213.01",
          "<b>Year</b>: 2016<br><b>Segment</b>: Consumer<br><b>City</b>: Missoula<br><b>Sales</b>: 487.984",
          "<b>Year</b>: 2016<br><b>Segment</b>: Consumer<br><b>City</b>: Mobile<br><b>Sales</b>: 1918.79",
          "<b>Year</b>: 2016<br><b>Segment</b>: Consumer<br><b>City</b>: Monroe<br><b>Sales</b>: 332.496",
          "<b>Year</b>: 2016<br><b>Segment</b>: Consumer<br><b>City</b>: Moreno Valley<br><b>Sales</b>: 68.28",
          "<b>Year</b>: 2016<br><b>Segment</b>: Consumer<br><b>City</b>: Morristown<br><b>Sales</b>: 2643.06",
          "<b>Year</b>: 2016<br><b>Segment</b>: Consumer<br><b>City</b>: Mount Pleasant<br><b>Sales</b>: 17.14",
          "<b>Year</b>: 2016<br><b>Segment</b>: Consumer<br><b>City</b>: Murrieta<br><b>Sales</b>: 484.65",
          "<b>Year</b>: 2016<br><b>Segment</b>: Consumer<br><b>City</b>: Naperville<br><b>Sales</b>: 613.115",
          "<b>Year</b>: 2016<br><b>Segment</b>: Consumer<br><b>City</b>: Nashville<br><b>Sales</b>: 1688.8759999999997",
          "<b>Year</b>: 2016<br><b>Segment</b>: Consumer<br><b>City</b>: New Albany<br><b>Sales</b>: 209.55",
          "<b>Year</b>: 2016<br><b>Segment</b>: Consumer<br><b>City</b>: New Castle<br><b>Sales</b>: 84.61",
          "<b>Year</b>: 2016<br><b>Segment</b>: Consumer<br><b>City</b>: New York City<br><b>Sales</b>: 42119.955",
          "<b>Year</b>: 2016<br><b>Segment</b>: Consumer<br><b>City</b>: Newark<br><b>Sales</b>: 5442.988",
          "<b>Year</b>: 2016<br><b>Segment</b>: Consumer<br><b>City</b>: Newport News<br><b>Sales</b>: 31.12",
          "<b>Year</b>: 2016<br><b>Segment</b>: Consumer<br><b>City</b>: Noblesville<br><b>Sales</b>: 412.24",
          "<b>Year</b>: 2016<br><b>Segment</b>: Consumer<br><b>City</b>: Norfolk<br><b>Sales</b>: 17.43",
          "<b>Year</b>: 2016<br><b>Segment</b>: Consumer<br><b>City</b>: North Charleston<br><b>Sales</b>: 269.49",
          "<b>Year</b>: 2016<br><b>Segment</b>: Consumer<br><b>City</b>: North Las Vegas<br><b>Sales</b>: 1347.27",
          "<b>Year</b>: 2016<br><b>Segment</b>: Consumer<br><b>City</b>: North Miami<br><b>Sales</b>: 14.496",
          "<b>Year</b>: 2016<br><b>Segment</b>: Consumer<br><b>City</b>: Norwich<br><b>Sales</b>: 370.14",
          "<b>Year</b>: 2016<br><b>Segment</b>: Consumer<br><b>City</b>: Oakland<br><b>Sales</b>: 819.394",
          "<b>Year</b>: 2016<br><b>Segment</b>: Consumer<br><b>City</b>: Oceanside<br><b>Sales</b>: 2118.746",
          "<b>Year</b>: 2016<br><b>Segment</b>: Consumer<br><b>City</b>: Oklahoma City<br><b>Sales</b>: 1971.46",
          "<b>Year</b>: 2016<br><b>Segment</b>: Consumer<br><b>City</b>: Olympia<br><b>Sales</b>: 201.568",
          "<b>Year</b>: 2016<br><b>Segment</b>: Consumer<br><b>City</b>: Omaha<br><b>Sales</b>: 178.37",
          "<b>Year</b>: 2016<br><b>Segment</b>: Consumer<br><b>City</b>: Orem<br><b>Sales</b>: 2790.34",
          "<b>Year</b>: 2016<br><b>Segment</b>: Consumer<br><b>City</b>: Orlando<br><b>Sales</b>: 87.168",
          "<b>Year</b>: 2016<br><b>Segment</b>: Consumer<br><b>City</b>: Owensboro<br><b>Sales</b>: 45.68",
          "<b>Year</b>: 2016<br><b>Segment</b>: Consumer<br><b>City</b>: Pasadena<br><b>Sales</b>: 842.2819999999999",
          "<b>Year</b>: 2016<br><b>Segment</b>: Consumer<br><b>City</b>: Pembroke Pines<br><b>Sales</b>: 459.4335",
          "<b>Year</b>: 2016<br><b>Segment</b>: Consumer<br><b>City</b>: Peoria<br><b>Sales</b>: 329.44",
          "<b>Year</b>: 2016<br><b>Segment</b>: Consumer<br><b>City</b>: Perth Amboy<br><b>Sales</b>: 286.79",
          "<b>Year</b>: 2016<br><b>Segment</b>: Consumer<br><b>City</b>: Philadelphia<br><b>Sales</b>: 10945.039",
          "<b>Year</b>: 2016<br><b>Segment</b>: Consumer<br><b>City</b>: Phoenix<br><b>Sales</b>: 2569.2670000000003",
          "<b>Year</b>: 2016<br><b>Segment</b>: Consumer<br><b>City</b>: Plantation<br><b>Sales</b>: 598.352",
          "<b>Year</b>: 2016<br><b>Segment</b>: Consumer<br><b>City</b>: Pocatello<br><b>Sales</b>: 495.736",
          "<b>Year</b>: 2016<br><b>Segment</b>: Consumer<br><b>City</b>: Pomona<br><b>Sales</b>: 942.352",
          "<b>Year</b>: 2016<br><b>Segment</b>: Consumer<br><b>City</b>: Portland<br><b>Sales</b>: 1670.0459999999998",
          "<b>Year</b>: 2016<br><b>Segment</b>: Consumer<br><b>City</b>: Provo<br><b>Sales</b>: 912.75",
          "<b>Year</b>: 2016<br><b>Segment</b>: Consumer<br><b>City</b>: Pueblo<br><b>Sales</b>: 845.728",
          "<b>Year</b>: 2016<br><b>Segment</b>: Consumer<br><b>City</b>: Quincy<br><b>Sales</b>: 146.524",
          "<b>Year</b>: 2016<br><b>Segment</b>: Consumer<br><b>City</b>: Raleigh<br><b>Sales</b>: 228.23999999999998",
          "<b>Year</b>: 2016<br><b>Segment</b>: Consumer<br><b>City</b>: Redlands<br><b>Sales</b>: 2752.1609999999996",
          "<b>Year</b>: 2016<br><b>Segment</b>: Consumer<br><b>City</b>: Redmond<br><b>Sales</b>: 711.784",
          "<b>Year</b>: 2016<br><b>Segment</b>: Consumer<br><b>City</b>: Richmond<br><b>Sales</b>: 1106.95",
          "<b>Year</b>: 2016<br><b>Segment</b>: Consumer<br><b>City</b>: Rio Rancho<br><b>Sales</b>: 1114.192",
          "<b>Year</b>: 2016<br><b>Segment</b>: Consumer<br><b>City</b>: Rochester<br><b>Sales</b>: 2754.97",
          "<b>Year</b>: 2016<br><b>Segment</b>: Consumer<br><b>City</b>: Rockford<br><b>Sales</b>: 128.744",
          "<b>Year</b>: 2016<br><b>Segment</b>: Consumer<br><b>City</b>: Rockville<br><b>Sales</b>: 26.82",
          "<b>Year</b>: 2016<br><b>Segment</b>: Consumer<br><b>City</b>: Roseville<br><b>Sales</b>: 19.44",
          "<b>Year</b>: 2016<br><b>Segment</b>: Consumer<br><b>City</b>: Roswell<br><b>Sales</b>: 1049.13",
          "<b>Year</b>: 2016<br><b>Segment</b>: Consumer<br><b>City</b>: Royal Oak<br><b>Sales</b>: 12.96",
          "<b>Year</b>: 2016<br><b>Segment</b>: Consumer<br><b>City</b>: Salem<br><b>Sales</b>: 42.432",
          "<b>Year</b>: 2016<br><b>Segment</b>: Consumer<br><b>City</b>: San Antonio<br><b>Sales</b>: 1457.356",
          "<b>Year</b>: 2016<br><b>Segment</b>: Consumer<br><b>City</b>: San Bernardino<br><b>Sales</b>: 145.608",
          "<b>Year</b>: 2016<br><b>Segment</b>: Consumer<br><b>City</b>: San Diego<br><b>Sales</b>: 7864.57",
          "<b>Year</b>: 2016<br><b>Segment</b>: Consumer<br><b>City</b>: San Francisco<br><b>Sales</b>: 6588.7210000000005",
          "<b>Year</b>: 2016<br><b>Segment</b>: Consumer<br><b>City</b>: San Jose<br><b>Sales</b>: 526.88",
          "<b>Year</b>: 2016<br><b>Segment</b>: Consumer<br><b>City</b>: Santa Maria<br><b>Sales</b>: 115.44",
          "<b>Year</b>: 2016<br><b>Segment</b>: Consumer<br><b>City</b>: Scottsdale<br><b>Sales</b>: 11.481",
          "<b>Year</b>: 2016<br><b>Segment</b>: Consumer<br><b>City</b>: Seattle<br><b>Sales</b>: 8941.624",
          "<b>Year</b>: 2016<br><b>Segment</b>: Consumer<br><b>City</b>: South Bend<br><b>Sales</b>: 1238.33",
          "<b>Year</b>: 2016<br><b>Segment</b>: Consumer<br><b>City</b>: Sparks<br><b>Sales</b>: 79.36",
          "<b>Year</b>: 2016<br><b>Segment</b>: Consumer<br><b>City</b>: Spokane<br><b>Sales</b>: 263.78",
          "<b>Year</b>: 2016<br><b>Segment</b>: Consumer<br><b>City</b>: Springfield<br><b>Sales</b>: 2081.044",
          "<b>Year</b>: 2016<br><b>Segment</b>: Consumer<br><b>City</b>: Suffolk<br><b>Sales</b>: 196.62",
          "<b>Year</b>: 2016<br><b>Segment</b>: Consumer<br><b>City</b>: Tallahassee<br><b>Sales</b>: 8.226",
          "<b>Year</b>: 2016<br><b>Segment</b>: Consumer<br><b>City</b>: Tampa<br><b>Sales</b>: 133.56",
          "<b>Year</b>: 2016<br><b>Segment</b>: Consumer<br><b>City</b>: Temecula<br><b>Sales</b>: 808.6659999999999",
          "<b>Year</b>: 2016<br><b>Segment</b>: Consumer<br><b>City</b>: Tempe<br><b>Sales</b>: 3.366",
          "<b>Year</b>: 2016<br><b>Segment</b>: Consumer<br><b>City</b>: Texas City<br><b>Sales</b>: 301.742",
          "<b>Year</b>: 2016<br><b>Segment</b>: Consumer<br><b>City</b>: Thornton<br><b>Sales</b>: 10.944",
          "<b>Year</b>: 2016<br><b>Segment</b>: Consumer<br><b>City</b>: Thousand Oaks<br><b>Sales</b>: 15.984",
          "<b>Year</b>: 2016<br><b>Segment</b>: Consumer<br><b>City</b>: Troy<br><b>Sales</b>: 1143.066",
          "<b>Year</b>: 2016<br><b>Segment</b>: Consumer<br><b>City</b>: Tucson<br><b>Sales</b>: 792.832",
          "<b>Year</b>: 2016<br><b>Segment</b>: Consumer<br><b>City</b>: Tulsa<br><b>Sales</b>: 14.94",
          "<b>Year</b>: 2016<br><b>Segment</b>: Consumer<br><b>City</b>: Virginia Beach<br><b>Sales</b>: 182.91",
          "<b>Year</b>: 2016<br><b>Segment</b>: Consumer<br><b>City</b>: Washington<br><b>Sales</b>: 2670.19",
          "<b>Year</b>: 2016<br><b>Segment</b>: Consumer<br><b>City</b>: Waynesboro<br><b>Sales</b>: 2298.8999999999996",
          "<b>Year</b>: 2016<br><b>Segment</b>: Consumer<br><b>City</b>: West Jordan<br><b>Sales</b>: 256.35",
          "<b>Year</b>: 2016<br><b>Segment</b>: Consumer<br><b>City</b>: West Palm Beach<br><b>Sales</b>: 55.984",
          "<b>Year</b>: 2016<br><b>Segment</b>: Consumer<br><b>City</b>: Wilmington<br><b>Sales</b>: 1992.1799999999998",
          "<b>Year</b>: 2016<br><b>Segment</b>: Consumer<br><b>City</b>: Wilson<br><b>Sales</b>: 169.54399999999998",
          "<b>Year</b>: 2016<br><b>Segment</b>: Corporate<br><b>City</b>: Alexandria<br><b>Sales</b>: 192.22",
          "<b>Year</b>: 2016<br><b>Segment</b>: Corporate<br><b>City</b>: Altoona<br><b>Sales</b>: 20.451",
          "<b>Year</b>: 2016<br><b>Segment</b>: Corporate<br><b>City</b>: Ann Arbor<br><b>Sales</b>: 736.4730000000001",
          "<b>Year</b>: 2016<br><b>Segment</b>: Corporate<br><b>City</b>: Aurora<br><b>Sales</b>: 164.06400000000002",
          "<b>Year</b>: 2016<br><b>Segment</b>: Corporate<br><b>City</b>: Austin<br><b>Sales</b>: 179.886",
          "<b>Year</b>: 2016<br><b>Segment</b>: Corporate<br><b>City</b>: Baltimore<br><b>Sales</b>: 854.0200000000001",
          "<b>Year</b>: 2016<br><b>Segment</b>: Corporate<br><b>City</b>: Baytown<br><b>Sales</b>: 10.368",
          "<b>Year</b>: 2016<br><b>Segment</b>: Corporate<br><b>City</b>: Bellevue<br><b>Sales</b>: 5.28",
          "<b>Year</b>: 2016<br><b>Segment</b>: Corporate<br><b>City</b>: Bethlehem<br><b>Sales</b>: 132.94",
          "<b>Year</b>: 2016<br><b>Segment</b>: Corporate<br><b>City</b>: Boise<br><b>Sales</b>: 1004.5",
          "<b>Year</b>: 2016<br><b>Segment</b>: Corporate<br><b>City</b>: Bristol<br><b>Sales</b>: 395.904",
          "<b>Year</b>: 2016<br><b>Segment</b>: Corporate<br><b>City</b>: Buffalo<br><b>Sales</b>: 1522.638",
          "<b>Year</b>: 2016<br><b>Segment</b>: Corporate<br><b>City</b>: Burlington<br><b>Sales</b>: 4404.9",
          "<b>Year</b>: 2016<br><b>Segment</b>: Corporate<br><b>City</b>: Camarillo<br><b>Sales</b>: 1452.7875",
          "<b>Year</b>: 2016<br><b>Segment</b>: Corporate<br><b>City</b>: Cary<br><b>Sales</b>: 246.168",
          "<b>Year</b>: 2016<br><b>Segment</b>: Corporate<br><b>City</b>: Charlotte<br><b>Sales</b>: 16.712",
          "<b>Year</b>: 2016<br><b>Segment</b>: Corporate<br><b>City</b>: Chesapeake<br><b>Sales</b>: 125.64",
          "<b>Year</b>: 2016<br><b>Segment</b>: Corporate<br><b>City</b>: Chicago<br><b>Sales</b>: 4601.604",
          "<b>Year</b>: 2016<br><b>Segment</b>: Corporate<br><b>City</b>: Clinton<br><b>Sales</b>: 2593.6400000000003",
          "<b>Year</b>: 2016<br><b>Segment</b>: Corporate<br><b>City</b>: Colorado Springs<br><b>Sales</b>: 108.218",
          "<b>Year</b>: 2016<br><b>Segment</b>: Corporate<br><b>City</b>: Columbia<br><b>Sales</b>: 653.73",
          "<b>Year</b>: 2016<br><b>Segment</b>: Corporate<br><b>City</b>: Columbus<br><b>Sales</b>: 1379.944",
          "<b>Year</b>: 2016<br><b>Segment</b>: Corporate<br><b>City</b>: Coppell<br><b>Sales</b>: 95.84",
          "<b>Year</b>: 2016<br><b>Segment</b>: Corporate<br><b>City</b>: Coral Springs<br><b>Sales</b>: 118.896",
          "<b>Year</b>: 2016<br><b>Segment</b>: Corporate<br><b>City</b>: Covington<br><b>Sales</b>: 46.9",
          "<b>Year</b>: 2016<br><b>Segment</b>: Corporate<br><b>City</b>: Cuyahoga Falls<br><b>Sales</b>: 8.352",
          "<b>Year</b>: 2016<br><b>Segment</b>: Corporate<br><b>City</b>: Dallas<br><b>Sales</b>: 1898.291",
          "<b>Year</b>: 2016<br><b>Segment</b>: Corporate<br><b>City</b>: Dearborn<br><b>Sales</b>: 1542.47",
          "<b>Year</b>: 2016<br><b>Segment</b>: Corporate<br><b>City</b>: Decatur<br><b>Sales</b>: 976.29",
          "<b>Year</b>: 2016<br><b>Segment</b>: Corporate<br><b>City</b>: Denver<br><b>Sales</b>: 1185.77",
          "<b>Year</b>: 2016<br><b>Segment</b>: Corporate<br><b>City</b>: Detroit<br><b>Sales</b>: 2918.168",
          "<b>Year</b>: 2016<br><b>Segment</b>: Corporate<br><b>City</b>: Dover<br><b>Sales</b>: 35.88",
          "<b>Year</b>: 2016<br><b>Segment</b>: Corporate<br><b>City</b>: Durham<br><b>Sales</b>: 341.72",
          "<b>Year</b>: 2016<br><b>Segment</b>: Corporate<br><b>City</b>: East Point<br><b>Sales</b>: 268.4",
          "<b>Year</b>: 2016<br><b>Segment</b>: Corporate<br><b>City</b>: Fairfield<br><b>Sales</b>: 470.36",
          "<b>Year</b>: 2016<br><b>Segment</b>: Corporate<br><b>City</b>: Fayetteville<br><b>Sales</b>: 12.158000000000001",
          "<b>Year</b>: 2016<br><b>Segment</b>: Corporate<br><b>City</b>: Florence<br><b>Sales</b>: 53.28",
          "<b>Year</b>: 2016<br><b>Segment</b>: Corporate<br><b>City</b>: Fort Worth<br><b>Sales</b>: 39.608000000000004",
          "<b>Year</b>: 2016<br><b>Segment</b>: Corporate<br><b>City</b>: Franklin<br><b>Sales</b>: 129.52",
          "<b>Year</b>: 2016<br><b>Segment</b>: Corporate<br><b>City</b>: Gilbert<br><b>Sales</b>: 1511.504",
          "<b>Year</b>: 2016<br><b>Segment</b>: Corporate<br><b>City</b>: Glendale<br><b>Sales</b>: 266.352",
          "<b>Year</b>: 2016<br><b>Segment</b>: Corporate<br><b>City</b>: Greensboro<br><b>Sales</b>: 64.68",
          "<b>Year</b>: 2016<br><b>Segment</b>: Corporate<br><b>City</b>: Haltom City<br><b>Sales</b>: 269.32800000000003",
          "<b>Year</b>: 2016<br><b>Segment</b>: Corporate<br><b>City</b>: Hattiesburg<br><b>Sales</b>: 239.7",
          "<b>Year</b>: 2016<br><b>Segment</b>: Corporate<br><b>City</b>: Henderson<br><b>Sales</b>: 596.48",
          "<b>Year</b>: 2016<br><b>Segment</b>: Corporate<br><b>City</b>: Houston<br><b>Sales</b>: 5094.4166000000005",
          "<b>Year</b>: 2016<br><b>Segment</b>: Corporate<br><b>City</b>: Huntsville<br><b>Sales</b>: 19.56",
          "<b>Year</b>: 2016<br><b>Segment</b>: Corporate<br><b>City</b>: Indianapolis<br><b>Sales</b>: 125.93",
          "<b>Year</b>: 2016<br><b>Segment</b>: Corporate<br><b>City</b>: Jackson<br><b>Sales</b>: 1755.362",
          "<b>Year</b>: 2016<br><b>Segment</b>: Corporate<br><b>City</b>: Jacksonville<br><b>Sales</b>: 899.911",
          "<b>Year</b>: 2016<br><b>Segment</b>: Corporate<br><b>City</b>: Kenosha<br><b>Sales</b>: 974.9000000000001",
          "<b>Year</b>: 2016<br><b>Segment</b>: Corporate<br><b>City</b>: La Quinta<br><b>Sales</b>: 46.32",
          "<b>Year</b>: 2016<br><b>Segment</b>: Corporate<br><b>City</b>: Lakeland<br><b>Sales</b>: 3165.744",
          "<b>Year</b>: 2016<br><b>Segment</b>: Corporate<br><b>City</b>: Lakewood<br><b>Sales</b>: 235.97",
          "<b>Year</b>: 2016<br><b>Segment</b>: Corporate<br><b>City</b>: Las Vegas<br><b>Sales</b>: 161.35999999999999",
          "<b>Year</b>: 2016<br><b>Segment</b>: Corporate<br><b>City</b>: Lawrence<br><b>Sales</b>: 287.84000000000003",
          "<b>Year</b>: 2016<br><b>Segment</b>: Corporate<br><b>City</b>: Lehi<br><b>Sales</b>: 16.776",
          "<b>Year</b>: 2016<br><b>Segment</b>: Corporate<br><b>City</b>: Leominster<br><b>Sales</b>: 191.62",
          "<b>Year</b>: 2016<br><b>Segment</b>: Corporate<br><b>City</b>: Lincoln Park<br><b>Sales</b>: 220.31",
          "<b>Year</b>: 2016<br><b>Segment</b>: Corporate<br><b>City</b>: Lindenhurst<br><b>Sales</b>: 55.48",
          "<b>Year</b>: 2016<br><b>Segment</b>: Corporate<br><b>City</b>: Long Beach<br><b>Sales</b>: 1554.108",
          "<b>Year</b>: 2016<br><b>Segment</b>: Corporate<br><b>City</b>: Los Angeles<br><b>Sales</b>: 5896.762",
          "<b>Year</b>: 2016<br><b>Segment</b>: Corporate<br><b>City</b>: Louisville<br><b>Sales</b>: 6.848",
          "<b>Year</b>: 2016<br><b>Segment</b>: Corporate<br><b>City</b>: Macon<br><b>Sales</b>: 38.88",
          "<b>Year</b>: 2016<br><b>Segment</b>: Corporate<br><b>City</b>: Marion<br><b>Sales</b>: 1568.862",
          "<b>Year</b>: 2016<br><b>Segment</b>: Corporate<br><b>City</b>: Mcallen<br><b>Sales</b>: 544.41",
          "<b>Year</b>: 2016<br><b>Segment</b>: Corporate<br><b>City</b>: Medford<br><b>Sales</b>: 9.762",
          "<b>Year</b>: 2016<br><b>Segment</b>: Corporate<br><b>City</b>: Medina<br><b>Sales</b>: 1816.6960000000001",
          "<b>Year</b>: 2016<br><b>Segment</b>: Corporate<br><b>City</b>: Memphis<br><b>Sales</b>: 94.688",
          "<b>Year</b>: 2016<br><b>Segment</b>: Corporate<br><b>City</b>: Mesa<br><b>Sales</b>: 1044.075",
          "<b>Year</b>: 2016<br><b>Segment</b>: Corporate<br><b>City</b>: Miami<br><b>Sales</b>: 1449.615",
          "<b>Year</b>: 2016<br><b>Segment</b>: Corporate<br><b>City</b>: Middletown<br><b>Sales</b>: 26.9",
          "<b>Year</b>: 2016<br><b>Segment</b>: Corporate<br><b>City</b>: Milwaukee<br><b>Sales</b>: 51.84",
          "<b>Year</b>: 2016<br><b>Segment</b>: Corporate<br><b>City</b>: Monroe<br><b>Sales</b>: 207.0",
          "<b>Year</b>: 2016<br><b>Segment</b>: Corporate<br><b>City</b>: Montgomery<br><b>Sales</b>: 478.4",
          "<b>Year</b>: 2016<br><b>Segment</b>: Corporate<br><b>City</b>: Moreno Valley<br><b>Sales</b>: 182.72",
          "<b>Year</b>: 2016<br><b>Segment</b>: Corporate<br><b>City</b>: Murfreesboro<br><b>Sales</b>: 306.98900000000003",
          "<b>Year</b>: 2016<br><b>Segment</b>: Corporate<br><b>City</b>: Nashville<br><b>Sales</b>: 104.664",
          "<b>Year</b>: 2016<br><b>Segment</b>: Corporate<br><b>City</b>: New Bedford<br><b>Sales</b>: 52.2",
          "<b>Year</b>: 2016<br><b>Segment</b>: Corporate<br><b>City</b>: New York City<br><b>Sales</b>: 14799.538",
          "<b>Year</b>: 2016<br><b>Segment</b>: Corporate<br><b>City</b>: Newark<br><b>Sales</b>: 1253.0900000000001",
          "<b>Year</b>: 2016<br><b>Segment</b>: Corporate<br><b>City</b>: Omaha<br><b>Sales</b>: 128.36",
          "<b>Year</b>: 2016<br><b>Segment</b>: Corporate<br><b>City</b>: Oxnard<br><b>Sales</b>: 131.48000000000002",
          "<b>Year</b>: 2016<br><b>Segment</b>: Corporate<br><b>City</b>: Paterson<br><b>Sales</b>: 345.26",
          "<b>Year</b>: 2016<br><b>Segment</b>: Corporate<br><b>City</b>: Peoria<br><b>Sales</b>: 174.304",
          "<b>Year</b>: 2016<br><b>Segment</b>: Corporate<br><b>City</b>: Philadelphia<br><b>Sales</b>: 4420.618",
          "<b>Year</b>: 2016<br><b>Segment</b>: Corporate<br><b>City</b>: Phoenix<br><b>Sales</b>: 365.496",
          "<b>Year</b>: 2016<br><b>Segment</b>: Corporate<br><b>City</b>: Plantation<br><b>Sales</b>: 838.4839999999999",
          "<b>Year</b>: 2016<br><b>Segment</b>: Corporate<br><b>City</b>: Pleasant Grove<br><b>Sales</b>: 12.144",
          "<b>Year</b>: 2016<br><b>Segment</b>: Corporate<br><b>City</b>: Port Arthur<br><b>Sales</b>: 697.8208",
          "<b>Year</b>: 2016<br><b>Segment</b>: Corporate<br><b>City</b>: Port Saint Lucie<br><b>Sales</b>: 231.92",
          "<b>Year</b>: 2016<br><b>Segment</b>: Corporate<br><b>City</b>: Providence<br><b>Sales</b>: 599.9",
          "<b>Year</b>: 2016<br><b>Segment</b>: Corporate<br><b>City</b>: Pueblo<br><b>Sales</b>: 3.408",
          "<b>Year</b>: 2016<br><b>Segment</b>: Corporate<br><b>City</b>: Raleigh<br><b>Sales</b>: 246.364",
          "<b>Year</b>: 2016<br><b>Segment</b>: Corporate<br><b>City</b>: Rancho Cucamonga<br><b>Sales</b>: 5.76",
          "<b>Year</b>: 2016<br><b>Segment</b>: Corporate<br><b>City</b>: Reading<br><b>Sales</b>: 15.008",
          "<b>Year</b>: 2016<br><b>Segment</b>: Corporate<br><b>City</b>: Redlands<br><b>Sales</b>: 14.28",
          "<b>Year</b>: 2016<br><b>Segment</b>: Corporate<br><b>City</b>: Revere<br><b>Sales</b>: 702.74",
          "<b>Year</b>: 2016<br><b>Segment</b>: Corporate<br><b>City</b>: Richmond<br><b>Sales</b>: 760.92",
          "<b>Year</b>: 2016<br><b>Segment</b>: Corporate<br><b>City</b>: Riverside<br><b>Sales</b>: 160.4",
          "<b>Year</b>: 2016<br><b>Segment</b>: Corporate<br><b>City</b>: Rochester<br><b>Sales</b>: 210.31",
          "<b>Year</b>: 2016<br><b>Segment</b>: Corporate<br><b>City</b>: Rome<br><b>Sales</b>: 90.882",
          "<b>Year</b>: 2016<br><b>Segment</b>: Corporate<br><b>City</b>: Roswell<br><b>Sales</b>: 24.42",
          "<b>Year</b>: 2016<br><b>Segment</b>: Corporate<br><b>City</b>: Sacramento<br><b>Sales</b>: 12.832",
          "<b>Year</b>: 2016<br><b>Segment</b>: Corporate<br><b>City</b>: Saint Charles<br><b>Sales</b>: 10.56",
          "<b>Year</b>: 2016<br><b>Segment</b>: Corporate<br><b>City</b>: Saint Louis<br><b>Sales</b>: 52.59",
          "<b>Year</b>: 2016<br><b>Segment</b>: Corporate<br><b>City</b>: Salinas<br><b>Sales</b>: 481.69800000000004",
          "<b>Year</b>: 2016<br><b>Segment</b>: Corporate<br><b>City</b>: San Antonio<br><b>Sales</b>: 1362.812",
          "<b>Year</b>: 2016<br><b>Segment</b>: Corporate<br><b>City</b>: San Diego<br><b>Sales</b>: 2697.78",
          "<b>Year</b>: 2016<br><b>Segment</b>: Corporate<br><b>City</b>: San Francisco<br><b>Sales</b>: 6923.317",
          "<b>Year</b>: 2016<br><b>Segment</b>: Corporate<br><b>City</b>: San Jose<br><b>Sales</b>: 244.77999999999997",
          "<b>Year</b>: 2016<br><b>Segment</b>: Corporate<br><b>City</b>: Santa Barbara<br><b>Sales</b>: 8.96",
          "<b>Year</b>: 2016<br><b>Segment</b>: Corporate<br><b>City</b>: Seattle<br><b>Sales</b>: 5241.786",
          "<b>Year</b>: 2016<br><b>Segment</b>: Corporate<br><b>City</b>: Smyrna<br><b>Sales</b>: 670.001",
          "<b>Year</b>: 2016<br><b>Segment</b>: Corporate<br><b>City</b>: Springfield<br><b>Sales</b>: 9412.173",
          "<b>Year</b>: 2016<br><b>Segment</b>: Corporate<br><b>City</b>: Suffolk<br><b>Sales</b>: 176.63",
          "<b>Year</b>: 2016<br><b>Segment</b>: Corporate<br><b>City</b>: Tampa<br><b>Sales</b>: 277.632",
          "<b>Year</b>: 2016<br><b>Segment</b>: Corporate<br><b>City</b>: Taylor<br><b>Sales</b>: 41.9",
          "<b>Year</b>: 2016<br><b>Segment</b>: Corporate<br><b>City</b>: Tinley Park<br><b>Sales</b>: 22.288",
          "<b>Year</b>: 2016<br><b>Segment</b>: Corporate<br><b>City</b>: Toledo<br><b>Sales</b>: 688.4399999999999",
          "<b>Year</b>: 2016<br><b>Segment</b>: Corporate<br><b>City</b>: Troy<br><b>Sales</b>: 498.492",
          "<b>Year</b>: 2016<br><b>Segment</b>: Corporate<br><b>City</b>: Tucson<br><b>Sales</b>: 238.152",
          "<b>Year</b>: 2016<br><b>Segment</b>: Corporate<br><b>City</b>: Vineland<br><b>Sales</b>: 11.12",
          "<b>Year</b>: 2016<br><b>Segment</b>: Corporate<br><b>City</b>: Visalia<br><b>Sales</b>: 7.92",
          "<b>Year</b>: 2016<br><b>Segment</b>: Corporate<br><b>City</b>: Warner Robins<br><b>Sales</b>: 392.94",
          "<b>Year</b>: 2016<br><b>Segment</b>: Corporate<br><b>City</b>: Wilmington<br><b>Sales</b>: 1214.446",
          "<b>Year</b>: 2016<br><b>Segment</b>: Corporate<br><b>City</b>: Woodbury<br><b>Sales</b>: 72.24000000000001",
          "<b>Year</b>: 2016<br><b>Segment</b>: Corporate<br><b>City</b>: Woonsocket<br><b>Sales</b>: 51.45",
          "<b>Year</b>: 2016<br><b>Segment</b>: Corporate<br><b>City</b>: Yucaipa<br><b>Sales</b>: 50.8",
          "<b>Year</b>: 2016<br><b>Segment</b>: Home Office<br><b>City</b>: Allentown<br><b>Sales</b>: 837.444",
          "<b>Year</b>: 2016<br><b>Segment</b>: Home Office<br><b>City</b>: Ann Arbor<br><b>Sales</b>: 152.8",
          "<b>Year</b>: 2016<br><b>Segment</b>: Home Office<br><b>City</b>: Arlington<br><b>Sales</b>: 142.34",
          "<b>Year</b>: 2016<br><b>Segment</b>: Home Office<br><b>City</b>: Aurora<br><b>Sales</b>: 953.579",
          "<b>Year</b>: 2016<br><b>Segment</b>: Home Office<br><b>City</b>: Austin<br><b>Sales</b>: 3.882",
          "<b>Year</b>: 2016<br><b>Segment</b>: Home Office<br><b>City</b>: Bakersfield<br><b>Sales</b>: 19.152",
          "<b>Year</b>: 2016<br><b>Segment</b>: Home Office<br><b>City</b>: Baltimore<br><b>Sales</b>: 299.75",
          "<b>Year</b>: 2016<br><b>Segment</b>: Home Office<br><b>City</b>: Bayonne<br><b>Sales</b>: 183.4",
          "<b>Year</b>: 2016<br><b>Segment</b>: Home Office<br><b>City</b>: Bedford<br><b>Sales</b>: 20.96",
          "<b>Year</b>: 2016<br><b>Segment</b>: Home Office<br><b>City</b>: Bozeman<br><b>Sales</b>: 43.66",
          "<b>Year</b>: 2016<br><b>Segment</b>: Home Office<br><b>City</b>: Broken Arrow<br><b>Sales</b>: 821.94",
          "<b>Year</b>: 2016<br><b>Segment</b>: Home Office<br><b>City</b>: Cambridge<br><b>Sales</b>: 411.49",
          "<b>Year</b>: 2016<br><b>Segment</b>: Home Office<br><b>City</b>: Charlottesville<br><b>Sales</b>: 67.96",
          "<b>Year</b>: 2016<br><b>Segment</b>: Home Office<br><b>City</b>: Chester<br><b>Sales</b>: 570.492",
          "<b>Year</b>: 2016<br><b>Segment</b>: Home Office<br><b>City</b>: Chicago<br><b>Sales</b>: 489.659",
          "<b>Year</b>: 2016<br><b>Segment</b>: Home Office<br><b>City</b>: Chico<br><b>Sales</b>: 1242.896",
          "<b>Year</b>: 2016<br><b>Segment</b>: Home Office<br><b>City</b>: Chula Vista<br><b>Sales</b>: 665.88",
          "<b>Year</b>: 2016<br><b>Segment</b>: Home Office<br><b>City</b>: Cleveland<br><b>Sales</b>: 20.736",
          "<b>Year</b>: 2016<br><b>Segment</b>: Home Office<br><b>City</b>: Clinton<br><b>Sales</b>: 384.85999999999996",
          "<b>Year</b>: 2016<br><b>Segment</b>: Home Office<br><b>City</b>: Columbus<br><b>Sales</b>: 24.56",
          "<b>Year</b>: 2016<br><b>Segment</b>: Home Office<br><b>City</b>: Concord<br><b>Sales</b>: 184.66",
          "<b>Year</b>: 2016<br><b>Segment</b>: Home Office<br><b>City</b>: Dallas<br><b>Sales</b>: 14.216000000000001",
          "<b>Year</b>: 2016<br><b>Segment</b>: Home Office<br><b>City</b>: Des Moines<br><b>Sales</b>: 44.44",
          "<b>Year</b>: 2016<br><b>Segment</b>: Home Office<br><b>City</b>: Detroit<br><b>Sales</b>: 1472.23",
          "<b>Year</b>: 2016<br><b>Segment</b>: Home Office<br><b>City</b>: Dover<br><b>Sales</b>: 3332.974",
          "<b>Year</b>: 2016<br><b>Segment</b>: Home Office<br><b>City</b>: Dubuque<br><b>Sales</b>: 1423.34",
          "<b>Year</b>: 2016<br><b>Segment</b>: Home Office<br><b>City</b>: Eagan<br><b>Sales</b>: 74.94",
          "<b>Year</b>: 2016<br><b>Segment</b>: Home Office<br><b>City</b>: Everett<br><b>Sales</b>: 2303.758",
          "<b>Year</b>: 2016<br><b>Segment</b>: Home Office<br><b>City</b>: Fayetteville<br><b>Sales</b>: 6.24",
          "<b>Year</b>: 2016<br><b>Segment</b>: Home Office<br><b>City</b>: Fort Worth<br><b>Sales</b>: 2150.466",
          "<b>Year</b>: 2016<br><b>Segment</b>: Home Office<br><b>City</b>: Franklin<br><b>Sales</b>: 2151.968",
          "<b>Year</b>: 2016<br><b>Segment</b>: Home Office<br><b>City</b>: Frisco<br><b>Sales</b>: 27.168",
          "<b>Year</b>: 2016<br><b>Segment</b>: Home Office<br><b>City</b>: Hampton<br><b>Sales</b>: 113.1",
          "<b>Year</b>: 2016<br><b>Segment</b>: Home Office<br><b>City</b>: Harrisonburg<br><b>Sales</b>: 39.96",
          "<b>Year</b>: 2016<br><b>Segment</b>: Home Office<br><b>City</b>: Helena<br><b>Sales</b>: 403.94",
          "<b>Year</b>: 2016<br><b>Segment</b>: Home Office<br><b>City</b>: Henderson<br><b>Sales</b>: 89.36",
          "<b>Year</b>: 2016<br><b>Segment</b>: Home Office<br><b>City</b>: Holyoke<br><b>Sales</b>: 301.96",
          "<b>Year</b>: 2016<br><b>Segment</b>: Home Office<br><b>City</b>: Houston<br><b>Sales</b>: 2085.1192",
          "<b>Year</b>: 2016<br><b>Segment</b>: Home Office<br><b>City</b>: Indianapolis<br><b>Sales</b>: 999.98",
          "<b>Year</b>: 2016<br><b>Segment</b>: Home Office<br><b>City</b>: Jackson<br><b>Sales</b>: 111.74000000000001",
          "<b>Year</b>: 2016<br><b>Segment</b>: Home Office<br><b>City</b>: Jacksonville<br><b>Sales</b>: 1775.056",
          "<b>Year</b>: 2016<br><b>Segment</b>: Home Office<br><b>City</b>: Lakeville<br><b>Sales</b>: 155.88",
          "<b>Year</b>: 2016<br><b>Segment</b>: Home Office<br><b>City</b>: Lakewood<br><b>Sales</b>: 43.056",
          "<b>Year</b>: 2016<br><b>Segment</b>: Home Office<br><b>City</b>: Las Cruces<br><b>Sales</b>: 8.28",
          "<b>Year</b>: 2016<br><b>Segment</b>: Home Office<br><b>City</b>: Lawrence<br><b>Sales</b>: 10.74",
          "<b>Year</b>: 2016<br><b>Segment</b>: Home Office<br><b>City</b>: Lewiston<br><b>Sales</b>: 106.08000000000001",
          "<b>Year</b>: 2016<br><b>Segment</b>: Home Office<br><b>City</b>: Long Beach<br><b>Sales</b>: 7.56",
          "<b>Year</b>: 2016<br><b>Segment</b>: Home Office<br><b>City</b>: Los Angeles<br><b>Sales</b>: 6675.478",
          "<b>Year</b>: 2016<br><b>Segment</b>: Home Office<br><b>City</b>: Louisville<br><b>Sales</b>: 525.95",
          "<b>Year</b>: 2016<br><b>Segment</b>: Home Office<br><b>City</b>: Mcallen<br><b>Sales</b>: 100.86",
          "<b>Year</b>: 2016<br><b>Segment</b>: Home Office<br><b>City</b>: Mesa<br><b>Sales</b>: 85.92",
          "<b>Year</b>: 2016<br><b>Segment</b>: Home Office<br><b>City</b>: Miami<br><b>Sales</b>: 11.696",
          "<b>Year</b>: 2016<br><b>Segment</b>: Home Office<br><b>City</b>: Midland<br><b>Sales</b>: 3999.7019999999998",
          "<b>Year</b>: 2016<br><b>Segment</b>: Home Office<br><b>City</b>: Milwaukee<br><b>Sales</b>: 2920.42",
          "<b>Year</b>: 2016<br><b>Segment</b>: Home Office<br><b>City</b>: New York City<br><b>Sales</b>: 10586.637999999999",
          "<b>Year</b>: 2016<br><b>Segment</b>: Home Office<br><b>City</b>: Newark<br><b>Sales</b>: 807.54",
          "<b>Year</b>: 2016<br><b>Segment</b>: Home Office<br><b>City</b>: Normal<br><b>Sales</b>: 366.744",
          "<b>Year</b>: 2016<br><b>Segment</b>: Home Office<br><b>City</b>: Norwich<br><b>Sales</b>: 22.2",
          "<b>Year</b>: 2016<br><b>Segment</b>: Home Office<br><b>City</b>: Oakland<br><b>Sales</b>: 454.272",
          "<b>Year</b>: 2016<br><b>Segment</b>: Home Office<br><b>City</b>: Omaha<br><b>Sales</b>: 269.98",
          "<b>Year</b>: 2016<br><b>Segment</b>: Home Office<br><b>City</b>: Orland Park<br><b>Sales</b>: 339.96",
          "<b>Year</b>: 2016<br><b>Segment</b>: Home Office<br><b>City</b>: Park Ridge<br><b>Sales</b>: 254.744",
          "<b>Year</b>: 2016<br><b>Segment</b>: Home Office<br><b>City</b>: Paterson<br><b>Sales</b>: 399.49",
          "<b>Year</b>: 2016<br><b>Segment</b>: Home Office<br><b>City</b>: Peoria<br><b>Sales</b>: 460.062",
          "<b>Year</b>: 2016<br><b>Segment</b>: Home Office<br><b>City</b>: Philadelphia<br><b>Sales</b>: 3538.352",
          "<b>Year</b>: 2016<br><b>Segment</b>: Home Office<br><b>City</b>: Phoenix<br><b>Sales</b>: 191.968",
          "<b>Year</b>: 2016<br><b>Segment</b>: Home Office<br><b>City</b>: Providence<br><b>Sales</b>: 448.21",
          "<b>Year</b>: 2016<br><b>Segment</b>: Home Office<br><b>City</b>: Quincy<br><b>Sales</b>: 85.3",
          "<b>Year</b>: 2016<br><b>Segment</b>: Home Office<br><b>City</b>: Revere<br><b>Sales</b>: 57.32000000000001",
          "<b>Year</b>: 2016<br><b>Segment</b>: Home Office<br><b>City</b>: Richmond<br><b>Sales</b>: 112.03999999999999",
          "<b>Year</b>: 2016<br><b>Segment</b>: Home Office<br><b>City</b>: Rochester<br><b>Sales</b>: 156.70999999999998",
          "<b>Year</b>: 2016<br><b>Segment</b>: Home Office<br><b>City</b>: Roseville<br><b>Sales</b>: 2167.6",
          "<b>Year</b>: 2016<br><b>Segment</b>: Home Office<br><b>City</b>: Sacramento<br><b>Sales</b>: 60.84",
          "<b>Year</b>: 2016<br><b>Segment</b>: Home Office<br><b>City</b>: Saint Charles<br><b>Sales</b>: 1349.63",
          "<b>Year</b>: 2016<br><b>Segment</b>: Home Office<br><b>City</b>: San Antonio<br><b>Sales</b>: 210.554",
          "<b>Year</b>: 2016<br><b>Segment</b>: Home Office<br><b>City</b>: San Bernardino<br><b>Sales</b>: 110.528",
          "<b>Year</b>: 2016<br><b>Segment</b>: Home Office<br><b>City</b>: San Diego<br><b>Sales</b>: 3821.08",
          "<b>Year</b>: 2016<br><b>Segment</b>: Home Office<br><b>City</b>: San Francisco<br><b>Sales</b>: 1130.1200000000001",
          "<b>Year</b>: 2016<br><b>Segment</b>: Home Office<br><b>City</b>: San Jose<br><b>Sales</b>: 13.848",
          "<b>Year</b>: 2016<br><b>Segment</b>: Home Office<br><b>City</b>: Santa Ana<br><b>Sales</b>: 56.3",
          "<b>Year</b>: 2016<br><b>Segment</b>: Home Office<br><b>City</b>: Santa Fe<br><b>Sales</b>: 8.4",
          "<b>Year</b>: 2016<br><b>Segment</b>: Home Office<br><b>City</b>: Seattle<br><b>Sales</b>: 5241.376",
          "<b>Year</b>: 2016<br><b>Segment</b>: Home Office<br><b>City</b>: Springfield<br><b>Sales</b>: 230.424",
          "<b>Year</b>: 2016<br><b>Segment</b>: Home Office<br><b>City</b>: Sterling Heights<br><b>Sales</b>: 98.36",
          "<b>Year</b>: 2016<br><b>Segment</b>: Home Office<br><b>City</b>: Superior<br><b>Sales</b>: 17.12",
          "<b>Year</b>: 2016<br><b>Segment</b>: Home Office<br><b>City</b>: Tamarac<br><b>Sales</b>: 3.444",
          "<b>Year</b>: 2016<br><b>Segment</b>: Home Office<br><b>City</b>: Thousand Oaks<br><b>Sales</b>: 32.75",
          "<b>Year</b>: 2016<br><b>Segment</b>: Home Office<br><b>City</b>: Troy<br><b>Sales</b>: 14.832",
          "<b>Year</b>: 2016<br><b>Segment</b>: Home Office<br><b>City</b>: West Palm Beach<br><b>Sales</b>: 13.12",
          "<b>Year</b>: 2016<br><b>Segment</b>: Home Office<br><b>City</b>: Wichita<br><b>Sales</b>: 149.2",
          "<b>Year</b>: 2016<br><b>Segment</b>: Home Office<br><b>City</b>: Wilson<br><b>Sales</b>: 7.38",
          "<b>Year</b>: 2017<br><b>Segment</b>: Consumer<br><b>City</b>: Alexandria<br><b>Sales</b>: 81.2",
          "<b>Year</b>: 2017<br><b>Segment</b>: Consumer<br><b>City</b>: Allentown<br><b>Sales</b>: 15.808",
          "<b>Year</b>: 2017<br><b>Segment</b>: Consumer<br><b>City</b>: Amarillo<br><b>Sales</b>: 523.604",
          "<b>Year</b>: 2017<br><b>Segment</b>: Consumer<br><b>City</b>: Anaheim<br><b>Sales</b>: 2240.2999999999997",
          "<b>Year</b>: 2017<br><b>Segment</b>: Consumer<br><b>City</b>: Andover<br><b>Sales</b>: 435.84999999999997",
          "<b>Year</b>: 2017<br><b>Segment</b>: Consumer<br><b>City</b>: Apple Valley<br><b>Sales</b>: 563.92",
          "<b>Year</b>: 2017<br><b>Segment</b>: Consumer<br><b>City</b>: Appleton<br><b>Sales</b>: 1649.75",
          "<b>Year</b>: 2017<br><b>Segment</b>: Consumer<br><b>City</b>: Arlington<br><b>Sales</b>: 9454.7",
          "<b>Year</b>: 2017<br><b>Segment</b>: Consumer<br><b>City</b>: Arlington Heights<br><b>Sales</b>: 14.112",
          "<b>Year</b>: 2017<br><b>Segment</b>: Consumer<br><b>City</b>: Asheville<br><b>Sales</b>: 1363.96",
          "<b>Year</b>: 2017<br><b>Segment</b>: Consumer<br><b>City</b>: Athens<br><b>Sales</b>: 201.26999999999998",
          "<b>Year</b>: 2017<br><b>Segment</b>: Consumer<br><b>City</b>: Atlanta<br><b>Sales</b>: 2047.3399999999997",
          "<b>Year</b>: 2017<br><b>Segment</b>: Consumer<br><b>City</b>: Auburn<br><b>Sales</b>: 1870.058",
          "<b>Year</b>: 2017<br><b>Segment</b>: Consumer<br><b>City</b>: Aurora<br><b>Sales</b>: 991.2099999999999",
          "<b>Year</b>: 2017<br><b>Segment</b>: Consumer<br><b>City</b>: Bakersfield<br><b>Sales</b>: 41.6",
          "<b>Year</b>: 2017<br><b>Segment</b>: Consumer<br><b>City</b>: Baltimore<br><b>Sales</b>: 883.5020000000001",
          "<b>Year</b>: 2017<br><b>Segment</b>: Consumer<br><b>City</b>: Belleville<br><b>Sales</b>: 227.96",
          "<b>Year</b>: 2017<br><b>Segment</b>: Consumer<br><b>City</b>: Bethlehem<br><b>Sales</b>: 1556.694",
          "<b>Year</b>: 2017<br><b>Segment</b>: Consumer<br><b>City</b>: Bloomington<br><b>Sales</b>: 262.8",
          "<b>Year</b>: 2017<br><b>Segment</b>: Consumer<br><b>City</b>: Boca Raton<br><b>Sales</b>: 58.4",
          "<b>Year</b>: 2017<br><b>Segment</b>: Consumer<br><b>City</b>: Bowling Green<br><b>Sales</b>: 5.553",
          "<b>Year</b>: 2017<br><b>Segment</b>: Consumer<br><b>City</b>: Boynton Beach<br><b>Sales</b>: 314.39300000000003",
          "<b>Year</b>: 2017<br><b>Segment</b>: Consumer<br><b>City</b>: Broken Arrow<br><b>Sales</b>: 12.86",
          "<b>Year</b>: 2017<br><b>Segment</b>: Consumer<br><b>City</b>: Broomfield<br><b>Sales</b>: 725.072",
          "<b>Year</b>: 2017<br><b>Segment</b>: Consumer<br><b>City</b>: Buffalo<br><b>Sales</b>: 835.17",
          "<b>Year</b>: 2017<br><b>Segment</b>: Consumer<br><b>City</b>: Carlsbad<br><b>Sales</b>: 39.176",
          "<b>Year</b>: 2017<br><b>Segment</b>: Consumer<br><b>City</b>: Carrollton<br><b>Sales</b>: 1399.944",
          "<b>Year</b>: 2017<br><b>Segment</b>: Consumer<br><b>City</b>: Cedar Rapids<br><b>Sales</b>: 278.4",
          "<b>Year</b>: 2017<br><b>Segment</b>: Consumer<br><b>City</b>: Charlotte<br><b>Sales</b>: 2974.117",
          "<b>Year</b>: 2017<br><b>Segment</b>: Consumer<br><b>City</b>: Chattanooga<br><b>Sales</b>: 16.72",
          "<b>Year</b>: 2017<br><b>Segment</b>: Consumer<br><b>City</b>: Chesapeake<br><b>Sales</b>: 1911.48",
          "<b>Year</b>: 2017<br><b>Segment</b>: Consumer<br><b>City</b>: Chicago<br><b>Sales</b>: 8643.927",
          "<b>Year</b>: 2017<br><b>Segment</b>: Consumer<br><b>City</b>: Chula Vista<br><b>Sales</b>: 192.8",
          "<b>Year</b>: 2017<br><b>Segment</b>: Consumer<br><b>City</b>: Cincinnati<br><b>Sales</b>: 112.13499999999999",
          "<b>Year</b>: 2017<br><b>Segment</b>: Consumer<br><b>City</b>: Cleveland<br><b>Sales</b>: 2072.486",
          "<b>Year</b>: 2017<br><b>Segment</b>: Consumer<br><b>City</b>: Clinton<br><b>Sales</b>: 573.741",
          "<b>Year</b>: 2017<br><b>Segment</b>: Consumer<br><b>City</b>: Colorado Springs<br><b>Sales</b>: 11.328",
          "<b>Year</b>: 2017<br><b>Segment</b>: Consumer<br><b>City</b>: Columbia<br><b>Sales</b>: 3030.65",
          "<b>Year</b>: 2017<br><b>Segment</b>: Consumer<br><b>City</b>: Columbus<br><b>Sales</b>: 4359.571",
          "<b>Year</b>: 2017<br><b>Segment</b>: Consumer<br><b>City</b>: Concord<br><b>Sales</b>: 836.648",
          "<b>Year</b>: 2017<br><b>Segment</b>: Consumer<br><b>City</b>: Costa Mesa<br><b>Sales</b>: 686.244",
          "<b>Year</b>: 2017<br><b>Segment</b>: Consumer<br><b>City</b>: Cuyahoga Falls<br><b>Sales</b>: 2.214",
          "<b>Year</b>: 2017<br><b>Segment</b>: Consumer<br><b>City</b>: Dallas<br><b>Sales</b>: 2426.2288",
          "<b>Year</b>: 2017<br><b>Segment</b>: Consumer<br><b>City</b>: Davis<br><b>Sales</b>: 32.4",
          "<b>Year</b>: 2017<br><b>Segment</b>: Consumer<br><b>City</b>: Decatur<br><b>Sales</b>: 1008.493",
          "<b>Year</b>: 2017<br><b>Segment</b>: Consumer<br><b>City</b>: Des Moines<br><b>Sales</b>: 1288.376",
          "<b>Year</b>: 2017<br><b>Segment</b>: Consumer<br><b>City</b>: Detroit<br><b>Sales</b>: 14715.08",
          "<b>Year</b>: 2017<br><b>Segment</b>: Consumer<br><b>City</b>: Dover<br><b>Sales</b>: 66.8",
          "<b>Year</b>: 2017<br><b>Segment</b>: Consumer<br><b>City</b>: Eau Claire<br><b>Sales</b>: 1085.87",
          "<b>Year</b>: 2017<br><b>Segment</b>: Consumer<br><b>City</b>: Edinburg<br><b>Sales</b>: 85.908",
          "<b>Year</b>: 2017<br><b>Segment</b>: Consumer<br><b>City</b>: Edmond<br><b>Sales</b>: 959.55",
          "<b>Year</b>: 2017<br><b>Segment</b>: Consumer<br><b>City</b>: Edmonds<br><b>Sales</b>: 143.24",
          "<b>Year</b>: 2017<br><b>Segment</b>: Consumer<br><b>City</b>: El Paso<br><b>Sales</b>: 17.856",
          "<b>Year</b>: 2017<br><b>Segment</b>: Consumer<br><b>City</b>: Encinitas<br><b>Sales</b>: 305.49600000000004",
          "<b>Year</b>: 2017<br><b>Segment</b>: Consumer<br><b>City</b>: Englewood<br><b>Sales</b>: 124.056",
          "<b>Year</b>: 2017<br><b>Segment</b>: Consumer<br><b>City</b>: Evanston<br><b>Sales</b>: 11.992",
          "<b>Year</b>: 2017<br><b>Segment</b>: Consumer<br><b>City</b>: Fairfield<br><b>Sales</b>: 1028.9569999999999",
          "<b>Year</b>: 2017<br><b>Segment</b>: Consumer<br><b>City</b>: Fayetteville<br><b>Sales</b>: 2270.744",
          "<b>Year</b>: 2017<br><b>Segment</b>: Consumer<br><b>City</b>: Florence<br><b>Sales</b>: 191.88",
          "<b>Year</b>: 2017<br><b>Segment</b>: Consumer<br><b>City</b>: Fort Lauderdale<br><b>Sales</b>: 455.547",
          "<b>Year</b>: 2017<br><b>Segment</b>: Consumer<br><b>City</b>: Fort Worth<br><b>Sales</b>: 477.142",
          "<b>Year</b>: 2017<br><b>Segment</b>: Consumer<br><b>City</b>: Frankfort<br><b>Sales</b>: 76.864",
          "<b>Year</b>: 2017<br><b>Segment</b>: Consumer<br><b>City</b>: Franklin<br><b>Sales</b>: 1557.729",
          "<b>Year</b>: 2017<br><b>Segment</b>: Consumer<br><b>City</b>: Fremont<br><b>Sales</b>: 33.9",
          "<b>Year</b>: 2017<br><b>Segment</b>: Consumer<br><b>City</b>: Georgetown<br><b>Sales</b>: 1576.54",
          "<b>Year</b>: 2017<br><b>Segment</b>: Consumer<br><b>City</b>: Glendale<br><b>Sales</b>: 986.2139999999999",
          "<b>Year</b>: 2017<br><b>Segment</b>: Consumer<br><b>City</b>: Goldsboro<br><b>Sales</b>: 34.944",
          "<b>Year</b>: 2017<br><b>Segment</b>: Consumer<br><b>City</b>: Grand Rapids<br><b>Sales</b>: 83.7",
          "<b>Year</b>: 2017<br><b>Segment</b>: Consumer<br><b>City</b>: Greensboro<br><b>Sales</b>: 187.056",
          "<b>Year</b>: 2017<br><b>Segment</b>: Consumer<br><b>City</b>: Greenville<br><b>Sales</b>: 334.256",
          "<b>Year</b>: 2017<br><b>Segment</b>: Consumer<br><b>City</b>: Greenwood<br><b>Sales</b>: 1424.9",
          "<b>Year</b>: 2017<br><b>Segment</b>: Consumer<br><b>City</b>: Gresham<br><b>Sales</b>: 221.488",
          "<b>Year</b>: 2017<br><b>Segment</b>: Consumer<br><b>City</b>: Hamilton<br><b>Sales</b>: 123.92",
          "<b>Year</b>: 2017<br><b>Segment</b>: Consumer<br><b>City</b>: Hampton<br><b>Sales</b>: 290.98",
          "<b>Year</b>: 2017<br><b>Segment</b>: Consumer<br><b>City</b>: Harlingen<br><b>Sales</b>: 392.06",
          "<b>Year</b>: 2017<br><b>Segment</b>: Consumer<br><b>City</b>: Hattiesburg<br><b>Sales</b>: 1110.5",
          "<b>Year</b>: 2017<br><b>Segment</b>: Consumer<br><b>City</b>: Henderson<br><b>Sales</b>: 2221.55",
          "<b>Year</b>: 2017<br><b>Segment</b>: Consumer<br><b>City</b>: Hialeah<br><b>Sales</b>: 36.364",
          "<b>Year</b>: 2017<br><b>Segment</b>: Consumer<br><b>City</b>: Hickory<br><b>Sales</b>: 36.192",
          "<b>Year</b>: 2017<br><b>Segment</b>: Consumer<br><b>City</b>: Hollywood<br><b>Sales</b>: 32.064",
          "<b>Year</b>: 2017<br><b>Segment</b>: Consumer<br><b>City</b>: Homestead<br><b>Sales</b>: 85.224",
          "<b>Year</b>: 2017<br><b>Segment</b>: Consumer<br><b>City</b>: Houston<br><b>Sales</b>: 9632.1964",
          "<b>Year</b>: 2017<br><b>Segment</b>: Consumer<br><b>City</b>: Huntsville<br><b>Sales</b>: 102.36",
          "<b>Year</b>: 2017<br><b>Segment</b>: Consumer<br><b>City</b>: Irving<br><b>Sales</b>: 500.788",
          "<b>Year</b>: 2017<br><b>Segment</b>: Consumer<br><b>City</b>: Jackson<br><b>Sales</b>: 3397.691",
          "<b>Year</b>: 2017<br><b>Segment</b>: Consumer<br><b>City</b>: Jacksonville<br><b>Sales</b>: 1446.8880000000001",
          "<b>Year</b>: 2017<br><b>Segment</b>: Consumer<br><b>City</b>: Johnson City<br><b>Sales</b>: 228.586",
          "<b>Year</b>: 2017<br><b>Segment</b>: Consumer<br><b>City</b>: Jonesboro<br><b>Sales</b>: 299.48",
          "<b>Year</b>: 2017<br><b>Segment</b>: Consumer<br><b>City</b>: Kenner<br><b>Sales</b>: 89.32000000000001",
          "<b>Year</b>: 2017<br><b>Segment</b>: Consumer<br><b>City</b>: Knoxville<br><b>Sales</b>: 135.808",
          "<b>Year</b>: 2017<br><b>Segment</b>: Consumer<br><b>City</b>: La Crosse<br><b>Sales</b>: 56.82",
          "<b>Year</b>: 2017<br><b>Segment</b>: Consumer<br><b>City</b>: La Porte<br><b>Sales</b>: 111.75",
          "<b>Year</b>: 2017<br><b>Segment</b>: Consumer<br><b>City</b>: Lafayette<br><b>Sales</b>: 73.2",
          "<b>Year</b>: 2017<br><b>Segment</b>: Consumer<br><b>City</b>: Lakewood<br><b>Sales</b>: 272.459",
          "<b>Year</b>: 2017<br><b>Segment</b>: Consumer<br><b>City</b>: Lancaster<br><b>Sales</b>: 5759.812999999999",
          "<b>Year</b>: 2017<br><b>Segment</b>: Consumer<br><b>City</b>: Lansing<br><b>Sales</b>: 67.0",
          "<b>Year</b>: 2017<br><b>Segment</b>: Consumer<br><b>City</b>: Laredo<br><b>Sales</b>: 374.182",
          "<b>Year</b>: 2017<br><b>Segment</b>: Consumer<br><b>City</b>: Lawrence<br><b>Sales</b>: 161.69",
          "<b>Year</b>: 2017<br><b>Segment</b>: Consumer<br><b>City</b>: Little Rock<br><b>Sales</b>: 819.39",
          "<b>Year</b>: 2017<br><b>Segment</b>: Consumer<br><b>City</b>: Littleton<br><b>Sales</b>: 72.294",
          "<b>Year</b>: 2017<br><b>Segment</b>: Consumer<br><b>City</b>: Long Beach<br><b>Sales</b>: 1577.142",
          "<b>Year</b>: 2017<br><b>Segment</b>: Consumer<br><b>City</b>: Longmont<br><b>Sales</b>: 749.488",
          "<b>Year</b>: 2017<br><b>Segment</b>: Consumer<br><b>City</b>: Longview<br><b>Sales</b>: 24.85",
          "<b>Year</b>: 2017<br><b>Segment</b>: Consumer<br><b>City</b>: Los Angeles<br><b>Sales</b>: 26818.699",
          "<b>Year</b>: 2017<br><b>Segment</b>: Consumer<br><b>City</b>: Louisville<br><b>Sales</b>: 92.49",
          "<b>Year</b>: 2017<br><b>Segment</b>: Consumer<br><b>City</b>: Lowell<br><b>Sales</b>: 714.3",
          "<b>Year</b>: 2017<br><b>Segment</b>: Consumer<br><b>City</b>: Madison<br><b>Sales</b>: 10.07",
          "<b>Year</b>: 2017<br><b>Segment</b>: Consumer<br><b>City</b>: Malden<br><b>Sales</b>: 39.68",
          "<b>Year</b>: 2017<br><b>Segment</b>: Consumer<br><b>City</b>: Marlborough<br><b>Sales</b>: 206.64",
          "<b>Year</b>: 2017<br><b>Segment</b>: Consumer<br><b>City</b>: Marysville<br><b>Sales</b>: 102.18",
          "<b>Year</b>: 2017<br><b>Segment</b>: Consumer<br><b>City</b>: Mcallen<br><b>Sales</b>: 203.648",
          "<b>Year</b>: 2017<br><b>Segment</b>: Consumer<br><b>City</b>: Medford<br><b>Sales</b>: 24.784",
          "<b>Year</b>: 2017<br><b>Segment</b>: Consumer<br><b>City</b>: Memphis<br><b>Sales</b>: 567.228",
          "<b>Year</b>: 2017<br><b>Segment</b>: Consumer<br><b>City</b>: Mesa<br><b>Sales</b>: 59.39",
          "<b>Year</b>: 2017<br><b>Segment</b>: Consumer<br><b>City</b>: Miami<br><b>Sales</b>: 1466.32",
          "<b>Year</b>: 2017<br><b>Segment</b>: Consumer<br><b>City</b>: Middletown<br><b>Sales</b>: 552.56",
          "<b>Year</b>: 2017<br><b>Segment</b>: Consumer<br><b>City</b>: Milford<br><b>Sales</b>: 67.32000000000001",
          "<b>Year</b>: 2017<br><b>Segment</b>: Consumer<br><b>City</b>: Milwaukee<br><b>Sales</b>: 781.3900000000001",
          "<b>Year</b>: 2017<br><b>Segment</b>: Consumer<br><b>City</b>: Mishawaka<br><b>Sales</b>: 128.4",
          "<b>Year</b>: 2017<br><b>Segment</b>: Consumer<br><b>City</b>: Mission Viejo<br><b>Sales</b>: 128.67",
          "<b>Year</b>: 2017<br><b>Segment</b>: Consumer<br><b>City</b>: Mobile<br><b>Sales</b>: 298.83",
          "<b>Year</b>: 2017<br><b>Segment</b>: Consumer<br><b>City</b>: Monroe<br><b>Sales</b>: 99.87199999999999",
          "<b>Year</b>: 2017<br><b>Segment</b>: Consumer<br><b>City</b>: Montgomery<br><b>Sales</b>: 1002.7",
          "<b>Year</b>: 2017<br><b>Segment</b>: Consumer<br><b>City</b>: Moreno Valley<br><b>Sales</b>: 884.6800000000001",
          "<b>Year</b>: 2017<br><b>Segment</b>: Consumer<br><b>City</b>: Morgan Hill<br><b>Sales</b>: 545.01",
          "<b>Year</b>: 2017<br><b>Segment</b>: Consumer<br><b>City</b>: Morristown<br><b>Sales</b>: 7.56",
          "<b>Year</b>: 2017<br><b>Segment</b>: Consumer<br><b>City</b>: Murray<br><b>Sales</b>: 191.82",
          "<b>Year</b>: 2017<br><b>Segment</b>: Consumer<br><b>City</b>: Nashville<br><b>Sales</b>: 250.789",
          "<b>Year</b>: 2017<br><b>Segment</b>: Consumer<br><b>City</b>: New Rochelle<br><b>Sales</b>: 692.5020000000001",
          "<b>Year</b>: 2017<br><b>Segment</b>: Consumer<br><b>City</b>: New York City<br><b>Sales</b>: 29526.024",
          "<b>Year</b>: 2017<br><b>Segment</b>: Consumer<br><b>City</b>: Newark<br><b>Sales</b>: 3025.487",
          "<b>Year</b>: 2017<br><b>Segment</b>: Consumer<br><b>City</b>: Newport News<br><b>Sales</b>: 1611.01",
          "<b>Year</b>: 2017<br><b>Segment</b>: Consumer<br><b>City</b>: Norman<br><b>Sales</b>: 1287.45",
          "<b>Year</b>: 2017<br><b>Segment</b>: Consumer<br><b>City</b>: Oakland<br><b>Sales</b>: 479.97",
          "<b>Year</b>: 2017<br><b>Segment</b>: Consumer<br><b>City</b>: Oceanside<br><b>Sales</b>: 1200.628",
          "<b>Year</b>: 2017<br><b>Segment</b>: Consumer<br><b>City</b>: Oklahoma City<br><b>Sales</b>: 574.5",
          "<b>Year</b>: 2017<br><b>Segment</b>: Consumer<br><b>City</b>: Omaha<br><b>Sales</b>: 2374.73",
          "<b>Year</b>: 2017<br><b>Segment</b>: Consumer<br><b>City</b>: Orem<br><b>Sales</b>: 58.94",
          "<b>Year</b>: 2017<br><b>Segment</b>: Consumer<br><b>City</b>: Parma<br><b>Sales</b>: 3588.096",
          "<b>Year</b>: 2017<br><b>Segment</b>: Consumer<br><b>City</b>: Pasadena<br><b>Sales</b>: 849.92",
          "<b>Year</b>: 2017<br><b>Segment</b>: Consumer<br><b>City</b>: Passaic<br><b>Sales</b>: 1562.086",
          "<b>Year</b>: 2017<br><b>Segment</b>: Consumer<br><b>City</b>: Paterson<br><b>Sales</b>: 475.86",
          "<b>Year</b>: 2017<br><b>Segment</b>: Consumer<br><b>City</b>: Pembroke Pines<br><b>Sales</b>: 24.066",
          "<b>Year</b>: 2017<br><b>Segment</b>: Consumer<br><b>City</b>: Pensacola<br><b>Sales</b>: 2.214",
          "<b>Year</b>: 2017<br><b>Segment</b>: Consumer<br><b>City</b>: Peoria<br><b>Sales</b>: 3.98",
          "<b>Year</b>: 2017<br><b>Segment</b>: Consumer<br><b>City</b>: Perth Amboy<br><b>Sales</b>: 436.96000000000004",
          "<b>Year</b>: 2017<br><b>Segment</b>: Consumer<br><b>City</b>: Philadelphia<br><b>Sales</b>: 16315.504",
          "<b>Year</b>: 2017<br><b>Segment</b>: Consumer<br><b>City</b>: Phoenix<br><b>Sales</b>: 543.7570000000001",
          "<b>Year</b>: 2017<br><b>Segment</b>: Consumer<br><b>City</b>: Pocatello<br><b>Sales</b>: 34.68",
          "<b>Year</b>: 2017<br><b>Segment</b>: Consumer<br><b>City</b>: Port Arthur<br><b>Sales</b>: 34.048",
          "<b>Year</b>: 2017<br><b>Segment</b>: Consumer<br><b>City</b>: Port Saint Lucie<br><b>Sales</b>: 2.694",
          "<b>Year</b>: 2017<br><b>Segment</b>: Consumer<br><b>City</b>: Portland<br><b>Sales</b>: 184.149",
          "<b>Year</b>: 2017<br><b>Segment</b>: Consumer<br><b>City</b>: Providence<br><b>Sales</b>: 84.42",
          "<b>Year</b>: 2017<br><b>Segment</b>: Consumer<br><b>City</b>: Quincy<br><b>Sales</b>: 551.739",
          "<b>Year</b>: 2017<br><b>Segment</b>: Consumer<br><b>City</b>: Raleigh<br><b>Sales</b>: 1051.156",
          "<b>Year</b>: 2017<br><b>Segment</b>: Consumer<br><b>City</b>: Reading<br><b>Sales</b>: 303.92",
          "<b>Year</b>: 2017<br><b>Segment</b>: Consumer<br><b>City</b>: Redlands<br><b>Sales</b>: 124.58",
          "<b>Year</b>: 2017<br><b>Segment</b>: Consumer<br><b>City</b>: Redmond<br><b>Sales</b>: 65.944",
          "<b>Year</b>: 2017<br><b>Segment</b>: Consumer<br><b>City</b>: Redondo Beach<br><b>Sales</b>: 112.12",
          "<b>Year</b>: 2017<br><b>Segment</b>: Consumer<br><b>City</b>: Richmond<br><b>Sales</b>: 2307.56",
          "<b>Year</b>: 2017<br><b>Segment</b>: Consumer<br><b>City</b>: Riverside<br><b>Sales</b>: 36.744",
          "<b>Year</b>: 2017<br><b>Segment</b>: Consumer<br><b>City</b>: Rochester<br><b>Sales</b>: 1054.414",
          "<b>Year</b>: 2017<br><b>Segment</b>: Consumer<br><b>City</b>: Rockford<br><b>Sales</b>: 2067.7960000000003",
          "<b>Year</b>: 2017<br><b>Segment</b>: Consumer<br><b>City</b>: Rockville<br><b>Sales</b>: 442.95",
          "<b>Year</b>: 2017<br><b>Segment</b>: Consumer<br><b>City</b>: Rome<br><b>Sales</b>: 35.010000000000005",
          "<b>Year</b>: 2017<br><b>Segment</b>: Consumer<br><b>City</b>: Roseville<br><b>Sales</b>: 264.51599999999996",
          "<b>Year</b>: 2017<br><b>Segment</b>: Consumer<br><b>City</b>: Round Rock<br><b>Sales</b>: 4406.072",
          "<b>Year</b>: 2017<br><b>Segment</b>: Consumer<br><b>City</b>: Sacramento<br><b>Sales</b>: 41.99",
          "<b>Year</b>: 2017<br><b>Segment</b>: Consumer<br><b>City</b>: Saint Charles<br><b>Sales</b>: 30.344",
          "<b>Year</b>: 2017<br><b>Segment</b>: Consumer<br><b>City</b>: Salem<br><b>Sales</b>: 160.56900000000002",
          "<b>Year</b>: 2017<br><b>Segment</b>: Consumer<br><b>City</b>: San Angelo<br><b>Sales</b>: 345.324",
          "<b>Year</b>: 2017<br><b>Segment</b>: Consumer<br><b>City</b>: San Antonio<br><b>Sales</b>: 1790.879",
          "<b>Year</b>: 2017<br><b>Segment</b>: Consumer<br><b>City</b>: San Clemente<br><b>Sales</b>: 90.05799999999999",
          "<b>Year</b>: 2017<br><b>Segment</b>: Consumer<br><b>City</b>: San Diego<br><b>Sales</b>: 12885.052000000001",
          "<b>Year</b>: 2017<br><b>Segment</b>: Consumer<br><b>City</b>: San Francisco<br><b>Sales</b>: 9988.793",
          "<b>Year</b>: 2017<br><b>Segment</b>: Consumer<br><b>City</b>: San Jose<br><b>Sales</b>: 1181.33",
          "<b>Year</b>: 2017<br><b>Segment</b>: Consumer<br><b>City</b>: San Luis Obispo<br><b>Sales</b>: 3.62",
          "<b>Year</b>: 2017<br><b>Segment</b>: Consumer<br><b>City</b>: Sandy Springs<br><b>Sales</b>: 1302.83",
          "<b>Year</b>: 2017<br><b>Segment</b>: Consumer<br><b>City</b>: Santa Ana<br><b>Sales</b>: 1265.188",
          "<b>Year</b>: 2017<br><b>Segment</b>: Consumer<br><b>City</b>: Santa Clara<br><b>Sales</b>: 79.792",
          "<b>Year</b>: 2017<br><b>Segment</b>: Consumer<br><b>City</b>: Scottsdale<br><b>Sales</b>: 271.992",
          "<b>Year</b>: 2017<br><b>Segment</b>: Consumer<br><b>City</b>: Seattle<br><b>Sales</b>: 11274.072",
          "<b>Year</b>: 2017<br><b>Segment</b>: Consumer<br><b>City</b>: Sierra Vista<br><b>Sales</b>: 14.368",
          "<b>Year</b>: 2017<br><b>Segment</b>: Consumer<br><b>City</b>: Smyrna<br><b>Sales</b>: 24.592000000000002",
          "<b>Year</b>: 2017<br><b>Segment</b>: Consumer<br><b>City</b>: Springfield<br><b>Sales</b>: 4357.245",
          "<b>Year</b>: 2017<br><b>Segment</b>: Consumer<br><b>City</b>: Sterling Heights<br><b>Sales</b>: 11.68",
          "<b>Year</b>: 2017<br><b>Segment</b>: Consumer<br><b>City</b>: Stockton<br><b>Sales</b>: 215.24",
          "<b>Year</b>: 2017<br><b>Segment</b>: Consumer<br><b>City</b>: Tallahassee<br><b>Sales</b>: 1401.2440000000001",
          "<b>Year</b>: 2017<br><b>Segment</b>: Consumer<br><b>City</b>: Tampa<br><b>Sales</b>: 38.19",
          "<b>Year</b>: 2017<br><b>Segment</b>: Consumer<br><b>City</b>: Taylor<br><b>Sales</b>: 301.96",
          "<b>Year</b>: 2017<br><b>Segment</b>: Consumer<br><b>City</b>: Tempe<br><b>Sales</b>: 307.92",
          "<b>Year</b>: 2017<br><b>Segment</b>: Consumer<br><b>City</b>: The Colony<br><b>Sales</b>: 142.16000000000003",
          "<b>Year</b>: 2017<br><b>Segment</b>: Consumer<br><b>City</b>: Thomasville<br><b>Sales</b>: 151.292",
          "<b>Year</b>: 2017<br><b>Segment</b>: Consumer<br><b>City</b>: Toledo<br><b>Sales</b>: 53.696",
          "<b>Year</b>: 2017<br><b>Segment</b>: Consumer<br><b>City</b>: Trenton<br><b>Sales</b>: 338.53999999999996",
          "<b>Year</b>: 2017<br><b>Segment</b>: Consumer<br><b>City</b>: Troy<br><b>Sales</b>: 726.394",
          "<b>Year</b>: 2017<br><b>Segment</b>: Consumer<br><b>City</b>: Tulsa<br><b>Sales</b>: 277.67",
          "<b>Year</b>: 2017<br><b>Segment</b>: Consumer<br><b>City</b>: Urbandale<br><b>Sales</b>: 103.19999999999999",
          "<b>Year</b>: 2017<br><b>Segment</b>: Consumer<br><b>City</b>: Vineland<br><b>Sales</b>: 244.006",
          "<b>Year</b>: 2017<br><b>Segment</b>: Consumer<br><b>City</b>: Virginia Beach<br><b>Sales</b>: 1120.73",
          "<b>Year</b>: 2017<br><b>Segment</b>: Consumer<br><b>City</b>: Visalia<br><b>Sales</b>: 310.86",
          "<b>Year</b>: 2017<br><b>Segment</b>: Consumer<br><b>City</b>: Waco<br><b>Sales</b>: 23.968",
          "<b>Year</b>: 2017<br><b>Segment</b>: Consumer<br><b>City</b>: Warner Robins<br><b>Sales</b>: 41.86",
          "<b>Year</b>: 2017<br><b>Segment</b>: Consumer<br><b>City</b>: Washington<br><b>Sales</b>: 83.15",
          "<b>Year</b>: 2017<br><b>Segment</b>: Consumer<br><b>City</b>: Waterbury<br><b>Sales</b>: 253.03000000000003",
          "<b>Year</b>: 2017<br><b>Segment</b>: Consumer<br><b>City</b>: Watertown<br><b>Sales</b>: 698.5",
          "<b>Year</b>: 2017<br><b>Segment</b>: Consumer<br><b>City</b>: Waukesha<br><b>Sales</b>: 54.5",
          "<b>Year</b>: 2017<br><b>Segment</b>: Consumer<br><b>City</b>: West Palm Beach<br><b>Sales</b>: 72.224",
          "<b>Year</b>: 2017<br><b>Segment</b>: Consumer<br><b>City</b>: Westland<br><b>Sales</b>: 1137.4",
          "<b>Year</b>: 2017<br><b>Segment</b>: Consumer<br><b>City</b>: Wheeling<br><b>Sales</b>: 615.606",
          "<b>Year</b>: 2017<br><b>Segment</b>: Consumer<br><b>City</b>: Wichita<br><b>Sales</b>: 396.17",
          "<b>Year</b>: 2017<br><b>Segment</b>: Consumer<br><b>City</b>: Wilmington<br><b>Sales</b>: 490.782",
          "<b>Year</b>: 2017<br><b>Segment</b>: Consumer<br><b>City</b>: Woodland<br><b>Sales</b>: 239.984",
          "<b>Year</b>: 2017<br><b>Segment</b>: Consumer<br><b>City</b>: Yonkers<br><b>Sales</b>: 6125.822",
          "<b>Year</b>: 2017<br><b>Segment</b>: Corporate<br><b>City</b>: Akron<br><b>Sales</b>: 787.044",
          "<b>Year</b>: 2017<br><b>Segment</b>: Corporate<br><b>City</b>: Amarillo<br><b>Sales</b>: 19.648",
          "<b>Year</b>: 2017<br><b>Segment</b>: Corporate<br><b>City</b>: Anaheim<br><b>Sales</b>: 1293.488",
          "<b>Year</b>: 2017<br><b>Segment</b>: Corporate<br><b>City</b>: Antioch<br><b>Sales</b>: 19.44",
          "<b>Year</b>: 2017<br><b>Segment</b>: Corporate<br><b>City</b>: Apopka<br><b>Sales</b>: 29.97",
          "<b>Year</b>: 2017<br><b>Segment</b>: Corporate<br><b>City</b>: Arlington<br><b>Sales</b>: 1377.2359999999999",
          "<b>Year</b>: 2017<br><b>Segment</b>: Corporate<br><b>City</b>: Arvada<br><b>Sales</b>: 503.4",
          "<b>Year</b>: 2017<br><b>Segment</b>: Corporate<br><b>City</b>: Atlantic City<br><b>Sales</b>: 23.36",
          "<b>Year</b>: 2017<br><b>Segment</b>: Corporate<br><b>City</b>: Aurora<br><b>Sales</b>: 1092.39",
          "<b>Year</b>: 2017<br><b>Segment</b>: Corporate<br><b>City</b>: Austin<br><b>Sales</b>: 1361.594",
          "<b>Year</b>: 2017<br><b>Segment</b>: Corporate<br><b>City</b>: Bakersfield<br><b>Sales</b>: 36.16",
          "<b>Year</b>: 2017<br><b>Segment</b>: Corporate<br><b>City</b>: Baltimore<br><b>Sales</b>: 207.76",
          "<b>Year</b>: 2017<br><b>Segment</b>: Corporate<br><b>City</b>: Bangor<br><b>Sales</b>: 547.33",
          "<b>Year</b>: 2017<br><b>Segment</b>: Corporate<br><b>City</b>: Belleville<br><b>Sales</b>: 1263.67",
          "<b>Year</b>: 2017<br><b>Segment</b>: Corporate<br><b>City</b>: Bowling Green<br><b>Sales</b>: 140.81",
          "<b>Year</b>: 2017<br><b>Segment</b>: Corporate<br><b>City</b>: Bridgeton<br><b>Sales</b>: 52.410000000000004",
          "<b>Year</b>: 2017<br><b>Segment</b>: Corporate<br><b>City</b>: Bristol<br><b>Sales</b>: 40.896",
          "<b>Year</b>: 2017<br><b>Segment</b>: Corporate<br><b>City</b>: Broken Arrow<br><b>Sales</b>: 1604.73",
          "<b>Year</b>: 2017<br><b>Segment</b>: Corporate<br><b>City</b>: Broomfield<br><b>Sales</b>: 68.432",
          "<b>Year</b>: 2017<br><b>Segment</b>: Corporate<br><b>City</b>: Burlington<br><b>Sales</b>: 2302.334",
          "<b>Year</b>: 2017<br><b>Segment</b>: Corporate<br><b>City</b>: Carlsbad<br><b>Sales</b>: 24.904",
          "<b>Year</b>: 2017<br><b>Segment</b>: Corporate<br><b>City</b>: Carrollton<br><b>Sales</b>: 106.336",
          "<b>Year</b>: 2017<br><b>Segment</b>: Corporate<br><b>City</b>: Charlotte<br><b>Sales</b>: 2103.132",
          "<b>Year</b>: 2017<br><b>Segment</b>: Corporate<br><b>City</b>: Chattanooga<br><b>Sales</b>: 132.224",
          "<b>Year</b>: 2017<br><b>Segment</b>: Corporate<br><b>City</b>: Chicago<br><b>Sales</b>: 1140.332",
          "<b>Year</b>: 2017<br><b>Segment</b>: Corporate<br><b>City</b>: Cincinnati<br><b>Sales</b>: 889.3800000000001",
          "<b>Year</b>: 2017<br><b>Segment</b>: Corporate<br><b>City</b>: Columbia<br><b>Sales</b>: 400.64000000000004",
          "<b>Year</b>: 2017<br><b>Segment</b>: Corporate<br><b>City</b>: Columbus<br><b>Sales</b>: 2023.276",
          "<b>Year</b>: 2017<br><b>Segment</b>: Corporate<br><b>City</b>: Conroe<br><b>Sales</b>: 111.672",
          "<b>Year</b>: 2017<br><b>Segment</b>: Corporate<br><b>City</b>: Coral Gables<br><b>Sales</b>: 64.248",
          "<b>Year</b>: 2017<br><b>Segment</b>: Corporate<br><b>City</b>: Dallas<br><b>Sales</b>: 1201.748",
          "<b>Year</b>: 2017<br><b>Segment</b>: Corporate<br><b>City</b>: Decatur<br><b>Sales</b>: 224.9",
          "<b>Year</b>: 2017<br><b>Segment</b>: Corporate<br><b>City</b>: Deer Park<br><b>Sales</b>: 6.924",
          "<b>Year</b>: 2017<br><b>Segment</b>: Corporate<br><b>City</b>: Delray Beach<br><b>Sales</b>: 232.62400000000002",
          "<b>Year</b>: 2017<br><b>Segment</b>: Corporate<br><b>City</b>: Denver<br><b>Sales</b>: 2738.202",
          "<b>Year</b>: 2017<br><b>Segment</b>: Corporate<br><b>City</b>: Des Moines<br><b>Sales</b>: 445.4",
          "<b>Year</b>: 2017<br><b>Segment</b>: Corporate<br><b>City</b>: Detroit<br><b>Sales</b>: 5912.88",
          "<b>Year</b>: 2017<br><b>Segment</b>: Corporate<br><b>City</b>: Dover<br><b>Sales</b>: 371.94",
          "<b>Year</b>: 2017<br><b>Segment</b>: Corporate<br><b>City</b>: Eagan<br><b>Sales</b>: 63.44",
          "<b>Year</b>: 2017<br><b>Segment</b>: Corporate<br><b>City</b>: Edmonds<br><b>Sales</b>: 179.97",
          "<b>Year</b>: 2017<br><b>Segment</b>: Corporate<br><b>City</b>: El Cajon<br><b>Sales</b>: 387.136",
          "<b>Year</b>: 2017<br><b>Segment</b>: Corporate<br><b>City</b>: Eugene<br><b>Sales</b>: 1465.032",
          "<b>Year</b>: 2017<br><b>Segment</b>: Corporate<br><b>City</b>: Fairfield<br><b>Sales</b>: 537.616",
          "<b>Year</b>: 2017<br><b>Segment</b>: Corporate<br><b>City</b>: Fort Lauderdale<br><b>Sales</b>: 519.68",
          "<b>Year</b>: 2017<br><b>Segment</b>: Corporate<br><b>City</b>: Fort Worth<br><b>Sales</b>: 39.792",
          "<b>Year</b>: 2017<br><b>Segment</b>: Corporate<br><b>City</b>: Franklin<br><b>Sales</b>: 4494.6",
          "<b>Year</b>: 2017<br><b>Segment</b>: Corporate<br><b>City</b>: Fremont<br><b>Sales</b>: 79.80000000000001",
          "<b>Year</b>: 2017<br><b>Segment</b>: Corporate<br><b>City</b>: Fresno<br><b>Sales</b>: 727.8779999999999",
          "<b>Year</b>: 2017<br><b>Segment</b>: Corporate<br><b>City</b>: Gaithersburg<br><b>Sales</b>: 405.91999999999996",
          "<b>Year</b>: 2017<br><b>Segment</b>: Corporate<br><b>City</b>: Glendale<br><b>Sales</b>: 138.49599999999998",
          "<b>Year</b>: 2017<br><b>Segment</b>: Corporate<br><b>City</b>: Grand Prairie<br><b>Sales</b>: 95.32",
          "<b>Year</b>: 2017<br><b>Segment</b>: Corporate<br><b>City</b>: Grand Rapids<br><b>Sales</b>: 24.85",
          "<b>Year</b>: 2017<br><b>Segment</b>: Corporate<br><b>City</b>: Grapevine<br><b>Sales</b>: 41.528",
          "<b>Year</b>: 2017<br><b>Segment</b>: Corporate<br><b>City</b>: Green Bay<br><b>Sales</b>: 35.7",
          "<b>Year</b>: 2017<br><b>Segment</b>: Corporate<br><b>City</b>: Greensboro<br><b>Sales</b>: 140.183",
          "<b>Year</b>: 2017<br><b>Segment</b>: Corporate<br><b>City</b>: Greenville<br><b>Sales</b>: 17.616",
          "<b>Year</b>: 2017<br><b>Segment</b>: Corporate<br><b>City</b>: Gresham<br><b>Sales</b>: 403.168",
          "<b>Year</b>: 2017<br><b>Segment</b>: Corporate<br><b>City</b>: Gulfport<br><b>Sales</b>: 117.81",
          "<b>Year</b>: 2017<br><b>Segment</b>: Corporate<br><b>City</b>: Hempstead<br><b>Sales</b>: 1671.08",
          "<b>Year</b>: 2017<br><b>Segment</b>: Corporate<br><b>City</b>: Henderson<br><b>Sales</b>: 1691.6080000000002",
          "<b>Year</b>: 2017<br><b>Segment</b>: Corporate<br><b>City</b>: Hesperia<br><b>Sales</b>: 776.4675",
          "<b>Year</b>: 2017<br><b>Segment</b>: Corporate<br><b>City</b>: Hialeah<br><b>Sales</b>: 45.584",
          "<b>Year</b>: 2017<br><b>Segment</b>: Corporate<br><b>City</b>: Highland Park<br><b>Sales</b>: 577.1220000000001",
          "<b>Year</b>: 2017<br><b>Segment</b>: Corporate<br><b>City</b>: Hollywood<br><b>Sales</b>: 9.216",
          "<b>Year</b>: 2017<br><b>Segment</b>: Corporate<br><b>City</b>: Houston<br><b>Sales</b>: 5448.7429999999995",
          "<b>Year</b>: 2017<br><b>Segment</b>: Corporate<br><b>City</b>: Huntsville<br><b>Sales</b>: 3043.5768",
          "<b>Year</b>: 2017<br><b>Segment</b>: Corporate<br><b>City</b>: Indianapolis<br><b>Sales</b>: 54.96",
          "<b>Year</b>: 2017<br><b>Segment</b>: Corporate<br><b>City</b>: Iowa City<br><b>Sales</b>: 9.99",
          "<b>Year</b>: 2017<br><b>Segment</b>: Corporate<br><b>City</b>: Irving<br><b>Sales</b>: 15.936",
          "<b>Year</b>: 2017<br><b>Segment</b>: Corporate<br><b>City</b>: Jackson<br><b>Sales</b>: 1966.954",
          "<b>Year</b>: 2017<br><b>Segment</b>: Corporate<br><b>City</b>: Jacksonville<br><b>Sales</b>: 1198.792",
          "<b>Year</b>: 2017<br><b>Segment</b>: Corporate<br><b>City</b>: Kent<br><b>Sales</b>: 103.968",
          "<b>Year</b>: 2017<br><b>Segment</b>: Corporate<br><b>City</b>: La Crosse<br><b>Sales</b>: 773.59",
          "<b>Year</b>: 2017<br><b>Segment</b>: Corporate<br><b>City</b>: La Porte<br><b>Sales</b>: 383.14",
          "<b>Year</b>: 2017<br><b>Segment</b>: Corporate<br><b>City</b>: Lafayette<br><b>Sales</b>: 18358.140000000003",
          "<b>Year</b>: 2017<br><b>Segment</b>: Corporate<br><b>City</b>: Lakeland<br><b>Sales</b>: 562.2925",
          "<b>Year</b>: 2017<br><b>Segment</b>: Corporate<br><b>City</b>: Lakewood<br><b>Sales</b>: 9834.306",
          "<b>Year</b>: 2017<br><b>Segment</b>: Corporate<br><b>City</b>: Lancaster<br><b>Sales</b>: 2.907",
          "<b>Year</b>: 2017<br><b>Segment</b>: Corporate<br><b>City</b>: Lincoln Park<br><b>Sales</b>: 167.292",
          "<b>Year</b>: 2017<br><b>Segment</b>: Corporate<br><b>City</b>: Long Beach<br><b>Sales</b>: 34.38",
          "<b>Year</b>: 2017<br><b>Segment</b>: Corporate<br><b>City</b>: Longmont<br><b>Sales</b>: 165.6",
          "<b>Year</b>: 2017<br><b>Segment</b>: Corporate<br><b>City</b>: Lorain<br><b>Sales</b>: 402.645",
          "<b>Year</b>: 2017<br><b>Segment</b>: Corporate<br><b>City</b>: Los Angeles<br><b>Sales</b>: 17523.77",
          "<b>Year</b>: 2017<br><b>Segment</b>: Corporate<br><b>City</b>: Lowell<br><b>Sales</b>: 105.52",
          "<b>Year</b>: 2017<br><b>Segment</b>: Corporate<br><b>City</b>: Manchester<br><b>Sales</b>: 1179.27",
          "<b>Year</b>: 2017<br><b>Segment</b>: Corporate<br><b>City</b>: Marietta<br><b>Sales</b>: 2673.6899999999996",
          "<b>Year</b>: 2017<br><b>Segment</b>: Corporate<br><b>City</b>: Marion<br><b>Sales</b>: 115.84",
          "<b>Year</b>: 2017<br><b>Segment</b>: Corporate<br><b>City</b>: Miami<br><b>Sales</b>: 875.544",
          "<b>Year</b>: 2017<br><b>Segment</b>: Corporate<br><b>City</b>: Middletown<br><b>Sales</b>: 48.16",
          "<b>Year</b>: 2017<br><b>Segment</b>: Corporate<br><b>City</b>: Milwaukee<br><b>Sales</b>: 1467.89",
          "<b>Year</b>: 2017<br><b>Segment</b>: Corporate<br><b>City</b>: Minneapolis<br><b>Sales</b>: 18.84",
          "<b>Year</b>: 2017<br><b>Segment</b>: Corporate<br><b>City</b>: Mobile<br><b>Sales</b>: 3236.41",
          "<b>Year</b>: 2017<br><b>Segment</b>: Corporate<br><b>City</b>: Monroe<br><b>Sales</b>: 100.24000000000001",
          "<b>Year</b>: 2017<br><b>Segment</b>: Corporate<br><b>City</b>: Montebello<br><b>Sales</b>: 27.88",
          "<b>Year</b>: 2017<br><b>Segment</b>: Corporate<br><b>City</b>: Morristown<br><b>Sales</b>: 1793.98",
          "<b>Year</b>: 2017<br><b>Segment</b>: Corporate<br><b>City</b>: Murfreesboro<br><b>Sales</b>: 14.352",
          "<b>Year</b>: 2017<br><b>Segment</b>: Corporate<br><b>City</b>: Nashua<br><b>Sales</b>: 21.12",
          "<b>Year</b>: 2017<br><b>Segment</b>: Corporate<br><b>City</b>: Nashville<br><b>Sales</b>: 31.086",
          "<b>Year</b>: 2017<br><b>Segment</b>: Corporate<br><b>City</b>: New York City<br><b>Sales</b>: 14745.886",
          "<b>Year</b>: 2017<br><b>Segment</b>: Corporate<br><b>City</b>: Newark<br><b>Sales</b>: 323.81600000000003",
          "<b>Year</b>: 2017<br><b>Segment</b>: Corporate<br><b>City</b>: Noblesville<br><b>Sales</b>: 2678.94",
          "<b>Year</b>: 2017<br><b>Segment</b>: Corporate<br><b>City</b>: Norman<br><b>Sales</b>: 63.88",
          "<b>Year</b>: 2017<br><b>Segment</b>: Corporate<br><b>City</b>: North Las Vegas<br><b>Sales</b>: 58.58",
          "<b>Year</b>: 2017<br><b>Segment</b>: Corporate<br><b>City</b>: Norwich<br><b>Sales</b>: 11.34",
          "<b>Year</b>: 2017<br><b>Segment</b>: Corporate<br><b>City</b>: Oakland<br><b>Sales</b>: 75.126",
          "<b>Year</b>: 2017<br><b>Segment</b>: Corporate<br><b>City</b>: Oceanside<br><b>Sales</b>: 405.3",
          "<b>Year</b>: 2017<br><b>Segment</b>: Corporate<br><b>City</b>: Odessa<br><b>Sales</b>: 606.2139999999999",
          "<b>Year</b>: 2017<br><b>Segment</b>: Corporate<br><b>City</b>: Oklahoma City<br><b>Sales</b>: 94.94999999999999",
          "<b>Year</b>: 2017<br><b>Segment</b>: Corporate<br><b>City</b>: Orlando<br><b>Sales</b>: 574.056",
          "<b>Year</b>: 2017<br><b>Segment</b>: Corporate<br><b>City</b>: Overland Park<br><b>Sales</b>: 186.95",
          "<b>Year</b>: 2017<br><b>Segment</b>: Corporate<br><b>City</b>: Palm Coast<br><b>Sales</b>: 7.434",
          "<b>Year</b>: 2017<br><b>Segment</b>: Corporate<br><b>City</b>: Parker<br><b>Sales</b>: 874.308",
          "<b>Year</b>: 2017<br><b>Segment</b>: Corporate<br><b>City</b>: Pasadena<br><b>Sales</b>: 1383.5399999999997",
          "<b>Year</b>: 2017<br><b>Segment</b>: Corporate<br><b>City</b>: Perth Amboy<br><b>Sales</b>: 815.12",
          "<b>Year</b>: 2017<br><b>Segment</b>: Corporate<br><b>City</b>: Philadelphia<br><b>Sales</b>: 6869.597",
          "<b>Year</b>: 2017<br><b>Segment</b>: Corporate<br><b>City</b>: Phoenix<br><b>Sales</b>: 532.519",
          "<b>Year</b>: 2017<br><b>Segment</b>: Corporate<br><b>City</b>: Plainfield<br><b>Sales</b>: 910.53",
          "<b>Year</b>: 2017<br><b>Segment</b>: Corporate<br><b>City</b>: Portland<br><b>Sales</b>: 335.8",
          "<b>Year</b>: 2017<br><b>Segment</b>: Corporate<br><b>City</b>: Providence<br><b>Sales</b>: 12.96",
          "<b>Year</b>: 2017<br><b>Segment</b>: Corporate<br><b>City</b>: Quincy<br><b>Sales</b>: 99.136",
          "<b>Year</b>: 2017<br><b>Segment</b>: Corporate<br><b>City</b>: Redwood City<br><b>Sales</b>: 41.904",
          "<b>Year</b>: 2017<br><b>Segment</b>: Corporate<br><b>City</b>: Reno<br><b>Sales</b>: 163.408",
          "<b>Year</b>: 2017<br><b>Segment</b>: Corporate<br><b>City</b>: Richardson<br><b>Sales</b>: 1288.4640000000002",
          "<b>Year</b>: 2017<br><b>Segment</b>: Corporate<br><b>City</b>: Richmond<br><b>Sales</b>: 2167.73",
          "<b>Year</b>: 2017<br><b>Segment</b>: Corporate<br><b>City</b>: Riverside<br><b>Sales</b>: 1085.688",
          "<b>Year</b>: 2017<br><b>Segment</b>: Corporate<br><b>City</b>: Rochester<br><b>Sales</b>: 1133.666",
          "<b>Year</b>: 2017<br><b>Segment</b>: Corporate<br><b>City</b>: Rockford<br><b>Sales</b>: 442.372",
          "<b>Year</b>: 2017<br><b>Segment</b>: Corporate<br><b>City</b>: Roseville<br><b>Sales</b>: 491.57",
          "<b>Year</b>: 2017<br><b>Segment</b>: Corporate<br><b>City</b>: Sacramento<br><b>Sales</b>: 335.12",
          "<b>Year</b>: 2017<br><b>Segment</b>: Corporate<br><b>City</b>: Saint Paul<br><b>Sales</b>: 192.82999999999998",
          "<b>Year</b>: 2017<br><b>Segment</b>: Corporate<br><b>City</b>: Salinas<br><b>Sales</b>: 44.040000000000006",
          "<b>Year</b>: 2017<br><b>Segment</b>: Corporate<br><b>City</b>: San Antonio<br><b>Sales</b>: 376.64",
          "<b>Year</b>: 2017<br><b>Segment</b>: Corporate<br><b>City</b>: San Diego<br><b>Sales</b>: 4375.722",
          "<b>Year</b>: 2017<br><b>Segment</b>: Corporate<br><b>City</b>: San Francisco<br><b>Sales</b>: 15820.89",
          "<b>Year</b>: 2017<br><b>Segment</b>: Corporate<br><b>City</b>: San Jose<br><b>Sales</b>: 494.254",
          "<b>Year</b>: 2017<br><b>Segment</b>: Corporate<br><b>City</b>: Scottsdale<br><b>Sales</b>: 111.888",
          "<b>Year</b>: 2017<br><b>Segment</b>: Corporate<br><b>City</b>: Seattle<br><b>Sales</b>: 3991.646",
          "<b>Year</b>: 2017<br><b>Segment</b>: Corporate<br><b>City</b>: Sierra Vista<br><b>Sales</b>: 61.70399999999999",
          "<b>Year</b>: 2017<br><b>Segment</b>: Corporate<br><b>City</b>: Smyrna<br><b>Sales</b>: 104.712",
          "<b>Year</b>: 2017<br><b>Segment</b>: Corporate<br><b>City</b>: Sparks<br><b>Sales</b>: 2396.4",
          "<b>Year</b>: 2017<br><b>Segment</b>: Corporate<br><b>City</b>: Spokane<br><b>Sales</b>: 837.6",
          "<b>Year</b>: 2017<br><b>Segment</b>: Corporate<br><b>City</b>: Springfield<br><b>Sales</b>: 6880.0199999999995",
          "<b>Year</b>: 2017<br><b>Segment</b>: Corporate<br><b>City</b>: Stockton<br><b>Sales</b>: 273.92",
          "<b>Year</b>: 2017<br><b>Segment</b>: Corporate<br><b>City</b>: Tallahassee<br><b>Sales</b>: 452.464",
          "<b>Year</b>: 2017<br><b>Segment</b>: Corporate<br><b>City</b>: Tamarac<br><b>Sales</b>: 1410.066",
          "<b>Year</b>: 2017<br><b>Segment</b>: Corporate<br><b>City</b>: Tampa<br><b>Sales</b>: 324.38700000000006",
          "<b>Year</b>: 2017<br><b>Segment</b>: Corporate<br><b>City</b>: Tigard<br><b>Sales</b>: 65.07000000000001",
          "<b>Year</b>: 2017<br><b>Segment</b>: Corporate<br><b>City</b>: Toledo<br><b>Sales</b>: 259.048",
          "<b>Year</b>: 2017<br><b>Segment</b>: Corporate<br><b>City</b>: Torrance<br><b>Sales</b>: 1120.368",
          "<b>Year</b>: 2017<br><b>Segment</b>: Corporate<br><b>City</b>: Troy<br><b>Sales</b>: 23.976",
          "<b>Year</b>: 2017<br><b>Segment</b>: Corporate<br><b>City</b>: Tucson<br><b>Sales</b>: 852.488",
          "<b>Year</b>: 2017<br><b>Segment</b>: Corporate<br><b>City</b>: Tulsa<br><b>Sales</b>: 806.19",
          "<b>Year</b>: 2017<br><b>Segment</b>: Corporate<br><b>City</b>: Twin Falls<br><b>Sales</b>: 1148.806",
          "<b>Year</b>: 2017<br><b>Segment</b>: Corporate<br><b>City</b>: Utica<br><b>Sales</b>: 40.48",
          "<b>Year</b>: 2017<br><b>Segment</b>: Corporate<br><b>City</b>: Vancouver<br><b>Sales</b>: 633.1759999999999",
          "<b>Year</b>: 2017<br><b>Segment</b>: Corporate<br><b>City</b>: Vineland<br><b>Sales</b>: 239.43",
          "<b>Year</b>: 2017<br><b>Segment</b>: Corporate<br><b>City</b>: Virginia Beach<br><b>Sales</b>: 10.96",
          "<b>Year</b>: 2017<br><b>Segment</b>: Corporate<br><b>City</b>: Warwick<br><b>Sales</b>: 2111.92",
          "<b>Year</b>: 2017<br><b>Segment</b>: Corporate<br><b>City</b>: Waterbury<br><b>Sales</b>: 584.7700000000001",
          "<b>Year</b>: 2017<br><b>Segment</b>: Corporate<br><b>City</b>: West Allis<br><b>Sales</b>: 250.48000000000002",
          "<b>Year</b>: 2017<br><b>Segment</b>: Corporate<br><b>City</b>: Westfield<br><b>Sales</b>: 31.56",
          "<b>Year</b>: 2017<br><b>Segment</b>: Corporate<br><b>City</b>: Wilson<br><b>Sales</b>: 191.808",
          "<b>Year</b>: 2017<br><b>Segment</b>: Corporate<br><b>City</b>: Woodbury<br><b>Sales</b>: 535.41",
          "<b>Year</b>: 2017<br><b>Segment</b>: Corporate<br><b>City</b>: Woodstock<br><b>Sales</b>: 845.488",
          "<b>Year</b>: 2017<br><b>Segment</b>: Corporate<br><b>City</b>: York<br><b>Sales</b>: 714.498",
          "<b>Year</b>: 2017<br><b>Segment</b>: Corporate<br><b>City</b>: Yuma<br><b>Sales</b>: 196.024",
          "<b>Year</b>: 2017<br><b>Segment</b>: Home Office<br><b>City</b>: Akron<br><b>Sales</b>: 17.184",
          "<b>Year</b>: 2017<br><b>Segment</b>: Home Office<br><b>City</b>: Apopka<br><b>Sales</b>: 681.432",
          "<b>Year</b>: 2017<br><b>Segment</b>: Home Office<br><b>City</b>: Arlington<br><b>Sales</b>: 71.54",
          "<b>Year</b>: 2017<br><b>Segment</b>: Home Office<br><b>City</b>: Atlanta<br><b>Sales</b>: 1396.35",
          "<b>Year</b>: 2017<br><b>Segment</b>: Home Office<br><b>City</b>: Auburn<br><b>Sales</b>: 4.18",
          "<b>Year</b>: 2017<br><b>Segment</b>: Home Office<br><b>City</b>: Aurora<br><b>Sales</b>: 1636.376",
          "<b>Year</b>: 2017<br><b>Segment</b>: Home Office<br><b>City</b>: Bakersfield<br><b>Sales</b>: 9.514",
          "<b>Year</b>: 2017<br><b>Segment</b>: Home Office<br><b>City</b>: Bellevue<br><b>Sales</b>: 25.35",
          "<b>Year</b>: 2017<br><b>Segment</b>: Home Office<br><b>City</b>: Bristol<br><b>Sales</b>: 67.56",
          "<b>Year</b>: 2017<br><b>Segment</b>: Home Office<br><b>City</b>: Burlington<br><b>Sales</b>: 1294.75",
          "<b>Year</b>: 2017<br><b>Segment</b>: Home Office<br><b>City</b>: Charlotte<br><b>Sales</b>: 823.6099999999999",
          "<b>Year</b>: 2017<br><b>Segment</b>: Home Office<br><b>City</b>: Chattanooga<br><b>Sales</b>: 91.475",
          "<b>Year</b>: 2017<br><b>Segment</b>: Home Office<br><b>City</b>: Cheyenne<br><b>Sales</b>: 1603.136",
          "<b>Year</b>: 2017<br><b>Segment</b>: Home Office<br><b>City</b>: Chicago<br><b>Sales</b>: 3283.291",
          "<b>Year</b>: 2017<br><b>Segment</b>: Home Office<br><b>City</b>: Cleveland<br><b>Sales</b>: 346.264",
          "<b>Year</b>: 2017<br><b>Segment</b>: Home Office<br><b>City</b>: Colorado Springs<br><b>Sales</b>: 1385.0549999999998",
          "<b>Year</b>: 2017<br><b>Segment</b>: Home Office<br><b>City</b>: Columbia<br><b>Sales</b>: 2403.48",
          "<b>Year</b>: 2017<br><b>Segment</b>: Home Office<br><b>City</b>: Columbus<br><b>Sales</b>: 3123.565",
          "<b>Year</b>: 2017<br><b>Segment</b>: Home Office<br><b>City</b>: Concord<br><b>Sales</b>: 752.48",
          "<b>Year</b>: 2017<br><b>Segment</b>: Home Office<br><b>City</b>: Covington<br><b>Sales</b>: 366.78",
          "<b>Year</b>: 2017<br><b>Segment</b>: Home Office<br><b>City</b>: Dallas<br><b>Sales</b>: 231.056",
          "<b>Year</b>: 2017<br><b>Segment</b>: Home Office<br><b>City</b>: Denver<br><b>Sales</b>: 29.472",
          "<b>Year</b>: 2017<br><b>Segment</b>: Home Office<br><b>City</b>: Detroit<br><b>Sales</b>: 569.3599999999999",
          "<b>Year</b>: 2017<br><b>Segment</b>: Home Office<br><b>City</b>: Elmhurst<br><b>Sales</b>: 240.04",
          "<b>Year</b>: 2017<br><b>Segment</b>: Home Office<br><b>City</b>: Fayetteville<br><b>Sales</b>: 19.44",
          "<b>Year</b>: 2017<br><b>Segment</b>: Home Office<br><b>City</b>: Florence<br><b>Sales</b>: 4.98",
          "<b>Year</b>: 2017<br><b>Segment</b>: Home Office<br><b>City</b>: Fort Collins<br><b>Sales</b>: 98.328",
          "<b>Year</b>: 2017<br><b>Segment</b>: Home Office<br><b>City</b>: Franklin<br><b>Sales</b>: 47.97",
          "<b>Year</b>: 2017<br><b>Segment</b>: Home Office<br><b>City</b>: Fresno<br><b>Sales</b>: 120.666",
          "<b>Year</b>: 2017<br><b>Segment</b>: Home Office<br><b>City</b>: Gastonia<br><b>Sales</b>: 895.06",
          "<b>Year</b>: 2017<br><b>Segment</b>: Home Office<br><b>City</b>: Greenville<br><b>Sales</b>: 37.263999999999996",
          "<b>Year</b>: 2017<br><b>Segment</b>: Home Office<br><b>City</b>: Hendersonville<br><b>Sales</b>: 16.218",
          "<b>Year</b>: 2017<br><b>Segment</b>: Home Office<br><b>City</b>: Hialeah<br><b>Sales</b>: 392.832",
          "<b>Year</b>: 2017<br><b>Segment</b>: Home Office<br><b>City</b>: Highland Park<br><b>Sales</b>: 3.136",
          "<b>Year</b>: 2017<br><b>Segment</b>: Home Office<br><b>City</b>: Holland<br><b>Sales</b>: 130.36",
          "<b>Year</b>: 2017<br><b>Segment</b>: Home Office<br><b>City</b>: Hot Springs<br><b>Sales</b>: 215.83999999999997",
          "<b>Year</b>: 2017<br><b>Segment</b>: Home Office<br><b>City</b>: Houston<br><b>Sales</b>: 1268.174",
          "<b>Year</b>: 2017<br><b>Segment</b>: Home Office<br><b>City</b>: Huntington Beach<br><b>Sales</b>: 12.78",
          "<b>Year</b>: 2017<br><b>Segment</b>: Home Office<br><b>City</b>: Jackson<br><b>Sales</b>: 2145.4",
          "<b>Year</b>: 2017<br><b>Segment</b>: Home Office<br><b>City</b>: Jacksonville<br><b>Sales</b>: 5.08",
          "<b>Year</b>: 2017<br><b>Segment</b>: Home Office<br><b>City</b>: Jefferson City<br><b>Sales</b>: 86.62",
          "<b>Year</b>: 2017<br><b>Segment</b>: Home Office<br><b>City</b>: Laguna Niguel<br><b>Sales</b>: 12.96",
          "<b>Year</b>: 2017<br><b>Segment</b>: Home Office<br><b>City</b>: Lake Forest<br><b>Sales</b>: 1027.676",
          "<b>Year</b>: 2017<br><b>Segment</b>: Home Office<br><b>City</b>: Lancaster<br><b>Sales</b>: 152.313",
          "<b>Year</b>: 2017<br><b>Segment</b>: Home Office<br><b>City</b>: Lawrence<br><b>Sales</b>: 196.33",
          "<b>Year</b>: 2017<br><b>Segment</b>: Home Office<br><b>City</b>: Lebanon<br><b>Sales</b>: 239.976",
          "<b>Year</b>: 2017<br><b>Segment</b>: Home Office<br><b>City</b>: Lehi<br><b>Sales</b>: 1499.95",
          "<b>Year</b>: 2017<br><b>Segment</b>: Home Office<br><b>City</b>: Long Beach<br><b>Sales</b>: 80.28",
          "<b>Year</b>: 2017<br><b>Segment</b>: Home Office<br><b>City</b>: Lorain<br><b>Sales</b>: 111.49600000000001",
          "<b>Year</b>: 2017<br><b>Segment</b>: Home Office<br><b>City</b>: Los Angeles<br><b>Sales</b>: 10930.649000000001",
          "<b>Year</b>: 2017<br><b>Segment</b>: Home Office<br><b>City</b>: Louisville<br><b>Sales</b>: 243.368",
          "<b>Year</b>: 2017<br><b>Segment</b>: Home Office<br><b>City</b>: Malden<br><b>Sales</b>: 188.7",
          "<b>Year</b>: 2017<br><b>Segment</b>: Home Office<br><b>City</b>: Miami<br><b>Sales</b>: 66.49600000000001",
          "<b>Year</b>: 2017<br><b>Segment</b>: Home Office<br><b>City</b>: Milford<br><b>Sales</b>: 199.75",
          "<b>Year</b>: 2017<br><b>Segment</b>: Home Office<br><b>City</b>: Milwaukee<br><b>Sales</b>: 490.32",
          "<b>Year</b>: 2017<br><b>Segment</b>: Home Office<br><b>City</b>: Minneapolis<br><b>Sales</b>: 692.94",
          "<b>Year</b>: 2017<br><b>Segment</b>: Home Office<br><b>City</b>: New York City<br><b>Sales</b>: 9534.644",
          "<b>Year</b>: 2017<br><b>Segment</b>: Home Office<br><b>City</b>: Newport News<br><b>Sales</b>: 261.1",
          "<b>Year</b>: 2017<br><b>Segment</b>: Home Office<br><b>City</b>: Niagara Falls<br><b>Sales</b>: 34.992000000000004",
          "<b>Year</b>: 2017<br><b>Segment</b>: Home Office<br><b>City</b>: North Las Vegas<br><b>Sales</b>: 4685.076",
          "<b>Year</b>: 2017<br><b>Segment</b>: Home Office<br><b>City</b>: Oakland<br><b>Sales</b>: 34.58",
          "<b>Year</b>: 2017<br><b>Segment</b>: Home Office<br><b>City</b>: Oceanside<br><b>Sales</b>: 12.9",
          "<b>Year</b>: 2017<br><b>Segment</b>: Home Office<br><b>City</b>: Oklahoma City<br><b>Sales</b>: 2176.19",
          "<b>Year</b>: 2017<br><b>Segment</b>: Home Office<br><b>City</b>: Olathe<br><b>Sales</b>: 107.94",
          "<b>Year</b>: 2017<br><b>Segment</b>: Home Office<br><b>City</b>: Omaha<br><b>Sales</b>: 592.99",
          "<b>Year</b>: 2017<br><b>Segment</b>: Home Office<br><b>City</b>: Orange<br><b>Sales</b>: 53.370000000000005",
          "<b>Year</b>: 2017<br><b>Segment</b>: Home Office<br><b>City</b>: Oxnard<br><b>Sales</b>: 1215.72",
          "<b>Year</b>: 2017<br><b>Segment</b>: Home Office<br><b>City</b>: Park Ridge<br><b>Sales</b>: 286.4",
          "<b>Year</b>: 2017<br><b>Segment</b>: Home Office<br><b>City</b>: Pasadena<br><b>Sales</b>: 657.392",
          "<b>Year</b>: 2017<br><b>Segment</b>: Home Office<br><b>City</b>: Pharr<br><b>Sales</b>: 1416.304",
          "<b>Year</b>: 2017<br><b>Segment</b>: Home Office<br><b>City</b>: Philadelphia<br><b>Sales</b>: 7049.5650000000005",
          "<b>Year</b>: 2017<br><b>Segment</b>: Home Office<br><b>City</b>: Phoenix<br><b>Sales</b>: 1759.299",
          "<b>Year</b>: 2017<br><b>Segment</b>: Home Office<br><b>City</b>: Plano<br><b>Sales</b>: 13.616",
          "<b>Year</b>: 2017<br><b>Segment</b>: Home Office<br><b>City</b>: Portland<br><b>Sales</b>: 403.92",
          "<b>Year</b>: 2017<br><b>Segment</b>: Home Office<br><b>City</b>: Providence<br><b>Sales</b>: 10876.300000000001",
          "<b>Year</b>: 2017<br><b>Segment</b>: Home Office<br><b>City</b>: Provo<br><b>Sales</b>: 44.4",
          "<b>Year</b>: 2017<br><b>Segment</b>: Home Office<br><b>City</b>: Pueblo<br><b>Sales</b>: 801.5500000000001",
          "<b>Year</b>: 2017<br><b>Segment</b>: Home Office<br><b>City</b>: Raleigh<br><b>Sales</b>: 1183.392",
          "<b>Year</b>: 2017<br><b>Segment</b>: Home Office<br><b>City</b>: Redmond<br><b>Sales</b>: 12.32",
          "<b>Year</b>: 2017<br><b>Segment</b>: Home Office<br><b>City</b>: Riverside<br><b>Sales</b>: 51.184",
          "<b>Year</b>: 2017<br><b>Segment</b>: Home Office<br><b>City</b>: Rockford<br><b>Sales</b>: 11.416",
          "<b>Year</b>: 2017<br><b>Segment</b>: Home Office<br><b>City</b>: Roseville<br><b>Sales</b>: 547.97",
          "<b>Year</b>: 2017<br><b>Segment</b>: Home Office<br><b>City</b>: Sacramento<br><b>Sales</b>: 9.98",
          "<b>Year</b>: 2017<br><b>Segment</b>: Home Office<br><b>City</b>: Saint Peters<br><b>Sales</b>: 697.16",
          "<b>Year</b>: 2017<br><b>Segment</b>: Home Office<br><b>City</b>: Salem<br><b>Sales</b>: 884.008",
          "<b>Year</b>: 2017<br><b>Segment</b>: Home Office<br><b>City</b>: Salt Lake City<br><b>Sales</b>: 219.12",
          "<b>Year</b>: 2017<br><b>Segment</b>: Home Office<br><b>City</b>: San Antonio<br><b>Sales</b>: 60.144",
          "<b>Year</b>: 2017<br><b>Segment</b>: Home Office<br><b>City</b>: San Diego<br><b>Sales</b>: 1060.2279999999998",
          "<b>Year</b>: 2017<br><b>Segment</b>: Home Office<br><b>City</b>: San Francisco<br><b>Sales</b>: 1211.958",
          "<b>Year</b>: 2017<br><b>Segment</b>: Home Office<br><b>City</b>: San Jose<br><b>Sales</b>: 29.12",
          "<b>Year</b>: 2017<br><b>Segment</b>: Home Office<br><b>City</b>: Santa Ana<br><b>Sales</b>: 20.16",
          "<b>Year</b>: 2017<br><b>Segment</b>: Home Office<br><b>City</b>: Santa Barbara<br><b>Sales</b>: 3528.488",
          "<b>Year</b>: 2017<br><b>Segment</b>: Home Office<br><b>City</b>: Scottsdale<br><b>Sales</b>: 361.104",
          "<b>Year</b>: 2017<br><b>Segment</b>: Home Office<br><b>City</b>: Seattle<br><b>Sales</b>: 893.004",
          "<b>Year</b>: 2017<br><b>Segment</b>: Home Office<br><b>City</b>: Sheboygan<br><b>Sales</b>: 79.74000000000001",
          "<b>Year</b>: 2017<br><b>Segment</b>: Home Office<br><b>City</b>: Shelton<br><b>Sales</b>: 73.33",
          "<b>Year</b>: 2017<br><b>Segment</b>: Home Office<br><b>City</b>: Smyrna<br><b>Sales</b>: 2075.51",
          "<b>Year</b>: 2017<br><b>Segment</b>: Home Office<br><b>City</b>: Sparks<br><b>Sales</b>: 86.2",
          "<b>Year</b>: 2017<br><b>Segment</b>: Home Office<br><b>City</b>: Springfield<br><b>Sales</b>: 1877.665",
          "<b>Year</b>: 2017<br><b>Segment</b>: Home Office<br><b>City</b>: Suffolk<br><b>Sales</b>: 158.81",
          "<b>Year</b>: 2017<br><b>Segment</b>: Home Office<br><b>City</b>: Superior<br><b>Sales</b>: 1282.6100000000001",
          "<b>Year</b>: 2017<br><b>Segment</b>: Home Office<br><b>City</b>: Tallahassee<br><b>Sales</b>: 702.704",
          "<b>Year</b>: 2017<br><b>Segment</b>: Home Office<br><b>City</b>: Tampa<br><b>Sales</b>: 471.07800000000003",
          "<b>Year</b>: 2017<br><b>Segment</b>: Home Office<br><b>City</b>: Toledo<br><b>Sales</b>: 59.94800000000001",
          "<b>Year</b>: 2017<br><b>Segment</b>: Home Office<br><b>City</b>: Troy<br><b>Sales</b>: 333.606",
          "<b>Year</b>: 2017<br><b>Segment</b>: Home Office<br><b>City</b>: Tulsa<br><b>Sales</b>: 151.82",
          "<b>Year</b>: 2017<br><b>Segment</b>: Home Office<br><b>City</b>: Vallejo<br><b>Sales</b>: 1064.624",
          "<b>Year</b>: 2017<br><b>Segment</b>: Home Office<br><b>City</b>: Vancouver<br><b>Sales</b>: 44.02",
          "<b>Year</b>: 2017<br><b>Segment</b>: Home Office<br><b>City</b>: Washington<br><b>Sales</b>: 33.92",
          "<b>Year</b>: 2017<br><b>Segment</b>: Home Office<br><b>City</b>: Waynesboro<br><b>Sales</b>: 334.2",
          "<b>Year</b>: 2017<br><b>Segment</b>: Home Office<br><b>City</b>: Westfield<br><b>Sales</b>: 311.97",
          "<b>Year</b>: 2017<br><b>Segment</b>: Home Office<br><b>City</b>: Yuma<br><b>Sales</b>: 44.856",
          "<b>Year</b>: 2018<br><b>Segment</b>: Consumer<br><b>City</b>: Aberdeen<br><b>Sales</b>: 25.5",
          "<b>Year</b>: 2018<br><b>Segment</b>: Consumer<br><b>City</b>: Abilene<br><b>Sales</b>: 1.392",
          "<b>Year</b>: 2018<br><b>Segment</b>: Consumer<br><b>City</b>: Akron<br><b>Sales</b>: 292.472",
          "<b>Year</b>: 2018<br><b>Segment</b>: Consumer<br><b>City</b>: Albuquerque<br><b>Sales</b>: 122.53",
          "<b>Year</b>: 2018<br><b>Segment</b>: Consumer<br><b>City</b>: Alexandria<br><b>Sales</b>: 25.06",
          "<b>Year</b>: 2018<br><b>Segment</b>: Consumer<br><b>City</b>: Anaheim<br><b>Sales</b>: 174.56",
          "<b>Year</b>: 2018<br><b>Segment</b>: Consumer<br><b>City</b>: Apple Valley<br><b>Sales</b>: 8.64",
          "<b>Year</b>: 2018<br><b>Segment</b>: Consumer<br><b>City</b>: Arlington<br><b>Sales</b>: 1020.412",
          "<b>Year</b>: 2018<br><b>Segment</b>: Consumer<br><b>City</b>: Asheville<br><b>Sales</b>: 68.264",
          "<b>Year</b>: 2018<br><b>Segment</b>: Consumer<br><b>City</b>: Atlanta<br><b>Sales</b>: 2608.81",
          "<b>Year</b>: 2018<br><b>Segment</b>: Consumer<br><b>City</b>: Aurora<br><b>Sales</b>: 3230.053",
          "<b>Year</b>: 2018<br><b>Segment</b>: Consumer<br><b>City</b>: Austin<br><b>Sales</b>: 1444.278",
          "<b>Year</b>: 2018<br><b>Segment</b>: Consumer<br><b>City</b>: Bakersfield<br><b>Sales</b>: 1075.3980000000001",
          "<b>Year</b>: 2018<br><b>Segment</b>: Consumer<br><b>City</b>: Baltimore<br><b>Sales</b>: 1424.99",
          "<b>Year</b>: 2018<br><b>Segment</b>: Consumer<br><b>City</b>: Belleville<br><b>Sales</b>: 399.96999999999997",
          "<b>Year</b>: 2018<br><b>Segment</b>: Consumer<br><b>City</b>: Bellevue<br><b>Sales</b>: 39.792",
          "<b>Year</b>: 2018<br><b>Segment</b>: Consumer<br><b>City</b>: Bellingham<br><b>Sales</b>: 2690.74",
          "<b>Year</b>: 2018<br><b>Segment</b>: Consumer<br><b>City</b>: Bloomington<br><b>Sales</b>: 39.816",
          "<b>Year</b>: 2018<br><b>Segment</b>: Consumer<br><b>City</b>: Boise<br><b>Sales</b>: 89.97",
          "<b>Year</b>: 2018<br><b>Segment</b>: Consumer<br><b>City</b>: Bolingbrook<br><b>Sales</b>: 148.48",
          "<b>Year</b>: 2018<br><b>Segment</b>: Consumer<br><b>City</b>: Bowling Green<br><b>Sales</b>: 71.0",
          "<b>Year</b>: 2018<br><b>Segment</b>: Consumer<br><b>City</b>: Boynton Beach<br><b>Sales</b>: 107.55199999999999",
          "<b>Year</b>: 2018<br><b>Segment</b>: Consumer<br><b>City</b>: Brownsville<br><b>Sales</b>: 329.4768",
          "<b>Year</b>: 2018<br><b>Segment</b>: Consumer<br><b>City</b>: Burlington<br><b>Sales</b>: 2923.0280000000002",
          "<b>Year</b>: 2018<br><b>Segment</b>: Consumer<br><b>City</b>: Camarillo<br><b>Sales</b>: 14.73",
          "<b>Year</b>: 2018<br><b>Segment</b>: Consumer<br><b>City</b>: Carrollton<br><b>Sales</b>: 186.6",
          "<b>Year</b>: 2018<br><b>Segment</b>: Consumer<br><b>City</b>: Chandler<br><b>Sales</b>: 8.896",
          "<b>Year</b>: 2018<br><b>Segment</b>: Consumer<br><b>City</b>: Charlotte<br><b>Sales</b>: 2099.429",
          "<b>Year</b>: 2018<br><b>Segment</b>: Consumer<br><b>City</b>: Charlottesville<br><b>Sales</b>: 34.65",
          "<b>Year</b>: 2018<br><b>Segment</b>: Consumer<br><b>City</b>: Chattanooga<br><b>Sales</b>: 740.284",
          "<b>Year</b>: 2018<br><b>Segment</b>: Consumer<br><b>City</b>: Chesapeake<br><b>Sales</b>: 504.9",
          "<b>Year</b>: 2018<br><b>Segment</b>: Consumer<br><b>City</b>: Chicago<br><b>Sales</b>: 4736.411",
          "<b>Year</b>: 2018<br><b>Segment</b>: Consumer<br><b>City</b>: Cincinnati<br><b>Sales</b>: 427.253",
          "<b>Year</b>: 2018<br><b>Segment</b>: Consumer<br><b>City</b>: Citrus Heights<br><b>Sales</b>: 129.39",
          "<b>Year</b>: 2018<br><b>Segment</b>: Consumer<br><b>City</b>: Cleveland<br><b>Sales</b>: 324.811",
          "<b>Year</b>: 2018<br><b>Segment</b>: Consumer<br><b>City</b>: Clinton<br><b>Sales</b>: 23.12",
          "<b>Year</b>: 2018<br><b>Segment</b>: Consumer<br><b>City</b>: Clovis<br><b>Sales</b>: 111.42",
          "<b>Year</b>: 2018<br><b>Segment</b>: Consumer<br><b>City</b>: College Station<br><b>Sales</b>: 291.042",
          "<b>Year</b>: 2018<br><b>Segment</b>: Consumer<br><b>City</b>: Columbia<br><b>Sales</b>: 1039.688",
          "<b>Year</b>: 2018<br><b>Segment</b>: Consumer<br><b>City</b>: Columbus<br><b>Sales</b>: 10148.895",
          "<b>Year</b>: 2018<br><b>Segment</b>: Consumer<br><b>City</b>: Commerce City<br><b>Sales</b>: 146.352",
          "<b>Year</b>: 2018<br><b>Segment</b>: Consumer<br><b>City</b>: Concord<br><b>Sales</b>: 357.518",
          "<b>Year</b>: 2018<br><b>Segment</b>: Consumer<br><b>City</b>: Coppell<br><b>Sales</b>: 40.096",
          "<b>Year</b>: 2018<br><b>Segment</b>: Consumer<br><b>City</b>: Coral Springs<br><b>Sales</b>: 318.96",
          "<b>Year</b>: 2018<br><b>Segment</b>: Consumer<br><b>City</b>: Costa Mesa<br><b>Sales</b>: 124.36",
          "<b>Year</b>: 2018<br><b>Segment</b>: Consumer<br><b>City</b>: Cuyahoga Falls<br><b>Sales</b>: 18.528",
          "<b>Year</b>: 2018<br><b>Segment</b>: Consumer<br><b>City</b>: Dallas<br><b>Sales</b>: 3839.6916",
          "<b>Year</b>: 2018<br><b>Segment</b>: Consumer<br><b>City</b>: Dearborn Heights<br><b>Sales</b>: 280.96",
          "<b>Year</b>: 2018<br><b>Segment</b>: Consumer<br><b>City</b>: Decatur<br><b>Sales</b>: 959.862",
          "<b>Year</b>: 2018<br><b>Segment</b>: Consumer<br><b>City</b>: Denver<br><b>Sales</b>: 2873.455",
          "<b>Year</b>: 2018<br><b>Segment</b>: Consumer<br><b>City</b>: Des Plaines<br><b>Sales</b>: 383.84",
          "<b>Year</b>: 2018<br><b>Segment</b>: Consumer<br><b>City</b>: Detroit<br><b>Sales</b>: 4794.89",
          "<b>Year</b>: 2018<br><b>Segment</b>: Consumer<br><b>City</b>: Draper<br><b>Sales</b>: 151.72",
          "<b>Year</b>: 2018<br><b>Segment</b>: Consumer<br><b>City</b>: Dublin<br><b>Sales</b>: 715.79",
          "<b>Year</b>: 2018<br><b>Segment</b>: Consumer<br><b>City</b>: Eagan<br><b>Sales</b>: 75.9",
          "<b>Year</b>: 2018<br><b>Segment</b>: Consumer<br><b>City</b>: East Orange<br><b>Sales</b>: 31.8",
          "<b>Year</b>: 2018<br><b>Segment</b>: Consumer<br><b>City</b>: Edinburg<br><b>Sales</b>: 2.368",
          "<b>Year</b>: 2018<br><b>Segment</b>: Consumer<br><b>City</b>: Edmonds<br><b>Sales</b>: 650.712",
          "<b>Year</b>: 2018<br><b>Segment</b>: Consumer<br><b>City</b>: El Paso<br><b>Sales</b>: 1322.75",
          "<b>Year</b>: 2018<br><b>Segment</b>: Consumer<br><b>City</b>: Elkhart<br><b>Sales</b>: 171.43",
          "<b>Year</b>: 2018<br><b>Segment</b>: Consumer<br><b>City</b>: Encinitas<br><b>Sales</b>: 286.485",
          "<b>Year</b>: 2018<br><b>Segment</b>: Consumer<br><b>City</b>: Everett<br><b>Sales</b>: 1472.85",
          "<b>Year</b>: 2018<br><b>Segment</b>: Consumer<br><b>City</b>: Fairfield<br><b>Sales</b>: 1523.3010000000002",
          "<b>Year</b>: 2018<br><b>Segment</b>: Consumer<br><b>City</b>: Fargo<br><b>Sales</b>: 891.53",
          "<b>Year</b>: 2018<br><b>Segment</b>: Consumer<br><b>City</b>: Farmington<br><b>Sales</b>: 545.85",
          "<b>Year</b>: 2018<br><b>Segment</b>: Consumer<br><b>City</b>: Fayetteville<br><b>Sales</b>: 2159.356",
          "<b>Year</b>: 2018<br><b>Segment</b>: Consumer<br><b>City</b>: Florence<br><b>Sales</b>: 753.0699999999999",
          "<b>Year</b>: 2018<br><b>Segment</b>: Consumer<br><b>City</b>: Fort Collins<br><b>Sales</b>: 822.572",
          "<b>Year</b>: 2018<br><b>Segment</b>: Consumer<br><b>City</b>: Fort Lauderdale<br><b>Sales</b>: 743.024",
          "<b>Year</b>: 2018<br><b>Segment</b>: Consumer<br><b>City</b>: Fort Worth<br><b>Sales</b>: 1.988",
          "<b>Year</b>: 2018<br><b>Segment</b>: Consumer<br><b>City</b>: Franklin<br><b>Sales</b>: 5.184",
          "<b>Year</b>: 2018<br><b>Segment</b>: Consumer<br><b>City</b>: Freeport<br><b>Sales</b>: 170.572",
          "<b>Year</b>: 2018<br><b>Segment</b>: Consumer<br><b>City</b>: Fremont<br><b>Sales</b>: 104.85",
          "<b>Year</b>: 2018<br><b>Segment</b>: Consumer<br><b>City</b>: Fresno<br><b>Sales</b>: 2127.322",
          "<b>Year</b>: 2018<br><b>Segment</b>: Consumer<br><b>City</b>: Frisco<br><b>Sales</b>: 30.336",
          "<b>Year</b>: 2018<br><b>Segment</b>: Consumer<br><b>City</b>: Garland<br><b>Sales</b>: 28.775999999999996",
          "<b>Year</b>: 2018<br><b>Segment</b>: Consumer<br><b>City</b>: Georgetown<br><b>Sales</b>: 209.88",
          "<b>Year</b>: 2018<br><b>Segment</b>: Consumer<br><b>City</b>: Gladstone<br><b>Sales</b>: 164.34",
          "<b>Year</b>: 2018<br><b>Segment</b>: Consumer<br><b>City</b>: Glendale<br><b>Sales</b>: 212.22699999999998",
          "<b>Year</b>: 2018<br><b>Segment</b>: Consumer<br><b>City</b>: Grand Island<br><b>Sales</b>: 15.96",
          "<b>Year</b>: 2018<br><b>Segment</b>: Consumer<br><b>City</b>: Grand Prairie<br><b>Sales</b>: 536.858",
          "<b>Year</b>: 2018<br><b>Segment</b>: Consumer<br><b>City</b>: Grand Rapids<br><b>Sales</b>: 54.9",
          "<b>Year</b>: 2018<br><b>Segment</b>: Consumer<br><b>City</b>: Greeley<br><b>Sales</b>: 30.351999999999997",
          "<b>Year</b>: 2018<br><b>Segment</b>: Consumer<br><b>City</b>: Greensboro<br><b>Sales</b>: 32.776",
          "<b>Year</b>: 2018<br><b>Segment</b>: Consumer<br><b>City</b>: Greenville<br><b>Sales</b>: 428.70399999999995",
          "<b>Year</b>: 2018<br><b>Segment</b>: Consumer<br><b>City</b>: Grove City<br><b>Sales</b>: 123.588",
          "<b>Year</b>: 2018<br><b>Segment</b>: Consumer<br><b>City</b>: Gulfport<br><b>Sales</b>: 48.69",
          "<b>Year</b>: 2018<br><b>Segment</b>: Consumer<br><b>City</b>: Hagerstown<br><b>Sales</b>: 43.8",
          "<b>Year</b>: 2018<br><b>Segment</b>: Consumer<br><b>City</b>: Harlingen<br><b>Sales</b>: 79.344",
          "<b>Year</b>: 2018<br><b>Segment</b>: Consumer<br><b>City</b>: Harrisonburg<br><b>Sales</b>: 23.08",
          "<b>Year</b>: 2018<br><b>Segment</b>: Consumer<br><b>City</b>: Hattiesburg<br><b>Sales</b>: 372.64",
          "<b>Year</b>: 2018<br><b>Segment</b>: Consumer<br><b>City</b>: Henderson<br><b>Sales</b>: 2421.78",
          "<b>Year</b>: 2018<br><b>Segment</b>: Consumer<br><b>City</b>: Hendersonville<br><b>Sales</b>: 303.32",
          "<b>Year</b>: 2018<br><b>Segment</b>: Consumer<br><b>City</b>: Hialeah<br><b>Sales</b>: 174.472",
          "<b>Year</b>: 2018<br><b>Segment</b>: Consumer<br><b>City</b>: Hickory<br><b>Sales</b>: 4.572",
          "<b>Year</b>: 2018<br><b>Segment</b>: Consumer<br><b>City</b>: Homestead<br><b>Sales</b>: 47.328",
          "<b>Year</b>: 2018<br><b>Segment</b>: Consumer<br><b>City</b>: Houston<br><b>Sales</b>: 9053.534",
          "<b>Year</b>: 2018<br><b>Segment</b>: Consumer<br><b>City</b>: Huntington Beach<br><b>Sales</b>: 95.92",
          "<b>Year</b>: 2018<br><b>Segment</b>: Consumer<br><b>City</b>: Huntsville<br><b>Sales</b>: 1098.63",
          "<b>Year</b>: 2018<br><b>Segment</b>: Consumer<br><b>City</b>: Independence<br><b>Sales</b>: 839.43",
          "<b>Year</b>: 2018<br><b>Segment</b>: Consumer<br><b>City</b>: Indianapolis<br><b>Sales</b>: 382.71",
          "<b>Year</b>: 2018<br><b>Segment</b>: Consumer<br><b>City</b>: Inglewood<br><b>Sales</b>: 492.736",
          "<b>Year</b>: 2018<br><b>Segment</b>: Consumer<br><b>City</b>: Jackson<br><b>Sales</b>: 8186.698",
          "<b>Year</b>: 2018<br><b>Segment</b>: Consumer<br><b>City</b>: Jacksonville<br><b>Sales</b>: 5342.148",
          "<b>Year</b>: 2018<br><b>Segment</b>: Consumer<br><b>City</b>: Johnson City<br><b>Sales</b>: 175.08599999999998",
          "<b>Year</b>: 2018<br><b>Segment</b>: Consumer<br><b>City</b>: Jupiter<br><b>Sales</b>: 2.064",
          "<b>Year</b>: 2018<br><b>Segment</b>: Consumer<br><b>City</b>: Keller<br><b>Sales</b>: 6.0",
          "<b>Year</b>: 2018<br><b>Segment</b>: Consumer<br><b>City</b>: Kent<br><b>Sales</b>: 1343.498",
          "<b>Year</b>: 2018<br><b>Segment</b>: Consumer<br><b>City</b>: Kissimmee<br><b>Sales</b>: 751.984",
          "<b>Year</b>: 2018<br><b>Segment</b>: Consumer<br><b>City</b>: Knoxville<br><b>Sales</b>: 266.0",
          "<b>Year</b>: 2018<br><b>Segment</b>: Consumer<br><b>City</b>: La Porte<br><b>Sales</b>: 526.45",
          "<b>Year</b>: 2018<br><b>Segment</b>: Consumer<br><b>City</b>: Lafayette<br><b>Sales</b>: 5104.0599999999995",
          "<b>Year</b>: 2018<br><b>Segment</b>: Consumer<br><b>City</b>: Lake Forest<br><b>Sales</b>: 597.86",
          "<b>Year</b>: 2018<br><b>Segment</b>: Consumer<br><b>City</b>: Lakeville<br><b>Sales</b>: 109.52000000000001",
          "<b>Year</b>: 2018<br><b>Segment</b>: Consumer<br><b>City</b>: Lakewood<br><b>Sales</b>: 2363.2619999999997",
          "<b>Year</b>: 2018<br><b>Segment</b>: Consumer<br><b>City</b>: Lancaster<br><b>Sales</b>: 944.723",
          "<b>Year</b>: 2018<br><b>Segment</b>: Consumer<br><b>City</b>: Las Cruces<br><b>Sales</b>: 41.37",
          "<b>Year</b>: 2018<br><b>Segment</b>: Consumer<br><b>City</b>: Las Vegas<br><b>Sales</b>: 1196.316",
          "<b>Year</b>: 2018<br><b>Segment</b>: Consumer<br><b>City</b>: Lawrence<br><b>Sales</b>: 813.51",
          "<b>Year</b>: 2018<br><b>Segment</b>: Consumer<br><b>City</b>: Lawton<br><b>Sales</b>: 582.0699999999999",
          "<b>Year</b>: 2018<br><b>Segment</b>: Consumer<br><b>City</b>: League City<br><b>Sales</b>: 321.202",
          "<b>Year</b>: 2018<br><b>Segment</b>: Consumer<br><b>City</b>: Lebanon<br><b>Sales</b>: 163.96",
          "<b>Year</b>: 2018<br><b>Segment</b>: Consumer<br><b>City</b>: Little Rock<br><b>Sales</b>: 199.17",
          "<b>Year</b>: 2018<br><b>Segment</b>: Consumer<br><b>City</b>: Long Beach<br><b>Sales</b>: 633.662",
          "<b>Year</b>: 2018<br><b>Segment</b>: Consumer<br><b>City</b>: Longview<br><b>Sales</b>: 94.36",
          "<b>Year</b>: 2018<br><b>Segment</b>: Consumer<br><b>City</b>: Lorain<br><b>Sales</b>: 48.896",
          "<b>Year</b>: 2018<br><b>Segment</b>: Consumer<br><b>City</b>: Los Angeles<br><b>Sales</b>: 20182.8195",
          "<b>Year</b>: 2018<br><b>Segment</b>: Consumer<br><b>City</b>: Louisville<br><b>Sales</b>: 2684.413",
          "<b>Year</b>: 2018<br><b>Segment</b>: Consumer<br><b>City</b>: Loveland<br><b>Sales</b>: 3.024",
          "<b>Year</b>: 2018<br><b>Segment</b>: Consumer<br><b>City</b>: Lowell<br><b>Sales</b>: 1316.25",
          "<b>Year</b>: 2018<br><b>Segment</b>: Consumer<br><b>City</b>: Madison<br><b>Sales</b>: 1816.3600000000001",
          "<b>Year</b>: 2018<br><b>Segment</b>: Consumer<br><b>City</b>: Manchester<br><b>Sales</b>: 853.22",
          "<b>Year</b>: 2018<br><b>Segment</b>: Consumer<br><b>City</b>: Mansfield<br><b>Sales</b>: 517.405",
          "<b>Year</b>: 2018<br><b>Segment</b>: Consumer<br><b>City</b>: Marion<br><b>Sales</b>: 63.92",
          "<b>Year</b>: 2018<br><b>Segment</b>: Consumer<br><b>City</b>: Memphis<br><b>Sales</b>: 3381.7340000000004",
          "<b>Year</b>: 2018<br><b>Segment</b>: Consumer<br><b>City</b>: Meriden<br><b>Sales</b>: 237.64",
          "<b>Year</b>: 2018<br><b>Segment</b>: Consumer<br><b>City</b>: Mesa<br><b>Sales</b>: 1360.986",
          "<b>Year</b>: 2018<br><b>Segment</b>: Consumer<br><b>City</b>: Miami<br><b>Sales</b>: 1218.2060000000001",
          "<b>Year</b>: 2018<br><b>Segment</b>: Consumer<br><b>City</b>: Middletown<br><b>Sales</b>: 317.58",
          "<b>Year</b>: 2018<br><b>Segment</b>: Consumer<br><b>City</b>: Milwaukee<br><b>Sales</b>: 38.54",
          "<b>Year</b>: 2018<br><b>Segment</b>: Consumer<br><b>City</b>: Minneapolis<br><b>Sales</b>: 2259.1",
          "<b>Year</b>: 2018<br><b>Segment</b>: Consumer<br><b>City</b>: Miramar<br><b>Sales</b>: 559.2",
          "<b>Year</b>: 2018<br><b>Segment</b>: Consumer<br><b>City</b>: Mission Viejo<br><b>Sales</b>: 356.65",
          "<b>Year</b>: 2018<br><b>Segment</b>: Consumer<br><b>City</b>: Modesto<br><b>Sales</b>: 273.358",
          "<b>Year</b>: 2018<br><b>Segment</b>: Consumer<br><b>City</b>: Monroe<br><b>Sales</b>: 1435.98",
          "<b>Year</b>: 2018<br><b>Segment</b>: Consumer<br><b>City</b>: Moorhead<br><b>Sales</b>: 63.96",
          "<b>Year</b>: 2018<br><b>Segment</b>: Consumer<br><b>City</b>: Morristown<br><b>Sales</b>: 514.05",
          "<b>Year</b>: 2018<br><b>Segment</b>: Consumer<br><b>City</b>: Mount Vernon<br><b>Sales</b>: 74.89",
          "<b>Year</b>: 2018<br><b>Segment</b>: Consumer<br><b>City</b>: Murray<br><b>Sales</b>: 170.718",
          "<b>Year</b>: 2018<br><b>Segment</b>: Consumer<br><b>City</b>: Naperville<br><b>Sales</b>: 239.96",
          "<b>Year</b>: 2018<br><b>Segment</b>: Consumer<br><b>City</b>: Nashua<br><b>Sales</b>: 14.82",
          "<b>Year</b>: 2018<br><b>Segment</b>: Consumer<br><b>City</b>: Nashville<br><b>Sales</b>: 649.0",
          "<b>Year</b>: 2018<br><b>Segment</b>: Consumer<br><b>City</b>: New Bedford<br><b>Sales</b>: 23.18",
          "<b>Year</b>: 2018<br><b>Segment</b>: Consumer<br><b>City</b>: New Rochelle<br><b>Sales</b>: 201.262",
          "<b>Year</b>: 2018<br><b>Segment</b>: Consumer<br><b>City</b>: New York City<br><b>Sales</b>: 35219.81",
          "<b>Year</b>: 2018<br><b>Segment</b>: Consumer<br><b>City</b>: Newark<br><b>Sales</b>: 10942.162",
          "<b>Year</b>: 2018<br><b>Segment</b>: Consumer<br><b>City</b>: Newport News<br><b>Sales</b>: 629.86",
          "<b>Year</b>: 2018<br><b>Segment</b>: Consumer<br><b>City</b>: North Las Vegas<br><b>Sales</b>: 1669.6",
          "<b>Year</b>: 2018<br><b>Segment</b>: Consumer<br><b>City</b>: Norwich<br><b>Sales</b>: 10.36",
          "<b>Year</b>: 2018<br><b>Segment</b>: Consumer<br><b>City</b>: Oakland<br><b>Sales</b>: 1529.61",
          "<b>Year</b>: 2018<br><b>Segment</b>: Consumer<br><b>City</b>: Oceanside<br><b>Sales</b>: 365.18",
          "<b>Year</b>: 2018<br><b>Segment</b>: Consumer<br><b>City</b>: Oklahoma City<br><b>Sales</b>: 1299.76",
          "<b>Year</b>: 2018<br><b>Segment</b>: Consumer<br><b>City</b>: Olympia<br><b>Sales</b>: 169.28",
          "<b>Year</b>: 2018<br><b>Segment</b>: Consumer<br><b>City</b>: Omaha<br><b>Sales</b>: 2500.03",
          "<b>Year</b>: 2018<br><b>Segment</b>: Consumer<br><b>City</b>: Ontario<br><b>Sales</b>: 283.92",
          "<b>Year</b>: 2018<br><b>Segment</b>: Consumer<br><b>City</b>: Orange<br><b>Sales</b>: 75.86",
          "<b>Year</b>: 2018<br><b>Segment</b>: Consumer<br><b>City</b>: Orlando<br><b>Sales</b>: 1051.478",
          "<b>Year</b>: 2018<br><b>Segment</b>: Consumer<br><b>City</b>: Ormond Beach<br><b>Sales</b>: 2.808",
          "<b>Year</b>: 2018<br><b>Segment</b>: Consumer<br><b>City</b>: Oxnard<br><b>Sales</b>: 82.95",
          "<b>Year</b>: 2018<br><b>Segment</b>: Consumer<br><b>City</b>: Palm Coast<br><b>Sales</b>: 24.448",
          "<b>Year</b>: 2018<br><b>Segment</b>: Consumer<br><b>City</b>: Park Ridge<br><b>Sales</b>: 143.856",
          "<b>Year</b>: 2018<br><b>Segment</b>: Consumer<br><b>City</b>: Parker<br><b>Sales</b>: 193.63400000000001",
          "<b>Year</b>: 2018<br><b>Segment</b>: Consumer<br><b>City</b>: Parma<br><b>Sales</b>: 36.352",
          "<b>Year</b>: 2018<br><b>Segment</b>: Consumer<br><b>City</b>: Pasadena<br><b>Sales</b>: 1058.126",
          "<b>Year</b>: 2018<br><b>Segment</b>: Consumer<br><b>City</b>: Pasco<br><b>Sales</b>: 429.592",
          "<b>Year</b>: 2018<br><b>Segment</b>: Consumer<br><b>City</b>: Paterson<br><b>Sales</b>: 1016.0600000000001",
          "<b>Year</b>: 2018<br><b>Segment</b>: Consumer<br><b>City</b>: Pearland<br><b>Sales</b>: 470.376",
          "<b>Year</b>: 2018<br><b>Segment</b>: Consumer<br><b>City</b>: Pembroke Pines<br><b>Sales</b>: 1230.876",
          "<b>Year</b>: 2018<br><b>Segment</b>: Consumer<br><b>City</b>: Peoria<br><b>Sales</b>: 67.86",
          "<b>Year</b>: 2018<br><b>Segment</b>: Consumer<br><b>City</b>: Pharr<br><b>Sales</b>: 124.404",
          "<b>Year</b>: 2018<br><b>Segment</b>: Consumer<br><b>City</b>: Philadelphia<br><b>Sales</b>: 24414.083",
          "<b>Year</b>: 2018<br><b>Segment</b>: Consumer<br><b>City</b>: Phoenix<br><b>Sales</b>: 2187.48",
          "<b>Year</b>: 2018<br><b>Segment</b>: Consumer<br><b>City</b>: Pine Bluff<br><b>Sales</b>: 212.91",
          "<b>Year</b>: 2018<br><b>Segment</b>: Consumer<br><b>City</b>: Plainfield<br><b>Sales</b>: 97.84",
          "<b>Year</b>: 2018<br><b>Segment</b>: Consumer<br><b>City</b>: Plano<br><b>Sales</b>: 1262.532",
          "<b>Year</b>: 2018<br><b>Segment</b>: Consumer<br><b>City</b>: Pocatello<br><b>Sales</b>: 814.526",
          "<b>Year</b>: 2018<br><b>Segment</b>: Consumer<br><b>City</b>: Port Orange<br><b>Sales</b>: 7.824",
          "<b>Year</b>: 2018<br><b>Segment</b>: Consumer<br><b>City</b>: Port Saint Lucie<br><b>Sales</b>: 14.336",
          "<b>Year</b>: 2018<br><b>Segment</b>: Consumer<br><b>City</b>: Portland<br><b>Sales</b>: 663.408",
          "<b>Year</b>: 2018<br><b>Segment</b>: Consumer<br><b>City</b>: Providence<br><b>Sales</b>: 126.52000000000001",
          "<b>Year</b>: 2018<br><b>Segment</b>: Consumer<br><b>City</b>: Quincy<br><b>Sales</b>: 32.26",
          "<b>Year</b>: 2018<br><b>Segment</b>: Consumer<br><b>City</b>: Rancho Cucamonga<br><b>Sales</b>: 191.82",
          "<b>Year</b>: 2018<br><b>Segment</b>: Consumer<br><b>City</b>: Reading<br><b>Sales</b>: 8.856",
          "<b>Year</b>: 2018<br><b>Segment</b>: Consumer<br><b>City</b>: Redmond<br><b>Sales</b>: 42.91",
          "<b>Year</b>: 2018<br><b>Segment</b>: Consumer<br><b>City</b>: Renton<br><b>Sales</b>: 1242.6319999999998",
          "<b>Year</b>: 2018<br><b>Segment</b>: Consumer<br><b>City</b>: Richmond<br><b>Sales</b>: 3691.25",
          "<b>Year</b>: 2018<br><b>Segment</b>: Consumer<br><b>City</b>: Rochester<br><b>Sales</b>: 1945.73",
          "<b>Year</b>: 2018<br><b>Segment</b>: Consumer<br><b>City</b>: Rochester Hills<br><b>Sales</b>: 132.52",
          "<b>Year</b>: 2018<br><b>Segment</b>: Consumer<br><b>City</b>: Rockford<br><b>Sales</b>: 33.568",
          "<b>Year</b>: 2018<br><b>Segment</b>: Consumer<br><b>City</b>: Rogers<br><b>Sales</b>: 40.41",
          "<b>Year</b>: 2018<br><b>Segment</b>: Consumer<br><b>City</b>: Roseville<br><b>Sales</b>: 39.15",
          "<b>Year</b>: 2018<br><b>Segment</b>: Consumer<br><b>City</b>: Round Rock<br><b>Sales</b>: 106.02080000000001",
          "<b>Year</b>: 2018<br><b>Segment</b>: Consumer<br><b>City</b>: Saginaw<br><b>Sales</b>: 376.1",
          "<b>Year</b>: 2018<br><b>Segment</b>: Consumer<br><b>City</b>: Saint Charles<br><b>Sales</b>: 248.82",
          "<b>Year</b>: 2018<br><b>Segment</b>: Consumer<br><b>City</b>: Saint Louis<br><b>Sales</b>: 95.66000000000001",
          "<b>Year</b>: 2018<br><b>Segment</b>: Consumer<br><b>City</b>: Saint Petersburg<br><b>Sales</b>: 17.088",
          "<b>Year</b>: 2018<br><b>Segment</b>: Consumer<br><b>City</b>: Salem<br><b>Sales</b>: 1738.1",
          "<b>Year</b>: 2018<br><b>Segment</b>: Consumer<br><b>City</b>: Salt Lake City<br><b>Sales</b>: 417.216",
          "<b>Year</b>: 2018<br><b>Segment</b>: Consumer<br><b>City</b>: San Antonio<br><b>Sales</b>: 1308.172",
          "<b>Year</b>: 2018<br><b>Segment</b>: Consumer<br><b>City</b>: San Diego<br><b>Sales</b>: 1741.478",
          "<b>Year</b>: 2018<br><b>Segment</b>: Consumer<br><b>City</b>: San Francisco<br><b>Sales</b>: 17742.886",
          "<b>Year</b>: 2018<br><b>Segment</b>: Consumer<br><b>City</b>: San Jose<br><b>Sales</b>: 1100.207",
          "<b>Year</b>: 2018<br><b>Segment</b>: Consumer<br><b>City</b>: San Mateo<br><b>Sales</b>: 75.18",
          "<b>Year</b>: 2018<br><b>Segment</b>: Consumer<br><b>City</b>: Santa Ana<br><b>Sales</b>: 1861.27",
          "<b>Year</b>: 2018<br><b>Segment</b>: Consumer<br><b>City</b>: Santa Barbara<br><b>Sales</b>: 356.79",
          "<b>Year</b>: 2018<br><b>Segment</b>: Consumer<br><b>City</b>: Seattle<br><b>Sales</b>: 27873.098",
          "<b>Year</b>: 2018<br><b>Segment</b>: Consumer<br><b>City</b>: Sioux Falls<br><b>Sales</b>: 20.23",
          "<b>Year</b>: 2018<br><b>Segment</b>: Consumer<br><b>City</b>: Skokie<br><b>Sales</b>: 469.352",
          "<b>Year</b>: 2018<br><b>Segment</b>: Consumer<br><b>City</b>: Smyrna<br><b>Sales</b>: 36.57",
          "<b>Year</b>: 2018<br><b>Segment</b>: Consumer<br><b>City</b>: Spokane<br><b>Sales</b>: 70.98",
          "<b>Year</b>: 2018<br><b>Segment</b>: Consumer<br><b>City</b>: Springfield<br><b>Sales</b>: 1815.7830000000001",
          "<b>Year</b>: 2018<br><b>Segment</b>: Consumer<br><b>City</b>: Stockton<br><b>Sales</b>: 108.80000000000001",
          "<b>Year</b>: 2018<br><b>Segment</b>: Consumer<br><b>City</b>: Tallahassee<br><b>Sales</b>: 4617.063999999999",
          "<b>Year</b>: 2018<br><b>Segment</b>: Consumer<br><b>City</b>: Tampa<br><b>Sales</b>: 7.904",
          "<b>Year</b>: 2018<br><b>Segment</b>: Consumer<br><b>City</b>: Tempe<br><b>Sales</b>: 19.119999999999997",
          "<b>Year</b>: 2018<br><b>Segment</b>: Consumer<br><b>City</b>: Thornton<br><b>Sales</b>: 306.36",
          "<b>Year</b>: 2018<br><b>Segment</b>: Consumer<br><b>City</b>: Toledo<br><b>Sales</b>: 906.733",
          "<b>Year</b>: 2018<br><b>Segment</b>: Consumer<br><b>City</b>: Trenton<br><b>Sales</b>: 275.65000000000003",
          "<b>Year</b>: 2018<br><b>Segment</b>: Consumer<br><b>City</b>: Troy<br><b>Sales</b>: 60.12",
          "<b>Year</b>: 2018<br><b>Segment</b>: Consumer<br><b>City</b>: Tucson<br><b>Sales</b>: 84.416",
          "<b>Year</b>: 2018<br><b>Segment</b>: Consumer<br><b>City</b>: Tulsa<br><b>Sales</b>: 2585.94",
          "<b>Year</b>: 2018<br><b>Segment</b>: Consumer<br><b>City</b>: Tyler<br><b>Sales</b>: 296.022",
          "<b>Year</b>: 2018<br><b>Segment</b>: Consumer<br><b>City</b>: Urbandale<br><b>Sales</b>: 45.92",
          "<b>Year</b>: 2018<br><b>Segment</b>: Consumer<br><b>City</b>: Utica<br><b>Sales</b>: 119.94",
          "<b>Year</b>: 2018<br><b>Segment</b>: Consumer<br><b>City</b>: Vineland<br><b>Sales</b>: 153.41000000000003",
          "<b>Year</b>: 2018<br><b>Segment</b>: Consumer<br><b>City</b>: Virginia Beach<br><b>Sales</b>: 608.4300000000001",
          "<b>Year</b>: 2018<br><b>Segment</b>: Consumer<br><b>City</b>: Waco<br><b>Sales</b>: 581.5832",
          "<b>Year</b>: 2018<br><b>Segment</b>: Consumer<br><b>City</b>: Waterbury<br><b>Sales</b>: 3.52",
          "<b>Year</b>: 2018<br><b>Segment</b>: Consumer<br><b>City</b>: Waterloo<br><b>Sales</b>: 30.32",
          "<b>Year</b>: 2018<br><b>Segment</b>: Consumer<br><b>City</b>: Westminster<br><b>Sales</b>: 3583.486",
          "<b>Year</b>: 2018<br><b>Segment</b>: Consumer<br><b>City</b>: Wheeling<br><b>Sales</b>: 794.8800000000001",
          "<b>Year</b>: 2018<br><b>Segment</b>: Consumer<br><b>City</b>: Whittier<br><b>Sales</b>: 444.768",
          "<b>Year</b>: 2018<br><b>Segment</b>: Consumer<br><b>City</b>: Wichita<br><b>Sales</b>: 279.9",
          "<b>Year</b>: 2018<br><b>Segment</b>: Consumer<br><b>City</b>: Wilmington<br><b>Sales</b>: 784.141",
          "<b>Year</b>: 2018<br><b>Segment</b>: Consumer<br><b>City</b>: Yonkers<br><b>Sales</b>: 558.81",
          "<b>Year</b>: 2018<br><b>Segment</b>: Corporate<br><b>City</b>: Akron<br><b>Sales</b>: 1034.828",
          "<b>Year</b>: 2018<br><b>Segment</b>: Corporate<br><b>City</b>: Albuquerque<br><b>Sales</b>: 702.052",
          "<b>Year</b>: 2018<br><b>Segment</b>: Corporate<br><b>City</b>: Amarillo<br><b>Sales</b>: 205.3328",
          "<b>Year</b>: 2018<br><b>Segment</b>: Corporate<br><b>City</b>: Anaheim<br><b>Sales</b>: 1892.2",
          "<b>Year</b>: 2018<br><b>Segment</b>: Corporate<br><b>City</b>: Apple Valley<br><b>Sales</b>: 1295.0249999999999",
          "<b>Year</b>: 2018<br><b>Segment</b>: Corporate<br><b>City</b>: Arlington<br><b>Sales</b>: 697.49",
          "<b>Year</b>: 2018<br><b>Segment</b>: Corporate<br><b>City</b>: Asheville<br><b>Sales</b>: 19.008",
          "<b>Year</b>: 2018<br><b>Segment</b>: Corporate<br><b>City</b>: Atlanta<br><b>Sales</b>: 3123.8399999999997",
          "<b>Year</b>: 2018<br><b>Segment</b>: Corporate<br><b>City</b>: Auburn<br><b>Sales</b>: 584.98",
          "<b>Year</b>: 2018<br><b>Segment</b>: Corporate<br><b>City</b>: Aurora<br><b>Sales</b>: 1161.8310000000001",
          "<b>Year</b>: 2018<br><b>Segment</b>: Corporate<br><b>City</b>: Austin<br><b>Sales</b>: 1603.958",
          "<b>Year</b>: 2018<br><b>Segment</b>: Corporate<br><b>City</b>: Baltimore<br><b>Sales</b>: 755.79",
          "<b>Year</b>: 2018<br><b>Segment</b>: Corporate<br><b>City</b>: Beaumont<br><b>Sales</b>: 12.768",
          "<b>Year</b>: 2018<br><b>Segment</b>: Corporate<br><b>City</b>: Bedford<br><b>Sales</b>: 205.29600000000002",
          "<b>Year</b>: 2018<br><b>Segment</b>: Corporate<br><b>City</b>: Bellingham<br><b>Sales</b>: 1099.5",
          "<b>Year</b>: 2018<br><b>Segment</b>: Corporate<br><b>City</b>: Bloomington<br><b>Sales</b>: 54.336",
          "<b>Year</b>: 2018<br><b>Segment</b>: Corporate<br><b>City</b>: Bowling Green<br><b>Sales</b>: 1126.2939999999999",
          "<b>Year</b>: 2018<br><b>Segment</b>: Corporate<br><b>City</b>: Brentwood<br><b>Sales</b>: 3408.4120000000003",
          "<b>Year</b>: 2018<br><b>Segment</b>: Corporate<br><b>City</b>: Buffalo<br><b>Sales</b>: 198.54999999999998",
          "<b>Year</b>: 2018<br><b>Segment</b>: Corporate<br><b>City</b>: Burlington<br><b>Sales</b>: 8382.002",
          "<b>Year</b>: 2018<br><b>Segment</b>: Corporate<br><b>City</b>: Canton<br><b>Sales</b>: 316.32",
          "<b>Year</b>: 2018<br><b>Segment</b>: Corporate<br><b>City</b>: Carlsbad<br><b>Sales</b>: 126.98",
          "<b>Year</b>: 2018<br><b>Segment</b>: Corporate<br><b>City</b>: Carrollton<br><b>Sales</b>: 3.318",
          "<b>Year</b>: 2018<br><b>Segment</b>: Corporate<br><b>City</b>: Cedar Hill<br><b>Sales</b>: 115.296",
          "<b>Year</b>: 2018<br><b>Segment</b>: Corporate<br><b>City</b>: Chandler<br><b>Sales</b>: 83.88",
          "<b>Year</b>: 2018<br><b>Segment</b>: Corporate<br><b>City</b>: Chapel Hill<br><b>Sales</b>: 14.016",
          "<b>Year</b>: 2018<br><b>Segment</b>: Corporate<br><b>City</b>: Chattanooga<br><b>Sales</b>: 8.1",
          "<b>Year</b>: 2018<br><b>Segment</b>: Corporate<br><b>City</b>: Chester<br><b>Sales</b>: 199.49099999999999",
          "<b>Year</b>: 2018<br><b>Segment</b>: Corporate<br><b>City</b>: Chicago<br><b>Sales</b>: 4191.675",
          "<b>Year</b>: 2018<br><b>Segment</b>: Corporate<br><b>City</b>: Chico<br><b>Sales</b>: 753.112",
          "<b>Year</b>: 2018<br><b>Segment</b>: Corporate<br><b>City</b>: Cincinnati<br><b>Sales</b>: 94.78399999999999",
          "<b>Year</b>: 2018<br><b>Segment</b>: Corporate<br><b>City</b>: Cleveland<br><b>Sales</b>: 144.904",
          "<b>Year</b>: 2018<br><b>Segment</b>: Corporate<br><b>City</b>: Clinton<br><b>Sales</b>: 272.97",
          "<b>Year</b>: 2018<br><b>Segment</b>: Corporate<br><b>City</b>: Coachella<br><b>Sales</b>: 163.55",
          "<b>Year</b>: 2018<br><b>Segment</b>: Corporate<br><b>City</b>: Columbia<br><b>Sales</b>: 6924.886",
          "<b>Year</b>: 2018<br><b>Segment</b>: Corporate<br><b>City</b>: Columbus<br><b>Sales</b>: 5484.406",
          "<b>Year</b>: 2018<br><b>Segment</b>: Corporate<br><b>City</b>: Concord<br><b>Sales</b>: 1877.152",
          "<b>Year</b>: 2018<br><b>Segment</b>: Corporate<br><b>City</b>: Cranston<br><b>Sales</b>: 1212.74",
          "<b>Year</b>: 2018<br><b>Segment</b>: Corporate<br><b>City</b>: Dallas<br><b>Sales</b>: 3461.0362",
          "<b>Year</b>: 2018<br><b>Segment</b>: Corporate<br><b>City</b>: Dearborn<br><b>Sales</b>: 60.84",
          "<b>Year</b>: 2018<br><b>Segment</b>: Corporate<br><b>City</b>: Decatur<br><b>Sales</b>: 193.266",
          "<b>Year</b>: 2018<br><b>Segment</b>: Corporate<br><b>City</b>: Denver<br><b>Sales</b>: 1915.6239999999998",
          "<b>Year</b>: 2018<br><b>Segment</b>: Corporate<br><b>City</b>: Des Moines<br><b>Sales</b>: 340.22",
          "<b>Year</b>: 2018<br><b>Segment</b>: Corporate<br><b>City</b>: Detroit<br><b>Sales</b>: 6247.936",
          "<b>Year</b>: 2018<br><b>Segment</b>: Corporate<br><b>City</b>: Dublin<br><b>Sales</b>: 1057.446",
          "<b>Year</b>: 2018<br><b>Segment</b>: Corporate<br><b>City</b>: Durham<br><b>Sales</b>: 30.336",
          "<b>Year</b>: 2018<br><b>Segment</b>: Corporate<br><b>City</b>: Eau Claire<br><b>Sales</b>: 32.56",
          "<b>Year</b>: 2018<br><b>Segment</b>: Corporate<br><b>City</b>: El Paso<br><b>Sales</b>: 95.976",
          "<b>Year</b>: 2018<br><b>Segment</b>: Corporate<br><b>City</b>: Elyria<br><b>Sales</b>: 1.824",
          "<b>Year</b>: 2018<br><b>Segment</b>: Corporate<br><b>City</b>: Everett<br><b>Sales</b>: 3.856",
          "<b>Year</b>: 2018<br><b>Segment</b>: Corporate<br><b>City</b>: Fairfield<br><b>Sales</b>: 2078.134",
          "<b>Year</b>: 2018<br><b>Segment</b>: Corporate<br><b>City</b>: Farmington<br><b>Sales</b>: 159.99",
          "<b>Year</b>: 2018<br><b>Segment</b>: Corporate<br><b>City</b>: Fayetteville<br><b>Sales</b>: 402.822",
          "<b>Year</b>: 2018<br><b>Segment</b>: Corporate<br><b>City</b>: Florence<br><b>Sales</b>: 813.2099999999999",
          "<b>Year</b>: 2018<br><b>Segment</b>: Corporate<br><b>City</b>: Fort Lauderdale<br><b>Sales</b>: 1158.12",
          "<b>Year</b>: 2018<br><b>Segment</b>: Corporate<br><b>City</b>: Fort Worth<br><b>Sales</b>: 1660.5904",
          "<b>Year</b>: 2018<br><b>Segment</b>: Corporate<br><b>City</b>: Franklin<br><b>Sales</b>: 1584.6499999999999",
          "<b>Year</b>: 2018<br><b>Segment</b>: Corporate<br><b>City</b>: Fremont<br><b>Sales</b>: 884.54",
          "<b>Year</b>: 2018<br><b>Segment</b>: Corporate<br><b>City</b>: Garden City<br><b>Sales</b>: 33.29",
          "<b>Year</b>: 2018<br><b>Segment</b>: Corporate<br><b>City</b>: Grand Rapids<br><b>Sales</b>: 209.7",
          "<b>Year</b>: 2018<br><b>Segment</b>: Corporate<br><b>City</b>: Green Bay<br><b>Sales</b>: 22.72",
          "<b>Year</b>: 2018<br><b>Segment</b>: Corporate<br><b>City</b>: Greensboro<br><b>Sales</b>: 1922.976",
          "<b>Year</b>: 2018<br><b>Segment</b>: Corporate<br><b>City</b>: Helena<br><b>Sales</b>: 39.9",
          "<b>Year</b>: 2018<br><b>Segment</b>: Corporate<br><b>City</b>: Hempstead<br><b>Sales</b>: 7.98",
          "<b>Year</b>: 2018<br><b>Segment</b>: Corporate<br><b>City</b>: Henderson<br><b>Sales</b>: 3487.52",
          "<b>Year</b>: 2018<br><b>Segment</b>: Corporate<br><b>City</b>: Hesperia<br><b>Sales</b>: 436.704",
          "<b>Year</b>: 2018<br><b>Segment</b>: Corporate<br><b>City</b>: Hillsboro<br><b>Sales</b>: 23.766000000000002",
          "<b>Year</b>: 2018<br><b>Segment</b>: Corporate<br><b>City</b>: Hoover<br><b>Sales</b>: 525.85",
          "<b>Year</b>: 2018<br><b>Segment</b>: Corporate<br><b>City</b>: Houston<br><b>Sales</b>: 4044.208",
          "<b>Year</b>: 2018<br><b>Segment</b>: Corporate<br><b>City</b>: Huntington Beach<br><b>Sales</b>: 2399.96",
          "<b>Year</b>: 2018<br><b>Segment</b>: Corporate<br><b>City</b>: Huntsville<br><b>Sales</b>: 26.16",
          "<b>Year</b>: 2018<br><b>Segment</b>: Corporate<br><b>City</b>: Indianapolis<br><b>Sales</b>: 909.12",
          "<b>Year</b>: 2018<br><b>Segment</b>: Corporate<br><b>City</b>: Inglewood<br><b>Sales</b>: 2986.592",
          "<b>Year</b>: 2018<br><b>Segment</b>: Corporate<br><b>City</b>: Jacksonville<br><b>Sales</b>: 3712.594",
          "<b>Year</b>: 2018<br><b>Segment</b>: Corporate<br><b>City</b>: Knoxville<br><b>Sales</b>: 342.23999999999995",
          "<b>Year</b>: 2018<br><b>Segment</b>: Corporate<br><b>City</b>: Laguna Niguel<br><b>Sales</b>: 74.03999999999999",
          "<b>Year</b>: 2018<br><b>Segment</b>: Corporate<br><b>City</b>: Lakewood<br><b>Sales</b>: 1318.376",
          "<b>Year</b>: 2018<br><b>Segment</b>: Corporate<br><b>City</b>: Lancaster<br><b>Sales</b>: 727.5840000000001",
          "<b>Year</b>: 2018<br><b>Segment</b>: Corporate<br><b>City</b>: Laurel<br><b>Sales</b>: 152.59",
          "<b>Year</b>: 2018<br><b>Segment</b>: Corporate<br><b>City</b>: Lawrence<br><b>Sales</b>: 1321.96",
          "<b>Year</b>: 2018<br><b>Segment</b>: Corporate<br><b>City</b>: Little Rock<br><b>Sales</b>: 1152.8700000000001",
          "<b>Year</b>: 2018<br><b>Segment</b>: Corporate<br><b>City</b>: Long Beach<br><b>Sales</b>: 382.104",
          "<b>Year</b>: 2018<br><b>Segment</b>: Corporate<br><b>City</b>: Los Angeles<br><b>Sales</b>: 13144.074",
          "<b>Year</b>: 2018<br><b>Segment</b>: Corporate<br><b>City</b>: Louisville<br><b>Sales</b>: 974.9200000000001",
          "<b>Year</b>: 2018<br><b>Segment</b>: Corporate<br><b>City</b>: Loveland<br><b>Sales</b>: 17.94",
          "<b>Year</b>: 2018<br><b>Segment</b>: Corporate<br><b>City</b>: Lowell<br><b>Sales</b>: 69.93",
          "<b>Year</b>: 2018<br><b>Segment</b>: Corporate<br><b>City</b>: Lubbock<br><b>Sales</b>: 9.248",
          "<b>Year</b>: 2018<br><b>Segment</b>: Corporate<br><b>City</b>: Mansfield<br><b>Sales</b>: 41.472",
          "<b>Year</b>: 2018<br><b>Segment</b>: Corporate<br><b>City</b>: Maple Grove<br><b>Sales</b>: 735.98",
          "<b>Year</b>: 2018<br><b>Segment</b>: Corporate<br><b>City</b>: Marion<br><b>Sales</b>: 168.0",
          "<b>Year</b>: 2018<br><b>Segment</b>: Corporate<br><b>City</b>: Mcallen<br><b>Sales</b>: 17.798000000000002",
          "<b>Year</b>: 2018<br><b>Segment</b>: Corporate<br><b>City</b>: Melbourne<br><b>Sales</b>: 95.616",
          "<b>Year</b>: 2018<br><b>Segment</b>: Corporate<br><b>City</b>: Memphis<br><b>Sales</b>: 96.041",
          "<b>Year</b>: 2018<br><b>Segment</b>: Corporate<br><b>City</b>: Meridian<br><b>Sales</b>: 21.312",
          "<b>Year</b>: 2018<br><b>Segment</b>: Corporate<br><b>City</b>: Mesquite<br><b>Sales</b>: 5.184",
          "<b>Year</b>: 2018<br><b>Segment</b>: Corporate<br><b>City</b>: Miami<br><b>Sales</b>: 712.33",
          "<b>Year</b>: 2018<br><b>Segment</b>: Corporate<br><b>City</b>: Middletown<br><b>Sales</b>: 181.95",
          "<b>Year</b>: 2018<br><b>Segment</b>: Corporate<br><b>City</b>: Milford<br><b>Sales</b>: 694.6700000000001",
          "<b>Year</b>: 2018<br><b>Segment</b>: Corporate<br><b>City</b>: Milwaukee<br><b>Sales</b>: 3122.09",
          "<b>Year</b>: 2018<br><b>Segment</b>: Corporate<br><b>City</b>: Miramar<br><b>Sales</b>: 552.856",
          "<b>Year</b>: 2018<br><b>Segment</b>: Corporate<br><b>City</b>: Missouri City<br><b>Sales</b>: 6.37",
          "<b>Year</b>: 2018<br><b>Segment</b>: Corporate<br><b>City</b>: Modesto<br><b>Sales</b>: 52.792",
          "<b>Year</b>: 2018<br><b>Segment</b>: Corporate<br><b>City</b>: Monroe<br><b>Sales</b>: 103.96799999999999",
          "<b>Year</b>: 2018<br><b>Segment</b>: Corporate<br><b>City</b>: Montgomery<br><b>Sales</b>: 10.16",
          "<b>Year</b>: 2018<br><b>Segment</b>: Corporate<br><b>City</b>: Morristown<br><b>Sales</b>: 74.45",
          "<b>Year</b>: 2018<br><b>Segment</b>: Corporate<br><b>City</b>: Mount Vernon<br><b>Sales</b>: 1974.71",
          "<b>Year</b>: 2018<br><b>Segment</b>: Corporate<br><b>City</b>: Murfreesboro<br><b>Sales</b>: 15.992",
          "<b>Year</b>: 2018<br><b>Segment</b>: Corporate<br><b>City</b>: Naperville<br><b>Sales</b>: 147.168",
          "<b>Year</b>: 2018<br><b>Segment</b>: Corporate<br><b>City</b>: Nashville<br><b>Sales</b>: 3024.3520000000003",
          "<b>Year</b>: 2018<br><b>Segment</b>: Corporate<br><b>City</b>: New Bedford<br><b>Sales</b>: 160.59",
          "<b>Year</b>: 2018<br><b>Segment</b>: Corporate<br><b>City</b>: New York City<br><b>Sales</b>: 23817.882",
          "<b>Year</b>: 2018<br><b>Segment</b>: Corporate<br><b>City</b>: Newark<br><b>Sales</b>: 2566.786",
          "<b>Year</b>: 2018<br><b>Segment</b>: Corporate<br><b>City</b>: North Charleston<br><b>Sales</b>: 14.76",
          "<b>Year</b>: 2018<br><b>Segment</b>: Corporate<br><b>City</b>: Oak Park<br><b>Sales</b>: 591.0519999999999",
          "<b>Year</b>: 2018<br><b>Segment</b>: Corporate<br><b>City</b>: Oakland<br><b>Sales</b>: 2390.776",
          "<b>Year</b>: 2018<br><b>Segment</b>: Corporate<br><b>City</b>: Oceanside<br><b>Sales</b>: 222.03199999999998",
          "<b>Year</b>: 2018<br><b>Segment</b>: Corporate<br><b>City</b>: Odessa<br><b>Sales</b>: 29.794",
          "<b>Year</b>: 2018<br><b>Segment</b>: Corporate<br><b>City</b>: Orem<br><b>Sales</b>: 11.68",
          "<b>Year</b>: 2018<br><b>Segment</b>: Corporate<br><b>City</b>: Orlando<br><b>Sales</b>: 20.736",
          "<b>Year</b>: 2018<br><b>Segment</b>: Corporate<br><b>City</b>: Overland Park<br><b>Sales</b>: 419.96",
          "<b>Year</b>: 2018<br><b>Segment</b>: Corporate<br><b>City</b>: Palatine<br><b>Sales</b>: 116.312",
          "<b>Year</b>: 2018<br><b>Segment</b>: Corporate<br><b>City</b>: Pasadena<br><b>Sales</b>: 193.55200000000002",
          "<b>Year</b>: 2018<br><b>Segment</b>: Corporate<br><b>City</b>: Paterson<br><b>Sales</b>: 6.54",
          "<b>Year</b>: 2018<br><b>Segment</b>: Corporate<br><b>City</b>: Pearland<br><b>Sales</b>: 24.619999999999997",
          "<b>Year</b>: 2018<br><b>Segment</b>: Corporate<br><b>City</b>: Peoria<br><b>Sales</b>: 125.97999999999999",
          "<b>Year</b>: 2018<br><b>Segment</b>: Corporate<br><b>City</b>: Philadelphia<br><b>Sales</b>: 11247.822",
          "<b>Year</b>: 2018<br><b>Segment</b>: Corporate<br><b>City</b>: Phoenix<br><b>Sales</b>: 1125.864",
          "<b>Year</b>: 2018<br><b>Segment</b>: Corporate<br><b>City</b>: Plano<br><b>Sales</b>: 9.856",
          "<b>Year</b>: 2018<br><b>Segment</b>: Corporate<br><b>City</b>: Pomona<br><b>Sales</b>: 421.42",
          "<b>Year</b>: 2018<br><b>Segment</b>: Corporate<br><b>City</b>: Pompano Beach<br><b>Sales</b>: 90.44",
          "<b>Year</b>: 2018<br><b>Segment</b>: Corporate<br><b>City</b>: Portland<br><b>Sales</b>: 42.28",
          "<b>Year</b>: 2018<br><b>Segment</b>: Corporate<br><b>City</b>: Providence<br><b>Sales</b>: 986.12",
          "<b>Year</b>: 2018<br><b>Segment</b>: Corporate<br><b>City</b>: Provo<br><b>Sales</b>: 1782.104",
          "<b>Year</b>: 2018<br><b>Segment</b>: Corporate<br><b>City</b>: Quincy<br><b>Sales</b>: 78.04",
          "<b>Year</b>: 2018<br><b>Segment</b>: Corporate<br><b>City</b>: Raleigh<br><b>Sales</b>: 1079.012",
          "<b>Year</b>: 2018<br><b>Segment</b>: Corporate<br><b>City</b>: Redmond<br><b>Sales</b>: 265.299",
          "<b>Year</b>: 2018<br><b>Segment</b>: Corporate<br><b>City</b>: Richmond<br><b>Sales</b>: 223.14",
          "<b>Year</b>: 2018<br><b>Segment</b>: Corporate<br><b>City</b>: Rochester<br><b>Sales</b>: 194.31400000000002",
          "<b>Year</b>: 2018<br><b>Segment</b>: Corporate<br><b>City</b>: Rockford<br><b>Sales</b>: 227.728",
          "<b>Year</b>: 2018<br><b>Segment</b>: Corporate<br><b>City</b>: Roseville<br><b>Sales</b>: 50.4",
          "<b>Year</b>: 2018<br><b>Segment</b>: Corporate<br><b>City</b>: Roswell<br><b>Sales</b>: 3993.1099999999997",
          "<b>Year</b>: 2018<br><b>Segment</b>: Corporate<br><b>City</b>: Round Rock<br><b>Sales</b>: 341.96",
          "<b>Year</b>: 2018<br><b>Segment</b>: Corporate<br><b>City</b>: Sacramento<br><b>Sales</b>: 5325.884",
          "<b>Year</b>: 2018<br><b>Segment</b>: Corporate<br><b>City</b>: Saint Cloud<br><b>Sales</b>: 1331.82",
          "<b>Year</b>: 2018<br><b>Segment</b>: Corporate<br><b>City</b>: Salinas<br><b>Sales</b>: 54.896",
          "<b>Year</b>: 2018<br><b>Segment</b>: Corporate<br><b>City</b>: San Angelo<br><b>Sales</b>: 305.312",
          "<b>Year</b>: 2018<br><b>Segment</b>: Corporate<br><b>City</b>: San Antonio<br><b>Sales</b>: 786.0360000000001",
          "<b>Year</b>: 2018<br><b>Segment</b>: Corporate<br><b>City</b>: San Diego<br><b>Sales</b>: 1886.226",
          "<b>Year</b>: 2018<br><b>Segment</b>: Corporate<br><b>City</b>: San Francisco<br><b>Sales</b>: 15029.783",
          "<b>Year</b>: 2018<br><b>Segment</b>: Corporate<br><b>City</b>: San Jose<br><b>Sales</b>: 412.996",
          "<b>Year</b>: 2018<br><b>Segment</b>: Corporate<br><b>City</b>: Sandy Springs<br><b>Sales</b>: 524.85",
          "<b>Year</b>: 2018<br><b>Segment</b>: Corporate<br><b>City</b>: Santa Ana<br><b>Sales</b>: 163.392",
          "<b>Year</b>: 2018<br><b>Segment</b>: Corporate<br><b>City</b>: Santa Clara<br><b>Sales</b>: 10.56",
          "<b>Year</b>: 2018<br><b>Segment</b>: Corporate<br><b>City</b>: Scottsdale<br><b>Sales</b>: 307.776",
          "<b>Year</b>: 2018<br><b>Segment</b>: Corporate<br><b>City</b>: Seattle<br><b>Sales</b>: 15613.565999999999",
          "<b>Year</b>: 2018<br><b>Segment</b>: Corporate<br><b>City</b>: Sioux Falls<br><b>Sales</b>: 1107.68",
          "<b>Year</b>: 2018<br><b>Segment</b>: Corporate<br><b>City</b>: Skokie<br><b>Sales</b>: 23.887999999999998",
          "<b>Year</b>: 2018<br><b>Segment</b>: Corporate<br><b>City</b>: Southaven<br><b>Sales</b>: 839.25",
          "<b>Year</b>: 2018<br><b>Segment</b>: Corporate<br><b>City</b>: Spokane<br><b>Sales</b>: 719.298",
          "<b>Year</b>: 2018<br><b>Segment</b>: Corporate<br><b>City</b>: Springfield<br><b>Sales</b>: 6554.085",
          "<b>Year</b>: 2018<br><b>Segment</b>: Corporate<br><b>City</b>: Suffolk<br><b>Sales</b>: 1065.8400000000001",
          "<b>Year</b>: 2018<br><b>Segment</b>: Corporate<br><b>City</b>: Summerville<br><b>Sales</b>: 406.93999999999994",
          "<b>Year</b>: 2018<br><b>Segment</b>: Corporate<br><b>City</b>: Sunnyvale<br><b>Sales</b>: 636.21",
          "<b>Year</b>: 2018<br><b>Segment</b>: Corporate<br><b>City</b>: Tallahassee<br><b>Sales</b>: 68.967",
          "<b>Year</b>: 2018<br><b>Segment</b>: Corporate<br><b>City</b>: Tampa<br><b>Sales</b>: 2.896",
          "<b>Year</b>: 2018<br><b>Segment</b>: Corporate<br><b>City</b>: Tempe<br><b>Sales</b>: 62.352",
          "<b>Year</b>: 2018<br><b>Segment</b>: Corporate<br><b>City</b>: Thousand Oaks<br><b>Sales</b>: 190.07",
          "<b>Year</b>: 2018<br><b>Segment</b>: Corporate<br><b>City</b>: Toledo<br><b>Sales</b>: 17.48",
          "<b>Year</b>: 2018<br><b>Segment</b>: Corporate<br><b>City</b>: Torrance<br><b>Sales</b>: 2011.9",
          "<b>Year</b>: 2018<br><b>Segment</b>: Corporate<br><b>City</b>: Trenton<br><b>Sales</b>: 41.28",
          "<b>Year</b>: 2018<br><b>Segment</b>: Corporate<br><b>City</b>: Tucson<br><b>Sales</b>: 1475.054",
          "<b>Year</b>: 2018<br><b>Segment</b>: Corporate<br><b>City</b>: Vancouver<br><b>Sales</b>: 9.64",
          "<b>Year</b>: 2018<br><b>Segment</b>: Corporate<br><b>City</b>: Waco<br><b>Sales</b>: 0.556",
          "<b>Year</b>: 2018<br><b>Segment</b>: Corporate<br><b>City</b>: Warwick<br><b>Sales</b>: 314.92",
          "<b>Year</b>: 2018<br><b>Segment</b>: Corporate<br><b>City</b>: Watertown<br><b>Sales</b>: 1454.844",
          "<b>Year</b>: 2018<br><b>Segment</b>: Corporate<br><b>City</b>: Westfield<br><b>Sales</b>: 129.93",
          "<b>Year</b>: 2018<br><b>Segment</b>: Corporate<br><b>City</b>: Woodland<br><b>Sales</b>: 24.678",
          "<b>Year</b>: 2018<br><b>Segment</b>: Corporate<br><b>City</b>: Woonsocket<br><b>Sales</b>: 91.14",
          "<b>Year</b>: 2018<br><b>Segment</b>: Corporate<br><b>City</b>: York<br><b>Sales</b>: 103.48",
          "<b>Year</b>: 2018<br><b>Segment</b>: Home Office<br><b>City</b>: Albuquerque<br><b>Sales</b>: 780.086",
          "<b>Year</b>: 2018<br><b>Segment</b>: Home Office<br><b>City</b>: Apple Valley<br><b>Sales</b>: 56.136",
          "<b>Year</b>: 2018<br><b>Segment</b>: Home Office<br><b>City</b>: Arlington<br><b>Sales</b>: 11.646",
          "<b>Year</b>: 2018<br><b>Segment</b>: Home Office<br><b>City</b>: Auburn<br><b>Sales</b>: 3.76",
          "<b>Year</b>: 2018<br><b>Segment</b>: Home Office<br><b>City</b>: Aurora<br><b>Sales</b>: 833.7280000000001",
          "<b>Year</b>: 2018<br><b>Segment</b>: Home Office<br><b>City</b>: Austin<br><b>Sales</b>: 94.508",
          "<b>Year</b>: 2018<br><b>Segment</b>: Home Office<br><b>City</b>: Baltimore<br><b>Sales</b>: 1071.7400000000002",
          "<b>Year</b>: 2018<br><b>Segment</b>: Home Office<br><b>City</b>: Boynton Beach<br><b>Sales</b>: 32.088",
          "<b>Year</b>: 2018<br><b>Segment</b>: Home Office<br><b>City</b>: Brentwood<br><b>Sales</b>: 821.514",
          "<b>Year</b>: 2018<br><b>Segment</b>: Home Office<br><b>City</b>: Bryan<br><b>Sales</b>: 65.84",
          "<b>Year</b>: 2018<br><b>Segment</b>: Home Office<br><b>City</b>: Burlington<br><b>Sales</b>: 1645.8680000000002",
          "<b>Year</b>: 2018<br><b>Segment</b>: Home Office<br><b>City</b>: Cambridge<br><b>Sales</b>: 90.6",
          "<b>Year</b>: 2018<br><b>Segment</b>: Home Office<br><b>City</b>: Canton<br><b>Sales</b>: 501.81",
          "<b>Year</b>: 2018<br><b>Segment</b>: Home Office<br><b>City</b>: Carlsbad<br><b>Sales</b>: 228.28",
          "<b>Year</b>: 2018<br><b>Segment</b>: Home Office<br><b>City</b>: Chandler<br><b>Sales</b>: 850.92",
          "<b>Year</b>: 2018<br><b>Segment</b>: Home Office<br><b>City</b>: Charlotte<br><b>Sales</b>: 1447.162",
          "<b>Year</b>: 2018<br><b>Segment</b>: Home Office<br><b>City</b>: Chester<br><b>Sales</b>: 91.726",
          "<b>Year</b>: 2018<br><b>Segment</b>: Home Office<br><b>City</b>: Chicago<br><b>Sales</b>: 6813.957",
          "<b>Year</b>: 2018<br><b>Segment</b>: Home Office<br><b>City</b>: Clarksville<br><b>Sales</b>: 513.496",
          "<b>Year</b>: 2018<br><b>Segment</b>: Home Office<br><b>City</b>: Cleveland<br><b>Sales</b>: 466.81399999999996",
          "<b>Year</b>: 2018<br><b>Segment</b>: Home Office<br><b>City</b>: Clinton<br><b>Sales</b>: 69.06",
          "<b>Year</b>: 2018<br><b>Segment</b>: Home Office<br><b>City</b>: Columbia<br><b>Sales</b>: 441.804",
          "<b>Year</b>: 2018<br><b>Segment</b>: Home Office<br><b>City</b>: Columbus<br><b>Sales</b>: 1938.172",
          "<b>Year</b>: 2018<br><b>Segment</b>: Home Office<br><b>City</b>: Concord<br><b>Sales</b>: 1144.87",
          "<b>Year</b>: 2018<br><b>Segment</b>: Home Office<br><b>City</b>: Corpus Christi<br><b>Sales</b>: 74.352",
          "<b>Year</b>: 2018<br><b>Segment</b>: Home Office<br><b>City</b>: Costa Mesa<br><b>Sales</b>: 277.71",
          "<b>Year</b>: 2018<br><b>Segment</b>: Home Office<br><b>City</b>: Cranston<br><b>Sales</b>: 592.74",
          "<b>Year</b>: 2018<br><b>Segment</b>: Home Office<br><b>City</b>: Dallas<br><b>Sales</b>: 2366.353",
          "<b>Year</b>: 2018<br><b>Segment</b>: Home Office<br><b>City</b>: Danbury<br><b>Sales</b>: 27.46",
          "<b>Year</b>: 2018<br><b>Segment</b>: Home Office<br><b>City</b>: Danville<br><b>Sales</b>: 1202.254",
          "<b>Year</b>: 2018<br><b>Segment</b>: Home Office<br><b>City</b>: Deltona<br><b>Sales</b>: 17.856",
          "<b>Year</b>: 2018<br><b>Segment</b>: Home Office<br><b>City</b>: Denver<br><b>Sales</b>: 63.824",
          "<b>Year</b>: 2018<br><b>Segment</b>: Home Office<br><b>City</b>: Detroit<br><b>Sales</b>: 1106.06",
          "<b>Year</b>: 2018<br><b>Segment</b>: Home Office<br><b>City</b>: Escondido<br><b>Sales</b>: 23.36",
          "<b>Year</b>: 2018<br><b>Segment</b>: Home Office<br><b>City</b>: Fairfield<br><b>Sales</b>: 916.59",
          "<b>Year</b>: 2018<br><b>Segment</b>: Home Office<br><b>City</b>: Fargo<br><b>Sales</b>: 28.38",
          "<b>Year</b>: 2018<br><b>Segment</b>: Home Office<br><b>City</b>: Fort Collins<br><b>Sales</b>: 14.352",
          "<b>Year</b>: 2018<br><b>Segment</b>: Home Office<br><b>City</b>: Fort Lauderdale<br><b>Sales</b>: 188.608",
          "<b>Year</b>: 2018<br><b>Segment</b>: Home Office<br><b>City</b>: Franklin<br><b>Sales</b>: 3.6",
          "<b>Year</b>: 2018<br><b>Segment</b>: Home Office<br><b>City</b>: Fremont<br><b>Sales</b>: 15.92",
          "<b>Year</b>: 2018<br><b>Segment</b>: Home Office<br><b>City</b>: Fresno<br><b>Sales</b>: 168.58",
          "<b>Year</b>: 2018<br><b>Segment</b>: Home Office<br><b>City</b>: Garland<br><b>Sales</b>: 30.384",
          "<b>Year</b>: 2018<br><b>Segment</b>: Home Office<br><b>City</b>: Gilbert<br><b>Sales</b>: 882.99",
          "<b>Year</b>: 2018<br><b>Segment</b>: Home Office<br><b>City</b>: Glendale<br><b>Sales</b>: 972.08",
          "<b>Year</b>: 2018<br><b>Segment</b>: Home Office<br><b>City</b>: Grand Prairie<br><b>Sales</b>: 23.68",
          "<b>Year</b>: 2018<br><b>Segment</b>: Home Office<br><b>City</b>: Great Falls<br><b>Sales</b>: 4189.38",
          "<b>Year</b>: 2018<br><b>Segment</b>: Home Office<br><b>City</b>: Greenwood<br><b>Sales</b>: 240.14999999999998",
          "<b>Year</b>: 2018<br><b>Segment</b>: Home Office<br><b>City</b>: Henderson<br><b>Sales</b>: 760.51",
          "<b>Year</b>: 2018<br><b>Segment</b>: Home Office<br><b>City</b>: Hialeah<br><b>Sales</b>: 220.056",
          "<b>Year</b>: 2018<br><b>Segment</b>: Home Office<br><b>City</b>: Hollywood<br><b>Sales</b>: 411.04999999999995",
          "<b>Year</b>: 2018<br><b>Segment</b>: Home Office<br><b>City</b>: Houston<br><b>Sales</b>: 3115.0644",
          "<b>Year</b>: 2018<br><b>Segment</b>: Home Office<br><b>City</b>: Huntsville<br><b>Sales</b>: 819.2800000000001",
          "<b>Year</b>: 2018<br><b>Segment</b>: Home Office<br><b>City</b>: Independence<br><b>Sales</b>: 1577.94",
          "<b>Year</b>: 2018<br><b>Segment</b>: Home Office<br><b>City</b>: Indianapolis<br><b>Sales</b>: 639.83",
          "<b>Year</b>: 2018<br><b>Segment</b>: Home Office<br><b>City</b>: Jackson<br><b>Sales</b>: 5405.573",
          "<b>Year</b>: 2018<br><b>Segment</b>: Home Office<br><b>City</b>: Jacksonville<br><b>Sales</b>: 926.5840000000001",
          "<b>Year</b>: 2018<br><b>Segment</b>: Home Office<br><b>City</b>: Jonesboro<br><b>Sales</b>: 117.62",
          "<b>Year</b>: 2018<br><b>Segment</b>: Home Office<br><b>City</b>: Kenosha<br><b>Sales</b>: 399.95",
          "<b>Year</b>: 2018<br><b>Segment</b>: Home Office<br><b>City</b>: Knoxville<br><b>Sales</b>: 2442.2799999999997",
          "<b>Year</b>: 2018<br><b>Segment</b>: Home Office<br><b>City</b>: La Mesa<br><b>Sales</b>: 367.53000000000003",
          "<b>Year</b>: 2018<br><b>Segment</b>: Home Office<br><b>City</b>: Lafayette<br><b>Sales</b>: 526.45",
          "<b>Year</b>: 2018<br><b>Segment</b>: Home Office<br><b>City</b>: Laguna Niguel<br><b>Sales</b>: 203.983",
          "<b>Year</b>: 2018<br><b>Segment</b>: Home Office<br><b>City</b>: Lake Charles<br><b>Sales</b>: 477.51",
          "<b>Year</b>: 2018<br><b>Segment</b>: Home Office<br><b>City</b>: Lakeland<br><b>Sales</b>: 729.648",
          "<b>Year</b>: 2018<br><b>Segment</b>: Home Office<br><b>City</b>: Lakewood<br><b>Sales</b>: 1562.516",
          "<b>Year</b>: 2018<br><b>Segment</b>: Home Office<br><b>City</b>: Lancaster<br><b>Sales</b>: 1448.6979999999999",
          "<b>Year</b>: 2018<br><b>Segment</b>: Home Office<br><b>City</b>: Lansing<br><b>Sales</b>: 269.68",
          "<b>Year</b>: 2018<br><b>Segment</b>: Home Office<br><b>City</b>: Las Vegas<br><b>Sales</b>: 75.792",
          "<b>Year</b>: 2018<br><b>Segment</b>: Home Office<br><b>City</b>: Lawrence<br><b>Sales</b>: 1843.402",
          "<b>Year</b>: 2018<br><b>Segment</b>: Home Office<br><b>City</b>: Long Beach<br><b>Sales</b>: 2089.412",
          "<b>Year</b>: 2018<br><b>Segment</b>: Home Office<br><b>City</b>: Lorain<br><b>Sales</b>: 30.41",
          "<b>Year</b>: 2018<br><b>Segment</b>: Home Office<br><b>City</b>: Los Angeles<br><b>Sales</b>: 14846.279",
          "<b>Year</b>: 2018<br><b>Segment</b>: Home Office<br><b>City</b>: Louisville<br><b>Sales</b>: 3412.7090000000003",
          "<b>Year</b>: 2018<br><b>Segment</b>: Home Office<br><b>City</b>: Lubbock<br><b>Sales</b>: 11.364",
          "<b>Year</b>: 2018<br><b>Segment</b>: Home Office<br><b>City</b>: Manteca<br><b>Sales</b>: 314.55",
          "<b>Year</b>: 2018<br><b>Segment</b>: Home Office<br><b>City</b>: Maple Grove<br><b>Sales</b>: 146.89000000000001",
          "<b>Year</b>: 2018<br><b>Segment</b>: Home Office<br><b>City</b>: Marion<br><b>Sales</b>: 114.032",
          "<b>Year</b>: 2018<br><b>Segment</b>: Home Office<br><b>City</b>: Mentor<br><b>Sales</b>: 693.13",
          "<b>Year</b>: 2018<br><b>Segment</b>: Home Office<br><b>City</b>: Meriden<br><b>Sales</b>: 11.12",
          "<b>Year</b>: 2018<br><b>Segment</b>: Home Office<br><b>City</b>: Meridian<br><b>Sales</b>: 307.74",
          "<b>Year</b>: 2018<br><b>Segment</b>: Home Office<br><b>City</b>: Mesa<br><b>Sales</b>: 44.784",
          "<b>Year</b>: 2018<br><b>Segment</b>: Home Office<br><b>City</b>: Miami<br><b>Sales</b>: 71.976",
          "<b>Year</b>: 2018<br><b>Segment</b>: Home Office<br><b>City</b>: Milwaukee<br><b>Sales</b>: 131.65",
          "<b>Year</b>: 2018<br><b>Segment</b>: Home Office<br><b>City</b>: Minneapolis<br><b>Sales</b>: 55.559999999999995",
          "<b>Year</b>: 2018<br><b>Segment</b>: Home Office<br><b>City</b>: Miramar<br><b>Sales</b>: 419.136",
          "<b>Year</b>: 2018<br><b>Segment</b>: Home Office<br><b>City</b>: Monroe<br><b>Sales</b>: 7.968",
          "<b>Year</b>: 2018<br><b>Segment</b>: Home Office<br><b>City</b>: Muskogee<br><b>Sales</b>: 1721.7",
          "<b>Year</b>: 2018<br><b>Segment</b>: Home Office<br><b>City</b>: Nashville<br><b>Sales</b>: 174.752",
          "<b>Year</b>: 2018<br><b>Segment</b>: Home Office<br><b>City</b>: New Brunswick<br><b>Sales</b>: 14.77",
          "<b>Year</b>: 2018<br><b>Segment</b>: Home Office<br><b>City</b>: New York City<br><b>Sales</b>: 27751.081000000002",
          "<b>Year</b>: 2018<br><b>Segment</b>: Home Office<br><b>City</b>: Newark<br><b>Sales</b>: 299.52",
          "<b>Year</b>: 2018<br><b>Segment</b>: Home Office<br><b>City</b>: Omaha<br><b>Sales</b>: 58.05",
          "<b>Year</b>: 2018<br><b>Segment</b>: Home Office<br><b>City</b>: Pasadena<br><b>Sales</b>: 1112.182",
          "<b>Year</b>: 2018<br><b>Segment</b>: Home Office<br><b>City</b>: Peoria<br><b>Sales</b>: 668.7439999999999",
          "<b>Year</b>: 2018<br><b>Segment</b>: Home Office<br><b>City</b>: Perth Amboy<br><b>Sales</b>: 178.20999999999998",
          "<b>Year</b>: 2018<br><b>Segment</b>: Home Office<br><b>City</b>: Philadelphia<br><b>Sales</b>: 5933.597000000001",
          "<b>Year</b>: 2018<br><b>Segment</b>: Home Office<br><b>City</b>: Phoenix<br><b>Sales</b>: 7.857",
          "<b>Year</b>: 2018<br><b>Segment</b>: Home Office<br><b>City</b>: Pico Rivera<br><b>Sales</b>: 145.9",
          "<b>Year</b>: 2018<br><b>Segment</b>: Home Office<br><b>City</b>: Plainfield<br><b>Sales</b>: 2639.99",
          "<b>Year</b>: 2018<br><b>Segment</b>: Home Office<br><b>City</b>: Portland<br><b>Sales</b>: 5.682",
          "<b>Year</b>: 2018<br><b>Segment</b>: Home Office<br><b>City</b>: Quincy<br><b>Sales</b>: 283.46",
          "<b>Year</b>: 2018<br><b>Segment</b>: Home Office<br><b>City</b>: Richmond<br><b>Sales</b>: 4735.76",
          "<b>Year</b>: 2018<br><b>Segment</b>: Home Office<br><b>City</b>: Riverside<br><b>Sales</b>: 7.8",
          "<b>Year</b>: 2018<br><b>Segment</b>: Home Office<br><b>City</b>: Rochester<br><b>Sales</b>: 33.376",
          "<b>Year</b>: 2018<br><b>Segment</b>: Home Office<br><b>City</b>: Rockford<br><b>Sales</b>: 254.604",
          "<b>Year</b>: 2018<br><b>Segment</b>: Home Office<br><b>City</b>: Rome<br><b>Sales</b>: 408.96000000000004",
          "<b>Year</b>: 2018<br><b>Segment</b>: Home Office<br><b>City</b>: Roswell<br><b>Sales</b>: 830.24",
          "<b>Year</b>: 2018<br><b>Segment</b>: Home Office<br><b>City</b>: Saginaw<br><b>Sales</b>: 19.76",
          "<b>Year</b>: 2018<br><b>Segment</b>: Home Office<br><b>City</b>: Salem<br><b>Sales</b>: 8.432",
          "<b>Year</b>: 2018<br><b>Segment</b>: Home Office<br><b>City</b>: Salinas<br><b>Sales</b>: 148.257",
          "<b>Year</b>: 2018<br><b>Segment</b>: Home Office<br><b>City</b>: San Diego<br><b>Sales</b>: 2007.844",
          "<b>Year</b>: 2018<br><b>Segment</b>: Home Office<br><b>City</b>: San Francisco<br><b>Sales</b>: 4126.4220000000005",
          "<b>Year</b>: 2018<br><b>Segment</b>: Home Office<br><b>City</b>: Sandy Springs<br><b>Sales</b>: 148.16000000000003",
          "<b>Year</b>: 2018<br><b>Segment</b>: Home Office<br><b>City</b>: Sanford<br><b>Sales</b>: 225.54600000000002",
          "<b>Year</b>: 2018<br><b>Segment</b>: Home Office<br><b>City</b>: Santa Barbara<br><b>Sales</b>: 1.81",
          "<b>Year</b>: 2018<br><b>Segment</b>: Home Office<br><b>City</b>: Seattle<br><b>Sales</b>: 13504.155999999999",
          "<b>Year</b>: 2018<br><b>Segment</b>: Home Office<br><b>City</b>: Spokane<br><b>Sales</b>: 136.26",
          "<b>Year</b>: 2018<br><b>Segment</b>: Home Office<br><b>City</b>: Springdale<br><b>Sales</b>: 4.3",
          "<b>Year</b>: 2018<br><b>Segment</b>: Home Office<br><b>City</b>: Springfield<br><b>Sales</b>: 1137.46",
          "<b>Year</b>: 2018<br><b>Segment</b>: Home Office<br><b>City</b>: Stockton<br><b>Sales</b>: 629.64",
          "<b>Year</b>: 2018<br><b>Segment</b>: Home Office<br><b>City</b>: Tampa<br><b>Sales</b>: 1781.5105",
          "<b>Year</b>: 2018<br><b>Segment</b>: Home Office<br><b>City</b>: Texarkana<br><b>Sales</b>: 48.9",
          "<b>Year</b>: 2018<br><b>Segment</b>: Home Office<br><b>City</b>: Tigard<br><b>Sales</b>: 205.744",
          "<b>Year</b>: 2018<br><b>Segment</b>: Home Office<br><b>City</b>: Toledo<br><b>Sales</b>: 663.936",
          "<b>Year</b>: 2018<br><b>Segment</b>: Home Office<br><b>City</b>: Troy<br><b>Sales</b>: 1448.853",
          "<b>Year</b>: 2018<br><b>Segment</b>: Home Office<br><b>City</b>: Tucson<br><b>Sales</b>: 100.922",
          "<b>Year</b>: 2018<br><b>Segment</b>: Home Office<br><b>City</b>: Tulsa<br><b>Sales</b>: 36.44",
          "<b>Year</b>: 2018<br><b>Segment</b>: Home Office<br><b>City</b>: Tuscaloosa<br><b>Sales</b>: 175.70000000000002",
          "<b>Year</b>: 2018<br><b>Segment</b>: Home Office<br><b>City</b>: Virginia Beach<br><b>Sales</b>: 57.01",
          "<b>Year</b>: 2018<br><b>Segment</b>: Home Office<br><b>City</b>: Washington<br><b>Sales</b>: 77.75999999999999",
          "<b>Year</b>: 2018<br><b>Segment</b>: Home Office<br><b>City</b>: Waterbury<br><b>Sales</b>: 484.74",
          "<b>Year</b>: 2018<br><b>Segment</b>: Home Office<br><b>City</b>: Watertown<br><b>Sales</b>: 191.646",
          "<b>Year</b>: 2018<br><b>Segment</b>: Home Office<br><b>City</b>: Westfield<br><b>Sales</b>: 46.26",
          "<b>Year</b>: 2018<br><b>Segment</b>: Home Office<br><b>City</b>: Wheeling<br><b>Sales</b>: 536.48",
          "<b>Year</b>: 2018<br><b>Segment</b>: Home Office<br><b>City</b>: Wilmington<br><b>Sales</b>: 872.5",
          "<b>Year</b>: 2018<br><b>Segment</b>: Home Office<br><b>City</b>: Woodstock<br><b>Sales</b>: 2.912",
          "<b>Year</b>: 2018<br><b>Segment</b>: Home Office<br><b>City</b>: Yonkers<br><b>Sales</b>: 216.4",
          "<b>Year</b>: 2018<br><b>Segment</b>: Home Office<br><b>City</b>: Yuma<br><b>Sales</b>: 599.985"
         ],
         "marker": {
          "color": "#19AAE1"
         },
         "orientation": "h",
         "text": [
          29227.862,
          21246.727,
          13886.478,
          13374.113,
          11448.006,
          10927.516,
          10563.94,
          8741.539,
          7733.552,
          6902.508
         ],
         "textposition": "auto",
         "texttemplate": "$%{text:.2s}",
         "type": "bar",
         "x": [
          29227.862,
          21246.727,
          13886.478,
          13374.113,
          11448.006,
          10927.516,
          10563.94,
          8741.539,
          7733.552,
          6902.508
         ],
         "y": [
          "New York City",
          "San Francisco",
          "Los Angeles",
          "San Antonio",
          "Philadelphia",
          "Seattle",
          "Minneapolis",
          "Houston",
          "Chicago",
          "San Diego"
         ]
        }
       ],
       "layout": {
        "font": {
         "color": "white",
         "family": "sans-serif",
         "size": 15
        },
        "hovermode": "closest",
        "legend": {
         "bgcolor": "#1f2c56",
         "orientation": "h",
         "x": 1.25,
         "xanchor": "center",
         "y": 0.5,
         "yanchor": "top"
        },
        "margin": {
         "r": 0,
         "t": 50
        },
        "paper_bgcolor": "#1f2c56",
        "plot_bgcolor": "#1f2c56",
        "template": {
         "data": {
          "bar": [
           {
            "error_x": {
             "color": "#2a3f5f"
            },
            "error_y": {
             "color": "#2a3f5f"
            },
            "marker": {
             "line": {
              "color": "#E5ECF6",
              "width": 0.5
             },
             "pattern": {
              "fillmode": "overlay",
              "size": 10,
              "solidity": 0.2
             }
            },
            "type": "bar"
           }
          ],
          "barpolar": [
           {
            "marker": {
             "line": {
              "color": "#E5ECF6",
              "width": 0.5
             },
             "pattern": {
              "fillmode": "overlay",
              "size": 10,
              "solidity": 0.2
             }
            },
            "type": "barpolar"
           }
          ],
          "carpet": [
           {
            "aaxis": {
             "endlinecolor": "#2a3f5f",
             "gridcolor": "white",
             "linecolor": "white",
             "minorgridcolor": "white",
             "startlinecolor": "#2a3f5f"
            },
            "baxis": {
             "endlinecolor": "#2a3f5f",
             "gridcolor": "white",
             "linecolor": "white",
             "minorgridcolor": "white",
             "startlinecolor": "#2a3f5f"
            },
            "type": "carpet"
           }
          ],
          "choropleth": [
           {
            "colorbar": {
             "outlinewidth": 0,
             "ticks": ""
            },
            "type": "choropleth"
           }
          ],
          "contour": [
           {
            "colorbar": {
             "outlinewidth": 0,
             "ticks": ""
            },
            "colorscale": [
             [
              0,
              "#0d0887"
             ],
             [
              0.1111111111111111,
              "#46039f"
             ],
             [
              0.2222222222222222,
              "#7201a8"
             ],
             [
              0.3333333333333333,
              "#9c179e"
             ],
             [
              0.4444444444444444,
              "#bd3786"
             ],
             [
              0.5555555555555556,
              "#d8576b"
             ],
             [
              0.6666666666666666,
              "#ed7953"
             ],
             [
              0.7777777777777778,
              "#fb9f3a"
             ],
             [
              0.8888888888888888,
              "#fdca26"
             ],
             [
              1,
              "#f0f921"
             ]
            ],
            "type": "contour"
           }
          ],
          "contourcarpet": [
           {
            "colorbar": {
             "outlinewidth": 0,
             "ticks": ""
            },
            "type": "contourcarpet"
           }
          ],
          "heatmap": [
           {
            "colorbar": {
             "outlinewidth": 0,
             "ticks": ""
            },
            "colorscale": [
             [
              0,
              "#0d0887"
             ],
             [
              0.1111111111111111,
              "#46039f"
             ],
             [
              0.2222222222222222,
              "#7201a8"
             ],
             [
              0.3333333333333333,
              "#9c179e"
             ],
             [
              0.4444444444444444,
              "#bd3786"
             ],
             [
              0.5555555555555556,
              "#d8576b"
             ],
             [
              0.6666666666666666,
              "#ed7953"
             ],
             [
              0.7777777777777778,
              "#fb9f3a"
             ],
             [
              0.8888888888888888,
              "#fdca26"
             ],
             [
              1,
              "#f0f921"
             ]
            ],
            "type": "heatmap"
           }
          ],
          "heatmapgl": [
           {
            "colorbar": {
             "outlinewidth": 0,
             "ticks": ""
            },
            "colorscale": [
             [
              0,
              "#0d0887"
             ],
             [
              0.1111111111111111,
              "#46039f"
             ],
             [
              0.2222222222222222,
              "#7201a8"
             ],
             [
              0.3333333333333333,
              "#9c179e"
             ],
             [
              0.4444444444444444,
              "#bd3786"
             ],
             [
              0.5555555555555556,
              "#d8576b"
             ],
             [
              0.6666666666666666,
              "#ed7953"
             ],
             [
              0.7777777777777778,
              "#fb9f3a"
             ],
             [
              0.8888888888888888,
              "#fdca26"
             ],
             [
              1,
              "#f0f921"
             ]
            ],
            "type": "heatmapgl"
           }
          ],
          "histogram": [
           {
            "marker": {
             "pattern": {
              "fillmode": "overlay",
              "size": 10,
              "solidity": 0.2
             }
            },
            "type": "histogram"
           }
          ],
          "histogram2d": [
           {
            "colorbar": {
             "outlinewidth": 0,
             "ticks": ""
            },
            "colorscale": [
             [
              0,
              "#0d0887"
             ],
             [
              0.1111111111111111,
              "#46039f"
             ],
             [
              0.2222222222222222,
              "#7201a8"
             ],
             [
              0.3333333333333333,
              "#9c179e"
             ],
             [
              0.4444444444444444,
              "#bd3786"
             ],
             [
              0.5555555555555556,
              "#d8576b"
             ],
             [
              0.6666666666666666,
              "#ed7953"
             ],
             [
              0.7777777777777778,
              "#fb9f3a"
             ],
             [
              0.8888888888888888,
              "#fdca26"
             ],
             [
              1,
              "#f0f921"
             ]
            ],
            "type": "histogram2d"
           }
          ],
          "histogram2dcontour": [
           {
            "colorbar": {
             "outlinewidth": 0,
             "ticks": ""
            },
            "colorscale": [
             [
              0,
              "#0d0887"
             ],
             [
              0.1111111111111111,
              "#46039f"
             ],
             [
              0.2222222222222222,
              "#7201a8"
             ],
             [
              0.3333333333333333,
              "#9c179e"
             ],
             [
              0.4444444444444444,
              "#bd3786"
             ],
             [
              0.5555555555555556,
              "#d8576b"
             ],
             [
              0.6666666666666666,
              "#ed7953"
             ],
             [
              0.7777777777777778,
              "#fb9f3a"
             ],
             [
              0.8888888888888888,
              "#fdca26"
             ],
             [
              1,
              "#f0f921"
             ]
            ],
            "type": "histogram2dcontour"
           }
          ],
          "mesh3d": [
           {
            "colorbar": {
             "outlinewidth": 0,
             "ticks": ""
            },
            "type": "mesh3d"
           }
          ],
          "parcoords": [
           {
            "line": {
             "colorbar": {
              "outlinewidth": 0,
              "ticks": ""
             }
            },
            "type": "parcoords"
           }
          ],
          "pie": [
           {
            "automargin": true,
            "type": "pie"
           }
          ],
          "scatter": [
           {
            "fillpattern": {
             "fillmode": "overlay",
             "size": 10,
             "solidity": 0.2
            },
            "type": "scatter"
           }
          ],
          "scatter3d": [
           {
            "line": {
             "colorbar": {
              "outlinewidth": 0,
              "ticks": ""
             }
            },
            "marker": {
             "colorbar": {
              "outlinewidth": 0,
              "ticks": ""
             }
            },
            "type": "scatter3d"
           }
          ],
          "scattercarpet": [
           {
            "marker": {
             "colorbar": {
              "outlinewidth": 0,
              "ticks": ""
             }
            },
            "type": "scattercarpet"
           }
          ],
          "scattergeo": [
           {
            "marker": {
             "colorbar": {
              "outlinewidth": 0,
              "ticks": ""
             }
            },
            "type": "scattergeo"
           }
          ],
          "scattergl": [
           {
            "marker": {
             "colorbar": {
              "outlinewidth": 0,
              "ticks": ""
             }
            },
            "type": "scattergl"
           }
          ],
          "scattermapbox": [
           {
            "marker": {
             "colorbar": {
              "outlinewidth": 0,
              "ticks": ""
             }
            },
            "type": "scattermapbox"
           }
          ],
          "scatterpolar": [
           {
            "marker": {
             "colorbar": {
              "outlinewidth": 0,
              "ticks": ""
             }
            },
            "type": "scatterpolar"
           }
          ],
          "scatterpolargl": [
           {
            "marker": {
             "colorbar": {
              "outlinewidth": 0,
              "ticks": ""
             }
            },
            "type": "scatterpolargl"
           }
          ],
          "scatterternary": [
           {
            "marker": {
             "colorbar": {
              "outlinewidth": 0,
              "ticks": ""
             }
            },
            "type": "scatterternary"
           }
          ],
          "surface": [
           {
            "colorbar": {
             "outlinewidth": 0,
             "ticks": ""
            },
            "colorscale": [
             [
              0,
              "#0d0887"
             ],
             [
              0.1111111111111111,
              "#46039f"
             ],
             [
              0.2222222222222222,
              "#7201a8"
             ],
             [
              0.3333333333333333,
              "#9c179e"
             ],
             [
              0.4444444444444444,
              "#bd3786"
             ],
             [
              0.5555555555555556,
              "#d8576b"
             ],
             [
              0.6666666666666666,
              "#ed7953"
             ],
             [
              0.7777777777777778,
              "#fb9f3a"
             ],
             [
              0.8888888888888888,
              "#fdca26"
             ],
             [
              1,
              "#f0f921"
             ]
            ],
            "type": "surface"
           }
          ],
          "table": [
           {
            "cells": {
             "fill": {
              "color": "#EBF0F8"
             },
             "line": {
              "color": "white"
             }
            },
            "header": {
             "fill": {
              "color": "#C8D4E3"
             },
             "line": {
              "color": "white"
             }
            },
            "type": "table"
           }
          ]
         },
         "layout": {
          "annotationdefaults": {
           "arrowcolor": "#2a3f5f",
           "arrowhead": 0,
           "arrowwidth": 1
          },
          "autotypenumbers": "strict",
          "coloraxis": {
           "colorbar": {
            "outlinewidth": 0,
            "ticks": ""
           }
          },
          "colorscale": {
           "diverging": [
            [
             0,
             "#8e0152"
            ],
            [
             0.1,
             "#c51b7d"
            ],
            [
             0.2,
             "#de77ae"
            ],
            [
             0.3,
             "#f1b6da"
            ],
            [
             0.4,
             "#fde0ef"
            ],
            [
             0.5,
             "#f7f7f7"
            ],
            [
             0.6,
             "#e6f5d0"
            ],
            [
             0.7,
             "#b8e186"
            ],
            [
             0.8,
             "#7fbc41"
            ],
            [
             0.9,
             "#4d9221"
            ],
            [
             1,
             "#276419"
            ]
           ],
           "sequential": [
            [
             0,
             "#0d0887"
            ],
            [
             0.1111111111111111,
             "#46039f"
            ],
            [
             0.2222222222222222,
             "#7201a8"
            ],
            [
             0.3333333333333333,
             "#9c179e"
            ],
            [
             0.4444444444444444,
             "#bd3786"
            ],
            [
             0.5555555555555556,
             "#d8576b"
            ],
            [
             0.6666666666666666,
             "#ed7953"
            ],
            [
             0.7777777777777778,
             "#fb9f3a"
            ],
            [
             0.8888888888888888,
             "#fdca26"
            ],
            [
             1,
             "#f0f921"
            ]
           ],
           "sequentialminus": [
            [
             0,
             "#0d0887"
            ],
            [
             0.1111111111111111,
             "#46039f"
            ],
            [
             0.2222222222222222,
             "#7201a8"
            ],
            [
             0.3333333333333333,
             "#9c179e"
            ],
            [
             0.4444444444444444,
             "#bd3786"
            ],
            [
             0.5555555555555556,
             "#d8576b"
            ],
            [
             0.6666666666666666,
             "#ed7953"
            ],
            [
             0.7777777777777778,
             "#fb9f3a"
            ],
            [
             0.8888888888888888,
             "#fdca26"
            ],
            [
             1,
             "#f0f921"
            ]
           ]
          },
          "colorway": [
           "#636efa",
           "#EF553B",
           "#00cc96",
           "#ab63fa",
           "#FFA15A",
           "#19d3f3",
           "#FF6692",
           "#B6E880",
           "#FF97FF",
           "#FECB52"
          ],
          "font": {
           "color": "#2a3f5f"
          },
          "geo": {
           "bgcolor": "white",
           "lakecolor": "white",
           "landcolor": "#E5ECF6",
           "showlakes": true,
           "showland": true,
           "subunitcolor": "white"
          },
          "hoverlabel": {
           "align": "left"
          },
          "hovermode": "closest",
          "mapbox": {
           "style": "light"
          },
          "paper_bgcolor": "white",
          "plot_bgcolor": "#E5ECF6",
          "polar": {
           "angularaxis": {
            "gridcolor": "white",
            "linecolor": "white",
            "ticks": ""
           },
           "bgcolor": "#E5ECF6",
           "radialaxis": {
            "gridcolor": "white",
            "linecolor": "white",
            "ticks": ""
           }
          },
          "scene": {
           "xaxis": {
            "backgroundcolor": "#E5ECF6",
            "gridcolor": "white",
            "gridwidth": 2,
            "linecolor": "white",
            "showbackground": true,
            "ticks": "",
            "zerolinecolor": "white"
           },
           "yaxis": {
            "backgroundcolor": "#E5ECF6",
            "gridcolor": "white",
            "gridwidth": 2,
            "linecolor": "white",
            "showbackground": true,
            "ticks": "",
            "zerolinecolor": "white"
           },
           "zaxis": {
            "backgroundcolor": "#E5ECF6",
            "gridcolor": "white",
            "gridwidth": 2,
            "linecolor": "white",
            "showbackground": true,
            "ticks": "",
            "zerolinecolor": "white"
           }
          },
          "shapedefaults": {
           "line": {
            "color": "#2a3f5f"
           }
          },
          "ternary": {
           "aaxis": {
            "gridcolor": "white",
            "linecolor": "white",
            "ticks": ""
           },
           "baxis": {
            "gridcolor": "white",
            "linecolor": "white",
            "ticks": ""
           },
           "bgcolor": "#E5ECF6",
           "caxis": {
            "gridcolor": "white",
            "linecolor": "white",
            "ticks": ""
           }
          },
          "title": {
           "x": 0.05
          },
          "xaxis": {
           "automargin": true,
           "gridcolor": "white",
           "linecolor": "white",
           "ticks": "",
           "title": {
            "standoff": 15
           },
           "zerolinecolor": "white",
           "zerolinewidth": 2
          },
          "yaxis": {
           "automargin": true,
           "gridcolor": "white",
           "linecolor": "white",
           "ticks": "",
           "title": {
            "standoff": 15
           },
           "zerolinecolor": "white",
           "zerolinewidth": 2
          }
         }
        },
        "title": {
         "font": {
          "color": "white",
          "size": 12
         },
         "text": "Sales by City in Year 2015",
         "x": 0.5,
         "xanchor": "center",
         "y": 0.98,
         "yanchor": "top"
        },
        "xaxis": {
         "color": "orange",
         "linecolor": "orange",
         "linewidth": 2,
         "showgrid": true,
         "showline": true,
         "showticklabels": true,
         "tickfont": {
          "color": "orange",
          "family": "Arial",
          "size": 12
         },
         "ticks": "outside",
         "title": {
          "text": "<b></b>"
         }
        },
        "yaxis": {
         "autorange": "reversed",
         "color": "orange",
         "linecolor": "orange",
         "linewidth": 2,
         "showgrid": false,
         "showline": false,
         "showticklabels": true,
         "tickfont": {
          "color": "orange",
          "family": "Arial",
          "size": 12
         },
         "ticks": "outside",
         "title": {
          "text": "<b></b>"
         }
        }
       }
      }
     },
     "metadata": {},
     "output_type": "display_data"
    }
   ],
   "source": [
    "trace = go.Bar(\n",
    "      x = sales4['Sales'],\n",
    "      y = sales4['City'],\n",
    "      text = sales4['Sales'],\n",
    "      orientation='h',\n",
    "      texttemplate='$' + '%{text:.2s}',\n",
    "      textposition= 'auto',\n",
    "      marker=dict(color = '#19AAE1'),\n",
    "      hoverinfo='text',\n",
    "      hovertext=\n",
    "            '<b>Year</b>: ' + sales3['Year'].astype(str) + '<br>' + \\\n",
    "            '<b>Segment</b>: ' + sales3['Segment'].astype(str) + '<br>'+ \\\n",
    "            '<b>City</b>: ' + sales3['City'].astype(str) + '<br>' + \\\n",
    "            '<b>Sales</b>: ' + sales3['Sales'].astype(str)\n",
    ")\n",
    "\n",
    "layout = go.Layout(\n",
    "      plot_bgcolor='#1f2c56',\n",
    "      paper_bgcolor='#1f2c56',\n",
    "      title={\n",
    "            'text':f\"Sales by City in Year {2015}\",\n",
    "            'y':0.98,\n",
    "            'x':0.5,\n",
    "            'xanchor':'center',\n",
    "            'yanchor':'top'\n",
    "      },\n",
    "      titlefont={\n",
    "            'color':'white',\n",
    "            'size':12\n",
    "      },\n",
    "      hovermode='closest',\n",
    "      margin=dict(t=50,r=0),\n",
    "      xaxis=dict(\n",
    "            title = '<b></b>',\n",
    "            color ='orange',\n",
    "            showline= True,\n",
    "            showgrid = True,\n",
    "            showticklabels = True,\n",
    "            linecolor ='orange',\n",
    "            linewidth = 2,\n",
    "            ticks='outside',\n",
    "            tickfont = dict(\n",
    "                  family='Arial',\n",
    "                  size= 12,\n",
    "                  color= 'orange'\n",
    "            ),\n",
    "      \n",
    "      ),\n",
    "      yaxis=dict(\n",
    "            title = '<b></b>',\n",
    "            autorange = 'reversed',\n",
    "            color ='orange',\n",
    "            showline= False,\n",
    "            showgrid = False,\n",
    "            showticklabels = True,\n",
    "            linecolor ='orange',\n",
    "            linewidth = 2,\n",
    "            ticks='outside',\n",
    "            tickfont = dict(\n",
    "                  family='Arial',\n",
    "                  size= 12,\n",
    "                  color= 'orange'\n",
    "            )\n",
    "      \n",
    "      ),\n",
    "      legend ={\n",
    "            'orientation':'h',\n",
    "            'bgcolor':'#1f2c56',\n",
    "            'x':1.25,\n",
    "            'y':0.5,\n",
    "            'xanchor':'center',\n",
    "            'yanchor':'top'\n",
    "      },\n",
    "      font = dict(\n",
    "                family = \"sans-serif\",\n",
    "                size = 15,\n",
    "                color = 'white'),\n",
    ")\n",
    "\n",
    "data = [trace]\n",
    "fig = go.Figure(data=data, layout=layout)\n",
    "pio.show(fig)"
   ]
  },
  {
   "cell_type": "code",
   "execution_count": 33,
   "metadata": {},
   "outputs": [
    {
     "data": {
      "text/html": [
       "<div>\n",
       "<style scoped>\n",
       "    .dataframe tbody tr th:only-of-type {\n",
       "        vertical-align: middle;\n",
       "    }\n",
       "\n",
       "    .dataframe tbody tr th {\n",
       "        vertical-align: top;\n",
       "    }\n",
       "\n",
       "    .dataframe thead th {\n",
       "        text-align: right;\n",
       "    }\n",
       "</style>\n",
       "<table border=\"1\" class=\"dataframe\">\n",
       "  <thead>\n",
       "    <tr style=\"text-align: right;\">\n",
       "      <th></th>\n",
       "      <th>Year</th>\n",
       "      <th>Segment</th>\n",
       "      <th>State</th>\n",
       "      <th>City</th>\n",
       "      <th>Month_name</th>\n",
       "      <th>Sales</th>\n",
       "    </tr>\n",
       "  </thead>\n",
       "  <tbody>\n",
       "    <tr>\n",
       "      <th>0</th>\n",
       "      <td>2015</td>\n",
       "      <td>Consumer</td>\n",
       "      <td>Alabama</td>\n",
       "      <td>Decatur</td>\n",
       "      <td>May</td>\n",
       "      <td>180.930</td>\n",
       "    </tr>\n",
       "    <tr>\n",
       "      <th>1</th>\n",
       "      <td>2015</td>\n",
       "      <td>Consumer</td>\n",
       "      <td>Alabama</td>\n",
       "      <td>Florence</td>\n",
       "      <td>December</td>\n",
       "      <td>1979.890</td>\n",
       "    </tr>\n",
       "    <tr>\n",
       "      <th>2</th>\n",
       "      <td>2015</td>\n",
       "      <td>Consumer</td>\n",
       "      <td>Alabama</td>\n",
       "      <td>Mobile</td>\n",
       "      <td>April</td>\n",
       "      <td>8.960</td>\n",
       "    </tr>\n",
       "    <tr>\n",
       "      <th>3</th>\n",
       "      <td>2015</td>\n",
       "      <td>Consumer</td>\n",
       "      <td>Alabama</td>\n",
       "      <td>Montgomery</td>\n",
       "      <td>November</td>\n",
       "      <td>14.670</td>\n",
       "    </tr>\n",
       "    <tr>\n",
       "      <th>4</th>\n",
       "      <td>2015</td>\n",
       "      <td>Consumer</td>\n",
       "      <td>Arizona</td>\n",
       "      <td>Avondale</td>\n",
       "      <td>November</td>\n",
       "      <td>150.232</td>\n",
       "    </tr>\n",
       "    <tr>\n",
       "      <th>...</th>\n",
       "      <td>...</td>\n",
       "      <td>...</td>\n",
       "      <td>...</td>\n",
       "      <td>...</td>\n",
       "      <td>...</td>\n",
       "      <td>...</td>\n",
       "    </tr>\n",
       "    <tr>\n",
       "      <th>362</th>\n",
       "      <td>2015</td>\n",
       "      <td>Consumer</td>\n",
       "      <td>Wisconsin</td>\n",
       "      <td>Green Bay</td>\n",
       "      <td>February</td>\n",
       "      <td>468.900</td>\n",
       "    </tr>\n",
       "    <tr>\n",
       "      <th>363</th>\n",
       "      <td>2015</td>\n",
       "      <td>Consumer</td>\n",
       "      <td>Wisconsin</td>\n",
       "      <td>Madison</td>\n",
       "      <td>December</td>\n",
       "      <td>2854.480</td>\n",
       "    </tr>\n",
       "    <tr>\n",
       "      <th>364</th>\n",
       "      <td>2015</td>\n",
       "      <td>Consumer</td>\n",
       "      <td>Wisconsin</td>\n",
       "      <td>Madison</td>\n",
       "      <td>November</td>\n",
       "      <td>665.880</td>\n",
       "    </tr>\n",
       "    <tr>\n",
       "      <th>365</th>\n",
       "      <td>2015</td>\n",
       "      <td>Consumer</td>\n",
       "      <td>Wisconsin</td>\n",
       "      <td>Milwaukee</td>\n",
       "      <td>May</td>\n",
       "      <td>34.790</td>\n",
       "    </tr>\n",
       "    <tr>\n",
       "      <th>366</th>\n",
       "      <td>2015</td>\n",
       "      <td>Consumer</td>\n",
       "      <td>Wisconsin</td>\n",
       "      <td>Wausau</td>\n",
       "      <td>November</td>\n",
       "      <td>317.480</td>\n",
       "    </tr>\n",
       "  </tbody>\n",
       "</table>\n",
       "<p>367 rows × 6 columns</p>\n",
       "</div>"
      ],
      "text/plain": [
       "     Year   Segment      State        City Month_name     Sales\n",
       "0    2015  Consumer    Alabama     Decatur        May   180.930\n",
       "1    2015  Consumer    Alabama    Florence   December  1979.890\n",
       "2    2015  Consumer    Alabama      Mobile      April     8.960\n",
       "3    2015  Consumer    Alabama  Montgomery   November    14.670\n",
       "4    2015  Consumer    Arizona    Avondale   November   150.232\n",
       "..    ...       ...        ...         ...        ...       ...\n",
       "362  2015  Consumer  Wisconsin   Green Bay   February   468.900\n",
       "363  2015  Consumer  Wisconsin     Madison   December  2854.480\n",
       "364  2015  Consumer  Wisconsin     Madison   November   665.880\n",
       "365  2015  Consumer  Wisconsin   Milwaukee        May    34.790\n",
       "366  2015  Consumer  Wisconsin      Wausau   November   317.480\n",
       "\n",
       "[367 rows x 6 columns]"
      ]
     },
     "execution_count": 33,
     "metadata": {},
     "output_type": "execute_result"
    }
   ],
   "source": [
    "sales10 = df.groupby(['Year','Segment','State','City','Month_name'])['Sales'].sum().reset_index()\n",
    "\n",
    "sales11 = sales10[(sales10['Year']==2015) & (sales10['Segment']=='Consumer')]\n",
    "sales11"
   ]
  },
  {
   "cell_type": "code",
   "execution_count": 101,
   "metadata": {},
   "outputs": [
    {
     "data": {
      "application/vnd.plotly.v1+json": {
       "config": {
        "plotlyServerURL": "https://plot.ly"
       },
       "data": [
        {
         "hoverinfo": "text",
         "hovertext": [
          "<b>Year</b>: 2015<br><b>Month</b>: May<br><b>Segment</b>: Consumer<br><b>State</b>: Alabama<br><b>City</b>: Decatur<br><b>Sales</b>: 180.93<br>",
          "<b>Year</b>: 2015<br><b>Month</b>: December<br><b>Segment</b>: Consumer<br><b>State</b>: Alabama<br><b>City</b>: Florence<br><b>Sales</b>: 1979.8899999999999<br>",
          "<b>Year</b>: 2015<br><b>Month</b>: April<br><b>Segment</b>: Consumer<br><b>State</b>: Alabama<br><b>City</b>: Mobile<br><b>Sales</b>: 8.96<br>",
          "<b>Year</b>: 2015<br><b>Month</b>: November<br><b>Segment</b>: Consumer<br><b>State</b>: Alabama<br><b>City</b>: Montgomery<br><b>Sales</b>: 14.67<br>",
          "<b>Year</b>: 2015<br><b>Month</b>: November<br><b>Segment</b>: Consumer<br><b>State</b>: Arizona<br><b>City</b>: Avondale<br><b>Sales</b>: 150.232<br>",
          "<b>Year</b>: 2015<br><b>Month</b>: October<br><b>Segment</b>: Consumer<br><b>State</b>: Arizona<br><b>City</b>: Avondale<br><b>Sales</b>: 742.336<br>",
          "<b>Year</b>: 2015<br><b>Month</b>: August<br><b>Segment</b>: Consumer<br><b>State</b>: Arizona<br><b>City</b>: Glendale<br><b>Sales</b>: 217.352<br>",
          "<b>Year</b>: 2015<br><b>Month</b>: August<br><b>Segment</b>: Consumer<br><b>State</b>: Arizona<br><b>City</b>: Phoenix<br><b>Sales</b>: 13.809000000000001<br>",
          "<b>Year</b>: 2015<br><b>Month</b>: December<br><b>Segment</b>: Consumer<br><b>State</b>: Arizona<br><b>City</b>: Phoenix<br><b>Sales</b>: 946.764<br>",
          "<b>Year</b>: 2015<br><b>Month</b>: July<br><b>Segment</b>: Consumer<br><b>State</b>: Arizona<br><b>City</b>: Phoenix<br><b>Sales</b>: 55.92<br>",
          "<b>Year</b>: 2015<br><b>Month</b>: June<br><b>Segment</b>: Consumer<br><b>State</b>: Arizona<br><b>City</b>: Phoenix<br><b>Sales</b>: 8.226<br>",
          "<b>Year</b>: 2015<br><b>Month</b>: January<br><b>Segment</b>: Consumer<br><b>State</b>: Arizona<br><b>City</b>: Scottsdale<br><b>Sales</b>: 378.594<br>",
          "<b>Year</b>: 2015<br><b>Month</b>: November<br><b>Segment</b>: Consumer<br><b>State</b>: Arizona<br><b>City</b>: Scottsdale<br><b>Sales</b>: 23.472<br>",
          "<b>Year</b>: 2015<br><b>Month</b>: December<br><b>Segment</b>: Consumer<br><b>State</b>: Arizona<br><b>City</b>: Tucson<br><b>Sales</b>: 596.664<br>",
          "<b>Year</b>: 2015<br><b>Month</b>: July<br><b>Segment</b>: Consumer<br><b>State</b>: Arizona<br><b>City</b>: Tucson<br><b>Sales</b>: 1520.376<br>",
          "<b>Year</b>: 2015<br><b>Month</b>: June<br><b>Segment</b>: Consumer<br><b>State</b>: Arizona<br><b>City</b>: Tucson<br><b>Sales</b>: 4.272<br>",
          "<b>Year</b>: 2015<br><b>Month</b>: September<br><b>Segment</b>: Consumer<br><b>State</b>: Arkansas<br><b>City</b>: Fayetteville<br><b>Sales</b>: 1793.98<br>",
          "<b>Year</b>: 2015<br><b>Month</b>: August<br><b>Segment</b>: Consumer<br><b>State</b>: Arkansas<br><b>City</b>: Jonesboro<br><b>Sales</b>: 638.82<br>",
          "<b>Year</b>: 2015<br><b>Month</b>: January<br><b>Segment</b>: Consumer<br><b>State</b>: Arkansas<br><b>City</b>: Jonesboro<br><b>Sales</b>: 1859.4<br>",
          "<b>Year</b>: 2015<br><b>Month</b>: June<br><b>Segment</b>: Consumer<br><b>State</b>: Arkansas<br><b>City</b>: Little Rock<br><b>Sales</b>: 904.13<br>",
          "<b>Year</b>: 2015<br><b>Month</b>: December<br><b>Segment</b>: Consumer<br><b>State</b>: California<br><b>City</b>: Brentwood<br><b>Sales</b>: 408.76800000000003<br>",
          "<b>Year</b>: 2015<br><b>Month</b>: September<br><b>Segment</b>: Consumer<br><b>State</b>: California<br><b>City</b>: Chula Vista<br><b>Sales</b>: 182.94<br>",
          "<b>Year</b>: 2015<br><b>Month</b>: December<br><b>Segment</b>: Consumer<br><b>State</b>: California<br><b>City</b>: Concord<br><b>Sales</b>: 43.31<br>",
          "<b>Year</b>: 2015<br><b>Month</b>: February<br><b>Segment</b>: Consumer<br><b>State</b>: California<br><b>City</b>: Concord<br><b>Sales</b>: 129.568<br>",
          "<b>Year</b>: 2015<br><b>Month</b>: September<br><b>Segment</b>: Consumer<br><b>State</b>: California<br><b>City</b>: Escondido<br><b>Sales</b>: 53.94<br>",
          "<b>Year</b>: 2015<br><b>Month</b>: August<br><b>Segment</b>: Consumer<br><b>State</b>: California<br><b>City</b>: Fresno<br><b>Sales</b>: 5.98<br>",
          "<b>Year</b>: 2015<br><b>Month</b>: December<br><b>Segment</b>: Consumer<br><b>State</b>: California<br><b>City</b>: Fresno<br><b>Sales</b>: 4630.5105<br>",
          "<b>Year</b>: 2015<br><b>Month</b>: March<br><b>Segment</b>: Consumer<br><b>State</b>: California<br><b>City</b>: Fresno<br><b>Sales</b>: 40.48<br>",
          "<b>Year</b>: 2015<br><b>Month</b>: April<br><b>Segment</b>: Consumer<br><b>State</b>: California<br><b>City</b>: Los Angeles<br><b>Sales</b>: 399.898<br>",
          "<b>Year</b>: 2015<br><b>Month</b>: August<br><b>Segment</b>: Consumer<br><b>State</b>: California<br><b>City</b>: Los Angeles<br><b>Sales</b>: 472.044<br>",
          "<b>Year</b>: 2015<br><b>Month</b>: December<br><b>Segment</b>: Consumer<br><b>State</b>: California<br><b>City</b>: Los Angeles<br><b>Sales</b>: 1134.254<br>",
          "<b>Year</b>: 2015<br><b>Month</b>: January<br><b>Segment</b>: Consumer<br><b>State</b>: California<br><b>City</b>: Los Angeles<br><b>Sales</b>: 58.1<br>",
          "<b>Year</b>: 2015<br><b>Month</b>: June<br><b>Segment</b>: Consumer<br><b>State</b>: California<br><b>City</b>: Los Angeles<br><b>Sales</b>: 3854.1040000000003<br>",
          "<b>Year</b>: 2015<br><b>Month</b>: March<br><b>Segment</b>: Consumer<br><b>State</b>: California<br><b>City</b>: Los Angeles<br><b>Sales</b>: 935.1519999999999<br>",
          "<b>Year</b>: 2015<br><b>Month</b>: May<br><b>Segment</b>: Consumer<br><b>State</b>: California<br><b>City</b>: Los Angeles<br><b>Sales</b>: 225.296<br>",
          "<b>Year</b>: 2015<br><b>Month</b>: November<br><b>Segment</b>: Consumer<br><b>State</b>: California<br><b>City</b>: Los Angeles<br><b>Sales</b>: 5680.322<br>",
          "<b>Year</b>: 2015<br><b>Month</b>: October<br><b>Segment</b>: Consumer<br><b>State</b>: California<br><b>City</b>: Los Angeles<br><b>Sales</b>: 13.44<br>",
          "<b>Year</b>: 2015<br><b>Month</b>: September<br><b>Segment</b>: Consumer<br><b>State</b>: California<br><b>City</b>: Los Angeles<br><b>Sales</b>: 1113.868<br>",
          "<b>Year</b>: 2015<br><b>Month</b>: January<br><b>Segment</b>: Consumer<br><b>State</b>: California<br><b>City</b>: Mission Viejo<br><b>Sales</b>: 290.666<br>",
          "<b>Year</b>: 2015<br><b>Month</b>: February<br><b>Segment</b>: Consumer<br><b>State</b>: California<br><b>City</b>: Moreno Valley<br><b>Sales</b>: 19.44<br>",
          "<b>Year</b>: 2015<br><b>Month</b>: December<br><b>Segment</b>: Consumer<br><b>State</b>: California<br><b>City</b>: Oakland<br><b>Sales</b>: 30.72<br>",
          "<b>Year</b>: 2015<br><b>Month</b>: May<br><b>Segment</b>: Consumer<br><b>State</b>: California<br><b>City</b>: Oakland<br><b>Sales</b>: 149.97<br>",
          "<b>Year</b>: 2015<br><b>Month</b>: September<br><b>Segment</b>: Consumer<br><b>State</b>: California<br><b>City</b>: Oxnard<br><b>Sales</b>: 127.95<br>",
          "<b>Year</b>: 2015<br><b>Month</b>: October<br><b>Segment</b>: Consumer<br><b>State</b>: California<br><b>City</b>: Pasadena<br><b>Sales</b>: 465.488<br>",
          "<b>Year</b>: 2015<br><b>Month</b>: March<br><b>Segment</b>: Consumer<br><b>State</b>: California<br><b>City</b>: Pomona<br><b>Sales</b>: 18.75<br>",
          "<b>Year</b>: 2015<br><b>Month</b>: October<br><b>Segment</b>: Consumer<br><b>State</b>: California<br><b>City</b>: Pomona<br><b>Sales</b>: 99.98<br>",
          "<b>Year</b>: 2015<br><b>Month</b>: October<br><b>Segment</b>: Consumer<br><b>State</b>: California<br><b>City</b>: Rancho Cucamonga<br><b>Sales</b>: 34.272<br>",
          "<b>Year</b>: 2015<br><b>Month</b>: November<br><b>Segment</b>: Consumer<br><b>State</b>: California<br><b>City</b>: Redding<br><b>Sales</b>: 333.576<br>",
          "<b>Year</b>: 2015<br><b>Month</b>: October<br><b>Segment</b>: Consumer<br><b>State</b>: California<br><b>City</b>: Redondo Beach<br><b>Sales</b>: 7.64<br>",
          "<b>Year</b>: 2015<br><b>Month</b>: March<br><b>Segment</b>: Consumer<br><b>State</b>: California<br><b>City</b>: Roseville<br><b>Sales</b>: 7.98<br>",
          "<b>Year</b>: 2015<br><b>Month</b>: November<br><b>Segment</b>: Consumer<br><b>State</b>: California<br><b>City</b>: Sacramento<br><b>Sales</b>: 120.712<br>",
          "<b>Year</b>: 2015<br><b>Month</b>: August<br><b>Segment</b>: Consumer<br><b>State</b>: California<br><b>City</b>: San Diego<br><b>Sales</b>: 2049.816<br>",
          "<b>Year</b>: 2015<br><b>Month</b>: December<br><b>Segment</b>: Consumer<br><b>State</b>: California<br><b>City</b>: San Diego<br><b>Sales</b>: 1933.4399999999998<br>",
          "<b>Year</b>: 2015<br><b>Month</b>: January<br><b>Segment</b>: Consumer<br><b>State</b>: California<br><b>City</b>: San Diego<br><b>Sales</b>: 426.67<br>",
          "<b>Year</b>: 2015<br><b>Month</b>: July<br><b>Segment</b>: Consumer<br><b>State</b>: California<br><b>City</b>: San Diego<br><b>Sales</b>: 176.494<br>",
          "<b>Year</b>: 2015<br><b>Month</b>: March<br><b>Segment</b>: Consumer<br><b>State</b>: California<br><b>City</b>: San Diego<br><b>Sales</b>: 626.352<br>",
          "<b>Year</b>: 2015<br><b>Month</b>: November<br><b>Segment</b>: Consumer<br><b>State</b>: California<br><b>City</b>: San Diego<br><b>Sales</b>: 994.7459999999999<br>",
          "<b>Year</b>: 2015<br><b>Month</b>: October<br><b>Segment</b>: Consumer<br><b>State</b>: California<br><b>City</b>: San Diego<br><b>Sales</b>: 9.09<br>",
          "<b>Year</b>: 2015<br><b>Month</b>: September<br><b>Segment</b>: Consumer<br><b>State</b>: California<br><b>City</b>: San Diego<br><b>Sales</b>: 685.9<br>",
          "<b>Year</b>: 2015<br><b>Month</b>: April<br><b>Segment</b>: Consumer<br><b>State</b>: California<br><b>City</b>: San Francisco<br><b>Sales</b>: 1679.96<br>",
          "<b>Year</b>: 2015<br><b>Month</b>: August<br><b>Segment</b>: Consumer<br><b>State</b>: California<br><b>City</b>: San Francisco<br><b>Sales</b>: 1234.4080000000001<br>",
          "<b>Year</b>: 2015<br><b>Month</b>: December<br><b>Segment</b>: Consumer<br><b>State</b>: California<br><b>City</b>: San Francisco<br><b>Sales</b>: 301.32<br>",
          "<b>Year</b>: 2015<br><b>Month</b>: January<br><b>Segment</b>: Consumer<br><b>State</b>: California<br><b>City</b>: San Francisco<br><b>Sales</b>: 1679.749<br>",
          "<b>Year</b>: 2015<br><b>Month</b>: July<br><b>Segment</b>: Consumer<br><b>State</b>: California<br><b>City</b>: San Francisco<br><b>Sales</b>: 9805.923999999999<br>",
          "<b>Year</b>: 2015<br><b>Month</b>: June<br><b>Segment</b>: Consumer<br><b>State</b>: California<br><b>City</b>: San Francisco<br><b>Sales</b>: 30.46<br>",
          "<b>Year</b>: 2015<br><b>Month</b>: March<br><b>Segment</b>: Consumer<br><b>State</b>: California<br><b>City</b>: San Francisco<br><b>Sales</b>: 1024.574<br>",
          "<b>Year</b>: 2015<br><b>Month</b>: May<br><b>Segment</b>: Consumer<br><b>State</b>: California<br><b>City</b>: San Francisco<br><b>Sales</b>: 1505.664<br>",
          "<b>Year</b>: 2015<br><b>Month</b>: November<br><b>Segment</b>: Consumer<br><b>State</b>: California<br><b>City</b>: San Francisco<br><b>Sales</b>: 2839.9519999999998<br>",
          "<b>Year</b>: 2015<br><b>Month</b>: October<br><b>Segment</b>: Consumer<br><b>State</b>: California<br><b>City</b>: San Francisco<br><b>Sales</b>: 391.204<br>",
          "<b>Year</b>: 2015<br><b>Month</b>: September<br><b>Segment</b>: Consumer<br><b>State</b>: California<br><b>City</b>: San Francisco<br><b>Sales</b>: 753.5120000000001<br>",
          "<b>Year</b>: 2015<br><b>Month</b>: December<br><b>Segment</b>: Consumer<br><b>State</b>: California<br><b>City</b>: San Jose<br><b>Sales</b>: 11.76<br>",
          "<b>Year</b>: 2015<br><b>Month</b>: May<br><b>Segment</b>: Consumer<br><b>State</b>: California<br><b>City</b>: San Jose<br><b>Sales</b>: 1769.784<br>",
          "<b>Year</b>: 2015<br><b>Month</b>: September<br><b>Segment</b>: Consumer<br><b>State</b>: California<br><b>City</b>: San Jose<br><b>Sales</b>: 210.13<br>",
          "<b>Year</b>: 2015<br><b>Month</b>: August<br><b>Segment</b>: Consumer<br><b>State</b>: California<br><b>City</b>: Vacaville<br><b>Sales</b>: 423.28<br>",
          "<b>Year</b>: 2015<br><b>Month</b>: April<br><b>Segment</b>: Consumer<br><b>State</b>: California<br><b>City</b>: Vallejo<br><b>Sales</b>: 46.688<br>",
          "<b>Year</b>: 2015<br><b>Month</b>: October<br><b>Segment</b>: Consumer<br><b>State</b>: California<br><b>City</b>: Vallejo<br><b>Sales</b>: 110.098<br>",
          "<b>Year</b>: 2015<br><b>Month</b>: August<br><b>Segment</b>: Consumer<br><b>State</b>: Colorado<br><b>City</b>: Denver<br><b>Sales</b>: 645.726<br>",
          "<b>Year</b>: 2015<br><b>Month</b>: March<br><b>Segment</b>: Consumer<br><b>State</b>: Colorado<br><b>City</b>: Denver<br><b>Sales</b>: 719.576<br>",
          "<b>Year</b>: 2015<br><b>Month</b>: November<br><b>Segment</b>: Consumer<br><b>State</b>: Colorado<br><b>City</b>: Denver<br><b>Sales</b>: 2027.144<br>",
          "<b>Year</b>: 2015<br><b>Month</b>: June<br><b>Segment</b>: Consumer<br><b>State</b>: Colorado<br><b>City</b>: Louisville<br><b>Sales</b>: 196.752<br>",
          "<b>Year</b>: 2015<br><b>Month</b>: November<br><b>Segment</b>: Consumer<br><b>State</b>: Colorado<br><b>City</b>: Louisville<br><b>Sales</b>: 1349.084<br>",
          "<b>Year</b>: 2015<br><b>Month</b>: June<br><b>Segment</b>: Consumer<br><b>State</b>: Colorado<br><b>City</b>: Pueblo<br><b>Sales</b>: 36.252<br>",
          "<b>Year</b>: 2015<br><b>Month</b>: December<br><b>Segment</b>: Consumer<br><b>State</b>: Colorado<br><b>City</b>: Thornton<br><b>Sales</b>: 447.944<br>",
          "<b>Year</b>: 2015<br><b>Month</b>: August<br><b>Segment</b>: Consumer<br><b>State</b>: Connecticut<br><b>City</b>: Bristol<br><b>Sales</b>: 121.24<br>",
          "<b>Year</b>: 2015<br><b>Month</b>: August<br><b>Segment</b>: Consumer<br><b>State</b>: Connecticut<br><b>City</b>: Fairfield<br><b>Sales</b>: 62.94<br>",
          "<b>Year</b>: 2015<br><b>Month</b>: November<br><b>Segment</b>: Consumer<br><b>State</b>: Connecticut<br><b>City</b>: Fairfield<br><b>Sales</b>: 888.3699999999999<br>",
          "<b>Year</b>: 2015<br><b>Month</b>: June<br><b>Segment</b>: Consumer<br><b>State</b>: Connecticut<br><b>City</b>: Meriden<br><b>Sales</b>: 21.4<br>",
          "<b>Year</b>: 2015<br><b>Month</b>: May<br><b>Segment</b>: Consumer<br><b>State</b>: Connecticut<br><b>City</b>: Middletown<br><b>Sales</b>: 27.46<br>",
          "<b>Year</b>: 2015<br><b>Month</b>: April<br><b>Segment</b>: Consumer<br><b>State</b>: Delaware<br><b>City</b>: Dover<br><b>Sales</b>: 19.98<br>",
          "<b>Year</b>: 2015<br><b>Month</b>: January<br><b>Segment</b>: Consumer<br><b>State</b>: Delaware<br><b>City</b>: Dover<br><b>Sales</b>: 9.94<br>",
          "<b>Year</b>: 2015<br><b>Month</b>: September<br><b>Segment</b>: Consumer<br><b>State</b>: Delaware<br><b>City</b>: Dover<br><b>Sales</b>: 44.34<br>",
          "<b>Year</b>: 2015<br><b>Month</b>: August<br><b>Segment</b>: Consumer<br><b>State</b>: Delaware<br><b>City</b>: Newark<br><b>Sales</b>: 31.4<br>",
          "<b>Year</b>: 2015<br><b>Month</b>: December<br><b>Segment</b>: Consumer<br><b>State</b>: Delaware<br><b>City</b>: Newark<br><b>Sales</b>: 17.28<br>",
          "<b>Year</b>: 2015<br><b>Month</b>: June<br><b>Segment</b>: Consumer<br><b>State</b>: Delaware<br><b>City</b>: Newark<br><b>Sales</b>: 65.97<br>",
          "<b>Year</b>: 2015<br><b>Month</b>: July<br><b>Segment</b>: Consumer<br><b>State</b>: Florida<br><b>City</b>: Apopka<br><b>Sales</b>: 193.152<br>",
          "<b>Year</b>: 2015<br><b>Month</b>: September<br><b>Segment</b>: Consumer<br><b>State</b>: Florida<br><b>City</b>: Boca Raton<br><b>Sales</b>: 4.608<br>",
          "<b>Year</b>: 2015<br><b>Month</b>: September<br><b>Segment</b>: Consumer<br><b>State</b>: Florida<br><b>City</b>: Boynton Beach<br><b>Sales</b>: 15.552<br>",
          "<b>Year</b>: 2015<br><b>Month</b>: March<br><b>Segment</b>: Consumer<br><b>State</b>: Florida<br><b>City</b>: Delray Beach<br><b>Sales</b>: 9.912<br>",
          "<b>Year</b>: 2015<br><b>Month</b>: December<br><b>Segment</b>: Consumer<br><b>State</b>: Florida<br><b>City</b>: Deltona<br><b>Sales</b>: 186.304<br>",
          "<b>Year</b>: 2015<br><b>Month</b>: October<br><b>Segment</b>: Consumer<br><b>State</b>: Florida<br><b>City</b>: Hialeah<br><b>Sales</b>: 15.384<br>",
          "<b>Year</b>: 2015<br><b>Month</b>: August<br><b>Segment</b>: Consumer<br><b>State</b>: Florida<br><b>City</b>: Hollywood<br><b>Sales</b>: 243.60000000000002<br>",
          "<b>Year</b>: 2015<br><b>Month</b>: September<br><b>Segment</b>: Consumer<br><b>State</b>: Florida<br><b>City</b>: Hollywood<br><b>Sales</b>: 337.088<br>",
          "<b>Year</b>: 2015<br><b>Month</b>: August<br><b>Segment</b>: Consumer<br><b>State</b>: Florida<br><b>City</b>: Jacksonville<br><b>Sales</b>: 155.456<br>",
          "<b>Year</b>: 2015<br><b>Month</b>: December<br><b>Segment</b>: Consumer<br><b>State</b>: Florida<br><b>City</b>: Jacksonville<br><b>Sales</b>: 252.61200000000002<br>",
          "<b>Year</b>: 2015<br><b>Month</b>: June<br><b>Segment</b>: Consumer<br><b>State</b>: Florida<br><b>City</b>: Jacksonville<br><b>Sales</b>: 63.381<br>",
          "<b>Year</b>: 2015<br><b>Month</b>: May<br><b>Segment</b>: Consumer<br><b>State</b>: Florida<br><b>City</b>: Lakeland<br><b>Sales</b>: 479.984<br>",
          "<b>Year</b>: 2015<br><b>Month</b>: March<br><b>Segment</b>: Consumer<br><b>State</b>: Florida<br><b>City</b>: Margate<br><b>Sales</b>: 15.552<br>",
          "<b>Year</b>: 2015<br><b>Month</b>: April<br><b>Segment</b>: Consumer<br><b>State</b>: Florida<br><b>City</b>: Miami<br><b>Sales</b>: 737.2<br>",
          "<b>Year</b>: 2015<br><b>Month</b>: August<br><b>Segment</b>: Consumer<br><b>State</b>: Florida<br><b>City</b>: Miami<br><b>Sales</b>: 709.0425<br>",
          "<b>Year</b>: 2015<br><b>Month</b>: December<br><b>Segment</b>: Consumer<br><b>State</b>: Florida<br><b>City</b>: Miami<br><b>Sales</b>: 33.04<br>",
          "<b>Year</b>: 2015<br><b>Month</b>: August<br><b>Segment</b>: Consumer<br><b>State</b>: Florida<br><b>City</b>: North Miami<br><b>Sales</b>: 7.632<br>",
          "<b>Year</b>: 2015<br><b>Month</b>: February<br><b>Segment</b>: Consumer<br><b>State</b>: Florida<br><b>City</b>: Saint Petersburg<br><b>Sales</b>: 199.296<br>",
          "<b>Year</b>: 2015<br><b>Month</b>: September<br><b>Segment</b>: Consumer<br><b>State</b>: Florida<br><b>City</b>: Saint Petersburg<br><b>Sales</b>: 31.984<br>",
          "<b>Year</b>: 2015<br><b>Month</b>: December<br><b>Segment</b>: Consumer<br><b>State</b>: Florida<br><b>City</b>: Tampa<br><b>Sales</b>: 619.848<br>",
          "<b>Year</b>: 2015<br><b>Month</b>: March<br><b>Segment</b>: Consumer<br><b>State</b>: Florida<br><b>City</b>: Tampa<br><b>Sales</b>: 1512.9470000000001<br>",
          "<b>Year</b>: 2015<br><b>Month</b>: September<br><b>Segment</b>: Consumer<br><b>State</b>: Florida<br><b>City</b>: Tampa<br><b>Sales</b>: 26.128<br>",
          "<b>Year</b>: 2015<br><b>Month</b>: April<br><b>Segment</b>: Consumer<br><b>State</b>: Georgia<br><b>City</b>: Athens<br><b>Sales</b>: 1220.67<br>",
          "<b>Year</b>: 2015<br><b>Month</b>: July<br><b>Segment</b>: Consumer<br><b>State</b>: Georgia<br><b>City</b>: Atlanta<br><b>Sales</b>: 256.47999999999996<br>",
          "<b>Year</b>: 2015<br><b>Month</b>: December<br><b>Segment</b>: Consumer<br><b>State</b>: Georgia<br><b>City</b>: Columbus<br><b>Sales</b>: 40.05<br>",
          "<b>Year</b>: 2015<br><b>Month</b>: September<br><b>Segment</b>: Consumer<br><b>State</b>: Georgia<br><b>City</b>: Macon<br><b>Sales</b>: 149.56<br>",
          "<b>Year</b>: 2015<br><b>Month</b>: January<br><b>Segment</b>: Consumer<br><b>State</b>: Georgia<br><b>City</b>: Roswell<br><b>Sales</b>: 149.95<br>",
          "<b>Year</b>: 2015<br><b>Month</b>: June<br><b>Segment</b>: Consumer<br><b>State</b>: Georgia<br><b>City</b>: Roswell<br><b>Sales</b>: 605.47<br>",
          "<b>Year</b>: 2015<br><b>Month</b>: April<br><b>Segment</b>: Consumer<br><b>State</b>: Idaho<br><b>City</b>: Lewiston<br><b>Sales</b>: 9.584<br>",
          "<b>Year</b>: 2015<br><b>Month</b>: June<br><b>Segment</b>: Consumer<br><b>State</b>: Illinois<br><b>City</b>: Aurora<br><b>Sales</b>: 268.935<br>",
          "<b>Year</b>: 2015<br><b>Month</b>: September<br><b>Segment</b>: Consumer<br><b>State</b>: Illinois<br><b>City</b>: Bloomington<br><b>Sales</b>: 617.7<br>",
          "<b>Year</b>: 2015<br><b>Month</b>: May<br><b>Segment</b>: Consumer<br><b>State</b>: Illinois<br><b>City</b>: Buffalo Grove<br><b>Sales</b>: 355.455<br>",
          "<b>Year</b>: 2015<br><b>Month</b>: September<br><b>Segment</b>: Consumer<br><b>State</b>: Illinois<br><b>City</b>: Buffalo Grove<br><b>Sales</b>: 475.944<br>",
          "<b>Year</b>: 2015<br><b>Month</b>: August<br><b>Segment</b>: Consumer<br><b>State</b>: Illinois<br><b>City</b>: Chicago<br><b>Sales</b>: 421.372<br>",
          "<b>Year</b>: 2015<br><b>Month</b>: December<br><b>Segment</b>: Consumer<br><b>State</b>: Illinois<br><b>City</b>: Chicago<br><b>Sales</b>: 1053.8419999999999<br>",
          "<b>Year</b>: 2015<br><b>Month</b>: February<br><b>Segment</b>: Consumer<br><b>State</b>: Illinois<br><b>City</b>: Chicago<br><b>Sales</b>: 54.208<br>",
          "<b>Year</b>: 2015<br><b>Month</b>: July<br><b>Segment</b>: Consumer<br><b>State</b>: Illinois<br><b>City</b>: Chicago<br><b>Sales</b>: 183.24800000000002<br>",
          "<b>Year</b>: 2015<br><b>Month</b>: June<br><b>Segment</b>: Consumer<br><b>State</b>: Illinois<br><b>City</b>: Chicago<br><b>Sales</b>: 43.82<br>",
          "<b>Year</b>: 2015<br><b>Month</b>: March<br><b>Segment</b>: Consumer<br><b>State</b>: Illinois<br><b>City</b>: Chicago<br><b>Sales</b>: 88.118<br>",
          "<b>Year</b>: 2015<br><b>Month</b>: May<br><b>Segment</b>: Consumer<br><b>State</b>: Illinois<br><b>City</b>: Chicago<br><b>Sales</b>: 598.168<br>",
          "<b>Year</b>: 2015<br><b>Month</b>: November<br><b>Segment</b>: Consumer<br><b>State</b>: Illinois<br><b>City</b>: Chicago<br><b>Sales</b>: 1455.1280000000002<br>",
          "<b>Year</b>: 2015<br><b>Month</b>: October<br><b>Segment</b>: Consumer<br><b>State</b>: Illinois<br><b>City</b>: Chicago<br><b>Sales</b>: 3080.226<br>",
          "<b>Year</b>: 2015<br><b>Month</b>: September<br><b>Segment</b>: Consumer<br><b>State</b>: Illinois<br><b>City</b>: Chicago<br><b>Sales</b>: 755.422<br>",
          "<b>Year</b>: 2015<br><b>Month</b>: November<br><b>Segment</b>: Consumer<br><b>State</b>: Illinois<br><b>City</b>: Decatur<br><b>Sales</b>: 37.296<br>",
          "<b>Year</b>: 2015<br><b>Month</b>: November<br><b>Segment</b>: Consumer<br><b>State</b>: Illinois<br><b>City</b>: Des Plaines<br><b>Sales</b>: 1109.372<br>",
          "<b>Year</b>: 2015<br><b>Month</b>: October<br><b>Segment</b>: Consumer<br><b>State</b>: Illinois<br><b>City</b>: Evanston<br><b>Sales</b>: 258.279<br>",
          "<b>Year</b>: 2015<br><b>Month</b>: September<br><b>Segment</b>: Consumer<br><b>State</b>: Illinois<br><b>City</b>: Oswego<br><b>Sales</b>: 321.978<br>",
          "<b>Year</b>: 2015<br><b>Month</b>: February<br><b>Segment</b>: Consumer<br><b>State</b>: Illinois<br><b>City</b>: Romeoville<br><b>Sales</b>: 8.952<br>",
          "<b>Year</b>: 2015<br><b>Month</b>: December<br><b>Segment</b>: Consumer<br><b>State</b>: Illinois<br><b>City</b>: Skokie<br><b>Sales</b>: 62.967999999999996<br>",
          "<b>Year</b>: 2015<br><b>Month</b>: February<br><b>Segment</b>: Consumer<br><b>State</b>: Illinois<br><b>City</b>: Woodstock<br><b>Sales</b>: 8.85<br>",
          "<b>Year</b>: 2015<br><b>Month</b>: April<br><b>Segment</b>: Consumer<br><b>State</b>: Indiana<br><b>City</b>: Bloomington<br><b>Sales</b>: 32.4<br>",
          "<b>Year</b>: 2015<br><b>Month</b>: December<br><b>Segment</b>: Consumer<br><b>State</b>: Indiana<br><b>City</b>: Indianapolis<br><b>Sales</b>: 1107.66<br>",
          "<b>Year</b>: 2015<br><b>Month</b>: June<br><b>Segment</b>: Consumer<br><b>State</b>: Indiana<br><b>City</b>: Mishawaka<br><b>Sales</b>: 647.84<br>",
          "<b>Year</b>: 2015<br><b>Month</b>: March<br><b>Segment</b>: Consumer<br><b>State</b>: Indiana<br><b>City</b>: Portage<br><b>Sales</b>: 16.28<br>",
          "<b>Year</b>: 2015<br><b>Month</b>: December<br><b>Segment</b>: Consumer<br><b>State</b>: Indiana<br><b>City</b>: Richmond<br><b>Sales</b>: 207.24<br>",
          "<b>Year</b>: 2015<br><b>Month</b>: March<br><b>Segment</b>: Consumer<br><b>State</b>: Iowa<br><b>City</b>: Des Moines<br><b>Sales</b>: 1190.84<br>",
          "<b>Year</b>: 2015<br><b>Month</b>: April<br><b>Segment</b>: Consumer<br><b>State</b>: Kentucky<br><b>City</b>: Louisville<br><b>Sales</b>: 1000.95<br>",
          "<b>Year</b>: 2015<br><b>Month</b>: May<br><b>Segment</b>: Consumer<br><b>State</b>: Kentucky<br><b>City</b>: Richmond<br><b>Sales</b>: 40.54<br>",
          "<b>Year</b>: 2015<br><b>Month</b>: April<br><b>Segment</b>: Consumer<br><b>State</b>: Louisiana<br><b>City</b>: Lake Charles<br><b>Sales</b>: 69.9<br>",
          "<b>Year</b>: 2015<br><b>Month</b>: May<br><b>Segment</b>: Consumer<br><b>State</b>: Maryland<br><b>City</b>: Baltimore<br><b>Sales</b>: 116.28<br>",
          "<b>Year</b>: 2015<br><b>Month</b>: September<br><b>Segment</b>: Consumer<br><b>State</b>: Maryland<br><b>City</b>: Columbia<br><b>Sales</b>: 587.14<br>",
          "<b>Year</b>: 2015<br><b>Month</b>: October<br><b>Segment</b>: Consumer<br><b>State</b>: Massachusetts<br><b>City</b>: Everett<br><b>Sales</b>: 1885.27<br>",
          "<b>Year</b>: 2015<br><b>Month</b>: May<br><b>Segment</b>: Consumer<br><b>State</b>: Massachusetts<br><b>City</b>: Franklin<br><b>Sales</b>: 700.056<br>",
          "<b>Year</b>: 2015<br><b>Month</b>: May<br><b>Segment</b>: Consumer<br><b>State</b>: Massachusetts<br><b>City</b>: Lawrence<br><b>Sales</b>: 1091.35<br>",
          "<b>Year</b>: 2015<br><b>Month</b>: December<br><b>Segment</b>: Consumer<br><b>State</b>: Massachusetts<br><b>City</b>: Lowell<br><b>Sales</b>: 327.56<br>",
          "<b>Year</b>: 2015<br><b>Month</b>: April<br><b>Segment</b>: Consumer<br><b>State</b>: Michigan<br><b>City</b>: Dearborn Heights<br><b>Sales</b>: 770.61<br>",
          "<b>Year</b>: 2015<br><b>Month</b>: April<br><b>Segment</b>: Consumer<br><b>State</b>: Michigan<br><b>City</b>: Detroit<br><b>Sales</b>: 84.83<br>",
          "<b>Year</b>: 2015<br><b>Month</b>: January<br><b>Segment</b>: Consumer<br><b>State</b>: Michigan<br><b>City</b>: Detroit<br><b>Sales</b>: 240.5<br>",
          "<b>Year</b>: 2015<br><b>Month</b>: November<br><b>Segment</b>: Consumer<br><b>State</b>: Michigan<br><b>City</b>: Detroit<br><b>Sales</b>: 14.67<br>",
          "<b>Year</b>: 2015<br><b>Month</b>: September<br><b>Segment</b>: Consumer<br><b>State</b>: Michigan<br><b>City</b>: Detroit<br><b>Sales</b>: 103.6<br>",
          "<b>Year</b>: 2015<br><b>Month</b>: May<br><b>Segment</b>: Consumer<br><b>State</b>: Michigan<br><b>City</b>: Jackson<br><b>Sales</b>: 46.8<br>",
          "<b>Year</b>: 2015<br><b>Month</b>: May<br><b>Segment</b>: Consumer<br><b>State</b>: Michigan<br><b>City</b>: Midland<br><b>Sales</b>: 57.42<br>",
          "<b>Year</b>: 2015<br><b>Month</b>: November<br><b>Segment</b>: Consumer<br><b>State</b>: Michigan<br><b>City</b>: Midland<br><b>Sales</b>: 1219.1100000000001<br>",
          "<b>Year</b>: 2015<br><b>Month</b>: March<br><b>Segment</b>: Consumer<br><b>State</b>: Michigan<br><b>City</b>: Royal Oak<br><b>Sales</b>: 22.38<br>",
          "<b>Year</b>: 2015<br><b>Month</b>: January<br><b>Segment</b>: Consumer<br><b>State</b>: Michigan<br><b>City</b>: Westland<br><b>Sales</b>: 708.616<br>",
          "<b>Year</b>: 2015<br><b>Month</b>: October<br><b>Segment</b>: Consumer<br><b>State</b>: Michigan<br><b>City</b>: Westland<br><b>Sales</b>: 211.96<br>",
          "<b>Year</b>: 2015<br><b>Month</b>: March<br><b>Segment</b>: Consumer<br><b>State</b>: Minnesota<br><b>City</b>: Apple Valley<br><b>Sales</b>: 129.3<br>",
          "<b>Year</b>: 2015<br><b>Month</b>: November<br><b>Segment</b>: Consumer<br><b>State</b>: Minnesota<br><b>City</b>: Coon Rapids<br><b>Sales</b>: 503.13<br>",
          "<b>Year</b>: 2015<br><b>Month</b>: December<br><b>Segment</b>: Consumer<br><b>State</b>: Minnesota<br><b>City</b>: Cottage Grove<br><b>Sales</b>: 144.35999999999999<br>",
          "<b>Year</b>: 2015<br><b>Month</b>: March<br><b>Segment</b>: Consumer<br><b>State</b>: Minnesota<br><b>City</b>: Lakeville<br><b>Sales</b>: 249.92000000000002<br>",
          "<b>Year</b>: 2015<br><b>Month</b>: June<br><b>Segment</b>: Consumer<br><b>State</b>: Minnesota<br><b>City</b>: Minneapolis<br><b>Sales</b>: 663.75<br>",
          "<b>Year</b>: 2015<br><b>Month</b>: September<br><b>Segment</b>: Consumer<br><b>State</b>: Minnesota<br><b>City</b>: Minneapolis<br><b>Sales</b>: 9900.19<br>",
          "<b>Year</b>: 2015<br><b>Month</b>: April<br><b>Segment</b>: Consumer<br><b>State</b>: Mississippi<br><b>City</b>: Jackson<br><b>Sales</b>: 47.79<br>",
          "<b>Year</b>: 2015<br><b>Month</b>: July<br><b>Segment</b>: Consumer<br><b>State</b>: Mississippi<br><b>City</b>: Jackson<br><b>Sales</b>: 514.03<br>",
          "<b>Year</b>: 2015<br><b>Month</b>: May<br><b>Segment</b>: Consumer<br><b>State</b>: Mississippi<br><b>City</b>: Jackson<br><b>Sales</b>: 773.7<br>",
          "<b>Year</b>: 2015<br><b>Month</b>: June<br><b>Segment</b>: Consumer<br><b>State</b>: Mississippi<br><b>City</b>: Southaven<br><b>Sales</b>: 616.14<br>",
          "<b>Year</b>: 2015<br><b>Month</b>: February<br><b>Segment</b>: Consumer<br><b>State</b>: Missouri<br><b>City</b>: Columbia<br><b>Sales</b>: 535.27<br>",
          "<b>Year</b>: 2015<br><b>Month</b>: August<br><b>Segment</b>: Consumer<br><b>State</b>: Missouri<br><b>City</b>: Saint Charles<br><b>Sales</b>: 11.56<br>",
          "<b>Year</b>: 2015<br><b>Month</b>: November<br><b>Segment</b>: Consumer<br><b>State</b>: Missouri<br><b>City</b>: Saint Louis<br><b>Sales</b>: 111.79<br>",
          "<b>Year</b>: 2015<br><b>Month</b>: April<br><b>Segment</b>: Consumer<br><b>State</b>: Montana<br><b>City</b>: Great Falls<br><b>Sales</b>: 410.104<br>",
          "<b>Year</b>: 2015<br><b>Month</b>: July<br><b>Segment</b>: Consumer<br><b>State</b>: Nebraska<br><b>City</b>: Omaha<br><b>Sales</b>: 35.98<br>",
          "<b>Year</b>: 2015<br><b>Month</b>: January<br><b>Segment</b>: Consumer<br><b>State</b>: Nevada<br><b>City</b>: Las Vegas<br><b>Sales</b>: 40.08<br>",
          "<b>Year</b>: 2015<br><b>Month</b>: July<br><b>Segment</b>: Consumer<br><b>State</b>: Nevada<br><b>City</b>: North Las Vegas<br><b>Sales</b>: 1891.316<br>",
          "<b>Year</b>: 2015<br><b>Month</b>: September<br><b>Segment</b>: Consumer<br><b>State</b>: New Jersey<br><b>City</b>: Clifton<br><b>Sales</b>: 336.82<br>",
          "<b>Year</b>: 2015<br><b>Month</b>: June<br><b>Segment</b>: Consumer<br><b>State</b>: New Jersey<br><b>City</b>: Lakewood<br><b>Sales</b>: 1326.69<br>",
          "<b>Year</b>: 2015<br><b>Month</b>: July<br><b>Segment</b>: Consumer<br><b>State</b>: New Jersey<br><b>City</b>: Plainfield<br><b>Sales</b>: 79.56<br>",
          "<b>Year</b>: 2015<br><b>Month</b>: December<br><b>Segment</b>: Consumer<br><b>State</b>: New Mexico<br><b>City</b>: Albuquerque<br><b>Sales</b>: 57.266<br>",
          "<b>Year</b>: 2015<br><b>Month</b>: August<br><b>Segment</b>: Consumer<br><b>State</b>: New Mexico<br><b>City</b>: Santa Fe<br><b>Sales</b>: 92.52<br>",
          "<b>Year</b>: 2015<br><b>Month</b>: July<br><b>Segment</b>: Consumer<br><b>State</b>: New York<br><b>City</b>: Buffalo<br><b>Sales</b>: 63.882<br>",
          "<b>Year</b>: 2015<br><b>Month</b>: November<br><b>Segment</b>: Consumer<br><b>State</b>: New York<br><b>City</b>: Buffalo<br><b>Sales</b>: 6160.616<br>",
          "<b>Year</b>: 2015<br><b>Month</b>: November<br><b>Segment</b>: Consumer<br><b>State</b>: New York<br><b>City</b>: Freeport<br><b>Sales</b>: 17.248<br>",
          "<b>Year</b>: 2015<br><b>Month</b>: June<br><b>Segment</b>: Consumer<br><b>State</b>: New York<br><b>City</b>: Hempstead<br><b>Sales</b>: 115.952<br>",
          "<b>Year</b>: 2015<br><b>Month</b>: November<br><b>Segment</b>: Consumer<br><b>State</b>: New York<br><b>City</b>: Jamestown<br><b>Sales</b>: 4548.81<br>",
          "<b>Year</b>: 2015<br><b>Month</b>: June<br><b>Segment</b>: Consumer<br><b>State</b>: New York<br><b>City</b>: Long Beach<br><b>Sales</b>: 2960.21<br>",
          "<b>Year</b>: 2015<br><b>Month</b>: March<br><b>Segment</b>: Consumer<br><b>State</b>: New York<br><b>City</b>: Long Beach<br><b>Sales</b>: 49.65<br>",
          "<b>Year</b>: 2015<br><b>Month</b>: November<br><b>Segment</b>: Consumer<br><b>State</b>: New York<br><b>City</b>: Long Beach<br><b>Sales</b>: 733.5600000000001<br>",
          "<b>Year</b>: 2015<br><b>Month</b>: November<br><b>Segment</b>: Consumer<br><b>State</b>: New York<br><b>City</b>: Mount Vernon<br><b>Sales</b>: 62.28<br>",
          "<b>Year</b>: 2015<br><b>Month</b>: July<br><b>Segment</b>: Consumer<br><b>State</b>: New York<br><b>City</b>: New Rochelle<br><b>Sales</b>: 13.904<br>",
          "<b>Year</b>: 2015<br><b>Month</b>: August<br><b>Segment</b>: Consumer<br><b>State</b>: New York<br><b>City</b>: New York City<br><b>Sales</b>: 810.78<br>",
          "<b>Year</b>: 2015<br><b>Month</b>: December<br><b>Segment</b>: Consumer<br><b>State</b>: New York<br><b>City</b>: New York City<br><b>Sales</b>: 8518.532<br>",
          "<b>Year</b>: 2015<br><b>Month</b>: January<br><b>Segment</b>: Consumer<br><b>State</b>: New York<br><b>City</b>: New York City<br><b>Sales</b>: 3.928<br>",
          "<b>Year</b>: 2015<br><b>Month</b>: July<br><b>Segment</b>: Consumer<br><b>State</b>: New York<br><b>City</b>: New York City<br><b>Sales</b>: 893.312<br>",
          "<b>Year</b>: 2015<br><b>Month</b>: June<br><b>Segment</b>: Consumer<br><b>State</b>: New York<br><b>City</b>: New York City<br><b>Sales</b>: 1495.3439999999998<br>",
          "<b>Year</b>: 2015<br><b>Month</b>: March<br><b>Segment</b>: Consumer<br><b>State</b>: New York<br><b>City</b>: New York City<br><b>Sales</b>: 500.606<br>",
          "<b>Year</b>: 2015<br><b>Month</b>: May<br><b>Segment</b>: Consumer<br><b>State</b>: New York<br><b>City</b>: New York City<br><b>Sales</b>: 316.14799999999997<br>",
          "<b>Year</b>: 2015<br><b>Month</b>: November<br><b>Segment</b>: Consumer<br><b>State</b>: New York<br><b>City</b>: New York City<br><b>Sales</b>: 993.7320000000001<br>",
          "<b>Year</b>: 2015<br><b>Month</b>: October<br><b>Segment</b>: Consumer<br><b>State</b>: New York<br><b>City</b>: New York City<br><b>Sales</b>: 713.3299999999999<br>",
          "<b>Year</b>: 2015<br><b>Month</b>: September<br><b>Segment</b>: Consumer<br><b>State</b>: New York<br><b>City</b>: New York City<br><b>Sales</b>: 14982.15<br>",
          "<b>Year</b>: 2015<br><b>Month</b>: April<br><b>Segment</b>: Consumer<br><b>State</b>: New York<br><b>City</b>: Rochester<br><b>Sales</b>: 17.46<br>",
          "<b>Year</b>: 2015<br><b>Month</b>: June<br><b>Segment</b>: Consumer<br><b>State</b>: New York<br><b>City</b>: Rochester<br><b>Sales</b>: 13.36<br>",
          "<b>Year</b>: 2015<br><b>Month</b>: September<br><b>Segment</b>: Consumer<br><b>State</b>: New York<br><b>City</b>: Rochester<br><b>Sales</b>: 460.21999999999997<br>",
          "<b>Year</b>: 2015<br><b>Month</b>: November<br><b>Segment</b>: Consumer<br><b>State</b>: New York<br><b>City</b>: Utica<br><b>Sales</b>: 414.63<br>",
          "<b>Year</b>: 2015<br><b>Month</b>: September<br><b>Segment</b>: Consumer<br><b>State</b>: New York<br><b>City</b>: Watertown<br><b>Sales</b>: 90.60999999999999<br>",
          "<b>Year</b>: 2015<br><b>Month</b>: March<br><b>Segment</b>: Consumer<br><b>State</b>: New York<br><b>City</b>: Yonkers<br><b>Sales</b>: 705.562<br>",
          "<b>Year</b>: 2015<br><b>Month</b>: May<br><b>Segment</b>: Consumer<br><b>State</b>: New York<br><b>City</b>: Yonkers<br><b>Sales</b>: 51.072<br>",
          "<b>Year</b>: 2015<br><b>Month</b>: October<br><b>Segment</b>: Consumer<br><b>State</b>: North Carolina<br><b>City</b>: Charlotte<br><b>Sales</b>: 23.472<br>",
          "<b>Year</b>: 2015<br><b>Month</b>: September<br><b>Segment</b>: Consumer<br><b>State</b>: North Carolina<br><b>City</b>: Charlotte<br><b>Sales</b>: 2692.329<br>",
          "<b>Year</b>: 2015<br><b>Month</b>: June<br><b>Segment</b>: Consumer<br><b>State</b>: North Carolina<br><b>City</b>: Concord<br><b>Sales</b>: 23.119999999999997<br>",
          "<b>Year</b>: 2015<br><b>Month</b>: March<br><b>Segment</b>: Consumer<br><b>State</b>: North Carolina<br><b>City</b>: Greensboro<br><b>Sales</b>: 59.109<br>",
          "<b>Year</b>: 2015<br><b>Month</b>: September<br><b>Segment</b>: Consumer<br><b>State</b>: North Carolina<br><b>City</b>: Greenville<br><b>Sales</b>: 1299.99<br>",
          "<b>Year</b>: 2015<br><b>Month</b>: December<br><b>Segment</b>: Consumer<br><b>State</b>: North Carolina<br><b>City</b>: Jacksonville<br><b>Sales</b>: 95.968<br>",
          "<b>Year</b>: 2015<br><b>Month</b>: November<br><b>Segment</b>: Consumer<br><b>State</b>: North Carolina<br><b>City</b>: Jacksonville<br><b>Sales</b>: 1395.673<br>",
          "<b>Year</b>: 2015<br><b>Month</b>: September<br><b>Segment</b>: Consumer<br><b>State</b>: North Carolina<br><b>City</b>: Raleigh<br><b>Sales</b>: 52.608000000000004<br>",
          "<b>Year</b>: 2015<br><b>Month</b>: April<br><b>Segment</b>: Consumer<br><b>State</b>: North Carolina<br><b>City</b>: Wilmington<br><b>Sales</b>: 302.376<br>",
          "<b>Year</b>: 2015<br><b>Month</b>: June<br><b>Segment</b>: Consumer<br><b>State</b>: North Carolina<br><b>City</b>: Wilmington<br><b>Sales</b>: 310.688<br>",
          "<b>Year</b>: 2015<br><b>Month</b>: March<br><b>Segment</b>: Consumer<br><b>State</b>: North Carolina<br><b>City</b>: Wilmington<br><b>Sales</b>: 19.456<br>",
          "<b>Year</b>: 2015<br><b>Month</b>: May<br><b>Segment</b>: Consumer<br><b>State</b>: Ohio<br><b>City</b>: Akron<br><b>Sales</b>: 165.168<br>",
          "<b>Year</b>: 2015<br><b>Month</b>: September<br><b>Segment</b>: Consumer<br><b>State</b>: Ohio<br><b>City</b>: Bowling Green<br><b>Sales</b>: 264.32<br>",
          "<b>Year</b>: 2015<br><b>Month</b>: June<br><b>Segment</b>: Consumer<br><b>State</b>: Ohio<br><b>City</b>: Cincinnati<br><b>Sales</b>: 32.76<br>",
          "<b>Year</b>: 2015<br><b>Month</b>: November<br><b>Segment</b>: Consumer<br><b>State</b>: Ohio<br><b>City</b>: Cincinnati<br><b>Sales</b>: 2.624<br>",
          "<b>Year</b>: 2015<br><b>Month</b>: December<br><b>Segment</b>: Consumer<br><b>State</b>: Ohio<br><b>City</b>: Cleveland<br><b>Sales</b>: 330.872<br>",
          "<b>Year</b>: 2015<br><b>Month</b>: May<br><b>Segment</b>: Consumer<br><b>State</b>: Ohio<br><b>City</b>: Cleveland<br><b>Sales</b>: 779.796<br>",
          "<b>Year</b>: 2015<br><b>Month</b>: August<br><b>Segment</b>: Consumer<br><b>State</b>: Ohio<br><b>City</b>: Columbus<br><b>Sales</b>: 295.936<br>",
          "<b>Year</b>: 2015<br><b>Month</b>: December<br><b>Segment</b>: Consumer<br><b>State</b>: Ohio<br><b>City</b>: Columbus<br><b>Sales</b>: 1619.6080000000002<br>",
          "<b>Year</b>: 2015<br><b>Month</b>: February<br><b>Segment</b>: Consumer<br><b>State</b>: Ohio<br><b>City</b>: Columbus<br><b>Sales</b>: 19.456<br>",
          "<b>Year</b>: 2015<br><b>Month</b>: March<br><b>Segment</b>: Consumer<br><b>State</b>: Ohio<br><b>City</b>: Columbus<br><b>Sales</b>: 18.784<br>",
          "<b>Year</b>: 2015<br><b>Month</b>: May<br><b>Segment</b>: Consumer<br><b>State</b>: Ohio<br><b>City</b>: Columbus<br><b>Sales</b>: 26.136<br>",
          "<b>Year</b>: 2015<br><b>Month</b>: October<br><b>Segment</b>: Consumer<br><b>State</b>: Ohio<br><b>City</b>: Columbus<br><b>Sales</b>: 425.13<br>",
          "<b>Year</b>: 2015<br><b>Month</b>: September<br><b>Segment</b>: Consumer<br><b>State</b>: Ohio<br><b>City</b>: Columbus<br><b>Sales</b>: 2.502<br>",
          "<b>Year</b>: 2015<br><b>Month</b>: November<br><b>Segment</b>: Consumer<br><b>State</b>: Ohio<br><b>City</b>: Fairfield<br><b>Sales</b>: 21.396<br>",
          "<b>Year</b>: 2015<br><b>Month</b>: October<br><b>Segment</b>: Consumer<br><b>State</b>: Ohio<br><b>City</b>: Fairfield<br><b>Sales</b>: 531.382<br>",
          "<b>Year</b>: 2015<br><b>Month</b>: September<br><b>Segment</b>: Consumer<br><b>State</b>: Ohio<br><b>City</b>: Fairfield<br><b>Sales</b>: 63.924<br>",
          "<b>Year</b>: 2015<br><b>Month</b>: December<br><b>Segment</b>: Consumer<br><b>State</b>: Ohio<br><b>City</b>: Hamilton<br><b>Sales</b>: 190.848<br>",
          "<b>Year</b>: 2015<br><b>Month</b>: March<br><b>Segment</b>: Consumer<br><b>State</b>: Ohio<br><b>City</b>: Hamilton<br><b>Sales</b>: 13.456<br>",
          "<b>Year</b>: 2015<br><b>Month</b>: December<br><b>Segment</b>: Consumer<br><b>State</b>: Ohio<br><b>City</b>: Kent<br><b>Sales</b>: 48.36<br>",
          "<b>Year</b>: 2015<br><b>Month</b>: December<br><b>Segment</b>: Consumer<br><b>State</b>: Ohio<br><b>City</b>: Marion<br><b>Sales</b>: 403.114<br>",
          "<b>Year</b>: 2015<br><b>Month</b>: November<br><b>Segment</b>: Consumer<br><b>State</b>: Ohio<br><b>City</b>: Medina<br><b>Sales</b>: 609.4380000000001<br>",
          "<b>Year</b>: 2015<br><b>Month</b>: January<br><b>Segment</b>: Consumer<br><b>State</b>: Ohio<br><b>City</b>: Newark<br><b>Sales</b>: 40.846000000000004<br>",
          "<b>Year</b>: 2015<br><b>Month</b>: October<br><b>Segment</b>: Consumer<br><b>State</b>: Ohio<br><b>City</b>: Parma<br><b>Sales</b>: 191.34<br>",
          "<b>Year</b>: 2015<br><b>Month</b>: July<br><b>Segment</b>: Consumer<br><b>State</b>: Ohio<br><b>City</b>: Springfield<br><b>Sales</b>: 53.344<br>",
          "<b>Year</b>: 2015<br><b>Month</b>: April<br><b>Segment</b>: Consumer<br><b>State</b>: Ohio<br><b>City</b>: Toledo<br><b>Sales</b>: 172.11<br>",
          "<b>Year</b>: 2015<br><b>Month</b>: November<br><b>Segment</b>: Consumer<br><b>State</b>: Ohio<br><b>City</b>: Toledo<br><b>Sales</b>: 1537.5439999999999<br>",
          "<b>Year</b>: 2015<br><b>Month</b>: June<br><b>Segment</b>: Consumer<br><b>State</b>: Oklahoma<br><b>City</b>: Lawton<br><b>Sales</b>: 475.41999999999996<br>",
          "<b>Year</b>: 2015<br><b>Month</b>: December<br><b>Segment</b>: Consumer<br><b>State</b>: Oklahoma<br><b>City</b>: Oklahoma City<br><b>Sales</b>: 479.96<br>",
          "<b>Year</b>: 2015<br><b>Month</b>: September<br><b>Segment</b>: Consumer<br><b>State</b>: Oklahoma<br><b>City</b>: Tulsa<br><b>Sales</b>: 1040.19<br>",
          "<b>Year</b>: 2015<br><b>Month</b>: September<br><b>Segment</b>: Consumer<br><b>State</b>: Oregon<br><b>City</b>: Gresham<br><b>Sales</b>: 1508.768<br>",
          "<b>Year</b>: 2015<br><b>Month</b>: February<br><b>Segment</b>: Consumer<br><b>State</b>: Oregon<br><b>City</b>: Medford<br><b>Sales</b>: 55.672<br>",
          "<b>Year</b>: 2015<br><b>Month</b>: November<br><b>Segment</b>: Consumer<br><b>State</b>: Oregon<br><b>City</b>: Portland<br><b>Sales</b>: 599.896<br>",
          "<b>Year</b>: 2015<br><b>Month</b>: December<br><b>Segment</b>: Consumer<br><b>State</b>: Oregon<br><b>City</b>: Salem<br><b>Sales</b>: 265.784<br>",
          "<b>Year</b>: 2015<br><b>Month</b>: December<br><b>Segment</b>: Consumer<br><b>State</b>: Oregon<br><b>City</b>: Springfield<br><b>Sales</b>: 328.914<br>",
          "<b>Year</b>: 2015<br><b>Month</b>: November<br><b>Segment</b>: Consumer<br><b>State</b>: Oregon<br><b>City</b>: Springfield<br><b>Sales</b>: 51.016<br>",
          "<b>Year</b>: 2015<br><b>Month</b>: September<br><b>Segment</b>: Consumer<br><b>State</b>: Oregon<br><b>City</b>: Springfield<br><b>Sales</b>: 318.293<br>",
          "<b>Year</b>: 2015<br><b>Month</b>: November<br><b>Segment</b>: Consumer<br><b>State</b>: Oregon<br><b>City</b>: Tigard<br><b>Sales</b>: 1122.968<br>",
          "<b>Year</b>: 2015<br><b>Month</b>: June<br><b>Segment</b>: Consumer<br><b>State</b>: Pennsylvania<br><b>City</b>: Chester<br><b>Sales</b>: 1106.77<br>",
          "<b>Year</b>: 2015<br><b>Month</b>: November<br><b>Segment</b>: Consumer<br><b>State</b>: Pennsylvania<br><b>City</b>: Lancaster<br><b>Sales</b>: 286.344<br>",
          "<b>Year</b>: 2015<br><b>Month</b>: August<br><b>Segment</b>: Consumer<br><b>State</b>: Pennsylvania<br><b>City</b>: Philadelphia<br><b>Sales</b>: 853.092<br>",
          "<b>Year</b>: 2015<br><b>Month</b>: December<br><b>Segment</b>: Consumer<br><b>State</b>: Pennsylvania<br><b>City</b>: Philadelphia<br><b>Sales</b>: 1500.2240000000002<br>",
          "<b>Year</b>: 2015<br><b>Month</b>: January<br><b>Segment</b>: Consumer<br><b>State</b>: Pennsylvania<br><b>City</b>: Philadelphia<br><b>Sales</b>: 319.5<br>",
          "<b>Year</b>: 2015<br><b>Month</b>: July<br><b>Segment</b>: Consumer<br><b>State</b>: Pennsylvania<br><b>City</b>: Philadelphia<br><b>Sales</b>: 352.244<br>",
          "<b>Year</b>: 2015<br><b>Month</b>: June<br><b>Segment</b>: Consumer<br><b>State</b>: Pennsylvania<br><b>City</b>: Philadelphia<br><b>Sales</b>: 2111.348<br>",
          "<b>Year</b>: 2015<br><b>Month</b>: March<br><b>Segment</b>: Consumer<br><b>State</b>: Pennsylvania<br><b>City</b>: Philadelphia<br><b>Sales</b>: 0.852<br>",
          "<b>Year</b>: 2015<br><b>Month</b>: May<br><b>Segment</b>: Consumer<br><b>State</b>: Pennsylvania<br><b>City</b>: Philadelphia<br><b>Sales</b>: 2251.893<br>",
          "<b>Year</b>: 2015<br><b>Month</b>: November<br><b>Segment</b>: Consumer<br><b>State</b>: Pennsylvania<br><b>City</b>: Philadelphia<br><b>Sales</b>: 2929.757<br>",
          "<b>Year</b>: 2015<br><b>Month</b>: October<br><b>Segment</b>: Consumer<br><b>State</b>: Pennsylvania<br><b>City</b>: Philadelphia<br><b>Sales</b>: 621.73<br>",
          "<b>Year</b>: 2015<br><b>Month</b>: September<br><b>Segment</b>: Consumer<br><b>State</b>: Pennsylvania<br><b>City</b>: Philadelphia<br><b>Sales</b>: 507.366<br>",
          "<b>Year</b>: 2015<br><b>Month</b>: October<br><b>Segment</b>: Consumer<br><b>State</b>: Rhode Island<br><b>City</b>: Cranston<br><b>Sales</b>: 2116.5060000000003<br>",
          "<b>Year</b>: 2015<br><b>Month</b>: November<br><b>Segment</b>: Consumer<br><b>State</b>: Rhode Island<br><b>City</b>: Woonsocket<br><b>Sales</b>: 52.96<br>",
          "<b>Year</b>: 2015<br><b>Month</b>: August<br><b>Segment</b>: Consumer<br><b>State</b>: South Carolina<br><b>City</b>: Columbia<br><b>Sales</b>: 62.91<br>",
          "<b>Year</b>: 2015<br><b>Month</b>: March<br><b>Segment</b>: Consumer<br><b>State</b>: South Carolina<br><b>City</b>: Columbia<br><b>Sales</b>: 354.9<br>",
          "<b>Year</b>: 2015<br><b>Month</b>: January<br><b>Segment</b>: Consumer<br><b>State</b>: South Carolina<br><b>City</b>: Mount Pleasant<br><b>Sales</b>: 545.94<br>",
          "<b>Year</b>: 2015<br><b>Month</b>: October<br><b>Segment</b>: Consumer<br><b>State</b>: South Carolina<br><b>City</b>: Rock Hill<br><b>Sales</b>: 11.85<br>",
          "<b>Year</b>: 2015<br><b>Month</b>: September<br><b>Segment</b>: Consumer<br><b>State</b>: Tennessee<br><b>City</b>: Clarksville<br><b>Sales</b>: 69.216<br>",
          "<b>Year</b>: 2015<br><b>Month</b>: December<br><b>Segment</b>: Consumer<br><b>State</b>: Tennessee<br><b>City</b>: Columbia<br><b>Sales</b>: 732.3119999999999<br>",
          "<b>Year</b>: 2015<br><b>Month</b>: November<br><b>Segment</b>: Consumer<br><b>State</b>: Tennessee<br><b>City</b>: Johnson City<br><b>Sales</b>: 362.176<br>",
          "<b>Year</b>: 2015<br><b>Month</b>: March<br><b>Segment</b>: Consumer<br><b>State</b>: Tennessee<br><b>City</b>: Knoxville<br><b>Sales</b>: 310.528<br>",
          "<b>Year</b>: 2015<br><b>Month</b>: December<br><b>Segment</b>: Consumer<br><b>State</b>: Tennessee<br><b>City</b>: Memphis<br><b>Sales</b>: 81.336<br>",
          "<b>Year</b>: 2015<br><b>Month</b>: November<br><b>Segment</b>: Consumer<br><b>State</b>: Tennessee<br><b>City</b>: Nashville<br><b>Sales</b>: 147.344<br>",
          "<b>Year</b>: 2015<br><b>Month</b>: February<br><b>Segment</b>: Consumer<br><b>State</b>: Texas<br><b>City</b>: Arlington<br><b>Sales</b>: 12.624<br>",
          "<b>Year</b>: 2015<br><b>Month</b>: October<br><b>Segment</b>: Consumer<br><b>State</b>: Texas<br><b>City</b>: Beaumont<br><b>Sales</b>: 130.756<br>",
          "<b>Year</b>: 2015<br><b>Month</b>: November<br><b>Segment</b>: Consumer<br><b>State</b>: Texas<br><b>City</b>: Cedar Hill<br><b>Sales</b>: 7.08<br>",
          "<b>Year</b>: 2015<br><b>Month</b>: August<br><b>Segment</b>: Consumer<br><b>State</b>: Texas<br><b>City</b>: Dallas<br><b>Sales</b>: 30.96<br>",
          "<b>Year</b>: 2015<br><b>Month</b>: February<br><b>Segment</b>: Consumer<br><b>State</b>: Texas<br><b>City</b>: Dallas<br><b>Sales</b>: 9.04<br>",
          "<b>Year</b>: 2015<br><b>Month</b>: March<br><b>Segment</b>: Consumer<br><b>State</b>: Texas<br><b>City</b>: Dallas<br><b>Sales</b>: 25.184<br>",
          "<b>Year</b>: 2015<br><b>Month</b>: October<br><b>Segment</b>: Consumer<br><b>State</b>: Texas<br><b>City</b>: Dallas<br><b>Sales</b>: 57.908<br>",
          "<b>Year</b>: 2015<br><b>Month</b>: December<br><b>Segment</b>: Consumer<br><b>State</b>: Texas<br><b>City</b>: El Paso<br><b>Sales</b>: 803.9599999999999<br>",
          "<b>Year</b>: 2015<br><b>Month</b>: July<br><b>Segment</b>: Consumer<br><b>State</b>: Texas<br><b>City</b>: El Paso<br><b>Sales</b>: 586.336<br>",
          "<b>Year</b>: 2015<br><b>Month</b>: June<br><b>Segment</b>: Consumer<br><b>State</b>: Texas<br><b>City</b>: El Paso<br><b>Sales</b>: 36.544<br>",
          "<b>Year</b>: 2015<br><b>Month</b>: March<br><b>Segment</b>: Consumer<br><b>State</b>: Texas<br><b>City</b>: El Paso<br><b>Sales</b>: 574.194<br>",
          "<b>Year</b>: 2015<br><b>Month</b>: December<br><b>Segment</b>: Consumer<br><b>State</b>: Texas<br><b>City</b>: Fort Worth<br><b>Sales</b>: 4.984<br>",
          "<b>Year</b>: 2015<br><b>Month</b>: May<br><b>Segment</b>: Consumer<br><b>State</b>: Texas<br><b>City</b>: Fort Worth<br><b>Sales</b>: 225.016<br>",
          "<b>Year</b>: 2015<br><b>Month</b>: October<br><b>Segment</b>: Consumer<br><b>State</b>: Texas<br><b>City</b>: Fort Worth<br><b>Sales</b>: 2003.1200000000001<br>",
          "<b>Year</b>: 2015<br><b>Month</b>: December<br><b>Segment</b>: Consumer<br><b>State</b>: Texas<br><b>City</b>: Grand Prairie<br><b>Sales</b>: 84.872<br>",
          "<b>Year</b>: 2015<br><b>Month</b>: April<br><b>Segment</b>: Consumer<br><b>State</b>: Texas<br><b>City</b>: Houston<br><b>Sales</b>: 1947.812<br>",
          "<b>Year</b>: 2015<br><b>Month</b>: August<br><b>Segment</b>: Consumer<br><b>State</b>: Texas<br><b>City</b>: Houston<br><b>Sales</b>: 38.064<br>",
          "<b>Year</b>: 2015<br><b>Month</b>: December<br><b>Segment</b>: Consumer<br><b>State</b>: Texas<br><b>City</b>: Houston<br><b>Sales</b>: 26.896<br>",
          "<b>Year</b>: 2015<br><b>Month</b>: February<br><b>Segment</b>: Consumer<br><b>State</b>: Texas<br><b>City</b>: Houston<br><b>Sales</b>: 16.176<br>",
          "<b>Year</b>: 2015<br><b>Month</b>: January<br><b>Segment</b>: Consumer<br><b>State</b>: Texas<br><b>City</b>: Houston<br><b>Sales</b>: 16.448<br>",
          "<b>Year</b>: 2015<br><b>Month</b>: July<br><b>Segment</b>: Consumer<br><b>State</b>: Texas<br><b>City</b>: Houston<br><b>Sales</b>: 528.832<br>",
          "<b>Year</b>: 2015<br><b>Month</b>: March<br><b>Segment</b>: Consumer<br><b>State</b>: Texas<br><b>City</b>: Houston<br><b>Sales</b>: 690.633<br>",
          "<b>Year</b>: 2015<br><b>Month</b>: May<br><b>Segment</b>: Consumer<br><b>State</b>: Texas<br><b>City</b>: Houston<br><b>Sales</b>: 277.084<br>",
          "<b>Year</b>: 2015<br><b>Month</b>: November<br><b>Segment</b>: Consumer<br><b>State</b>: Texas<br><b>City</b>: Houston<br><b>Sales</b>: 3987.634<br>",
          "<b>Year</b>: 2015<br><b>Month</b>: October<br><b>Segment</b>: Consumer<br><b>State</b>: Texas<br><b>City</b>: Houston<br><b>Sales</b>: 5.312<br>",
          "<b>Year</b>: 2015<br><b>Month</b>: September<br><b>Segment</b>: Consumer<br><b>State</b>: Texas<br><b>City</b>: Houston<br><b>Sales</b>: 1206.6480000000001<br>",
          "<b>Year</b>: 2015<br><b>Month</b>: December<br><b>Segment</b>: Consumer<br><b>State</b>: Texas<br><b>City</b>: Huntsville<br><b>Sales</b>: 92.856<br>",
          "<b>Year</b>: 2015<br><b>Month</b>: January<br><b>Segment</b>: Consumer<br><b>State</b>: Texas<br><b>City</b>: Huntsville<br><b>Sales</b>: 87.15799999999999<br>",
          "<b>Year</b>: 2015<br><b>Month</b>: November<br><b>Segment</b>: Consumer<br><b>State</b>: Texas<br><b>City</b>: Irving<br><b>Sales</b>: 88.776<br>",
          "<b>Year</b>: 2015<br><b>Month</b>: January<br><b>Segment</b>: Consumer<br><b>State</b>: Texas<br><b>City</b>: Laredo<br><b>Sales</b>: 40.544<br>",
          "<b>Year</b>: 2015<br><b>Month</b>: February<br><b>Segment</b>: Consumer<br><b>State</b>: Texas<br><b>City</b>: Lubbock<br><b>Sales</b>: 25.16<br>",
          "<b>Year</b>: 2015<br><b>Month</b>: November<br><b>Segment</b>: Consumer<br><b>State</b>: Texas<br><b>City</b>: Pasadena<br><b>Sales</b>: 6.928<br>",
          "<b>Year</b>: 2015<br><b>Month</b>: June<br><b>Segment</b>: Consumer<br><b>State</b>: Texas<br><b>City</b>: Plano<br><b>Sales</b>: 1353.5296<br>",
          "<b>Year</b>: 2015<br><b>Month</b>: March<br><b>Segment</b>: Consumer<br><b>State</b>: Texas<br><b>City</b>: Plano<br><b>Sales</b>: 890.841<br>",
          "<b>Year</b>: 2015<br><b>Month</b>: July<br><b>Segment</b>: Consumer<br><b>State</b>: Texas<br><b>City</b>: San Antonio<br><b>Sales</b>: 2656.716<br>",
          "<b>Year</b>: 2015<br><b>Month</b>: May<br><b>Segment</b>: Consumer<br><b>State</b>: Texas<br><b>City</b>: San Antonio<br><b>Sales</b>: 127.869<br>",
          "<b>Year</b>: 2015<br><b>Month</b>: November<br><b>Segment</b>: Consumer<br><b>State</b>: Texas<br><b>City</b>: San Antonio<br><b>Sales</b>: 49.632<br>",
          "<b>Year</b>: 2015<br><b>Month</b>: September<br><b>Segment</b>: Consumer<br><b>State</b>: Texas<br><b>City</b>: San Antonio<br><b>Sales</b>: 10539.896<br>",
          "<b>Year</b>: 2015<br><b>Month</b>: August<br><b>Segment</b>: Consumer<br><b>State</b>: Texas<br><b>City</b>: Texas City<br><b>Sales</b>: 489.23<br>",
          "<b>Year</b>: 2015<br><b>Month</b>: September<br><b>Segment</b>: Consumer<br><b>State</b>: Texas<br><b>City</b>: Tyler<br><b>Sales</b>: 51.184<br>",
          "<b>Year</b>: 2015<br><b>Month</b>: March<br><b>Segment</b>: Consumer<br><b>State</b>: Utah<br><b>City</b>: Logan<br><b>Sales</b>: 280.276<br>",
          "<b>Year</b>: 2015<br><b>Month</b>: August<br><b>Segment</b>: Consumer<br><b>State</b>: Utah<br><b>City</b>: Pleasant Grove<br><b>Sales</b>: 2126.034<br>",
          "<b>Year</b>: 2015<br><b>Month</b>: May<br><b>Segment</b>: Consumer<br><b>State</b>: Utah<br><b>City</b>: West Jordan<br><b>Sales</b>: 55.5<br>",
          "<b>Year</b>: 2015<br><b>Month</b>: December<br><b>Segment</b>: Consumer<br><b>State</b>: Virginia<br><b>City</b>: Alexandria<br><b>Sales</b>: 24.56<br>",
          "<b>Year</b>: 2015<br><b>Month</b>: April<br><b>Segment</b>: Consumer<br><b>State</b>: Virginia<br><b>City</b>: Arlington<br><b>Sales</b>: 129.32999999999998<br>",
          "<b>Year</b>: 2015<br><b>Month</b>: February<br><b>Segment</b>: Consumer<br><b>State</b>: Virginia<br><b>City</b>: Chesapeake<br><b>Sales</b>: 1508.13<br>",
          "<b>Year</b>: 2015<br><b>Month</b>: November<br><b>Segment</b>: Consumer<br><b>State</b>: Virginia<br><b>City</b>: Chesapeake<br><b>Sales</b>: 32.4<br>",
          "<b>Year</b>: 2015<br><b>Month</b>: September<br><b>Segment</b>: Consumer<br><b>State</b>: Virginia<br><b>City</b>: Chesapeake<br><b>Sales</b>: 254.97<br>",
          "<b>Year</b>: 2015<br><b>Month</b>: November<br><b>Segment</b>: Consumer<br><b>State</b>: Virginia<br><b>City</b>: Hampton<br><b>Sales</b>: 149.9<br>",
          "<b>Year</b>: 2015<br><b>Month</b>: June<br><b>Segment</b>: Consumer<br><b>State</b>: Virginia<br><b>City</b>: Harrisonburg<br><b>Sales</b>: 1441.3<br>",
          "<b>Year</b>: 2015<br><b>Month</b>: July<br><b>Segment</b>: Consumer<br><b>State</b>: Virginia<br><b>City</b>: Richmond<br><b>Sales</b>: 37.44<br>",
          "<b>Year</b>: 2015<br><b>Month</b>: August<br><b>Segment</b>: Consumer<br><b>State</b>: Virginia<br><b>City</b>: Springfield<br><b>Sales</b>: 13.36<br>",
          "<b>Year</b>: 2015<br><b>Month</b>: December<br><b>Segment</b>: Consumer<br><b>State</b>: Virginia<br><b>City</b>: Springfield<br><b>Sales</b>: 129.44<br>",
          "<b>Year</b>: 2015<br><b>Month</b>: December<br><b>Segment</b>: Consumer<br><b>State</b>: Virginia<br><b>City</b>: Virginia Beach<br><b>Sales</b>: 105.52<br>",
          "<b>Year</b>: 2015<br><b>Month</b>: May<br><b>Segment</b>: Consumer<br><b>State</b>: Virginia<br><b>City</b>: Virginia Beach<br><b>Sales</b>: 34.2<br>",
          "<b>Year</b>: 2015<br><b>Month</b>: June<br><b>Segment</b>: Consumer<br><b>State</b>: Virginia<br><b>City</b>: Waynesboro<br><b>Sales</b>: 425.66999999999996<br>",
          "<b>Year</b>: 2015<br><b>Month</b>: May<br><b>Segment</b>: Consumer<br><b>State</b>: Washington<br><b>City</b>: Bellevue<br><b>Sales</b>: 12.96<br>",
          "<b>Year</b>: 2015<br><b>Month</b>: September<br><b>Segment</b>: Consumer<br><b>State</b>: Washington<br><b>City</b>: Des Moines<br><b>Sales</b>: 2046.354<br>",
          "<b>Year</b>: 2015<br><b>Month</b>: October<br><b>Segment</b>: Consumer<br><b>State</b>: Washington<br><b>City</b>: Edmonds<br><b>Sales</b>: 1549.77<br>",
          "<b>Year</b>: 2015<br><b>Month</b>: May<br><b>Segment</b>: Consumer<br><b>State</b>: Washington<br><b>City</b>: Kent<br><b>Sales</b>: 201.73<br>",
          "<b>Year</b>: 2015<br><b>Month</b>: December<br><b>Segment</b>: Consumer<br><b>State</b>: Washington<br><b>City</b>: Olympia<br><b>Sales</b>: 649.5999999999999<br>",
          "<b>Year</b>: 2015<br><b>Month</b>: September<br><b>Segment</b>: Consumer<br><b>State</b>: Washington<br><b>City</b>: Pasco<br><b>Sales</b>: 1771.52<br>",
          "<b>Year</b>: 2015<br><b>Month</b>: August<br><b>Segment</b>: Consumer<br><b>State</b>: Washington<br><b>City</b>: Seattle<br><b>Sales</b>: 3144.9680000000003<br>",
          "<b>Year</b>: 2015<br><b>Month</b>: December<br><b>Segment</b>: Consumer<br><b>State</b>: Washington<br><b>City</b>: Seattle<br><b>Sales</b>: 31.05<br>",
          "<b>Year</b>: 2015<br><b>Month</b>: February<br><b>Segment</b>: Consumer<br><b>State</b>: Washington<br><b>City</b>: Seattle<br><b>Sales</b>: 97.11200000000001<br>",
          "<b>Year</b>: 2015<br><b>Month</b>: July<br><b>Segment</b>: Consumer<br><b>State</b>: Washington<br><b>City</b>: Seattle<br><b>Sales</b>: 134.4<br>",
          "<b>Year</b>: 2015<br><b>Month</b>: June<br><b>Segment</b>: Consumer<br><b>State</b>: Washington<br><b>City</b>: Seattle<br><b>Sales</b>: 4391.948<br>",
          "<b>Year</b>: 2015<br><b>Month</b>: March<br><b>Segment</b>: Consumer<br><b>State</b>: Washington<br><b>City</b>: Seattle<br><b>Sales</b>: 767.16<br>",
          "<b>Year</b>: 2015<br><b>Month</b>: May<br><b>Segment</b>: Consumer<br><b>State</b>: Washington<br><b>City</b>: Seattle<br><b>Sales</b>: 136.96<br>",
          "<b>Year</b>: 2015<br><b>Month</b>: October<br><b>Segment</b>: Consumer<br><b>State</b>: Washington<br><b>City</b>: Seattle<br><b>Sales</b>: 540.424<br>",
          "<b>Year</b>: 2015<br><b>Month</b>: September<br><b>Segment</b>: Consumer<br><b>State</b>: Washington<br><b>City</b>: Seattle<br><b>Sales</b>: 1683.4940000000001<br>",
          "<b>Year</b>: 2015<br><b>Month</b>: February<br><b>Segment</b>: Consumer<br><b>State</b>: Wisconsin<br><b>City</b>: Green Bay<br><b>Sales</b>: 468.9<br>",
          "<b>Year</b>: 2015<br><b>Month</b>: December<br><b>Segment</b>: Consumer<br><b>State</b>: Wisconsin<br><b>City</b>: Madison<br><b>Sales</b>: 2854.48<br>",
          "<b>Year</b>: 2015<br><b>Month</b>: November<br><b>Segment</b>: Consumer<br><b>State</b>: Wisconsin<br><b>City</b>: Madison<br><b>Sales</b>: 665.88<br>",
          "<b>Year</b>: 2015<br><b>Month</b>: May<br><b>Segment</b>: Consumer<br><b>State</b>: Wisconsin<br><b>City</b>: Milwaukee<br><b>Sales</b>: 34.79<br>",
          "<b>Year</b>: 2015<br><b>Month</b>: November<br><b>Segment</b>: Consumer<br><b>State</b>: Wisconsin<br><b>City</b>: Wausau<br><b>Sales</b>: 317.48<br>"
         ],
         "marker": {
          "color": [
           180.93,
           1979.8899999999999,
           8.96,
           14.67,
           150.232,
           742.336,
           217.352,
           13.809000000000001,
           946.764,
           55.92,
           8.226,
           378.594,
           23.472,
           596.664,
           1520.376,
           4.272,
           1793.98,
           638.82,
           1859.4,
           904.13,
           408.76800000000003,
           182.94,
           43.31,
           129.568,
           53.94,
           5.98,
           4630.5105,
           40.48,
           399.898,
           472.044,
           1134.254,
           58.1,
           3854.1040000000003,
           935.1519999999999,
           225.296,
           5680.322,
           13.44,
           1113.868,
           290.666,
           19.44,
           30.72,
           149.97,
           127.95,
           465.488,
           18.75,
           99.98,
           34.272,
           333.576,
           7.64,
           7.98,
           120.712,
           2049.816,
           1933.4399999999998,
           426.67,
           176.494,
           626.352,
           994.7459999999999,
           9.09,
           685.9,
           1679.96,
           1234.4080000000001,
           301.32,
           1679.749,
           9805.923999999999,
           30.46,
           1024.574,
           1505.664,
           2839.9519999999998,
           391.204,
           753.5120000000001,
           11.76,
           1769.784,
           210.13,
           423.28,
           46.688,
           110.098,
           645.726,
           719.576,
           2027.144,
           196.752,
           1349.084,
           36.252,
           447.944,
           121.24,
           62.94,
           888.3699999999999,
           21.4,
           27.46,
           19.98,
           9.94,
           44.34,
           31.4,
           17.28,
           65.97,
           193.152,
           4.608,
           15.552,
           9.912,
           186.304,
           15.384,
           243.60000000000002,
           337.088,
           155.456,
           252.61200000000002,
           63.381,
           479.984,
           15.552,
           737.2,
           709.0425,
           33.04,
           7.632,
           199.296,
           31.984,
           619.848,
           1512.9470000000001,
           26.128,
           1220.67,
           256.47999999999996,
           40.05,
           149.56,
           149.95,
           605.47,
           9.584,
           268.935,
           617.7,
           355.455,
           475.944,
           421.372,
           1053.8419999999999,
           54.208,
           183.24800000000002,
           43.82,
           88.118,
           598.168,
           1455.1280000000002,
           3080.226,
           755.422,
           37.296,
           1109.372,
           258.279,
           321.978,
           8.952,
           62.967999999999996,
           8.85,
           32.4,
           1107.66,
           647.84,
           16.28,
           207.24,
           1190.84,
           1000.95,
           40.54,
           69.9,
           116.28,
           587.14,
           1885.27,
           700.056,
           1091.35,
           327.56,
           770.61,
           84.83,
           240.5,
           14.67,
           103.6,
           46.8,
           57.42,
           1219.1100000000001,
           22.38,
           708.616,
           211.96,
           129.3,
           503.13,
           144.35999999999999,
           249.92000000000002,
           663.75,
           9900.19,
           47.79,
           514.03,
           773.7,
           616.14,
           535.27,
           11.56,
           111.79,
           410.104,
           35.98,
           40.08,
           1891.316,
           336.82,
           1326.69,
           79.56,
           57.266,
           92.52,
           63.882,
           6160.616,
           17.248,
           115.952,
           4548.81,
           2960.21,
           49.65,
           733.5600000000001,
           62.28,
           13.904,
           810.78,
           8518.532,
           3.928,
           893.312,
           1495.3439999999998,
           500.606,
           316.14799999999997,
           993.7320000000001,
           713.3299999999999,
           14982.15,
           17.46,
           13.36,
           460.21999999999997,
           414.63,
           90.60999999999999,
           705.562,
           51.072,
           23.472,
           2692.329,
           23.119999999999997,
           59.109,
           1299.99,
           95.968,
           1395.673,
           52.608000000000004,
           302.376,
           310.688,
           19.456,
           165.168,
           264.32,
           32.76,
           2.624,
           330.872,
           779.796,
           295.936,
           1619.6080000000002,
           19.456,
           18.784,
           26.136,
           425.13,
           2.502,
           21.396,
           531.382,
           63.924,
           190.848,
           13.456,
           48.36,
           403.114,
           609.4380000000001,
           40.846000000000004,
           191.34,
           53.344,
           172.11,
           1537.5439999999999,
           475.41999999999996,
           479.96,
           1040.19,
           1508.768,
           55.672,
           599.896,
           265.784,
           328.914,
           51.016,
           318.293,
           1122.968,
           1106.77,
           286.344,
           853.092,
           1500.2240000000002,
           319.5,
           352.244,
           2111.348,
           0.852,
           2251.893,
           2929.757,
           621.73,
           507.366,
           2116.5060000000003,
           52.96,
           62.91,
           354.9,
           545.94,
           11.85,
           69.216,
           732.3119999999999,
           362.176,
           310.528,
           81.336,
           147.344,
           12.624,
           130.756,
           7.08,
           30.96,
           9.04,
           25.184,
           57.908,
           803.9599999999999,
           586.336,
           36.544,
           574.194,
           4.984,
           225.016,
           2003.1200000000001,
           84.872,
           1947.812,
           38.064,
           26.896,
           16.176,
           16.448,
           528.832,
           690.633,
           277.084,
           3987.634,
           5.312,
           1206.6480000000001,
           92.856,
           87.15799999999999,
           88.776,
           40.544,
           25.16,
           6.928,
           1353.5296,
           890.841,
           2656.716,
           127.869,
           49.632,
           10539.896,
           489.23,
           51.184,
           280.276,
           2126.034,
           55.5,
           24.56,
           129.32999999999998,
           1508.13,
           32.4,
           254.97,
           149.9,
           1441.3,
           37.44,
           13.36,
           129.44,
           105.52,
           34.2,
           425.66999999999996,
           12.96,
           2046.354,
           1549.77,
           201.73,
           649.5999999999999,
           1771.52,
           3144.9680000000003,
           31.05,
           97.11200000000001,
           134.4,
           4391.948,
           767.16,
           136.96,
           540.424,
           1683.4940000000001,
           468.9,
           2854.48,
           665.88,
           34.79,
           317.48
          ],
          "colorscale": [
           [
            0,
            "#ff0000"
           ],
           [
            0.1111111111111111,
            "#ffa700"
           ],
           [
            0.2222222222222222,
            "#afff00"
           ],
           [
            0.3333333333333333,
            "#08ff00"
           ],
           [
            0.4444444444444444,
            "#00ff9f"
           ],
           [
            0.5555555555555556,
            "#00b7ff"
           ],
           [
            0.6666666666666666,
            "#0010ff"
           ],
           [
            0.7777777777777778,
            "#9700ff"
           ],
           [
            0.8888888888888888,
            "#ff00bf"
           ],
           [
            1,
            "#ff0000"
           ]
          ],
          "line": {
           "color": "MediumPurple",
           "width": 2
          },
          "showscale": false,
          "size": [
           0.72372,
           7.91956,
           0.035840000000000004,
           0.05868,
           0.600928,
           2.969344,
           0.8694080000000001,
           0.05523600000000001,
           3.787056,
           0.22368000000000002,
           0.032904,
           1.514376,
           0.093888,
           2.386656,
           6.081504,
           0.017088000000000002,
           7.17592,
           2.55528,
           7.437600000000001,
           3.61652,
           1.635072,
           0.73176,
           0.17324,
           0.5182720000000001,
           0.21575999999999998,
           0.02392,
           18.522042000000003,
           0.16191999999999998,
           1.5995920000000001,
           1.8881759999999999,
           4.5370159999999995,
           0.2324,
           15.416416000000002,
           3.740608,
           0.901184,
           22.721288,
           0.053759999999999995,
           4.455471999999999,
           1.162664,
           0.07776000000000001,
           0.12287999999999999,
           0.59988,
           0.5118,
           1.861952,
           0.075,
           0.39992,
           0.137088,
           1.3343040000000002,
           0.03056,
           0.031920000000000004,
           0.482848,
           8.199264,
           7.733759999999999,
           1.70668,
           0.705976,
           2.505408,
           3.9789839999999996,
           0.036359999999999996,
           2.7436,
           6.7198400000000005,
           4.937632000000001,
           1.20528,
           6.718996,
           39.223696,
           0.12184,
           4.098296,
           6.022656,
           11.359808,
           1.564816,
           3.0140480000000003,
           0.04704,
           7.079136,
           0.8405199999999999,
           1.69312,
           0.186752,
           0.440392,
           2.582904,
           2.878304,
           8.108576,
           0.787008,
           5.396336,
           0.145008,
           1.791776,
           0.48496,
           0.25176,
           3.5534799999999995,
           0.0856,
           0.10984000000000001,
           0.07992,
           0.03976,
           0.17736000000000002,
           0.1256,
           0.06912,
           0.26388,
           0.772608,
           0.018431999999999997,
           0.062208,
           0.039648,
           0.745216,
           0.061536,
           0.9744,
           1.348352,
           0.6218239999999999,
           1.010448,
           0.253524,
           1.9199359999999999,
           0.062208,
           2.9488000000000003,
           2.83617,
           0.13216,
           0.030528,
           0.797184,
           0.127936,
           2.479392,
           6.051788,
           0.104512,
           4.882680000000001,
           1.02592,
           0.16019999999999998,
           0.59824,
           0.5998,
           2.4218800000000003,
           0.038335999999999995,
           1.07574,
           2.4708,
           1.4218199999999999,
           1.9037760000000001,
           1.685488,
           4.215368,
           0.216832,
           0.7329920000000001,
           0.17528,
           0.352472,
           2.392672,
           5.820512000000001,
           12.320904,
           3.021688,
           0.149184,
           4.437488,
           1.033116,
           1.287912,
           0.035808,
           0.251872,
           0.0354,
           0.1296,
           4.43064,
           2.5913600000000003,
           0.06512000000000001,
           0.82896,
           4.76336,
           4.0038,
           0.16216,
           0.2796,
           0.46512,
           2.34856,
           7.54108,
           2.800224,
           4.365399999999999,
           1.31024,
           3.08244,
           0.33932,
           0.962,
           0.05868,
           0.4144,
           0.18719999999999998,
           0.22968,
           4.8764400000000006,
           0.08952,
           2.834464,
           0.84784,
           0.5172,
           2.01252,
           0.57744,
           0.99968,
           2.655,
           39.60076,
           0.19116,
           2.05612,
           3.0948,
           2.46456,
           2.14108,
           0.04624,
           0.44716,
           1.6404159999999999,
           0.14392,
           0.16032,
           7.565264,
           1.34728,
           5.306760000000001,
           0.31824,
           0.229064,
           0.37007999999999996,
           0.255528,
           24.642464,
           0.068992,
           0.463808,
           18.195240000000002,
           11.84084,
           0.1986,
           2.9342400000000004,
           0.24912,
           0.055616,
           3.24312,
           34.074127999999995,
           0.015712,
           3.573248,
           5.981375999999999,
           2.002424,
           1.264592,
           3.9749280000000002,
           2.8533199999999996,
           59.928599999999996,
           0.06984,
           0.053439999999999994,
           1.8408799999999998,
           1.65852,
           0.36243999999999993,
           2.822248,
           0.204288,
           0.093888,
           10.769316,
           0.09247999999999999,
           0.236436,
           5.19996,
           0.383872,
           5.582692,
           0.210432,
           1.209504,
           1.2427519999999999,
           0.077824,
           0.660672,
           1.05728,
           0.13104,
           0.010496,
           1.323488,
           3.119184,
           1.183744,
           6.478432000000001,
           0.077824,
           0.075136,
           0.104544,
           1.70052,
           0.010008,
           0.08558400000000001,
           2.1255279999999996,
           0.255696,
           0.7633920000000001,
           0.053824,
           0.19344,
           1.612456,
           2.4377520000000006,
           0.163384,
           0.76536,
           0.213376,
           0.68844,
           6.150175999999999,
           1.9016799999999998,
           1.91984,
           4.16076,
           6.035072,
           0.222688,
           2.399584,
           1.0631359999999999,
           1.315656,
           0.204064,
           1.273172,
           4.491872,
           4.42708,
           1.145376,
           3.412368,
           6.000896000000001,
           1.278,
           1.408976,
           8.445392,
           0.003408,
           9.007572,
           11.719028,
           2.48692,
           2.029464,
           8.466024,
           0.21184,
           0.25164,
           1.4196,
           2.1837600000000004,
           0.0474,
           0.276864,
           2.9292479999999994,
           1.448704,
           1.242112,
           0.32534399999999997,
           0.589376,
           0.050496,
           0.523024,
           0.02832,
           0.12384,
           0.03616,
           0.100736,
           0.231632,
           3.2158399999999996,
           2.345344,
           0.146176,
           2.296776,
           0.019936,
           0.900064,
           8.01248,
           0.339488,
           7.7912479999999995,
           0.152256,
           0.107584,
           0.064704,
           0.065792,
           2.115328,
           2.762532,
           1.108336,
           15.950536,
           0.021248,
           4.826592000000001,
           0.371424,
           0.34863199999999994,
           0.355104,
           0.162176,
           0.10064000000000001,
           0.027712,
           5.4141184,
           3.563364,
           10.626864,
           0.511476,
           0.19852799999999998,
           42.159584,
           1.95692,
           0.204736,
           1.121104,
           8.504136,
           0.222,
           0.09824,
           0.5173199999999999,
           6.032520000000001,
           0.1296,
           1.01988,
           0.5996,
           5.7652,
           0.14976,
           0.053439999999999994,
           0.51776,
           0.42208,
           0.1368,
           1.7026799999999997,
           0.051840000000000004,
           8.185416,
           6.19908,
           0.80692,
           2.5984,
           7.08608,
           12.579872000000002,
           0.1242,
           0.388448,
           0.5376000000000001,
           17.567792,
           3.06864,
           0.54784,
           2.161696,
           6.733976,
           1.8756,
           11.41792,
           2.66352,
           0.13916,
           1.2699200000000002
          ]
         },
         "mode": "markers",
         "type": "scatter",
         "x": [
          "May",
          "December",
          "April",
          "November",
          "November",
          "October",
          "August",
          "August",
          "December",
          "July",
          "June",
          "January",
          "November",
          "December",
          "July",
          "June",
          "September",
          "August",
          "January",
          "June",
          "December",
          "September",
          "December",
          "February",
          "September",
          "August",
          "December",
          "March",
          "April",
          "August",
          "December",
          "January",
          "June",
          "March",
          "May",
          "November",
          "October",
          "September",
          "January",
          "February",
          "December",
          "May",
          "September",
          "October",
          "March",
          "October",
          "October",
          "November",
          "October",
          "March",
          "November",
          "August",
          "December",
          "January",
          "July",
          "March",
          "November",
          "October",
          "September",
          "April",
          "August",
          "December",
          "January",
          "July",
          "June",
          "March",
          "May",
          "November",
          "October",
          "September",
          "December",
          "May",
          "September",
          "August",
          "April",
          "October",
          "August",
          "March",
          "November",
          "June",
          "November",
          "June",
          "December",
          "August",
          "August",
          "November",
          "June",
          "May",
          "April",
          "January",
          "September",
          "August",
          "December",
          "June",
          "July",
          "September",
          "September",
          "March",
          "December",
          "October",
          "August",
          "September",
          "August",
          "December",
          "June",
          "May",
          "March",
          "April",
          "August",
          "December",
          "August",
          "February",
          "September",
          "December",
          "March",
          "September",
          "April",
          "July",
          "December",
          "September",
          "January",
          "June",
          "April",
          "June",
          "September",
          "May",
          "September",
          "August",
          "December",
          "February",
          "July",
          "June",
          "March",
          "May",
          "November",
          "October",
          "September",
          "November",
          "November",
          "October",
          "September",
          "February",
          "December",
          "February",
          "April",
          "December",
          "June",
          "March",
          "December",
          "March",
          "April",
          "May",
          "April",
          "May",
          "September",
          "October",
          "May",
          "May",
          "December",
          "April",
          "April",
          "January",
          "November",
          "September",
          "May",
          "May",
          "November",
          "March",
          "January",
          "October",
          "March",
          "November",
          "December",
          "March",
          "June",
          "September",
          "April",
          "July",
          "May",
          "June",
          "February",
          "August",
          "November",
          "April",
          "July",
          "January",
          "July",
          "September",
          "June",
          "July",
          "December",
          "August",
          "July",
          "November",
          "November",
          "June",
          "November",
          "June",
          "March",
          "November",
          "November",
          "July",
          "August",
          "December",
          "January",
          "July",
          "June",
          "March",
          "May",
          "November",
          "October",
          "September",
          "April",
          "June",
          "September",
          "November",
          "September",
          "March",
          "May",
          "October",
          "September",
          "June",
          "March",
          "September",
          "December",
          "November",
          "September",
          "April",
          "June",
          "March",
          "May",
          "September",
          "June",
          "November",
          "December",
          "May",
          "August",
          "December",
          "February",
          "March",
          "May",
          "October",
          "September",
          "November",
          "October",
          "September",
          "December",
          "March",
          "December",
          "December",
          "November",
          "January",
          "October",
          "July",
          "April",
          "November",
          "June",
          "December",
          "September",
          "September",
          "February",
          "November",
          "December",
          "December",
          "November",
          "September",
          "November",
          "June",
          "November",
          "August",
          "December",
          "January",
          "July",
          "June",
          "March",
          "May",
          "November",
          "October",
          "September",
          "October",
          "November",
          "August",
          "March",
          "January",
          "October",
          "September",
          "December",
          "November",
          "March",
          "December",
          "November",
          "February",
          "October",
          "November",
          "August",
          "February",
          "March",
          "October",
          "December",
          "July",
          "June",
          "March",
          "December",
          "May",
          "October",
          "December",
          "April",
          "August",
          "December",
          "February",
          "January",
          "July",
          "March",
          "May",
          "November",
          "October",
          "September",
          "December",
          "January",
          "November",
          "January",
          "February",
          "November",
          "June",
          "March",
          "July",
          "May",
          "November",
          "September",
          "August",
          "September",
          "March",
          "August",
          "May",
          "December",
          "April",
          "February",
          "November",
          "September",
          "November",
          "June",
          "July",
          "August",
          "December",
          "December",
          "May",
          "June",
          "May",
          "September",
          "October",
          "May",
          "December",
          "September",
          "August",
          "December",
          "February",
          "July",
          "June",
          "March",
          "May",
          "October",
          "September",
          "February",
          "December",
          "November",
          "May",
          "November"
         ],
         "y": [
          180.93,
          1979.8899999999999,
          8.96,
          14.67,
          150.232,
          742.336,
          217.352,
          13.809000000000001,
          946.764,
          55.92,
          8.226,
          378.594,
          23.472,
          596.664,
          1520.376,
          4.272,
          1793.98,
          638.82,
          1859.4,
          904.13,
          408.76800000000003,
          182.94,
          43.31,
          129.568,
          53.94,
          5.98,
          4630.5105,
          40.48,
          399.898,
          472.044,
          1134.254,
          58.1,
          3854.1040000000003,
          935.1519999999999,
          225.296,
          5680.322,
          13.44,
          1113.868,
          290.666,
          19.44,
          30.72,
          149.97,
          127.95,
          465.488,
          18.75,
          99.98,
          34.272,
          333.576,
          7.64,
          7.98,
          120.712,
          2049.816,
          1933.4399999999998,
          426.67,
          176.494,
          626.352,
          994.7459999999999,
          9.09,
          685.9,
          1679.96,
          1234.4080000000001,
          301.32,
          1679.749,
          9805.923999999999,
          30.46,
          1024.574,
          1505.664,
          2839.9519999999998,
          391.204,
          753.5120000000001,
          11.76,
          1769.784,
          210.13,
          423.28,
          46.688,
          110.098,
          645.726,
          719.576,
          2027.144,
          196.752,
          1349.084,
          36.252,
          447.944,
          121.24,
          62.94,
          888.3699999999999,
          21.4,
          27.46,
          19.98,
          9.94,
          44.34,
          31.4,
          17.28,
          65.97,
          193.152,
          4.608,
          15.552,
          9.912,
          186.304,
          15.384,
          243.60000000000002,
          337.088,
          155.456,
          252.61200000000002,
          63.381,
          479.984,
          15.552,
          737.2,
          709.0425,
          33.04,
          7.632,
          199.296,
          31.984,
          619.848,
          1512.9470000000001,
          26.128,
          1220.67,
          256.47999999999996,
          40.05,
          149.56,
          149.95,
          605.47,
          9.584,
          268.935,
          617.7,
          355.455,
          475.944,
          421.372,
          1053.8419999999999,
          54.208,
          183.24800000000002,
          43.82,
          88.118,
          598.168,
          1455.1280000000002,
          3080.226,
          755.422,
          37.296,
          1109.372,
          258.279,
          321.978,
          8.952,
          62.967999999999996,
          8.85,
          32.4,
          1107.66,
          647.84,
          16.28,
          207.24,
          1190.84,
          1000.95,
          40.54,
          69.9,
          116.28,
          587.14,
          1885.27,
          700.056,
          1091.35,
          327.56,
          770.61,
          84.83,
          240.5,
          14.67,
          103.6,
          46.8,
          57.42,
          1219.1100000000001,
          22.38,
          708.616,
          211.96,
          129.3,
          503.13,
          144.35999999999999,
          249.92000000000002,
          663.75,
          9900.19,
          47.79,
          514.03,
          773.7,
          616.14,
          535.27,
          11.56,
          111.79,
          410.104,
          35.98,
          40.08,
          1891.316,
          336.82,
          1326.69,
          79.56,
          57.266,
          92.52,
          63.882,
          6160.616,
          17.248,
          115.952,
          4548.81,
          2960.21,
          49.65,
          733.5600000000001,
          62.28,
          13.904,
          810.78,
          8518.532,
          3.928,
          893.312,
          1495.3439999999998,
          500.606,
          316.14799999999997,
          993.7320000000001,
          713.3299999999999,
          14982.15,
          17.46,
          13.36,
          460.21999999999997,
          414.63,
          90.60999999999999,
          705.562,
          51.072,
          23.472,
          2692.329,
          23.119999999999997,
          59.109,
          1299.99,
          95.968,
          1395.673,
          52.608000000000004,
          302.376,
          310.688,
          19.456,
          165.168,
          264.32,
          32.76,
          2.624,
          330.872,
          779.796,
          295.936,
          1619.6080000000002,
          19.456,
          18.784,
          26.136,
          425.13,
          2.502,
          21.396,
          531.382,
          63.924,
          190.848,
          13.456,
          48.36,
          403.114,
          609.4380000000001,
          40.846000000000004,
          191.34,
          53.344,
          172.11,
          1537.5439999999999,
          475.41999999999996,
          479.96,
          1040.19,
          1508.768,
          55.672,
          599.896,
          265.784,
          328.914,
          51.016,
          318.293,
          1122.968,
          1106.77,
          286.344,
          853.092,
          1500.2240000000002,
          319.5,
          352.244,
          2111.348,
          0.852,
          2251.893,
          2929.757,
          621.73,
          507.366,
          2116.5060000000003,
          52.96,
          62.91,
          354.9,
          545.94,
          11.85,
          69.216,
          732.3119999999999,
          362.176,
          310.528,
          81.336,
          147.344,
          12.624,
          130.756,
          7.08,
          30.96,
          9.04,
          25.184,
          57.908,
          803.9599999999999,
          586.336,
          36.544,
          574.194,
          4.984,
          225.016,
          2003.1200000000001,
          84.872,
          1947.812,
          38.064,
          26.896,
          16.176,
          16.448,
          528.832,
          690.633,
          277.084,
          3987.634,
          5.312,
          1206.6480000000001,
          92.856,
          87.15799999999999,
          88.776,
          40.544,
          25.16,
          6.928,
          1353.5296,
          890.841,
          2656.716,
          127.869,
          49.632,
          10539.896,
          489.23,
          51.184,
          280.276,
          2126.034,
          55.5,
          24.56,
          129.32999999999998,
          1508.13,
          32.4,
          254.97,
          149.9,
          1441.3,
          37.44,
          13.36,
          129.44,
          105.52,
          34.2,
          425.66999999999996,
          12.96,
          2046.354,
          1549.77,
          201.73,
          649.5999999999999,
          1771.52,
          3144.9680000000003,
          31.05,
          97.11200000000001,
          134.4,
          4391.948,
          767.16,
          136.96,
          540.424,
          1683.4940000000001,
          468.9,
          2854.48,
          665.88,
          34.79,
          317.48
         ]
        }
       ],
       "layout": {
        "margin": {
         "l": 0,
         "r": 0,
         "t": 40
        },
        "paper_bgcolor": "#1f2c56",
        "plot_bgcolor": "#1f2c56",
        "template": {
         "data": {
          "bar": [
           {
            "error_x": {
             "color": "#2a3f5f"
            },
            "error_y": {
             "color": "#2a3f5f"
            },
            "marker": {
             "line": {
              "color": "#E5ECF6",
              "width": 0.5
             },
             "pattern": {
              "fillmode": "overlay",
              "size": 10,
              "solidity": 0.2
             }
            },
            "type": "bar"
           }
          ],
          "barpolar": [
           {
            "marker": {
             "line": {
              "color": "#E5ECF6",
              "width": 0.5
             },
             "pattern": {
              "fillmode": "overlay",
              "size": 10,
              "solidity": 0.2
             }
            },
            "type": "barpolar"
           }
          ],
          "carpet": [
           {
            "aaxis": {
             "endlinecolor": "#2a3f5f",
             "gridcolor": "white",
             "linecolor": "white",
             "minorgridcolor": "white",
             "startlinecolor": "#2a3f5f"
            },
            "baxis": {
             "endlinecolor": "#2a3f5f",
             "gridcolor": "white",
             "linecolor": "white",
             "minorgridcolor": "white",
             "startlinecolor": "#2a3f5f"
            },
            "type": "carpet"
           }
          ],
          "choropleth": [
           {
            "colorbar": {
             "outlinewidth": 0,
             "ticks": ""
            },
            "type": "choropleth"
           }
          ],
          "contour": [
           {
            "colorbar": {
             "outlinewidth": 0,
             "ticks": ""
            },
            "colorscale": [
             [
              0,
              "#0d0887"
             ],
             [
              0.1111111111111111,
              "#46039f"
             ],
             [
              0.2222222222222222,
              "#7201a8"
             ],
             [
              0.3333333333333333,
              "#9c179e"
             ],
             [
              0.4444444444444444,
              "#bd3786"
             ],
             [
              0.5555555555555556,
              "#d8576b"
             ],
             [
              0.6666666666666666,
              "#ed7953"
             ],
             [
              0.7777777777777778,
              "#fb9f3a"
             ],
             [
              0.8888888888888888,
              "#fdca26"
             ],
             [
              1,
              "#f0f921"
             ]
            ],
            "type": "contour"
           }
          ],
          "contourcarpet": [
           {
            "colorbar": {
             "outlinewidth": 0,
             "ticks": ""
            },
            "type": "contourcarpet"
           }
          ],
          "heatmap": [
           {
            "colorbar": {
             "outlinewidth": 0,
             "ticks": ""
            },
            "colorscale": [
             [
              0,
              "#0d0887"
             ],
             [
              0.1111111111111111,
              "#46039f"
             ],
             [
              0.2222222222222222,
              "#7201a8"
             ],
             [
              0.3333333333333333,
              "#9c179e"
             ],
             [
              0.4444444444444444,
              "#bd3786"
             ],
             [
              0.5555555555555556,
              "#d8576b"
             ],
             [
              0.6666666666666666,
              "#ed7953"
             ],
             [
              0.7777777777777778,
              "#fb9f3a"
             ],
             [
              0.8888888888888888,
              "#fdca26"
             ],
             [
              1,
              "#f0f921"
             ]
            ],
            "type": "heatmap"
           }
          ],
          "heatmapgl": [
           {
            "colorbar": {
             "outlinewidth": 0,
             "ticks": ""
            },
            "colorscale": [
             [
              0,
              "#0d0887"
             ],
             [
              0.1111111111111111,
              "#46039f"
             ],
             [
              0.2222222222222222,
              "#7201a8"
             ],
             [
              0.3333333333333333,
              "#9c179e"
             ],
             [
              0.4444444444444444,
              "#bd3786"
             ],
             [
              0.5555555555555556,
              "#d8576b"
             ],
             [
              0.6666666666666666,
              "#ed7953"
             ],
             [
              0.7777777777777778,
              "#fb9f3a"
             ],
             [
              0.8888888888888888,
              "#fdca26"
             ],
             [
              1,
              "#f0f921"
             ]
            ],
            "type": "heatmapgl"
           }
          ],
          "histogram": [
           {
            "marker": {
             "pattern": {
              "fillmode": "overlay",
              "size": 10,
              "solidity": 0.2
             }
            },
            "type": "histogram"
           }
          ],
          "histogram2d": [
           {
            "colorbar": {
             "outlinewidth": 0,
             "ticks": ""
            },
            "colorscale": [
             [
              0,
              "#0d0887"
             ],
             [
              0.1111111111111111,
              "#46039f"
             ],
             [
              0.2222222222222222,
              "#7201a8"
             ],
             [
              0.3333333333333333,
              "#9c179e"
             ],
             [
              0.4444444444444444,
              "#bd3786"
             ],
             [
              0.5555555555555556,
              "#d8576b"
             ],
             [
              0.6666666666666666,
              "#ed7953"
             ],
             [
              0.7777777777777778,
              "#fb9f3a"
             ],
             [
              0.8888888888888888,
              "#fdca26"
             ],
             [
              1,
              "#f0f921"
             ]
            ],
            "type": "histogram2d"
           }
          ],
          "histogram2dcontour": [
           {
            "colorbar": {
             "outlinewidth": 0,
             "ticks": ""
            },
            "colorscale": [
             [
              0,
              "#0d0887"
             ],
             [
              0.1111111111111111,
              "#46039f"
             ],
             [
              0.2222222222222222,
              "#7201a8"
             ],
             [
              0.3333333333333333,
              "#9c179e"
             ],
             [
              0.4444444444444444,
              "#bd3786"
             ],
             [
              0.5555555555555556,
              "#d8576b"
             ],
             [
              0.6666666666666666,
              "#ed7953"
             ],
             [
              0.7777777777777778,
              "#fb9f3a"
             ],
             [
              0.8888888888888888,
              "#fdca26"
             ],
             [
              1,
              "#f0f921"
             ]
            ],
            "type": "histogram2dcontour"
           }
          ],
          "mesh3d": [
           {
            "colorbar": {
             "outlinewidth": 0,
             "ticks": ""
            },
            "type": "mesh3d"
           }
          ],
          "parcoords": [
           {
            "line": {
             "colorbar": {
              "outlinewidth": 0,
              "ticks": ""
             }
            },
            "type": "parcoords"
           }
          ],
          "pie": [
           {
            "automargin": true,
            "type": "pie"
           }
          ],
          "scatter": [
           {
            "fillpattern": {
             "fillmode": "overlay",
             "size": 10,
             "solidity": 0.2
            },
            "type": "scatter"
           }
          ],
          "scatter3d": [
           {
            "line": {
             "colorbar": {
              "outlinewidth": 0,
              "ticks": ""
             }
            },
            "marker": {
             "colorbar": {
              "outlinewidth": 0,
              "ticks": ""
             }
            },
            "type": "scatter3d"
           }
          ],
          "scattercarpet": [
           {
            "marker": {
             "colorbar": {
              "outlinewidth": 0,
              "ticks": ""
             }
            },
            "type": "scattercarpet"
           }
          ],
          "scattergeo": [
           {
            "marker": {
             "colorbar": {
              "outlinewidth": 0,
              "ticks": ""
             }
            },
            "type": "scattergeo"
           }
          ],
          "scattergl": [
           {
            "marker": {
             "colorbar": {
              "outlinewidth": 0,
              "ticks": ""
             }
            },
            "type": "scattergl"
           }
          ],
          "scattermapbox": [
           {
            "marker": {
             "colorbar": {
              "outlinewidth": 0,
              "ticks": ""
             }
            },
            "type": "scattermapbox"
           }
          ],
          "scatterpolar": [
           {
            "marker": {
             "colorbar": {
              "outlinewidth": 0,
              "ticks": ""
             }
            },
            "type": "scatterpolar"
           }
          ],
          "scatterpolargl": [
           {
            "marker": {
             "colorbar": {
              "outlinewidth": 0,
              "ticks": ""
             }
            },
            "type": "scatterpolargl"
           }
          ],
          "scatterternary": [
           {
            "marker": {
             "colorbar": {
              "outlinewidth": 0,
              "ticks": ""
             }
            },
            "type": "scatterternary"
           }
          ],
          "surface": [
           {
            "colorbar": {
             "outlinewidth": 0,
             "ticks": ""
            },
            "colorscale": [
             [
              0,
              "#0d0887"
             ],
             [
              0.1111111111111111,
              "#46039f"
             ],
             [
              0.2222222222222222,
              "#7201a8"
             ],
             [
              0.3333333333333333,
              "#9c179e"
             ],
             [
              0.4444444444444444,
              "#bd3786"
             ],
             [
              0.5555555555555556,
              "#d8576b"
             ],
             [
              0.6666666666666666,
              "#ed7953"
             ],
             [
              0.7777777777777778,
              "#fb9f3a"
             ],
             [
              0.8888888888888888,
              "#fdca26"
             ],
             [
              1,
              "#f0f921"
             ]
            ],
            "type": "surface"
           }
          ],
          "table": [
           {
            "cells": {
             "fill": {
              "color": "#EBF0F8"
             },
             "line": {
              "color": "white"
             }
            },
            "header": {
             "fill": {
              "color": "#C8D4E3"
             },
             "line": {
              "color": "white"
             }
            },
            "type": "table"
           }
          ]
         },
         "layout": {
          "annotationdefaults": {
           "arrowcolor": "#2a3f5f",
           "arrowhead": 0,
           "arrowwidth": 1
          },
          "autotypenumbers": "strict",
          "coloraxis": {
           "colorbar": {
            "outlinewidth": 0,
            "ticks": ""
           }
          },
          "colorscale": {
           "diverging": [
            [
             0,
             "#8e0152"
            ],
            [
             0.1,
             "#c51b7d"
            ],
            [
             0.2,
             "#de77ae"
            ],
            [
             0.3,
             "#f1b6da"
            ],
            [
             0.4,
             "#fde0ef"
            ],
            [
             0.5,
             "#f7f7f7"
            ],
            [
             0.6,
             "#e6f5d0"
            ],
            [
             0.7,
             "#b8e186"
            ],
            [
             0.8,
             "#7fbc41"
            ],
            [
             0.9,
             "#4d9221"
            ],
            [
             1,
             "#276419"
            ]
           ],
           "sequential": [
            [
             0,
             "#0d0887"
            ],
            [
             0.1111111111111111,
             "#46039f"
            ],
            [
             0.2222222222222222,
             "#7201a8"
            ],
            [
             0.3333333333333333,
             "#9c179e"
            ],
            [
             0.4444444444444444,
             "#bd3786"
            ],
            [
             0.5555555555555556,
             "#d8576b"
            ],
            [
             0.6666666666666666,
             "#ed7953"
            ],
            [
             0.7777777777777778,
             "#fb9f3a"
            ],
            [
             0.8888888888888888,
             "#fdca26"
            ],
            [
             1,
             "#f0f921"
            ]
           ],
           "sequentialminus": [
            [
             0,
             "#0d0887"
            ],
            [
             0.1111111111111111,
             "#46039f"
            ],
            [
             0.2222222222222222,
             "#7201a8"
            ],
            [
             0.3333333333333333,
             "#9c179e"
            ],
            [
             0.4444444444444444,
             "#bd3786"
            ],
            [
             0.5555555555555556,
             "#d8576b"
            ],
            [
             0.6666666666666666,
             "#ed7953"
            ],
            [
             0.7777777777777778,
             "#fb9f3a"
            ],
            [
             0.8888888888888888,
             "#fdca26"
            ],
            [
             1,
             "#f0f921"
            ]
           ]
          },
          "colorway": [
           "#636efa",
           "#EF553B",
           "#00cc96",
           "#ab63fa",
           "#FFA15A",
           "#19d3f3",
           "#FF6692",
           "#B6E880",
           "#FF97FF",
           "#FECB52"
          ],
          "font": {
           "color": "#2a3f5f"
          },
          "geo": {
           "bgcolor": "white",
           "lakecolor": "white",
           "landcolor": "#E5ECF6",
           "showlakes": true,
           "showland": true,
           "subunitcolor": "white"
          },
          "hoverlabel": {
           "align": "left"
          },
          "hovermode": "closest",
          "mapbox": {
           "style": "light"
          },
          "paper_bgcolor": "white",
          "plot_bgcolor": "#E5ECF6",
          "polar": {
           "angularaxis": {
            "gridcolor": "white",
            "linecolor": "white",
            "ticks": ""
           },
           "bgcolor": "#E5ECF6",
           "radialaxis": {
            "gridcolor": "white",
            "linecolor": "white",
            "ticks": ""
           }
          },
          "scene": {
           "xaxis": {
            "backgroundcolor": "#E5ECF6",
            "gridcolor": "white",
            "gridwidth": 2,
            "linecolor": "white",
            "showbackground": true,
            "ticks": "",
            "zerolinecolor": "white"
           },
           "yaxis": {
            "backgroundcolor": "#E5ECF6",
            "gridcolor": "white",
            "gridwidth": 2,
            "linecolor": "white",
            "showbackground": true,
            "ticks": "",
            "zerolinecolor": "white"
           },
           "zaxis": {
            "backgroundcolor": "#E5ECF6",
            "gridcolor": "white",
            "gridwidth": 2,
            "linecolor": "white",
            "showbackground": true,
            "ticks": "",
            "zerolinecolor": "white"
           }
          },
          "shapedefaults": {
           "line": {
            "color": "#2a3f5f"
           }
          },
          "ternary": {
           "aaxis": {
            "gridcolor": "white",
            "linecolor": "white",
            "ticks": ""
           },
           "baxis": {
            "gridcolor": "white",
            "linecolor": "white",
            "ticks": ""
           },
           "bgcolor": "#E5ECF6",
           "caxis": {
            "gridcolor": "white",
            "linecolor": "white",
            "ticks": ""
           }
          },
          "title": {
           "x": 0.05
          },
          "xaxis": {
           "automargin": true,
           "gridcolor": "white",
           "linecolor": "white",
           "ticks": "",
           "title": {
            "standoff": 15
           },
           "zerolinecolor": "white",
           "zerolinewidth": 2
          },
          "yaxis": {
           "automargin": true,
           "gridcolor": "white",
           "linecolor": "white",
           "ticks": "",
           "title": {
            "standoff": 15
           },
           "zerolinecolor": "white",
           "zerolinewidth": 2
          }
         }
        },
        "title": {
         "font": {
          "color": "white",
          "size": 15
         },
         "text": "Sales by State and City in Year 2015",
         "x": 0.5,
         "xanchor": "center",
         "y": 0.98,
         "yanchor": "top"
        },
        "xaxis": {
         "color": "orange",
         "linewidth": 1,
         "showgrid": false,
         "showline": false,
         "title": {
          "text": "<b></b>"
         }
        },
        "yaxis": {
         "color": "orange",
         "linewidth": 1,
         "showgrid": true,
         "showline": false,
         "title": {
          "text": "<b></b>"
         },
         "visible": true
        }
       }
      }
     },
     "metadata": {},
     "output_type": "display_data"
    }
   ],
   "source": [
    "trace = go.Scatter(\n",
    "      x = sales11['Month_name'],\n",
    "      y = sales11['Sales'],\n",
    "      mode = 'markers',\n",
    "      marker=dict(\n",
    "            size = sales11['Sales']/250,\n",
    "            color = sales11['Sales'],\n",
    "            colorscale = 'HSV',\n",
    "            showscale = False,\n",
    "            line = dict(\n",
    "                  color = 'MediumPurple',\n",
    "                  width = 2\n",
    "            )\n",
    "      ),\n",
    "      hoverinfo= 'text',\n",
    "      hovertext= \n",
    "            '<b>Year</b>: ' + sales11['Year'].astype(str) + '<br>' +\n",
    "            '<b>Month</b>: ' + sales11['Month_name'].astype(str) + '<br>' +\n",
    "            '<b>Segment</b>: ' + sales11['Segment'].astype(str) + '<br>' +\n",
    "            '<b>State</b>: ' + sales11['State'].astype(str) + '<br>' +\n",
    "            '<b>City</b>: ' + sales11['City'].astype(str) + '<br>' +\n",
    "            '<b>Sales</b>: ' + sales11['Sales'].astype(str) + '<br>'\n",
    ")\n",
    "\n",
    "layout = go.Layout(\n",
    "      plot_bgcolor= '#1f2c56',\n",
    "      paper_bgcolor= '#1f2c56',\n",
    "      title=dict(\n",
    "            text = 'Sales by State and City in Year 2015',\n",
    "            y = 0.98,\n",
    "            x = 0.5,\n",
    "            xanchor = 'center',\n",
    "            yanchor = 'top'\n",
    "      ),\n",
    "      titlefont=dict(\n",
    "            color = 'white',\n",
    "            size = 15\n",
    "      ),\n",
    "      margin=dict(t=40,r=0,l=0),\n",
    "      xaxis=dict(\n",
    "            title = '<b></b>',\n",
    "            color = 'orange',\n",
    "            showline = False,\n",
    "            showgrid = False,\n",
    "            linewidth = 1\n",
    "            \n",
    "      ),\n",
    "      yaxis=dict(\n",
    "            title = '<b></b>',\n",
    "            color = 'orange',\n",
    "            visible = True,\n",
    "            showline = False,\n",
    "            showgrid = True,\n",
    "            linewidth = 1\n",
    "      )\n",
    ")\n",
    "\n",
    "data = [trace]\n",
    "\n",
    "fig = go.Figure(data=data, layout=layout)\n",
    "pio.show(fig)"
   ]
  },
  {
   "cell_type": "code",
   "execution_count": null,
   "metadata": {},
   "outputs": [],
   "source": [
    "\n",
    "\n"
   ]
  }
 ],
 "metadata": {
  "kernelspec": {
   "display_name": "mlproject",
   "language": "python",
   "name": "python3"
  },
  "language_info": {
   "codemirror_mode": {
    "name": "ipython",
    "version": 3
   },
   "file_extension": ".py",
   "mimetype": "text/x-python",
   "name": "python",
   "nbconvert_exporter": "python",
   "pygments_lexer": "ipython3",
   "version": "3.12.3"
  }
 },
 "nbformat": 4,
 "nbformat_minor": 2
}
